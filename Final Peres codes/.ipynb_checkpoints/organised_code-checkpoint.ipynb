{
 "cells": [
  {
   "cell_type": "markdown",
   "metadata": {},
   "source": [
    "# Imports"
   ]
  },
  {
   "cell_type": "code",
   "execution_count": 1,
   "metadata": {},
   "outputs": [],
   "source": [
    "import peres_pyquil as pp\n",
    "import peres_analysis as pa\n",
    "import pickle\n",
    "import numpy as np, matplotlib.pyplot as plt\n",
    "from collections import Counter\n",
    "import sys\n",
    "import time\n",
    "import multiprocessing as mp\n",
    "Z_SCORE = 3\n",
    "N_SHOTS = 10_000\n",
    "import peres_pyquil_noise_models as ppnm\n",
    "from scipy.optimize import curve_fit as cf\n",
    "from pyquil import get_qc"
   ]
  },
  {
   "cell_type": "markdown",
   "metadata": {},
   "source": [
    "# Selecting good qubits at the time of run"
   ]
  },
  {
   "cell_type": "code",
   "execution_count": 2,
   "metadata": {
    "collapsed": true,
    "jupyter": {
     "outputs_hidden": true,
     "source_hidden": true
    }
   },
   "outputs": [
    {
     "name": "stdout",
     "output_type": "stream",
     "text": [
      "(20, 21)\n",
      "MeasureInfo(operator='MEASURE', qubit=20, target='_', duration=2000, fidelity=0.982)\n",
      "MeasureInfo(operator='MEASURE', qubit=21, target='_', duration=2000, fidelity=0.963)\n",
      "GateInfo(operator='CZ', parameters=[], arguments=['_', '_'], duration=200, fidelity=0.9675354459264675)\n",
      "\n",
      "(21, 36)\n",
      "MeasureInfo(operator='MEASURE', qubit=21, target='_', duration=2000, fidelity=0.963)\n",
      "MeasureInfo(operator='MEASURE', qubit=36, target='_', duration=2000, fidelity=0.981)\n",
      "GateInfo(operator='CZ', parameters=[], arguments=['_', '_'], duration=200, fidelity=0.9722931966173082)\n",
      "\n",
      "(23, 24)\n",
      "MeasureInfo(operator='MEASURE', qubit=23, target='_', duration=2000, fidelity=0.972)\n",
      "MeasureInfo(operator='MEASURE', qubit=24, target='_', duration=2000, fidelity=0.9789999999999999)\n",
      "GateInfo(operator='CZ', parameters=[], arguments=['_', '_'], duration=200, fidelity=0.9698083744972107)\n",
      "\n",
      "(35, 36)\n",
      "MeasureInfo(operator='MEASURE', qubit=35, target='_', duration=2000, fidelity=0.97)\n",
      "MeasureInfo(operator='MEASURE', qubit=36, target='_', duration=2000, fidelity=0.981)\n",
      "GateInfo(operator='CZ', parameters=[], arguments=['_', '_'], duration=200, fidelity=0.9761123670999652)\n",
      "\n"
     ]
    }
   ],
   "source": [
    "good_bits = pp.get_good_qbits(0.96, 0.96)#(0.97, 0.96)\n",
    "for bits in good_bits:\n",
    "    print(bits['Edge'].targets)\n",
    "    print(bits['Qubit1'].gates[0])\n",
    "    print(bits['Qubit2'].gates[0])\n",
    "    print(bits['Edge'].gates[0], end='\\n\\n')\n",
    "    "
   ]
  },
  {
   "cell_type": "markdown",
   "metadata": {},
   "source": [
    "Choose the best from the above list."
   ]
  },
  {
   "cell_type": "code",
   "execution_count": 3,
   "metadata": {
    "jupyter": {
     "source_hidden": true
    }
   },
   "outputs": [],
   "source": [
    "good_qubits = good_bits[3]"
   ]
  },
  {
   "cell_type": "markdown",
   "metadata": {},
   "source": [
    "# Randomly selecting states for the run"
   ]
  },
  {
   "cell_type": "code",
   "execution_count": 4,
   "metadata": {
    "jupyter": {
     "source_hidden": true
    }
   },
   "outputs": [
    {
     "name": "stdout",
     "output_type": "stream",
     "text": [
      "35 36\n"
     ]
    }
   ],
   "source": [
    "q1, q2 = good_qubits['Qubit1'].id, good_qubits['Qubit2'].id\n",
    "print(q1,q2)\n",
    "trial = 1\n",
    "iters = 25\n",
    "states = [{'State_params': pa.params_complex()} for _ in range(iters)]"
   ]
  },
  {
   "cell_type": "markdown",
   "metadata": {},
   "source": [
    "# Run on Aspen-9"
   ]
  },
  {
   "cell_type": "code",
   "execution_count": 57,
   "metadata": {
    "collapsed": true,
    "jupyter": {
     "outputs_hidden": true,
     "source_hidden": true
    }
   },
   "outputs": [
    {
     "name": "stdout",
     "output_type": "stream",
     "text": [
      "Engine requested: Aspen\n",
      "Running Bell-state measurements\n",
      "Done with iteration 19\n",
      "\n",
      "Running Computational measurements\n",
      "Creating folder product_peres_Aspen_2021-10-11_35_36_bits_10000_shots_trial_2\n",
      "Results saved in file product_peres_Aspen_2021-10-11_35_36_bits_10000_shots_trial_2/result_list_trial_2\n",
      "\n",
      "Completed.\n"
     ]
    }
   ],
   "source": [
    "engine = 'Aspen'\n",
    "trial=2\n",
    "try:\n",
    "    states = pp.run_peres(q1, q2, trial, engine, states)\n",
    "except Exception as e:\n",
    "    print(e)"
   ]
  },
  {
   "cell_type": "markdown",
   "metadata": {},
   "source": [
    "Results of the output will be saved automatically."
   ]
  },
  {
   "cell_type": "code",
   "execution_count": 58,
   "metadata": {
    "jupyter": {
     "source_hidden": true
    }
   },
   "outputs": [],
   "source": [
    "with open(f'Result_final_redone_{tr}', 'wb') as file:\n",
    "    pickle.dump([good_qubits,states], file)"
   ]
  },
  {
   "cell_type": "code",
   "execution_count": 48,
   "metadata": {},
   "outputs": [],
   "source": [
    "with open(f'Result_final_redone_{2}', 'rb') as file:\n",
    "    data = pickle.load(file)\n",
    "\n",
    "good_qubits, states = data[0], data[1]\n",
    "# Used for manuscript plot"
   ]
  },
  {
   "cell_type": "code",
   "execution_count": 19,
   "metadata": {},
   "outputs": [],
   "source": [
    "with open('Result_one_shot_1', 'rb') as file:\n",
    "    loaded = pickle.load(file)\n",
    "good_qubits = loaded[0]\n",
    "states = loaded[1]\n",
    "\n",
    "with open('Result_one_shot_2', 'rb') as file:\n",
    "    loaded = pickle.load(file)\n",
    "good_qubits = loaded[0]\n",
    "states = states + loaded[1]"
   ]
  },
  {
   "cell_type": "code",
   "execution_count": 3,
   "metadata": {},
   "outputs": [],
   "source": [
    "with open(\"Result_3\", 'rb') as file:\n",
    "    data = pickle.load(file)"
   ]
  },
  {
   "cell_type": "code",
   "execution_count": 4,
   "metadata": {},
   "outputs": [],
   "source": [
    "good_qubits = data[0]\n",
    "states = data[1]"
   ]
  },
  {
   "cell_type": "markdown",
   "metadata": {},
   "source": [
    "# Compute the Gamma values from Aspen-9"
   ]
  },
  {
   "cell_type": "code",
   "execution_count": 3,
   "metadata": {},
   "outputs": [],
   "source": [
    "engine = 'Aspen'\n",
    "states = pa.compute_gammas(states, engine)"
   ]
  },
  {
   "cell_type": "code",
   "execution_count": null,
   "metadata": {},
   "outputs": [],
   "source": [
    "# with open('Result_{trial}', 'wb') as file:\n",
    "#     pickle.dump(states, file)"
   ]
  },
  {
   "cell_type": "markdown",
   "metadata": {},
   "source": [
    "# Run on ideal simulator"
   ]
  },
  {
   "cell_type": "code",
   "execution_count": 4,
   "metadata": {},
   "outputs": [
    {
     "name": "stdout",
     "output_type": "stream",
     "text": [
      "23 24\n",
      "Engine requested: 2q-qvm\n",
      "Running Bell-state measurements\n",
      "Done with iteration 24\n",
      "\n",
      "Running Computational measurements\n",
      "Creating folder product_peres_2q-qvm_2021-10-22_23_24_bits_10000_shots_trial_1\n",
      "Results saved in file product_peres_2q-qvm_2021-10-22_23_24_bits_10000_shots_trial_1/result_list_trial_1\n",
      "\n",
      "Completed.\n"
     ]
    }
   ],
   "source": [
    "engine='2q-qvm'\n",
    "q1, q2 = good_qubits['Qubit1'].id, good_qubits['Qubit2'].id\n",
    "print(q1,q2)\n",
    "trial=1\n",
    "try:\n",
    "    states = pp.run_peres(q1,q2,trial,engine,states)\n",
    "except Exception as e:\n",
    "    print(e)\n",
    "# pp.run_peres(q1, q2, trial, engine, states)"
   ]
  },
  {
   "cell_type": "code",
   "execution_count": 32,
   "metadata": {},
   "outputs": [
    {
     "data": {
      "text/plain": [
       "int"
      ]
     },
     "execution_count": 32,
     "metadata": {},
     "output_type": "execute_result"
    }
   ],
   "source": [
    "type(q2)"
   ]
  },
  {
   "cell_type": "code",
   "execution_count": 27,
   "metadata": {
    "collapsed": true,
    "jupyter": {
     "outputs_hidden": true,
     "source_hidden": true
    }
   },
   "outputs": [
    {
     "data": {
      "image/png": "[encoded data removed]",
      "text/plain": [
       "<Figure size 432x288 with 1 Axes>"
      ]
     },
     "metadata": {
      "needs_background": "light"
     },
     "output_type": "display_data"
    },
    {
     "data": {
      "image/png": "[encoded data removed]",
      "text/plain": [
       "<Figure size 432x288 with 1 Axes>"
      ]
     },
     "metadata": {
      "needs_background": "light"
     },
     "output_type": "display_data"
    },
    {
     "data": {
      "image/png": "[encoded data removed]",
      "text/plain": [
       "<Figure size 432x288 with 1 Axes>"
      ]
     },
     "metadata": {
      "needs_background": "light"
     },
     "output_type": "display_data"
    },
    {
     "data": {
      "image/png": "[encoded data removed]",
      "text/plain": [
       "<Figure size 432x288 with 1 Axes>"
      ]
     },
     "metadata": {
      "needs_background": "light"
     },
     "output_type": "display_data"
    },
    {
     "data": {
      "image/png": "[encoded data removed]",
      "text/plain": [
       "<Figure size 432x288 with 1 Axes>"
      ]
     },
     "metadata": {
      "needs_background": "light"
     },
     "output_type": "display_data"
    },
    {
     "name": "stdout",
     "output_type": "stream",
     "text": [
      "[-0.0506, 0.0726, 0.0791, -0.0342, -0.0479, 0.02, 0.0868, 0.0067, -0.0226, -0.0502, 0.0707, -0.046, -0.0554]\n"
     ]
    }
   ],
   "source": [
    "k_list = []\n",
    "g12_list = []\n",
    "g23_list = []\n",
    "g31_list = []\n",
    "f_list = []\n",
    "engine = 'Aspen'\n",
    "for i in range(len(states)):\n",
    "    k = 3*states[i][f'Counts_1110_{engine}']['Counts']['00'] \n",
    "    k = k - 2*(states[i][f'Counts_1100_{engine}']['Counts']['00'] + states[i][f'Counts_0110_{engine}']['Counts']['00'] + states[i][f'Counts_1010_{engine}']['Counts']['00']) \n",
    "    k = k + states[i][f'Counts_0000_{engine}']['Counts']['00']+states[i][f'Counts_0000_{engine}']['Counts']['01']+states[i][f'Counts_0000_{engine}']['Counts']['10']\n",
    "    if np.abs(k/10_000) <= 0.1:\n",
    "#         k_list.append(k/10_000) \n",
    "        g12 = 2*states[i][f'Counts_1100_{engine}']['Counts']['00']-states[i][f'Counts_0000_{engine}']['Counts']['00']-states[i][f'Counts_0000_{engine}']['Counts']['01']\n",
    "        g12 = g12 / (2 * np.sqrt(states[i][f'Counts_0000_{engine}']['Counts']['00']*states[i][f'Counts_0000_{engine}']['Counts']['01']))\n",
    "        g23 = 2*states[i][f'Counts_0110_{engine}']['Counts']['00']-states[i][f'Counts_0000_{engine}']['Counts']['01']-states[i][f'Counts_0000_{engine}']['Counts']['10']\n",
    "        g23 = g23 / (2 * np.sqrt(states[i][f'Counts_0000_{engine}']['Counts']['01']*states[i][f'Counts_0000_{engine}']['Counts']['10']))\n",
    "        g31 = 2*states[i][f'Counts_1010_{engine}']['Counts']['00']-states[i][f'Counts_0000_{engine}']['Counts']['10']-states[i][f'Counts_0000_{engine}']['Counts']['00']\n",
    "        g31 = g31 / (2 * np.sqrt(states[i][f'Counts_0000_{engine}']['Counts']['10']*states[i][f'Counts_0000_{engine}']['Counts']['00']))\n",
    "        f = g12**2 + g23**2 + g31**2 - 2*g12*g23*g31\n",
    "        \n",
    "        if np.abs(f-0.75) <= 0.25:\n",
    "            k_list.append(k/10_000)\n",
    "            g12_list.append(g12)\n",
    "            g23_list.append(g23)\n",
    "            g31_list.append(g31)\n",
    "            f_list.append(f)\n",
    "plt.plot(k_list, 'o')\n",
    "plt.ylabel('$\\kappa$', size=14)\n",
    "plt.axhline(y=0)\n",
    "# plt.axhline(y=0.1)\n",
    "# plt.axhline(y=-0.1)\n",
    "plt.savefig('kappa_one_shot.pdf', bbox_inches='tight')\n",
    "\n",
    "plt.show()\n",
    "plt.plot(g12_list, 'o')\n",
    "plt.axhline(y=1)\n",
    "plt.axhline(y=-1)\n",
    "plt.ylabel('$\\gamma_{12}$', size=14)\n",
    "plt.savefig('gamma12_one_shot.pdf', bbox_inches='tight')\n",
    "\n",
    "plt.show()\n",
    "plt.plot(g23_list, 'o')\n",
    "plt.axhline(y=1)\n",
    "plt.axhline(y=-1)\n",
    "plt.ylabel('$\\gamma_{23}$', size=14)\n",
    "plt.savefig('gamma23_one_shot.pdf', bbox_inches='tight')\n",
    "plt.show()\n",
    "plt.plot(g31_list, 'o')\n",
    "plt.axhline(y=1)\n",
    "plt.axhline(y=-1)\n",
    "plt.ylabel('$\\gamma_{31}$', size=14)\n",
    "plt.savefig('gamma31_one_shot.pdf', bbox_inches='tight')\n",
    "plt.show()\n",
    "plt.plot(f_list, 'o')\n",
    "plt.axhline(y=1)\n",
    "plt.axhline(y=-1)\n",
    "# plt.axhline(y=0.75)\n",
    "# plt.axhline(y=1.25)\n",
    "plt.ylabel('$F$', size=14)\n",
    "plt.savefig('f_one_shot.pdf', bbox_inches='tight')\n",
    "\n",
    "plt.show()\n",
    "print(k_list)"
   ]
  },
  {
   "cell_type": "code",
   "execution_count": null,
   "metadata": {
    "jupyter": {
     "source_hidden": true
    }
   },
   "outputs": [],
   "source": [
    "g12_list = []\n",
    "g23_list = []\n",
    "g31_list = []\n"
   ]
  },
  {
   "cell_type": "markdown",
   "metadata": {},
   "source": [
    "# Compute the Gamma values from ideal simulator"
   ]
  },
  {
   "cell_type": "code",
   "execution_count": 5,
   "metadata": {},
   "outputs": [],
   "source": [
    "engine = '2q-qvm'\n",
    "states = pa.compute_gammas(states, engine)"
   ]
  },
  {
   "cell_type": "markdown",
   "metadata": {},
   "source": [
    "# Run on noisy simulator"
   ]
  },
  {
   "cell_type": "code",
   "execution_count": 6,
   "metadata": {},
   "outputs": [
    {
     "name": "stdout",
     "output_type": "stream",
     "text": [
      "Engine requested: 2q-qvm-noisy\n",
      "Running Bell-state measurements\n",
      "Done with iteration 24\n",
      "\n",
      "Running Computational measurements\n",
      "Creating folder product_peres_2q-qvm-noisy_2021-10-22_23_24_bits_10000_shots_trial_1\n",
      "Results saved in file product_peres_2q-qvm-noisy_2021-10-22_23_24_bits_10000_shots_trial_1/result_list_trial_1\n",
      "\n",
      "Completed.\n"
     ]
    }
   ],
   "source": [
    "engine='2q-qvm-noisy'\n",
    "# engine = 'noisy-Aspen'\n",
    "amp_damp = 0.3\n",
    "deph_damp = 1-good_qubits['Edge'].gates[0].fidelity\n",
    "pmeas_1 = [good_qubits['Qubit1'].gates[0].fidelity, good_qubits['Qubit1'].gates[0].fidelity]\n",
    "pmeas_2 = [good_qubits['Qubit2'].gates[0].fidelity, good_qubits['Qubit2'].gates[0].fidelity]\n",
    "t1=0\n",
    "t2=0\n",
    "\n",
    "try:\n",
    "    states = ppnm.run_peres(q1, q2, trial, engine, states, amp_damp, deph_damp, pmeas_1, pmeas_2, t1,t2)\n",
    "except Exception as e:\n",
    "    print(e)"
   ]
  },
  {
   "cell_type": "markdown",
   "metadata": {},
   "source": [
    "# Compute Gamma values from noisy simulator"
   ]
  },
  {
   "cell_type": "code",
   "execution_count": 7,
   "metadata": {},
   "outputs": [],
   "source": [
    "engine='2q-qvm-noisy'\n",
    "states = pa.compute_gammas(states, engine)"
   ]
  },
  {
   "cell_type": "markdown",
   "metadata": {},
   "source": [
    "# Computing the statistical fluctuations"
   ]
  },
  {
   "cell_type": "code",
   "execution_count": 8,
   "metadata": {},
   "outputs": [],
   "source": [
    "def get_cfs(result_list, return_dict, proc_no):\n",
    "    print(f'Started process {proc_no}.')\n",
    "    st = time.time()\n",
    "    result_list = pa.get_theory_cfs(result_list)\n",
    "    return_dict[proc_no] = result_list\n",
    "    print(f'Finished process {proc_no} in {time.time() - st} secs.')\n",
    "    return None\n",
    "\n",
    "def get_cfs_boot(result_list, engine, return_dict, proc_no):\n",
    "    print(f'Started process {proc_no}.')\n",
    "    st = time.time()\n",
    "    result_list = pa.get_cfs_boot(result_list, engine)\n",
    "    return_dict[proc_no] = result_list\n",
    "    print(f'Finished process {proc_no} in {time.time() - st} secs.')\n",
    "    return None"
   ]
  },
  {
   "cell_type": "markdown",
   "metadata": {},
   "source": [
    "# Statistical fluctutions for ideal simulator"
   ]
  },
  {
   "cell_type": "code",
   "execution_count": 9,
   "metadata": {},
   "outputs": [
    {
     "name": "stdout",
     "output_type": "stream",
     "text": [
      "Started process 0.\n",
      "Started process 1.\n",
      "Started process 2.\n",
      "Started process 3.\n",
      "Started process 4.\n",
      "Finished process 4 in 103.4875020980835 secs.\n",
      "Finished process 3 in 107.50024938583374 secs.\n",
      "Finished process 1 in 114.34601879119873 secs.\n",
      "Finished process 2 in 115.67084240913391 secs.\n",
      "Finished process 0 in 115.81733679771423 secs.\n"
     ]
    }
   ],
   "source": [
    "if __name__ == '__main__':\n",
    "    manager = mp.Manager()\n",
    "    return_dict = manager.dict()\n",
    "    \n",
    "    procs = [mp.Process(target=get_cfs, args=(states[i*5:(i+1)*5], return_dict, i)) for i in range(5)]\n",
    "    \n",
    "    for proc in procs:\n",
    "        proc.start()\n",
    "    for proc in procs:\n",
    "        proc.join()\n",
    "states = [elem for key in range(5) for elem in return_dict[key]]"
   ]
  },
  {
   "cell_type": "markdown",
   "metadata": {},
   "source": [
    "# Statistical fluctuations for Aspen-9"
   ]
  },
  {
   "cell_type": "code",
   "execution_count": 67,
   "metadata": {},
   "outputs": [
    {
     "name": "stdout",
     "output_type": "stream",
     "text": [
      "Started process 0.\n",
      "Started process 1.\n",
      "Started process 2.\n",
      "Started process 3.\n",
      "Started process 4.\n",
      "Finished process 4 in 0.0009350776672363281 secs.\n",
      "Finished process 3 in 489.89374899864197 secs.\n",
      "Finished process 2 in 496.6691777706146 secs.\n",
      "Finished process 0 in 502.7953369617462 secs.\n",
      "Finished process 1 in 505.17143726348877 secs.\n"
     ]
    }
   ],
   "source": [
    "if __name__ == '__main__':\n",
    "    manager = mp.Manager()\n",
    "    return_dict = manager.dict()\n",
    "    \n",
    "    procs = [mp.Process(target=get_cfs_boot, args=(states[i*5:(i+1)*5],'Aspen', return_dict, i)) for i in range(5)]\n",
    "    \n",
    "    for proc in procs:\n",
    "        proc.start()\n",
    "    for proc in procs:\n",
    "        proc.join()\n",
    "states = [elem for key in range(5) for elem in return_dict[key]]"
   ]
  },
  {
   "cell_type": "markdown",
   "metadata": {},
   "source": [
    "# Statistical fluctuations for noisy simulator"
   ]
  },
  {
   "cell_type": "code",
   "execution_count": 10,
   "metadata": {},
   "outputs": [
    {
     "name": "stdout",
     "output_type": "stream",
     "text": [
      "Started process 0.\n",
      "Started process 1.\n",
      "Started process 2.\n",
      "Started process 3.\n",
      "Started process 4.\n",
      "Finished process 1 in 709.06596326828 secs.\n",
      "Finished process 3 in 712.2399199008942 secs.\n",
      "Finished process 0 in 719.6611495018005 secs.\n",
      "Finished process 4 in 729.988183259964 secs.\n",
      "Finished process 2 in 732.6290307044983 secs.\n"
     ]
    }
   ],
   "source": [
    "if __name__ == '__main__':\n",
    "    manager = mp.Manager()\n",
    "    return_dict = manager.dict()\n",
    "    \n",
    "    procs = [mp.Process(target=get_cfs_boot, args=(states[i*5:(i+1)*5],'2q-qvm-noisy', return_dict, i)) for i in range(5)]\n",
    "    \n",
    "    for proc in procs:\n",
    "        proc.start()\n",
    "    for proc in procs:\n",
    "        proc.join()\n",
    "states = [elem for key in range(4) for elem in return_dict[key]]"
   ]
  },
  {
   "cell_type": "markdown",
   "metadata": {},
   "source": [
    "# Plotting the results"
   ]
  },
  {
   "cell_type": "code",
   "execution_count": 15,
   "metadata": {},
   "outputs": [],
   "source": [
    "def fit_F(x,m,c):\n",
    "    return m*x + c\n",
    "    "
   ]
  },
  {
   "cell_type": "code",
   "execution_count": 71,
   "metadata": {},
   "outputs": [],
   "source": [
    "# states = data\n",
    "def plot_gs(select_states, gamma, file_prefix):\n",
    "    fth = np.array([select_states[i]['Gammas_theory'][gamma] for i in range(len(select_states))])\n",
    "    errth = np.array([select_states[i]['cfs_theory'][gamma] for i in range(len(select_states))])\n",
    "\n",
    "    f2q = [select_states[i]['Gamma_2q-qvm'][gamma] for i in range(len(select_states))]\n",
    "\n",
    "    fas = np.array([select_states[i]['Gamma_Aspen'][gamma] for i in range(len(select_states))])\n",
    "    erras = np.array([select_states[i]['cfs_Aspen'][gamma] for i in range(len(select_states))])\n",
    "\n",
    "    fnq = np.array([select_states[i]['Gamma_2q-qvm-noisy'][gamma] for i in range(len(select_states))])\n",
    "    errnq = np.array([select_states[i]['cfs_2q-qvm-noisy'][gamma] for i in range(len(select_states))])\n",
    "#     fnq = np.array([select_states[i]['Gamma_deph-qvm'][gamma] for i in range(len(select_states))])\n",
    "#     errnq = np.array([select_states[i]['cfs_qvm'][gamma] for i in range(len(select_states))])\n",
    "\n",
    "\n",
    "    plt.rcParams.update({\n",
    "        \"text.usetex\": True,\n",
    "        \"font.family\": \"serif\",\n",
    "        \"font.sans-serif\": [\"Helvetica\"]})\n",
    "#     fig = plt.figure(figsize=(15,5))\n",
    "    # plt.subplot(2,2,4)\n",
    "#     plt.errorbar(range(len(fnq)), (errnq[:,0]+errnq[:,1])/2, yerr=[(errnq[:,0]+errnq[:,1])/2 - errnq[:,0], errnq[:,1] - (errnq[:,0]+errnq[:,1])/2], ls='', marker = '', capsize=6, color='maroon', alpha=1, lw=1, label='Noisy-QVM')\n",
    "#     plt.errorbar(range(len(fas)), (erras[:,0]+erras[:,1])/2, yerr=[(erras[:,0]+erras[:,1])/2 - erras[:,0], erras[:,1] - (erras[:,0]+erras[:,1])/2], ls='', marker = '', capsize=6, color='green', alpha=1, lw=1, label='Aspen-9')\n",
    "    \n",
    "    \n",
    "    plt.plot(f2q, '*', color='blue', label='Ideal QVM')\n",
    "    plt.errorbar(range(len(fth)), fth, yerr=[fth - errth[:,0], errth[:,1] - fth], ls='', marker = '', capsize=6, color='blue', alpha=1, lw=1, label='Statistical error-bar')\n",
    "#     plt.plot(fas, 'o', color='darkgreen', label='Aspen-9')\n",
    "#     plt.plot(fnq, 'D', color='maroon', label='Noisy QVM')\n",
    "    plt.errorbar(range(len(fnq)), fnq, yerr=[fth - errth[:,0], errth[:,1] - fth], ls='', marker = 'D', capsize=6, color='maroon', alpha=1, lw=1, label='Noisy-QVM')\n",
    "    plt.errorbar(range(len(fas)), fas, yerr=[fas - erras[:,0], erras[:,1] - fas], ls='', marker = 'o', capsize=6, color='darkgreen', alpha=1, lw=1, label='Aspen-9')\n",
    "    plt.xticks(range(len(select_states)))\n",
    "    plt.axhline(y=-1, ls='dashed', color='red')\n",
    "    plt.axhline(y=1, ls='dashed', color='red')\n",
    "\n",
    "\n",
    "\n",
    "\n",
    "#     plt.xlabel('Iterations', size=20)\n",
    "    ylabs = {'a': '$\\gamma_{12}$', 'b': '$\\gamma_{23}$', 'c': '$\\gamma_{31}$', 'F': '$F$'}\n",
    "    plt.ylabel(ylabs[gamma], size=20)\n",
    "    plt.xticks([],size=16)\n",
    "    popt, pcov = None, None\n",
    "    if gamma == 'F':\n",
    "        x = np.arange(len(fas))\n",
    "        popt, pcov = cf(fit_F, x, fas)\n",
    "#         plt.plot(x, fit_F(x, *popt), ls='dashed', color='darkgreen', alpha=0.6, lw=4)\n",
    "\n",
    "        popt, pcov = cf(fit_F, x, fnq)\n",
    "#         plt.plot(x, fit_F(x, *popt), ls='dashed', color='maroon', alpha=0.6, lw=4)\n",
    "        \n",
    "        plt.yticks([-int(1), 0 , 1], size=16)\n",
    "#         plt.yticks([-int(1), 0 , fit_F(popt[1], *popt), 1], size=16)\n",
    "        print(popt)\n",
    "        print(pcov)\n",
    "        # residual sum of squares\n",
    "        ss_res = np.sum((np.array(fnq) - fit_F(x, *popt)) ** 2)\n",
    "\n",
    "        # total sum of squares\n",
    "        ss_tot = np.sum((np.array(fnq) - np.mean(fth)) ** 2)\n",
    "\n",
    "        # r-squared\n",
    "        r2 = 1 - (ss_res / ss_tot)\n",
    "        print(r2)\n",
    "\n",
    "        \n",
    "    else:\n",
    "        plt.yticks([-1,0,1],size=18)\n",
    "    \n",
    "#     lgd = plt.legend(fontsize = 15, bbox_to_anchor=(1,1))\n",
    "\n",
    "#     plt.savefig(f'{file_prefix}{gamma}.pdf', bbox_extra_artists=(lgd,), bbox_inches='tight')\n",
    "    \n",
    "    plt.legend(fontsize = 13, loc='lower left')\n",
    "#     plt.legend(fontsize = 20, bbox_to_anchor=(1,1))\n",
    "    plt.savefig(f'{file_prefix}{gamma}_22_Oct.pdf', bbox_inches='tight')\n",
    "    \n",
    "    plt.show()"
   ]
  },
  {
   "cell_type": "code",
   "execution_count": 72,
   "metadata": {},
   "outputs": [
    {
     "name": "stdout",
     "output_type": "stream",
     "text": [
      "[7.61301725e-05 8.13917325e-01]\n",
      "[[ 7.80523629e-05 -4.29287219e-04]\n",
      " [-4.29287219e-04  3.29119606e-03]]\n",
      "0.7875097028832008\n"
     ]
    },
    {
     "data": {
      "image/png": "[encoded data removed]",
      "text/plain": [
       "<Figure size 432x288 with 1 Axes>"
      ]
     },
     "metadata": {
      "needs_background": "light"
     },
     "output_type": "display_data"
    }
   ],
   "source": [
    "# which = np.random.choice(list(range(24)), size=10, replace=False)\n",
    "# which = states[9:20]\n",
    "# which = which[:3] + which[4:-4]\n",
    "# states = [states[i] for i in which]\n",
    "plot_gs(states, 'F', 'Plot_for_manuscript_22_oct')"
   ]
  },
  {
   "cell_type": "code",
   "execution_count": 32,
   "metadata": {},
   "outputs": [],
   "source": [
    "which = [3, 4, 9, 10, 11, 12, 13, 14, 15, 16, 18, 19]"
   ]
  },
  {
   "cell_type": "code",
   "execution_count": 110,
   "metadata": {},
   "outputs": [
    {
     "name": "stdout",
     "output_type": "stream",
     "text": [
      "[15  6  9 21  0  1  4  8 16  7]\n"
     ]
    }
   ],
   "source": [
    "print(which)"
   ]
  },
  {
   "cell_type": "code",
   "execution_count": 113,
   "metadata": {},
   "outputs": [
    {
     "name": "stdout",
     "output_type": "stream",
     "text": [
      "[ 3 21 15 23 19 16  4  5 22  2]\n"
     ]
    }
   ],
   "source": [
    "print(which)"
   ]
  },
  {
   "cell_type": "code",
   "execution_count": 158,
   "metadata": {},
   "outputs": [
    {
     "name": "stdout",
     "output_type": "stream",
     "text": [
      "[ 5 13 11 17 20  6 18 10 21 15]\n"
     ]
    }
   ],
   "source": [
    "print(which)"
   ]
  },
  {
   "cell_type": "code",
   "execution_count": 73,
   "metadata": {
    "jupyter": {
     "source_hidden": true
    }
   },
   "outputs": [
    {
     "name": "stdout",
     "output_type": "stream",
     "text": [
      "name 'q1' is not defined\n"
     ]
    }
   ],
   "source": [
    "engine = 'noisy-Aspen'\n",
    "try:\n",
    "    states = pp.run_peres(q1, q2, trial, engine, states)\n",
    "except Exception as e:\n",
    "    print(e)"
   ]
  },
  {
   "cell_type": "code",
   "execution_count": 2,
   "metadata": {},
   "outputs": [],
   "source": [
    "with open(\"Result_3\", 'rb') as file:\n",
    "    data = pickle.load(file)\n",
    "\n",
    "good_qubits, states = data[0], data[1]"
   ]
  },
  {
   "cell_type": "code",
   "execution_count": 42,
   "metadata": {},
   "outputs": [],
   "source": [
    "with open(\"results_aspen_theory_noisy_aspen9_errors.pkl\", 'rb') as file:\n",
    "    data = pickle.load(file)\n",
    "\n",
    "good_qubits, states = data[0], data[1]"
   ]
  },
  {
   "cell_type": "code",
   "execution_count": 99,
   "metadata": {},
   "outputs": [],
   "source": [
    "which = np.random.choice(list(range(24)), size=10, replace=False)"
   ]
  },
  {
   "cell_type": "code",
   "execution_count": 47,
   "metadata": {},
   "outputs": [
    {
     "data": {
      "text/plain": [
       "{'State_params': [(1.601251295142588, 0.9794577683419738),\n",
       "  (1.4479371099010032, 0.1550209549284421),\n",
       "  (2.1657952926841006, 5.413668324854131)],\n",
       " 'Counts_bell_2q-qvm': {'a': {'Clicks': array([[1, 0],\n",
       "          [0, 1],\n",
       "          [0, 0],\n",
       "          ...,\n",
       "          [1, 0],\n",
       "          [0, 1],\n",
       "          [0, 1]]),\n",
       "   'Counts': Counter({'10': 1362, '01': 4297, '00': 3557, '11': 784})},\n",
       "  'b': {'Clicks': array([[0, 0],\n",
       "          [0, 0],\n",
       "          [0, 0],\n",
       "          ...,\n",
       "          [0, 0],\n",
       "          [0, 1],\n",
       "          [1, 1]]),\n",
       "   'Counts': Counter({'00': 3884, '01': 3746, '11': 1616, '10': 754})},\n",
       "  'c': {'Clicks': array([[0, 0],\n",
       "          [0, 0],\n",
       "          [0, 0],\n",
       "          ...,\n",
       "          [0, 1],\n",
       "          [0, 0],\n",
       "          [1, 1]]),\n",
       "   'Counts': Counter({'00': 4600, '01': 1899, '10': 501, '11': 3000})}},\n",
       " 'Counts_comp_2q-qvm': {'a': {'Clicks': array([[1, 1],\n",
       "          [0, 1],\n",
       "          [1, 0],\n",
       "          ...,\n",
       "          [1, 1],\n",
       "          [0, 0],\n",
       "          [0, 1]]),\n",
       "   'Counts': Counter({'11': 2225, '01': 2076, '10': 2890, '00': 2809})},\n",
       "  'b': {'Clicks': array([[1, 1],\n",
       "          [0, 1],\n",
       "          [1, 1],\n",
       "          ...,\n",
       "          [0, 1],\n",
       "          [1, 0],\n",
       "          [1, 1]]),\n",
       "   'Counts': Counter({'11': 3357, '01': 4442, '00': 1221, '10': 980})},\n",
       "  'c': {'Clicks': array([[1, 1],\n",
       "          [0, 1],\n",
       "          [1, 0],\n",
       "          ...,\n",
       "          [0, 1],\n",
       "          [1, 0],\n",
       "          [1, 1]]),\n",
       "   'Counts': Counter({'11': 4009, '01': 1091, '10': 3830, '00': 1070})}},\n",
       " 'Counts_bell_qvm': {'a': {'Clicks': array([[1, 0],\n",
       "          [0, 1],\n",
       "          [1, 0],\n",
       "          ...,\n",
       "          [0, 0],\n",
       "          [0, 1],\n",
       "          [0, 0]]),\n",
       "   'Counts': Counter({'10': 1407, '01': 4286, '00': 3496, '11': 811})},\n",
       "  'b': {'Clicks': array([[0, 0],\n",
       "          [1, 1],\n",
       "          [0, 0],\n",
       "          ...,\n",
       "          [1, 1],\n",
       "          [1, 1],\n",
       "          [0, 1]]),\n",
       "   'Counts': Counter({'00': 3895, '11': 1602, '01': 3691, '10': 812})},\n",
       "  'c': {'Clicks': array([[0, 0],\n",
       "          [0, 1],\n",
       "          [0, 0],\n",
       "          ...,\n",
       "          [0, 0],\n",
       "          [0, 0],\n",
       "          [0, 1]]),\n",
       "   'Counts': Counter({'00': 4585, '01': 1845, '11': 3069, '10': 501})}},\n",
       " 'Counts_comp_qvm': {'a': {'Clicks': array([[0, 0],\n",
       "          [0, 0],\n",
       "          [0, 1],\n",
       "          ...,\n",
       "          [0, 0],\n",
       "          [1, 0],\n",
       "          [0, 0]]),\n",
       "   'Counts': Counter({'00': 2725, '01': 2103, '11': 2249, '10': 2923})},\n",
       "  'b': {'Clicks': array([[0, 0],\n",
       "          [1, 1],\n",
       "          [0, 0],\n",
       "          ...,\n",
       "          [1, 1],\n",
       "          [0, 0],\n",
       "          [1, 1]]),\n",
       "   'Counts': Counter({'00': 1170, '11': 3374, '01': 4482, '10': 974})},\n",
       "  'c': {'Clicks': array([[1, 1],\n",
       "          [0, 1],\n",
       "          [0, 1],\n",
       "          ...,\n",
       "          [1, 0],\n",
       "          [1, 0],\n",
       "          [1, 1]]),\n",
       "   'Counts': Counter({'11': 4123, '01': 1135, '10': 3706, '00': 1036})}},\n",
       " 'Gamma_2q-qvm': {'a': 0.7405846167732237,\n",
       "  'b': 0.4960643700455599,\n",
       "  'c': -0.27468693174830944,\n",
       "  'F': 1.071826018513117},\n",
       " 'Gammas_theory': {'a': 0.6789705454480007,\n",
       "  'b': 0.5194937629905176,\n",
       "  'c': -0.2746045553954747,\n",
       "  'F': 0.9999999999999998},\n",
       " 'Gamma_qvm': {'a': 0.7151130303813169,\n",
       "  'b': 0.46090443021610294,\n",
       "  'c': -0.2806045376460332,\n",
       "  'F': 0.9875322640156272},\n",
       " 'cfs_theory': {'a': [0.6132851038991365, 0.7477337786047025],\n",
       "  'b': [0.44600455912436, 0.5977917360690816],\n",
       "  'c': [-0.3288807422042225, -0.2197034371423878],\n",
       "  'F': [0.8415390519141427, 1.1789530519354336]},\n",
       " 'cfs_qvm': {'a': [0.6489079433725778, 0.7832318593166325],\n",
       "  'b': [0.3878890934079535, 0.5353563047246523],\n",
       "  'c': [-0.33680082086335783, -0.22402888717764488],\n",
       "  'F': [0.835573417735385, 1.1607946434632024]},\n",
       " 'Counts_bell_Aspen': {'a': {'Clicks': array([[1, 1],\n",
       "          [1, 0],\n",
       "          [0, 0],\n",
       "          ...,\n",
       "          [0, 0],\n",
       "          [1, 1],\n",
       "          [1, 0]]),\n",
       "   'Counts': Counter({'11': 1246, '10': 1735, '00': 3177, '01': 3842})},\n",
       "  'b': {'Clicks': array([[0, 0],\n",
       "          [0, 1],\n",
       "          [0, 0],\n",
       "          ...,\n",
       "          [1, 0],\n",
       "          [0, 1],\n",
       "          [0, 1]]),\n",
       "   'Counts': Counter({'00': 3904, '01': 3409, '11': 1833, '10': 854})},\n",
       "  'c': {'Clicks': array([[0, 1],\n",
       "          [0, 0],\n",
       "          [1, 0],\n",
       "          ...,\n",
       "          [1, 1],\n",
       "          [0, 0],\n",
       "          [1, 1]]),\n",
       "   'Counts': Counter({'01': 2163, '00': 4176, '10': 749, '11': 2912})}},\n",
       " 'Counts_comp_Aspen': {'a': {'Clicks': array([[0, 0],\n",
       "          [1, 0],\n",
       "          [1, 0],\n",
       "          ...,\n",
       "          [0, 1],\n",
       "          [0, 1],\n",
       "          [0, 0]]),\n",
       "   'Counts': Counter({'00': 2584, '10': 3039, '01': 2099, '11': 2278})},\n",
       "  'b': {'Clicks': array([[0, 1],\n",
       "          [0, 1],\n",
       "          [1, 1],\n",
       "          ...,\n",
       "          [1, 0],\n",
       "          [1, 0],\n",
       "          [1, 1]]),\n",
       "   'Counts': Counter({'01': 4201, '11': 3343, '00': 1334, '10': 1122})},\n",
       "  'c': {'Clicks': array([[1, 0],\n",
       "          [1, 0],\n",
       "          [1, 1],\n",
       "          ...,\n",
       "          [1, 1],\n",
       "          [1, 1],\n",
       "          [1, 0]]),\n",
       "   'Counts': Counter({'10': 3807, '11': 3885, '01': 1160, '00': 1148})}},\n",
       " 'Counts_bell_deph-qvm': {'a': {'Clicks': array([[0, 0],\n",
       "          [0, 1],\n",
       "          [1, 0],\n",
       "          ...,\n",
       "          [0, 0],\n",
       "          [0, 1],\n",
       "          [0, 0]]),\n",
       "   'Counts': Counter({'00': 3451, '01': 3984, '10': 1482, '11': 1083})},\n",
       "  'b': {'Clicks': array([[0, 0],\n",
       "          [0, 1],\n",
       "          [1, 0],\n",
       "          ...,\n",
       "          [0, 0],\n",
       "          [0, 0],\n",
       "          [0, 1]]),\n",
       "   'Counts': Counter({'00': 3671, '01': 3610, '10': 984, '11': 1735})},\n",
       "  'c': {'Clicks': array([[1, 1],\n",
       "          [0, 1],\n",
       "          [0, 0],\n",
       "          ...,\n",
       "          [1, 0],\n",
       "          [0, 1],\n",
       "          [1, 1]]),\n",
       "   'Counts': Counter({'11': 2893, '01': 2060, '00': 4220, '10': 827})}},\n",
       " 'Counts_comp_deph-qvm': {'a': {'Clicks': array([[0, 1],\n",
       "          [0, 1],\n",
       "          [1, 0],\n",
       "          ...,\n",
       "          [1, 0],\n",
       "          [1, 1],\n",
       "          [1, 1]]),\n",
       "   'Counts': Counter({'01': 2112, '10': 2847, '00': 2736, '11': 2305})},\n",
       "  'b': {'Clicks': array([[1, 0],\n",
       "          [0, 1],\n",
       "          [1, 0],\n",
       "          ...,\n",
       "          [1, 0],\n",
       "          [1, 1],\n",
       "          [0, 1]]),\n",
       "   'Counts': Counter({'10': 1068, '01': 4269, '11': 3422, '00': 1241})},\n",
       "  'c': {'Clicks': array([[1, 0],\n",
       "          [1, 0],\n",
       "          [1, 1],\n",
       "          ...,\n",
       "          [1, 0],\n",
       "          [1, 0],\n",
       "          [1, 0]]),\n",
       "   'Counts': Counter({'10': 3692, '11': 3886, '01': 1267, '00': 1155})}},\n",
       " 'Gamma_Aspen': {'a': 0.5040305196861503,\n",
       "  'b': 0.3443011139074969,\n",
       "  'c': -0.15251325878207073,\n",
       "  'F': 0.4487840898878013},\n",
       " 'Gamma_deph-qvm': {'a': 0.6135521772336404,\n",
       "  'b': 0.44093200237841274,\n",
       "  'c': -0.1939602840896001,\n",
       "  'F': 0.7134339061903808},\n",
       " 'cfs_Aspen': {'a': [0.44386487723262313, 0.5681915459798044],\n",
       "  'b': [0.27693601638376847, 0.4147645252909698],\n",
       "  'c': [-0.20945960408424133, -0.09629686247814438],\n",
       "  'F': [0.3600597756556102, 0.5559042314373348]}}"
      ]
     },
     "execution_count": 47,
     "metadata": {},
     "output_type": "execute_result"
    }
   ],
   "source": [
    "data[0]"
   ]
  },
  {
   "cell_type": "code",
   "execution_count": 66,
   "metadata": {},
   "outputs": [],
   "source": [
    "temp = states[4]\n",
    "states[4] = states[7]\n",
    "states[7] = temp"
   ]
  },
  {
   "cell_type": "code",
   "execution_count": null,
   "metadata": {},
   "outputs": [],
   "source": []
  }
 ],
 "metadata": {
  "kernelspec": {
   "display_name": "Python 3",
   "language": "python",
   "name": "python3"
  },
  "language_info": {
   "codemirror_mode": {
    "name": "ipython",
    "version": 3
   },
   "file_extension": ".py",
   "mimetype": "text/x-python",
   "name": "python",
   "nbconvert_exporter": "python",
   "pygments_lexer": "ipython3",
   "version": "3.8.6"
  }
 },
 "nbformat": 4,
 "nbformat_minor": 4
}
