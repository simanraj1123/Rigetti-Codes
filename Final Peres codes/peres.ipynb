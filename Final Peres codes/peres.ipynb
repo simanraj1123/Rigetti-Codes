{
 "cells": [
  {
   "cell_type": "code",
   "execution_count": 1,
   "metadata": {},
   "outputs": [
    {
     "name": "stdout",
     "output_type": "stream",
     "text": [
      "Engine requested: deph-qvm\n",
      "Running Bell-state measurements\n",
      "Done with iteration 23\n",
      "\n",
      "Running Computational measurements\n",
      "Creating folder product_peres_deph-qvm_2021-07-23_12_25_bits_10000_shots_trial_1\n",
      "Results saved in file product_peres_deph-qvm_2021-07-23_12_25_bits_10000_shots_trial_1/result_list_trial_1\n",
      "\n",
      "Completed.\n"
     ]
    }
   ],
   "source": [
    "import peres_pyquil as pp\n",
    "import peres_analysis as pa\n",
    "import pickle\n",
    "import numpy as np, matplotlib.pyplot as plt\n",
    "from collections import Counter\n",
    "import sys\n",
    "import time\n",
    "import multiprocessing as mp\n",
    "Z_SCORE = 3\n",
    "N_SHOTS = 10_000\n",
    "import peres_pyquil_noise_models as ppnm\n",
    "from scipy.optimize import curve_fit as cf\n",
    "\n",
    "with open('select_states_aspen_with_cfs', 'rb') as file:\n",
    "    select_states = pickle.load(file)\n",
    "\n",
    "q1, q2 = 12, 25\n",
    "trial = 1\n",
    "amp_damp = 0.3\n",
    "deph_damp = 1-0.9820553488690702\n",
    "pmeas_1 = [0.968, 0.968]\n",
    "t1 = 4e-6\n",
    "t2=4.4e-6\n",
    "\n",
    "pmeas_2 = [0.961, 0.961]\n",
    "\n",
    "# iters = 1\n",
    "# states = [{'State_params': pa.params_complex()} for _ in range(iters)]\n",
    "def fit_F(x, m, c):\n",
    "    return m*x + c\n",
    "\n",
    "engine = 'deph-qvm'\n",
    "try:\n",
    "    select_states = ppnm.run_peres(q1, q2, trial, engine, select_states, amp_damp, deph_damp, pmeas_1, pmeas_2, t1,t2)\n",
    "except Exception as e:\n",
    "    print(e)\n",
    "    \n",
    "# engine = 'qvm'\n",
    "# try:\n",
    "#     states = pp.run_peres(q1, q2, trial, engine, states)\n",
    "# except Exception as e:\n",
    "#     print(e)\n",
    "\n",
    "# select_states = pa.compute_gammas(select_states, 'Aspen')\n",
    "select_states = pa.compute_gammas(select_states, 'deph-qvm')"
   ]
  },
  {
   "cell_type": "code",
   "execution_count": 2,
   "metadata": {
    "jupyter": {
     "source_hidden": true
    }
   },
   "outputs": [],
   "source": [
    "# if __name__ == '__main__':\n",
    "#     manager = mp.Manager()\n",
    "#     return_dict = manager.dict()\n",
    "    \n",
    "#     procs = [mp.Process(target=get_cfs_boot, args=(select_states[i*6:(i+1)*6],'deph-qvm', return_dict, i)) for i in range(4)]\n",
    "    \n",
    "#     for proc in procs:\n",
    "#         proc.start()\n",
    "#     for proc in procs:\n",
    "#         proc.join()\n",
    "# select_states = [elem for key in range(4) for elem in return_dict[key]]"
   ]
  },
  {
   "cell_type": "code",
   "execution_count": 3,
   "metadata": {},
   "outputs": [
    {
     "data": {
      "image/png": "[encoded data removed]",
      "text/plain": [
       "<Figure size 1080x360 with 1 Axes>"
      ]
     },
     "metadata": {
      "needs_background": "light"
     },
     "output_type": "display_data"
    }
   ],
   "source": [
    "fth = np.array([select_states[i]['Gammas_theory']['F'] for i in range(len(select_states))])\n",
    "errth = np.array([select_states[i]['cfs_theory']['F'] for i in range(len(select_states))])\n",
    "\n",
    "f2q = [select_states[i]['Gamma_2q-qvm']['F'] for i in range(len(select_states))]\n",
    "\n",
    "fas = np.array([select_states[i]['Gamma_Aspen']['F'] for i in range(len(select_states))])\n",
    "erras = np.array([select_states[i]['cfs_Aspen']['F'] for i in range(len(select_states))])\n",
    "\n",
    "fnq = np.array([select_states[i]['Gamma_deph-qvm']['F'] for i in range(len(select_states))])\n",
    "# errnq = np.array([select_states[i]['cfs_deph-qvm']['F'] for i in range(len(select_states))])\n",
    "\n",
    "\n",
    "plt.rcParams.update({\n",
    "    \"text.usetex\": True,\n",
    "    \"font.family\": \"serif\",\n",
    "    \"font.sans-serif\": [\"Helvetica\"]})\n",
    "fig = plt.figure(figsize=(15,5))\n",
    "# plt.subplot(2,2,4)\n",
    "# plt.errorbar(range(len(fnq)), fnq, yerr=[fnq - errnq[:,0], errnq[:,1] - fnq], ls='', marker = 'D', capsize=6, color='maroon', alpha=1, lw=1)\n",
    "# plt.errorbar(range(len(fas)), fas, yerr=[fas - erras[:,0], erras[:,1] - fas], ls='', marker = 'o', capsize=6, color='darkgreen', alpha=1, lw=1)\n",
    "# plt.errorbar(range(len(fth)), fth, yerr=[fth - errth[:,0], errth[:,1] - fth], ls='', marker = '', capsize=6, color='blue', alpha=1, lw=1)\n",
    "plt.plot(fnq, 'o', color='blue')\n",
    "plt.plot(fas, 'o', color='green')\n",
    "\n",
    "plt.xticks(range(len(select_states)))\n",
    "plt.axhline(y=-1, ls='dashed')\n",
    "plt.axhline(y=1, ls='dashed')\n",
    "\n",
    "x = np.arange(len(fas))\n",
    "popt, pcov = cf(fit_F, x, fas)\n",
    "plt.plot(x, fit_F(x, *popt), ls='dashed', color='darkgreen', alpha=0.6, lw=4)\n",
    "\n",
    "popt, pcov = cf(fit_F, x, fnq)\n",
    "# plt.plot(x, fit_F(x, *popt), ls='dashed', color='maroon', alpha=1)\n",
    "plt.errorbar(x, fit_F(x, *popt), yerr=[fth - errth[:,0], errth[:,1] - fth], ls='dashed', color='maroon', alpha=1, capsize=6)\n",
    "\n",
    "plt.xlabel('Iterations', size=20)\n",
    "plt.ylabel('$F$', size=20)\n",
    "plt.xticks(size=16)\n",
    "plt.yticks(list(np.arange(-1,1.1, 0.5)),size=16)\n",
    "\n",
    "plt.savefig('error_compensated.pdf', bbox_inches='tight')\n",
    "plt.show()"
   ]
  },
  {
   "cell_type": "code",
   "execution_count": 4,
   "metadata": {},
   "outputs": [],
   "source": [
    "with open('results_aspen_theory_noisy_aspen9_errors.pkl', 'wb') as file:\n",
    "    pickle.dump(select_states, file)"
   ]
  },
  {
   "cell_type": "code",
   "execution_count": 144,
   "metadata": {},
   "outputs": [
    {
     "data": {
      "text/plain": [
       "array([0.00132895, 0.6779948 ])"
      ]
     },
     "execution_count": 144,
     "metadata": {},
     "output_type": "execute_result"
    }
   ],
   "source": [
    "popt"
   ]
  },
  {
   "cell_type": "code",
   "execution_count": 27,
   "metadata": {},
   "outputs": [],
   "source": [
    "# with open('select_states_aspen_with_cfs_good_fit_2', 'wb') as file:\n",
    "#     pickle.dump(select_states, file)"
   ]
  },
  {
   "cell_type": "code",
   "execution_count": 162,
   "metadata": {},
   "outputs": [],
   "source": [
    "with open('select_states_aspen_with_cfs', 'rb') as file:\n",
    "    test = pickle.load(file)"
   ]
  },
  {
   "cell_type": "markdown",
   "metadata": {},
   "source": [
    "# Initial analysis"
   ]
  },
  {
   "cell_type": "code",
   "execution_count": 112,
   "metadata": {},
   "outputs": [],
   "source": [
    "select_states = pa.compute_gammas(states, '2q-qvm')\n",
    "# states = pa.compute_gammas(states, 'qvm')\n",
    "select_states = pa.compute_gammas(states, 'Aspen')"
   ]
  },
  {
   "cell_type": "code",
   "execution_count": 42,
   "metadata": {},
   "outputs": [],
   "source": [
    "def get_cfs(result_list, return_dict, proc_no):\n",
    "    print(f'Started process {proc_no}.')\n",
    "    st = time.time()\n",
    "    result_list = pa.get_theory_cfs(result_list)\n",
    "    return_dict[proc_no] = result_list\n",
    "    print(f'Finished process {proc_no} in {time.time() - st} secs.')\n",
    "    return None\n",
    "\n",
    "def get_cfs_boot(result_list, engine, return_dict, proc_no):\n",
    "    print(f'Started process {proc_no}.')\n",
    "    st = time.time()\n",
    "    result_list = pa.get_cfs_boot(result_list, engine)\n",
    "    return_dict[proc_no] = result_list\n",
    "    print(f'Finished process {proc_no} in {time.time() - st} secs.')\n",
    "    return None"
   ]
  },
  {
   "cell_type": "code",
   "execution_count": 84,
   "metadata": {},
   "outputs": [
    {
     "name": "stdout",
     "output_type": "stream",
     "text": [
      "Started process 0.Started process 1.\n",
      "\n",
      "Started process 2.\n",
      "Started process 3.\n",
      "Started process 4.\n",
      "Started process 5.Started process 6.\n",
      "Started process 7.\n",
      "\n",
      "Started process 9.\n",
      "Started process 8.\n"
     ]
    },
    {
     "name": "stderr",
     "output_type": "stream",
     "text": [
      "/home/jovyan/Final Peres codes/peres_analysis.py:78: RuntimeWarning: divide by zero encountered in double_scalars\n",
      "  counts = binomial_dist(np.array(res['State_params'], dtype=float), 10_000, 10_000)\n",
      "/home/jovyan/Final Peres codes/peres_analysis.py:78: RuntimeWarning: invalid value encountered in double_scalars\n",
      "  counts = binomial_dist(np.array(res['State_params'], dtype=float), 10_000, 10_000)\n"
     ]
    },
    {
     "name": "stdout",
     "output_type": "stream",
     "text": [
      "Finished process 4 in 269.2321743965149 secs.\n",
      "Finished process 0 in 270.27567625045776 secs.\n",
      "Finished process 9 in 280.4895930290222 secs.\n",
      "Finished process 5 in 281.71805572509766 secs.\n",
      "Finished process 8 in 289.7072832584381 secs.\n",
      "Finished process 1 in 290.08590292930603 secs.\n",
      "Finished process 3 in 290.597936630249 secs.\n",
      "Finished process 2 in 292.2922601699829 secs.\n",
      "Finished process 7 in 294.41766238212585 secs.\n",
      "Finished process 6 in 296.467732667923 secs.\n"
     ]
    }
   ],
   "source": [
    "if __name__ == '__main__':\n",
    "    manager = mp.Manager()\n",
    "    return_dict = manager.dict()\n",
    "    \n",
    "    procs = [mp.Process(target=get_cfs, args=(states[i*6:(i+1)*6],return_dict, i)) for i in range(4)]\n",
    "    \n",
    "    for proc in procs:\n",
    "        proc.start()\n",
    "    for proc in procs:\n",
    "        proc.join()\n",
    "states = [elem for key in return_dict.keys() for elem in return_dict[key]]"
   ]
  },
  {
   "cell_type": "code",
   "execution_count": 113,
   "metadata": {},
   "outputs": [
    {
     "name": "stdout",
     "output_type": "stream",
     "text": [
      "Started process 0.\n",
      "Started process 1.\n",
      "Started process 2.\n",
      "Started process 3.\n",
      "Finished process 1 in 994.5425834655762 secs.\n",
      "Finished process 0 in 1005.1249580383301 secs.\n",
      "Finished process 3 in 1005.2180616855621 secs.\n",
      "Finished process 2 in 1006.6124646663666 secs.\n"
     ]
    }
   ],
   "source": [
    "if __name__ == '__main__':\n",
    "    manager = mp.Manager()\n",
    "    return_dict = manager.dict()\n",
    "    \n",
    "    procs = [mp.Process(target=get_cfs_boot, args=(select_states[i*6:(i+1)*6],'Aspen', return_dict, i)) for i in range(4)]\n",
    "    \n",
    "    for proc in procs:\n",
    "        proc.start()\n",
    "    for proc in procs:\n",
    "        proc.join()\n",
    "select_states = [elem for key in return_dict.keys() for elem in return_dict[key]]"
   ]
  },
  {
   "cell_type": "code",
   "execution_count": 11,
   "metadata": {},
   "outputs": [],
   "source": [
    "with open('select_states.pkl', 'rb') as file:\n",
    "    select_states = pickle.load(file)"
   ]
  },
  {
   "cell_type": "code",
   "execution_count": 115,
   "metadata": {},
   "outputs": [
    {
     "data": {
      "image/png": "[encoded data removed]",
      "text/plain": [
       "<Figure size 1440x720 with 1 Axes>"
      ]
     },
     "metadata": {
      "needs_background": "light"
     },
     "output_type": "display_data"
    }
   ],
   "source": [
    "f2q = [select_states[i]['Gamma_2q-qvm']['F'] for i in range(len(select_states))]\n",
    "err2q = np.array([select_states[i]['cfs_theory']['F'] for i in range(len(select_states))])\n",
    "fth = np.array([select_states[i]['Gammas_theory']['F'] for i in range(len(select_states))])\n",
    "fqv = np.array([select_states[i]['Gamma_qvm']['F'] for i in range(len(select_states))])\n",
    "fas = np.array([select_states[i]['Gamma_Aspen']['F'] for i in range(len(select_states))])\n",
    "erras = np.array([select_states[i]['cfs_Aspen']['F'] for i in range(len(select_states))])\n",
    "\n",
    "errqv = np.array([select_states[i]['cfs_qvm']['F'] for i in range(len(select_states))])\n",
    "fig = plt.figure(figsize=(20,10))\n",
    "# plt.plot(f2q, 'o')\n",
    "# plt.plot(fqv, 'o')\n",
    "plt.errorbar(range(len(fth)), fth, yerr=[fth - err2q[:,0], err2q[:,1] - fth], ls='', marker = '', capsize=4, color='maroon', alpha=0.6)\n",
    "plt.errorbar(range(len(fas)), fas, yerr=[fas - erras[:,0], erras[:,1] - fas], ls='', marker = '', capsize=4, color='darkgreen', alpha=0.6)\n",
    "# plt.errorbar(range(len(fqv)), fqv, yerr=[fqv - errqv[:,0], errqv[:,1] - fqv], ls='', marker = 'o', capsize=4)\n",
    "plt.plot(fas, 'o', color='darkgreen')\n",
    "plt.plot(f2q, '*', color='maroon')\n",
    "plt.xticks(range(len(select_states)))\n",
    "plt.axhline(y=-1, ls='dashed')\n",
    "plt.axhline(y=1, ls='dashed')\n",
    "\n",
    "x = np.arange(len(fas))\n",
    "plt.plot(x, fit_F(x, *popt), ls='dashed', color='darkgreen', alpha=0.6)\n",
    "plt.show()"
   ]
  },
  {
   "cell_type": "code",
   "execution_count": 116,
   "metadata": {},
   "outputs": [
    {
     "data": {
      "text/plain": [
       "array([-0.00071853,  0.702243  ])"
      ]
     },
     "execution_count": 116,
     "metadata": {},
     "output_type": "execute_result"
    }
   ],
   "source": [
    "popt"
   ]
  },
  {
   "cell_type": "code",
   "execution_count": 14,
   "metadata": {},
   "outputs": [
    {
     "name": "stdout",
     "output_type": "stream",
     "text": [
      "Engine requested: Aspen\n",
      "Running Bell-state measurements\n",
      "Done with iteration 23\n",
      "\n",
      "Running Computational measurements\n",
      "Creating folder product_peres_Aspen_2021-07-15_12_25_bits_10000_shots_trial_1\n",
      "Results saved in file product_peres_Aspen_2021-07-15_12_25_bits_10000_shots_trial_1/result_list_trial_1\n",
      "\n",
      "Completed.\n"
     ]
    }
   ],
   "source": [
    "engine = 'Aspen'\n",
    "try:\n",
    "    select_states = pp.run_peres(q1, q2, trial, engine, select_states)\n",
    "except Exception as e:\n",
    "    print(e)"
   ]
  },
  {
   "cell_type": "code",
   "execution_count": 31,
   "metadata": {},
   "outputs": [],
   "source": [
    "with open('select_states_aspen_with_cfs.pkl', 'wb') as file:\n",
    "    pickle.dump(select_states, file)"
   ]
  },
  {
   "cell_type": "code",
   "execution_count": 21,
   "metadata": {},
   "outputs": [],
   "source": [
    "states = pa.compute_gammas(select_states, 'Aspen')"
   ]
  },
  {
   "cell_type": "code",
   "execution_count": 142,
   "metadata": {},
   "outputs": [
    {
     "name": "stdout",
     "output_type": "stream",
     "text": [
      "Started process 0.\n",
      "Started process 1.\n",
      "Started process 2.\n",
      "Started process 3.\n",
      "Finished process 3 in 585.5125434398651 secs.\n",
      "Finished process 0 in 592.9913125038147 secs.\n",
      "Finished process 1 in 594.0771214962006 secs.\n",
      "Finished process 2 in 597.970950126648 secs.\n"
     ]
    }
   ],
   "source": [
    "if __name__ == '__main__':\n",
    "    manager = mp.Manager()\n",
    "    return_dict = manager.dict()\n",
    "    \n",
    "    procs = [mp.Process(target=get_cfs_boot, args=(select_states[i*6:(i+1)*6],'deph-qvm', return_dict, i)) for i in range(4)]\n",
    "    \n",
    "    for proc in procs:\n",
    "        proc.start()\n",
    "    for proc in procs:\n",
    "        proc.join()\n",
    "select_states = [elem for key in range(4) for elem in return_dict[key]]"
   ]
  },
  {
   "cell_type": "code",
   "execution_count": 40,
   "metadata": {},
   "outputs": [],
   "source": [
    "from scipy.optimize import curve_fit as cf"
   ]
  },
  {
   "cell_type": "code",
   "execution_count": 41,
   "metadata": {},
   "outputs": [],
   "source": [
    "def fit_F(x, m, c):\n",
    "    return m*x + c"
   ]
  },
  {
   "cell_type": "code",
   "execution_count": 44,
   "metadata": {},
   "outputs": [],
   "source": [
    "popt, pcov = cf(fit_F, range(len(fas)), fas)"
   ]
  },
  {
   "cell_type": "code",
   "execution_count": 45,
   "metadata": {},
   "outputs": [
    {
     "data": {
      "text/plain": [
       "array([7.43540429e-05, 6.96504667e-01])"
      ]
     },
     "execution_count": 45,
     "metadata": {},
     "output_type": "execute_result"
    }
   ],
   "source": [
    "popt"
   ]
  },
  {
   "cell_type": "code",
   "execution_count": 5,
   "metadata": {},
   "outputs": [],
   "source": [
    "with open('select_states_aspen.pkl', 'rb') as file:\n",
    "    select_states = pickle.load(file)"
   ]
  },
  {
   "cell_type": "code",
   "execution_count": 14,
   "metadata": {},
   "outputs": [
    {
     "data": {
      "text/plain": [
       "{'Clicks': array([[1, 0],\n",
       "        [1, 0],\n",
       "        [0, 1],\n",
       "        ...,\n",
       "        [1, 0],\n",
       "        [1, 0],\n",
       "        [0, 0]]),\n",
       " 'Counts': Counter({'10': 4416, '01': 2111, '11': 2273, '00': 1200})}"
      ]
     },
     "execution_count": 14,
     "metadata": {},
     "output_type": "execute_result"
    }
   ],
   "source": [
    "select_states[0]['Counts_bell_2q-qvm']['a']"
   ]
  },
  {
   "cell_type": "code",
   "execution_count": 15,
   "metadata": {},
   "outputs": [
    {
     "data": {
      "text/plain": [
       "{'Clicks': array([[1, 1],\n",
       "        [1, 0],\n",
       "        [1, 1],\n",
       "        ...,\n",
       "        [1, 1],\n",
       "        [0, 1],\n",
       "        [0, 1]]),\n",
       " 'Counts': Counter({'11': 2115, '10': 4300, '00': 1347, '01': 2238})}"
      ]
     },
     "execution_count": 15,
     "metadata": {},
     "output_type": "execute_result"
    }
   ],
   "source": [
    "select_states[0]['Counts_bell_Aspen']['a']"
   ]
  },
  {
   "cell_type": "code",
   "execution_count": 69,
   "metadata": {},
   "outputs": [],
   "source": [
    "select_states = pa.compute_gammas(select_states, 'Aspen')\n",
    "select_states = pa.compute_gammas(select_states, 'deph-qvm')"
   ]
  },
  {
   "cell_type": "code",
   "execution_count": 70,
   "metadata": {},
   "outputs": [
    {
     "ename": "NameError",
     "evalue": "name 'fit_F' is not defined",
     "output_type": "error",
     "traceback": [
      "\u001b[0;31m---------------------------------------------------------------------------\u001b[0m",
      "\u001b[0;31mNameError\u001b[0m                                 Traceback (most recent call last)",
      "\u001b[0;32m<ipython-input-70-05d55eddcf96>\u001b[0m in \u001b[0;36m<module>\u001b[0;34m\u001b[0m\n\u001b[1;32m     22\u001b[0m \u001b[0;34m\u001b[0m\u001b[0m\n\u001b[1;32m     23\u001b[0m \u001b[0mx\u001b[0m \u001b[0;34m=\u001b[0m \u001b[0mnp\u001b[0m\u001b[0;34m.\u001b[0m\u001b[0marange\u001b[0m\u001b[0;34m(\u001b[0m\u001b[0mlen\u001b[0m\u001b[0;34m(\u001b[0m\u001b[0mfas\u001b[0m\u001b[0;34m)\u001b[0m\u001b[0;34m)\u001b[0m\u001b[0;34m\u001b[0m\u001b[0;34m\u001b[0m\u001b[0m\n\u001b[0;32m---> 24\u001b[0;31m \u001b[0mplt\u001b[0m\u001b[0;34m.\u001b[0m\u001b[0mplot\u001b[0m\u001b[0;34m(\u001b[0m\u001b[0mx\u001b[0m\u001b[0;34m,\u001b[0m \u001b[0mfit_F\u001b[0m\u001b[0;34m(\u001b[0m\u001b[0mx\u001b[0m\u001b[0;34m,\u001b[0m \u001b[0;34m*\u001b[0m\u001b[0mpopt\u001b[0m\u001b[0;34m)\u001b[0m\u001b[0;34m,\u001b[0m \u001b[0mls\u001b[0m\u001b[0;34m=\u001b[0m\u001b[0;34m'dashed'\u001b[0m\u001b[0;34m,\u001b[0m \u001b[0mcolor\u001b[0m\u001b[0;34m=\u001b[0m\u001b[0;34m'darkgreen'\u001b[0m\u001b[0;34m,\u001b[0m \u001b[0malpha\u001b[0m\u001b[0;34m=\u001b[0m\u001b[0;36m0.6\u001b[0m\u001b[0;34m)\u001b[0m\u001b[0;34m\u001b[0m\u001b[0;34m\u001b[0m\u001b[0m\n\u001b[0m\u001b[1;32m     25\u001b[0m \u001b[0mplt\u001b[0m\u001b[0;34m.\u001b[0m\u001b[0mshow\u001b[0m\u001b[0;34m(\u001b[0m\u001b[0;34m)\u001b[0m\u001b[0;34m\u001b[0m\u001b[0;34m\u001b[0m\u001b[0m\n",
      "\u001b[0;31mNameError\u001b[0m: name 'fit_F' is not defined"
     ]
    },
    {
     "data": {
      "image/png": "[encoded data removed]",
      "text/plain": [
       "<Figure size 1440x720 with 1 Axes>"
      ]
     },
     "metadata": {
      "needs_background": "light"
     },
     "output_type": "display_data"
    }
   ],
   "source": [
    "f2q = [select_states[i]['Gamma_2q-qvm']['F'] for i in range(len(select_states))]\n",
    "err2q = np.array([select_states[i]['cfs_theory']['F'] for i in range(len(select_states))])\n",
    "fth = np.array([select_states[i]['Gammas_theory']['F'] for i in range(len(select_states))])\n",
    "fqv = np.array([select_states[i]['Gamma_qvm']['F'] for i in range(len(select_states))])\n",
    "fas = np.array([select_states[i]['Gamma_Aspen']['F'] for i in range(len(select_states))])\n",
    "fnq = np.array([select_states[i]['Gamma_deph-qvm']['F'] for i in range(len(select_states))])\n",
    "# erras = np.array([select_states[i]['cfs_Aspen']['F'] for i in range(len(select_states))])\n",
    "\n",
    "# errqv = np.array([select_states[i]['cfs_qvm']['F'] for i in range(len(select_states))])\n",
    "fig = plt.figure(figsize=(20,10))\n",
    "# plt.plot(f2q, 'o')\n",
    "# plt.plot(fqv, 'o')\n",
    "# plt.errorbar(range(len(fth)), fth, yerr=[fth - err2q[:,0], err2q[:,1] - fth], ls='', marker = '', capsize=4, color='maroon', alpha=0.6)\n",
    "plt.errorbar(range(len(fas)), fnq, yerr=[fth - err2q[:,0], err2q[:,1] - fth], ls='', marker = '', capsize=4, color='darkgreen', alpha=0.6)\n",
    "# plt.errorbar(range(len(fqv)), fqv, yerr=[fqv - errqv[:,0], errqv[:,1] - fqv], ls='', marker = 'o', capsize=4)\n",
    "plt.plot(fas, 'o', color='darkgreen')\n",
    "# plt.plot(f2q, '*', color='maroon')\n",
    "plt.plot(fnq, 'D', color='maroon')\n",
    "plt.xticks(range(len(select_states)))\n",
    "plt.axhline(y=-1, ls='dashed')\n",
    "plt.axhline(y=1, ls='dashed')\n",
    "\n",
    "x = np.arange(len(fas))\n",
    "plt.plot(x, fit_F(x, *popt), ls='dashed', color='darkgreen', alpha=0.6)\n",
    "plt.show()"
   ]
  },
  {
   "cell_type": "code",
   "execution_count": 183,
   "metadata": {},
   "outputs": [
    {
     "data": {
      "text/plain": [
       "Counter({'00': 2797, '11': 3757, '10': 2114, '01': 1332})"
      ]
     },
     "execution_count": 183,
     "metadata": {},
     "output_type": "execute_result"
    }
   ],
   "source": [
    "select_states[1]['Counts_bell_2q-qvm']['c']['Counts']"
   ]
  },
  {
   "cell_type": "code",
   "execution_count": 184,
   "metadata": {},
   "outputs": [
    {
     "data": {
      "text/plain": [
       "Counter({'11': 3607, '10': 2306, '00': 2678, '01': 1409})"
      ]
     },
     "execution_count": 184,
     "metadata": {},
     "output_type": "execute_result"
    }
   ],
   "source": [
    "select_states[1]['Counts_bell_Aspen']['c']['Counts']"
   ]
  },
  {
   "cell_type": "markdown",
   "metadata": {},
   "source": [
    "Imports\n",
    "\n",
    "import peres_pyquil as pp\n",
    "\n",
    "import peres_analysis as pa\n",
    "\n",
    "import pickle\n",
    "\n",
    "import numpy as np, matplotlib.pyplot as plt\n",
    "\n",
    "from collections import Counter\n",
    "\n",
    "import sys\n",
    "\n",
    "import time\n",
    "\n",
    "import multiprocessing as mp\n",
    "\n",
    "Z_SCORE = 3\n",
    "\n",
    "N_SHOTS = 10_000\n",
    "\n",
    "import peres_pyquil_noise_models as ppnm\n",
    "\n",
    "from scipy.optimize import curve_fit as cf\n",
    "\n",
    "from pyquil import get_qc\n",
    "\n",
    "# Imports"
   ]
  },
  {
   "cell_type": "code",
   "execution_count": 10,
   "metadata": {},
   "outputs": [],
   "source": [
    "import peres_pyquil as pp\n",
    "import peres_analysis as pa\n",
    "import pickle\n",
    "import numpy as np, matplotlib.pyplot as plt\n",
    "from collections import Counter\n",
    "import sys\n",
    "import time\n",
    "import multiprocessing as mp\n",
    "Z_SCORE = 3\n",
    "N_SHOTS = 10_000\n",
    "import peres_pyquil_noise_models as ppnm\n",
    "from scipy.optimize import curve_fit as cf\n",
    "from pyquil import get_qc"
   ]
  },
  {
   "cell_type": "markdown",
   "metadata": {},
   "source": [
    "# Theoretical runs"
   ]
  },
  {
   "cell_type": "markdown",
   "metadata": {},
   "source": [
    "## Selecting good edge on Aspen-9"
   ]
  },
  {
   "cell_type": "code",
   "execution_count": 17,
   "metadata": {},
   "outputs": [
    {
     "name": "stdout",
     "output_type": "stream",
     "text": [
      "{'Edge': Edge(targets=(20, 21), type=None, dead=False, gates=[GateInfo(operator='CZ', parameters=[], arguments=['_', '_'], duration=200, fidelity=0.9685255901014194), GateInfo(operator='CPHASE', parameters=['theta'], arguments=['_', '_'], duration=200, fidelity=0.9695287937792414), GateInfo(operator='XY', parameters=['theta'], arguments=['_', '_'], duration=200, fidelity=0.9607178832607794)]), 'Qubit1': Qubit(id=20, type=None, dead=False, gates=[MeasureInfo(operator='MEASURE', qubit=20, target='_', duration=2000, fidelity=0.977), MeasureInfo(operator='MEASURE', qubit=20, target=None, duration=2000, fidelity=0.977), GateInfo(operator='RZ', parameters=['_'], arguments=[20], duration=0.01, fidelity=1.0), GateInfo(operator='RX', parameters=[0.0], arguments=[20], duration=50, fidelity=1.0), GateInfo(operator='RX', parameters=[3.141592653589793], arguments=[20], duration=50, fidelity=0.9986668479374058), GateInfo(operator='RX', parameters=[-3.141592653589793], arguments=[20], duration=50, fidelity=0.9986668479374058), GateInfo(operator='RX', parameters=[1.5707963267948966], arguments=[20], duration=50, fidelity=0.9986668479374058), GateInfo(operator='RX', parameters=[-1.5707963267948966], arguments=[20], duration=50, fidelity=0.9986668479374058)]), 'Qubit2': Qubit(id=21, type=None, dead=False, gates=[MeasureInfo(operator='MEASURE', qubit=21, target='_', duration=2000, fidelity=0.9570000000000001), MeasureInfo(operator='MEASURE', qubit=21, target=None, duration=2000, fidelity=0.9570000000000001), GateInfo(operator='RZ', parameters=['_'], arguments=[21], duration=0.01, fidelity=1.0), GateInfo(operator='RX', parameters=[0.0], arguments=[21], duration=50, fidelity=1.0), GateInfo(operator='RX', parameters=[3.141592653589793], arguments=[21], duration=50, fidelity=0.999067926457613), GateInfo(operator='RX', parameters=[-3.141592653589793], arguments=[21], duration=50, fidelity=0.999067926457613), GateInfo(operator='RX', parameters=[1.5707963267948966], arguments=[21], duration=50, fidelity=0.999067926457613), GateInfo(operator='RX', parameters=[-1.5707963267948966], arguments=[21], duration=50, fidelity=0.999067926457613)])}\n",
      "\n",
      "{'Edge': Edge(targets=(23, 24), type=None, dead=False, gates=[GateInfo(operator='CZ', parameters=[], arguments=['_', '_'], duration=200, fidelity=0.9657841705702873), GateInfo(operator='CPHASE', parameters=['theta'], arguments=['_', '_'], duration=200, fidelity=0.9004262427554596), GateInfo(operator='XY', parameters=['theta'], arguments=['_', '_'], duration=200, fidelity=0.9493196593696587)]), 'Qubit1': Qubit(id=23, type=None, dead=False, gates=[MeasureInfo(operator='MEASURE', qubit=23, target='_', duration=2000, fidelity=0.9789999999999999), MeasureInfo(operator='MEASURE', qubit=23, target=None, duration=2000, fidelity=0.9789999999999999), GateInfo(operator='RZ', parameters=['_'], arguments=[23], duration=0.01, fidelity=1.0), GateInfo(operator='RX', parameters=[0.0], arguments=[23], duration=50, fidelity=1.0), GateInfo(operator='RX', parameters=[3.141592653589793], arguments=[23], duration=50, fidelity=0.9992947355694914), GateInfo(operator='RX', parameters=[-3.141592653589793], arguments=[23], duration=50, fidelity=0.9992947355694914), GateInfo(operator='RX', parameters=[1.5707963267948966], arguments=[23], duration=50, fidelity=0.9992947355694914), GateInfo(operator='RX', parameters=[-1.5707963267948966], arguments=[23], duration=50, fidelity=0.9992947355694914)]), 'Qubit2': Qubit(id=24, type=None, dead=False, gates=[MeasureInfo(operator='MEASURE', qubit=24, target='_', duration=2000, fidelity=0.9689999999999999), MeasureInfo(operator='MEASURE', qubit=24, target=None, duration=2000, fidelity=0.9689999999999999), GateInfo(operator='RZ', parameters=['_'], arguments=[24], duration=0.01, fidelity=1.0), GateInfo(operator='RX', parameters=[0.0], arguments=[24], duration=50, fidelity=1.0), GateInfo(operator='RX', parameters=[3.141592653589793], arguments=[24], duration=50, fidelity=0.9992878727851684), GateInfo(operator='RX', parameters=[-3.141592653589793], arguments=[24], duration=50, fidelity=0.9992878727851684), GateInfo(operator='RX', parameters=[1.5707963267948966], arguments=[24], duration=50, fidelity=0.9992878727851684), GateInfo(operator='RX', parameters=[-1.5707963267948966], arguments=[24], duration=50, fidelity=0.9992878727851684)])}\n",
      "\n"
     ]
    }
   ],
   "source": [
    "good_bits = pp.get_good_qbits(0.96, 0.95)\n",
    "for bits in good_bits:\n",
    "    print(bits, end='\\n\\n')"
   ]
  },
  {
   "cell_type": "markdown",
   "metadata": {},
   "source": [
    "# Randomly selecting states"
   ]
  },
  {
   "cell_type": "code",
   "execution_count": 3,
   "metadata": {},
   "outputs": [],
   "source": [
    "q1, q2 = 10, 17\n",
    "trial = 1\n",
    "iters = 30\n",
    "states = [{'State_params': pa.params_complex()} for _ in range(iters)]"
   ]
  },
  {
   "cell_type": "markdown",
   "metadata": {},
   "source": [
    "# Get the theoretical error-bars"
   ]
  },
  {
   "cell_type": "code",
   "execution_count": 4,
   "metadata": {},
   "outputs": [],
   "source": [
    "def get_cfs(result_list, return_dict, proc_no):\n",
    "    print(f'Started process {proc_no}.')\n",
    "    st = time.time()\n",
    "    result_list = pa.get_theory_cfs(result_list)\n",
    "    return_dict[proc_no] = result_list\n",
    "    print(f'Finished process {proc_no} in {time.time() - st} secs.')\n",
    "    return None\n",
    "\n",
    "def get_cfs_boot(result_list, engine, return_dict, proc_no):\n",
    "    print(f'Started process {proc_no}.')\n",
    "    st = time.time()\n",
    "    result_list = pa.get_cfs_boot(result_list, engine)\n",
    "    return_dict[proc_no] = result_list\n",
    "    print(f'Finished process {proc_no} in {time.time() - st} secs.')\n",
    "    return None"
   ]
  },
  {
   "cell_type": "code",
   "execution_count": 5,
   "metadata": {},
   "outputs": [
    {
     "name": "stdout",
     "output_type": "stream",
     "text": [
      "Started process 0.Started process 1.\n",
      "\n",
      "Started process 3.Started process 2.\n",
      "\n",
      "Started process 4.\n"
     ]
    },
    {
     "name": "stderr",
     "output_type": "stream",
     "text": [
      "/home/jovyan/Final Peres codes/peres_analysis.py:78: RuntimeWarning: divide by zero encountered in double_scalars\n",
      "  counts = binomial_dist(np.array(res['State_params'], dtype=float), 10_000, 10_000)\n",
      "/home/jovyan/Final Peres codes/peres_analysis.py:78: RuntimeWarning: invalid value encountered in double_scalars\n",
      "  counts = binomial_dist(np.array(res['State_params'], dtype=float), 10_000, 10_000)\n"
     ]
    },
    {
     "name": "stdout",
     "output_type": "stream",
     "text": [
      "Finished process 3 in 140.7746832370758 secs.\n",
      "Finished process 1 in 149.4322738647461 secs.\n",
      "Finished process 2 in 151.2001597881317 secs.\n",
      "Finished process 0 in 151.60296034812927 secs.\n",
      "Finished process 4 in 154.62373423576355 secs.\n"
     ]
    }
   ],
   "source": [
    "if __name__ == '__main__':\n",
    "    manager = mp.Manager()\n",
    "    return_dict = manager.dict()\n",
    "    \n",
    "    procs = [mp.Process(target=get_cfs, args=(states[i*6:(i+1)*6], return_dict, i)) for i in range(5)]\n",
    "    \n",
    "    for proc in procs:\n",
    "        proc.start()\n",
    "    for proc in procs:\n",
    "        proc.join()\n",
    "states = [elem for key in range(5) for elem in return_dict[key]]"
   ]
  },
  {
   "cell_type": "code",
   "execution_count": null,
   "metadata": {},
   "outputs": [],
   "source": []
  },
  {
   "cell_type": "markdown",
   "metadata": {},
   "source": [
    "# Running on simulator"
   ]
  },
  {
   "cell_type": "code",
   "execution_count": 7,
   "metadata": {},
   "outputs": [
    {
     "name": "stdout",
     "output_type": "stream",
     "text": [
      "Engine requested: 2q-qvm\n",
      "Running Bell-state measurements\n",
      "Done with iteration 29\n",
      "\n",
      "Running Computational measurements\n",
      "Creating folder product_peres_2q-qvm_2021-07-28_10_17_bits_10000_shots_trial_1\n",
      "Results saved in file product_peres_2q-qvm_2021-07-28_10_17_bits_10000_shots_trial_1/result_list_trial_1\n",
      "\n",
      "Completed.\n"
     ]
    }
   ],
   "source": [
    "engine='2q-qvm'\n",
    "try:\n",
    "    states = pp.run_peres(q1,q2,trial,engine,states)\n",
    "except Exception as e:\n",
    "    print(e)"
   ]
  },
  {
   "cell_type": "code",
   "execution_count": 8,
   "metadata": {},
   "outputs": [
    {
     "name": "stderr",
     "output_type": "stream",
     "text": [
      "/home/jovyan/Final Peres codes/peres_analysis.py:47: RuntimeWarning: divide by zero encountered in double_scalars\n",
      "  g = (2*counts_12 - counts_1 - counts_2) / (2 * np.sqrt(counts_1*counts_2))\n",
      "/home/jovyan/Final Peres codes/peres_analysis.py:50: RuntimeWarning: invalid value encountered in double_scalars\n",
      "  res['F'] = res['a']**2 + res['b']**2 + res['c']**2 - 2 * res['a'] * res['b'] * res['c']\n"
     ]
    }
   ],
   "source": [
    "states = pa.compute_gammas(states, '2q-qvm')"
   ]
  },
  {
   "cell_type": "markdown",
   "metadata": {},
   "source": [
    "# Running on noisy simulator"
   ]
  },
  {
   "cell_type": "code",
   "execution_count": 21,
   "metadata": {},
   "outputs": [
    {
     "name": "stdout",
     "output_type": "stream",
     "text": [
      "Engine requested: 2q-qvm-noisy\n",
      "Running Bell-state measurements\n",
      "Done with iteration 29\n",
      "\n",
      "Running Computational measurements\n",
      "Creating folder product_peres_2q-qvm-noisy_2021-07-28_10_17_bits_10000_shots_trial_1\n",
      "Results saved in file product_peres_2q-qvm-noisy_2021-07-28_10_17_bits_10000_shots_trial_1/result_list_trial_1\n",
      "\n",
      "Completed.\n"
     ]
    }
   ],
   "source": [
    "engine='2q-qvm-noisy'\n",
    "amp_damp = 0.3\n",
    "deph_damp = 1-good_bits[0]['Edge'].gates[0].fidelity\n",
    "pmeas_1 = [good_bits[0]['Qubit1'].gates[0].fidelity, good_bits[0]['Qubit1'].gates[0].fidelity]\n",
    "pmeas_2 = [good_bits[0]['Qubit2'].gates[0].fidelity, good_bits[0]['Qubit2'].gates[0].fidelity]\n",
    "t1=0\n",
    "t2=0\n",
    "\n",
    "def fit_F(x, m, c):\n",
    "    return m*x + c\n",
    "\n",
    "try:\n",
    "    states = ppnm.run_peres(q1, q2, trial, engine, states, amp_damp, deph_damp, pmeas_1, pmeas_2, t1,t2)\n",
    "except Exception as e:\n",
    "    print(e)\n",
    "    \n",
    "\n",
    "states = pa.compute_gammas(states, engine)"
   ]
  },
  {
   "cell_type": "code",
   "execution_count": 22,
   "metadata": {},
   "outputs": [
    {
     "name": "stdout",
     "output_type": "stream",
     "text": [
      "Started process 0.\n",
      "Started process 1.\n",
      "\n",
      "Started process 2.Started process 3.\n",
      "Started process 4.\n",
      "Finished process 2 in 800.6987335681915 secs.\n",
      "Finished process 1 in 811.364839553833 secs.\n",
      "Finished process 3 in 873.5950062274933 secs.\n",
      "Finished process 4 in 876.6855294704437 secs.\n",
      "Finished process 0 in 912.6560640335083 secs.\n"
     ]
    }
   ],
   "source": [
    "if __name__ == '__main__':\n",
    "    manager = mp.Manager()\n",
    "    return_dict = manager.dict()\n",
    "    \n",
    "    procs = [mp.Process(target=get_cfs_boot, args=(states[i*6:(i+1)*6],'2q-qvm-noisy', return_dict, i)) for i in range(5)]\n",
    "    \n",
    "    for proc in procs:\n",
    "        proc.start()\n",
    "    for proc in procs:\n",
    "        proc.join()\n",
    "states = [elem for key in range(4) for elem in return_dict[key]]"
   ]
  },
  {
   "cell_type": "markdown",
   "metadata": {},
   "source": [
    "# Running on Aspen-9"
   ]
  },
  {
   "cell_type": "code",
   "execution_count": 6,
   "metadata": {},
   "outputs": [
    {
     "name": "stdout",
     "output_type": "stream",
     "text": [
      "Engine requested: Aspen\n",
      "Running Bell-state measurements\n",
      "ERROR: It looks like you've tried to run a program against a QPU but do\n",
      "not currently have a reservation on one. To reserve time on Rigetti\n",
      "QPUs, use the command line interface, qcs, which comes pre-installed\n",
      "in your QMI. From within your QMI, type:\n",
      "\n",
      "    qcs reserve --lattice <lattice-name>\n",
      "\n",
      "For more information, please see the docs at\n",
      "https://www.rigetti.com/qcs/docs/reservations or reach out to Rigetti\n",
      "support at support@rigetti.com.\n"
     ]
    }
   ],
   "source": [
    "engine = 'Aspen'\n",
    "try:\n",
    "    states = pp.run_peres(q1, q2, trial, engine, states)\n",
    "except Exception as e:\n",
    "    print(e)"
   ]
  },
  {
   "cell_type": "code",
   "execution_count": 70,
   "metadata": {},
   "outputs": [],
   "source": [
    "def plot_gs(select_states, gamma, file_prefix):\n",
    "    fth = np.array([select_states[i]['Gammas_theory'][gamma] for i in range(len(select_states))])\n",
    "    errth = np.array([select_states[i]['cfs_theory'][gamma] for i in range(len(select_states))])\n",
    "\n",
    "    f2q = [select_states[i]['Gamma_2q-qvm'][gamma] for i in range(len(select_states))]\n",
    "\n",
    "#     fas = np.array([select_states[i]['Gamma_Aspen'][gamma] for i in range(len(select_states))])\n",
    "#     erras = np.array([select_states[i]['cfs_Aspen'][gamma] for i in range(len(select_states))])\n",
    "\n",
    "    fnq = np.array([select_states[i]['Gamma_2q-qvm-noisy'][gamma] for i in range(len(select_states))])\n",
    "    errnq = np.array([select_states[i]['cfs_2q-qvm-noisy'][gamma] for i in range(len(select_states))])\n",
    "\n",
    "\n",
    "    plt.rcParams.update({\n",
    "        \"text.usetex\": True,\n",
    "        \"font.family\": \"serif\",\n",
    "        \"font.sans-serif\": [\"Helvetica\"]})\n",
    "    fig = plt.figure(figsize=(15,5))\n",
    "    # plt.subplot(2,2,4)\n",
    "    plt.errorbar(range(len(fnq)), fnq, yerr=[fnq - errnq[:,0], errnq[:,1] - fnq], ls='', marker = 'D', capsize=6, color='maroon', alpha=1, lw=1, label='Noisy-QVM')\n",
    "#     plt.errorbar(range(len(fas)), fas, yerr=[fas - erras[:,0], erras[:,1] - fas], ls='', marker = 'o', capsize=6, color='darkgreen', alpha=1, lw=1, label='Aspen-9')\n",
    "    plt.errorbar(range(len(fth)), fth, yerr=[fth - errth[:,0], errth[:,1] - fth], ls='', marker = '', capsize=6, color='blue', alpha=1, lw=1, label='Statistical error-bar')\n",
    "    plt.plot(f2q, '*', color='blue', label='Ideal QVM')\n",
    "#     plt.plot(fas, 'o', color='darkgreen', label='Aspen-9')\n",
    "#     plt.errorbar(range(len(fnq)), fnq, yerr=[fth - errth[:,0], errth[:,1] - fth], ls='', marker = 'D', capsize=6, color='maroon', alpha=1, lw=1, label='Noisy-QVM')\n",
    "    plt.xticks(range(len(select_states)))\n",
    "    plt.axhline(y=-1, ls='dashed')\n",
    "    plt.axhline(y=1, ls='dashed')\n",
    "\n",
    "\n",
    "    x = np.arange(len(fnq))\n",
    "    if gamma == 'F':\n",
    "#         popt, pcov = cf(fit_F, x, fas)\n",
    "#         plt.plot(x, fit_F(x, *popt), ls='dashed', color='darkgreen', alpha=0.6, lw=4, label='Fit to Aspen-9 result')\n",
    "\n",
    "        popt, pcov = cf(fit_F, x, fnq)\n",
    "        plt.plot(x, fit_F(x, *popt), ls='dashed', color='maroon', alpha=1, label='Fit to Noisy-QVM result')\n",
    "\n",
    "#     plt.xlabel('Iterations', size=20)\n",
    "#     ylabs = {'a': '$\\gamma{12}$', 'b': '$\\gamma{23}$', 'c': '$\\gamma{31}$', 'F': '$F$'}\n",
    "#     plt.ylabel(ylabs[gamma], size=20)\n",
    "#     plt.xticks(size=16)\n",
    "#     if gamma == 'F':\n",
    "#         plt.yticks([-int(1), 0 , fit_F(0, *popt), 1], size=16)\n",
    "#     else:\n",
    "#         plt.yticks([-1,0,1],size=16)\n",
    "    \n",
    "#     lgd = plt.legend(fontsize = 15, bbox_to_anchor=(1,1))\n",
    "\n",
    "#     plt.savefig(f'{file_prefix}{gamma}.pdf', bbox_extra_artists=(lgd,), bbox_inches='tight')\n",
    "    \n",
    "#     plt.legend(fontsize = 20, bbox_to_anchor=(1,1))\n",
    "    print(popt)\n",
    "#     print(pcov)\n",
    "    # residual sum of squares\n",
    "    ss_res = np.sum((np.array(fnq) - fit_F(x, *popt)) ** 2)\n",
    "\n",
    "    # total sum of squares\n",
    "    ss_tot = np.sum((np.array(fnq) - np.mean(fth)) ** 2)\n",
    "\n",
    "    # r-squared\n",
    "    r2 = 1 - (ss_res / ss_tot)\n",
    "    print(r2)\n",
    "\n",
    "    plt.show()"
   ]
  },
  {
   "cell_type": "code",
   "execution_count": null,
   "metadata": {},
   "outputs": [],
   "source": [
    "plot_gs(states, 'F', '')"
   ]
  },
  {
   "cell_type": "code",
   "execution_count": 67,
   "metadata": {},
   "outputs": [],
   "source": [
    "def fit_F(x, w, v, u, t, s, r, q, p, o, l, n, m, c):\n",
    "    return w*x**12 + v*x**11 + u*x**10 + t*x**9 + s*x**8 + r*x**7 + q*x**6 + p*x**5 + o*x**4 + l*x**3 + n*x**2 + m*x + c"
   ]
  },
  {
   "cell_type": "code",
   "execution_count": 18,
   "metadata": {},
   "outputs": [
    {
     "ename": "NameError",
     "evalue": "name 'states' is not defined",
     "output_type": "error",
     "traceback": [
      "\u001b[0;31m---------------------------------------------------------------------------\u001b[0m",
      "\u001b[0;31mNameError\u001b[0m                                 Traceback (most recent call last)",
      "\u001b[0;32m<ipython-input-18-1fad23fdbdfe>\u001b[0m in \u001b[0;36m<module>\u001b[0;34m\u001b[0m\n\u001b[0;32m----> 1\u001b[0;31m \u001b[0mstates\u001b[0m\u001b[0;34m\u001b[0m\u001b[0;34m\u001b[0m\u001b[0m\n\u001b[0m",
      "\u001b[0;31mNameError\u001b[0m: name 'states' is not defined"
     ]
    }
   ],
   "source": [
    "states"
   ]
  },
  {
   "cell_type": "code",
   "execution_count": null,
   "metadata": {},
   "outputs": [],
   "source": []
  }
 ],
 "metadata": {
  "kernelspec": {
   "display_name": "Python 3",
   "language": "python",
   "name": "python3"
  },
  "language_info": {
   "codemirror_mode": {
    "name": "ipython",
    "version": 3
   },
   "file_extension": ".py",
   "mimetype": "text/x-python",
   "name": "python",
   "nbconvert_exporter": "python",
   "pygments_lexer": "ipython3",
   "version": "3.8.6"
  }
 },
 "nbformat": 4,
 "nbformat_minor": 4
}
