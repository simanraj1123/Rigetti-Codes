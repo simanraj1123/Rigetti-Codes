{
 "cells": [
  {
   "cell_type": "code",
   "execution_count": 2,
   "metadata": {},
   "outputs": [],
   "source": [
    "import numpy as np, matplotlib.pyplot as plt, random, time, datetime\n",
    "from functools import lru_cache\n",
    "from pyquil import Program, get_qc\n",
    "from pyquil.gates import *\n",
    "import os, sys\n",
    "from pyquil.quilatom import quil_sin, quil_cos, Parameter\n",
    "from pyquil.quilbase import DefGate\n",
    "from pyquil.latex import display, to_latex\n",
    "# import Peres_helpers as hf\n",
    "import pickle\n",
    "from collections import Counter\n",
    "from scipy.optimize import curve_fit as cf\n",
    "sys.path.append('binomial_cython')\n",
    "from binomial import binomial_dist\n",
    "\n",
    "def fit_F(x, m, c):\n",
    "    return m*x + c"
   ]
  },
  {
   "cell_type": "code",
   "execution_count": 3,
   "metadata": {},
   "outputs": [],
   "source": [
    "with open('results_aspen_theory_noisy_aspen9_errors.pkl', 'rb') as file:\n",
    "    select_states = pickle.load(file)"
   ]
  },
  {
   "cell_type": "code",
   "execution_count": 19,
   "metadata": {},
   "outputs": [],
   "source": [
    "file_prefix = f'results_aspen_theory_noisy_aspen9_errors_{datetime.date.today()}_'\n",
    "\n",
    "def plot_gs(select_states, gamma, file_prefix):\n",
    "    fth = np.array([select_states[i]['Gammas_theory'][gamma] for i in range(len(select_states))])\n",
    "    errth = np.array([select_states[i]['cfs_theory'][gamma] for i in range(len(select_states))])\n",
    "\n",
    "    f2q = [select_states[i]['Gamma_2q-qvm'][gamma] for i in range(len(select_states))]\n",
    "\n",
    "    fas = np.array([select_states[i]['Gamma_Aspen'][gamma] for i in range(len(select_states))])\n",
    "    erras = np.array([select_states[i]['cfs_Aspen'][gamma] for i in range(len(select_states))])\n",
    "\n",
    "    fnq = np.array([select_states[i]['Gamma_deph-qvm'][gamma] for i in range(len(select_states))])\n",
    "#     errnq = np.array([select_states[i]['cfs_deph-qvm'][gamma] for i in range(len(select_states))])\n",
    "\n",
    "\n",
    "    plt.rcParams.update({\n",
    "        \"text.usetex\": True,\n",
    "        \"font.family\": \"serif\",\n",
    "        \"font.sans-serif\": [\"Helvetica\"]})\n",
    "    fig = plt.figure(figsize=(15,5))\n",
    "    # plt.subplot(2,2,4)\n",
    "#     plt.errorbar(range(len(fnq)), fnq, yerr=[fnq - errnq[:,0], errnq[:,1] - fnq], ls='', marker = 'D', capsize=6, color='maroon', alpha=1, lw=1, label='Noisy-QVM')\n",
    "#     plt.errorbar(range(len(fas)), fas, yerr=[fas - erras[:,0], erras[:,1] - fas], ls='', marker = 'o', capsize=6, color='darkgreen', alpha=1, lw=1, label='Aspen-9')\n",
    "    plt.errorbar(range(len(fth)), fth, yerr=[fth - errth[:,0], errth[:,1] - fth], ls='', marker = '', capsize=6, color='blue', alpha=1, lw=1, label='Statistical error-bar')\n",
    "    plt.plot(f2q, '*', color='blue', label='Ideal QVM')\n",
    "    plt.plot(fas, 'o', color='darkgreen', label='Aspen-9')\n",
    "    plt.errorbar(range(len(fnq)), fnq, yerr=[fth - errth[:,0], errth[:,1] - fth], ls='', marker = 'D', capsize=6, color='maroon', alpha=1, lw=1, label='Noisy-QVM')\n",
    "    plt.xticks(range(len(select_states)))\n",
    "    plt.axhline(y=-1, ls='dashed')\n",
    "    plt.axhline(y=1, ls='dashed')\n",
    "\n",
    "\n",
    "    x = np.arange(len(fas))\n",
    "    if gamma == 'F':\n",
    "        popt, pcov = cf(fit_F, x, fas)\n",
    "        plt.plot(x, fit_F(x, *popt), ls='dashed', color='darkgreen', alpha=0.6, lw=4, label='Fit to Aspen-9 result')\n",
    "\n",
    "        popt, pcov = cf(fit_F, x, fnq)\n",
    "        plt.plot(x, fit_F(x, *popt), ls='dashed', color='maroon', alpha=1, label='Fit to Noisy-QVM result')\n",
    "\n",
    "    plt.xlabel('Iterations', size=20)\n",
    "    ylabs = {'a': '$\\gamma{12}$', 'b': '$\\gamma{23}$', 'c': '$\\gamma{31}$', 'F': '$F$'}\n",
    "    plt.ylabel(ylabs[gamma], size=20)\n",
    "    plt.xticks(size=16)\n",
    "    if gamma == 'F':\n",
    "        plt.yticks([-int(1), 0 , fit_F(0, *popt), 1], size=16)\n",
    "    else:\n",
    "        plt.yticks([-1,0,1],size=16)\n",
    "    \n",
    "    lgd = plt.legend(fontsize = 15, bbox_to_anchor=(1,1))\n",
    "\n",
    "    plt.savefig(f'{file_prefix}{gamma}.pdf', bbox_extra_artists=(lgd,), bbox_inches='tight')\n",
    "    \n",
    "#     plt.legend(fontsize = 20, bbox_to_anchor=(1,1))\n",
    "\n",
    "    plt.show()"
   ]
  },
  {
   "cell_type": "code",
   "execution_count": 24,
   "metadata": {},
   "outputs": [
    {
     "data": {
      "image/png": "[encoded data removed]",
      "text/plain": [
       "<Figure size 1080x360 with 1 Axes>"
      ]
     },
     "metadata": {
      "needs_background": "light"
     },
     "output_type": "display_data"
    }
   ],
   "source": [
    "plot_gs(select_states, 'c', file_prefix)"
   ]
  },
  {
   "cell_type": "code",
   "execution_count": 76,
   "metadata": {},
   "outputs": [],
   "source": [
    "qc = get_qc('Aspen-9', as_qvm=True)"
   ]
  },
  {
   "cell_type": "code",
   "execution_count": 88,
   "metadata": {},
   "outputs": [
    {
     "data": {
      "text/plain": [
       "[MeasureInfo(operator='MEASURE', qubit=12, target='_', duration=2000, fidelity=0.976),\n",
       " MeasureInfo(operator='MEASURE', qubit=12, target=None, duration=2000, fidelity=0.976),\n",
       " GateInfo(operator='RZ', parameters=['_'], arguments=[12], duration=0.01, fidelity=1.0),\n",
       " GateInfo(operator='RX', parameters=[0.0], arguments=[12], duration=50, fidelity=1.0),\n",
       " GateInfo(operator='RX', parameters=[3.141592653589793], arguments=[12], duration=50, fidelity=0.9987920996598936),\n",
       " GateInfo(operator='RX', parameters=[-3.141592653589793], arguments=[12], duration=50, fidelity=0.9987920996598936),\n",
       " GateInfo(operator='RX', parameters=[1.5707963267948966], arguments=[12], duration=50, fidelity=0.9987920996598936),\n",
       " GateInfo(operator='RX', parameters=[-1.5707963267948966], arguments=[12], duration=50, fidelity=0.9987920996598936)]"
      ]
     },
     "execution_count": 88,
     "metadata": {},
     "output_type": "execute_result"
    }
   ],
   "source": [
    "qc.device.get_isa().qubits[10].gates"
   ]
  },
  {
   "cell_type": "code",
   "execution_count": 91,
   "metadata": {},
   "outputs": [
    {
     "data": {
      "text/plain": [
       "[MeasureInfo(operator='MEASURE', qubit=25, target='_', duration=2000, fidelity=0.98),\n",
       " MeasureInfo(operator='MEASURE', qubit=25, target=None, duration=2000, fidelity=0.98),\n",
       " GateInfo(operator='RZ', parameters=['_'], arguments=[25], duration=0.01, fidelity=1.0),\n",
       " GateInfo(operator='RX', parameters=[0.0], arguments=[25], duration=50, fidelity=1.0),\n",
       " GateInfo(operator='RX', parameters=[3.141592653589793], arguments=[25], duration=50, fidelity=0.9991884500270085),\n",
       " GateInfo(operator='RX', parameters=[-3.141592653589793], arguments=[25], duration=50, fidelity=0.9991884500270085),\n",
       " GateInfo(operator='RX', parameters=[1.5707963267948966], arguments=[25], duration=50, fidelity=0.9991884500270085),\n",
       " GateInfo(operator='RX', parameters=[-1.5707963267948966], arguments=[25], duration=50, fidelity=0.9991884500270085)]"
      ]
     },
     "execution_count": 91,
     "metadata": {},
     "output_type": "execute_result"
    }
   ],
   "source": [
    "qc.device.get_isa().qubits[21].gates"
   ]
  },
  {
   "cell_type": "code",
   "execution_count": 108,
   "metadata": {},
   "outputs": [
    {
     "data": {
      "text/plain": [
       "[GateInfo(operator='CZ', parameters=[], arguments=['_', '_'], duration=200, fidelity=0.9832465734702871),\n",
       " GateInfo(operator='XY', parameters=['theta'], arguments=['_', '_'], duration=200, fidelity=0.9691462506471074)]"
      ]
     },
     "execution_count": 108,
     "metadata": {},
     "output_type": "execute_result"
    }
   ],
   "source": [
    "qc.device.get_isa().edges[15].gates"
   ]
  },
  {
   "cell_type": "code",
   "execution_count": 109,
   "metadata": {},
   "outputs": [
    {
     "data": {
      "text/plain": [
       "Qubit(id=12, type=None, dead=False, gates=[MeasureInfo(operator='MEASURE', qubit=12, target='_', duration=2000, fidelity=0.976), MeasureInfo(operator='MEASURE', qubit=12, target=None, duration=2000, fidelity=0.976), GateInfo(operator='RZ', parameters=['_'], arguments=[12], duration=0.01, fidelity=1.0), GateInfo(operator='RX', parameters=[0.0], arguments=[12], duration=50, fidelity=1.0), GateInfo(operator='RX', parameters=[3.141592653589793], arguments=[12], duration=50, fidelity=0.9987920996598936), GateInfo(operator='RX', parameters=[-3.141592653589793], arguments=[12], duration=50, fidelity=0.9987920996598936), GateInfo(operator='RX', parameters=[1.5707963267948966], arguments=[12], duration=50, fidelity=0.9987920996598936), GateInfo(operator='RX', parameters=[-1.5707963267948966], arguments=[12], duration=50, fidelity=0.9987920996598936)])"
      ]
     },
     "execution_count": 109,
     "metadata": {},
     "output_type": "execute_result"
    }
   ],
   "source": [
    "qc.device.get_isa().qubits[10]"
   ]
  },
  {
   "cell_type": "code",
   "execution_count": 113,
   "metadata": {},
   "outputs": [
    {
     "data": {
      "text/plain": [
       "array([1.00000000e-06, 3.16227766e-06, 1.00000000e-05])"
      ]
     },
     "execution_count": 113,
     "metadata": {},
     "output_type": "execute_result"
    }
   ],
   "source": [
    "t1s = np.logspace(-6, -5, num=3)\n",
    "thetas = np.linspace(-np.pi, np.pi, num=20)\n",
    "# t1s * 1e6 # us\n",
    "t1s"
   ]
  },
  {
   "cell_type": "code",
   "execution_count": 114,
   "metadata": {},
   "outputs": [
    {
     "data": {
      "text/plain": [
       "QuantumComputer[name=\"Aspen-9-qvm\"]"
      ]
     },
     "execution_count": 114,
     "metadata": {},
     "output_type": "execute_result"
    }
   ],
   "source": [
    "qc"
   ]
  },
  {
   "cell_type": "code",
   "execution_count": 183,
   "metadata": {},
   "outputs": [
    {
     "ename": "NameError",
     "evalue": "name 'qvm' is not defined",
     "output_type": "error",
     "traceback": [
      "\u001b[0;31m---------------------------------------------------------------------------\u001b[0m",
      "\u001b[0;31mNameError\u001b[0m                                 Traceback (most recent call last)",
      "\u001b[0;32m<ipython-input-183-1d438473e02a>\u001b[0m in \u001b[0;36m<module>\u001b[0;34m\u001b[0m\n\u001b[0;32m----> 1\u001b[0;31m \u001b[0mqc\u001b[0m \u001b[0;34m=\u001b[0m \u001b[0mqvm\u001b[0m\u001b[0;34m(\u001b[0m\u001b[0;34m'1q-qvm'\u001b[0m\u001b[0;34m)\u001b[0m\u001b[0;34m\u001b[0m\u001b[0;34m\u001b[0m\u001b[0m\n\u001b[0m",
      "\u001b[0;31mNameError\u001b[0m: name 'qvm' is not defined"
     ]
    }
   ],
   "source": [
    "qc = qvm('1q-qvm')"
   ]
  },
  {
   "cell_type": "code",
   "execution_count": 378,
   "metadata": {},
   "outputs": [],
   "source": [
    "qc = get_qc('2q-qvm')"
   ]
  },
  {
   "cell_type": "code",
   "execution_count": 143,
   "metadata": {},
   "outputs": [],
   "source": [
    "qc.qam.gate_noise = [0.2,0,0]"
   ]
  },
  {
   "cell_type": "code",
   "execution_count": 144,
   "metadata": {},
   "outputs": [
    {
     "data": {
      "text/plain": [
       "QuantumComputer[name=\"2q-noisy-qvm\"]"
      ]
     },
     "execution_count": 144,
     "metadata": {},
     "output_type": "execute_result"
    }
   ],
   "source": [
    "qc"
   ]
  },
  {
   "cell_type": "code",
   "execution_count": 145,
   "metadata": {},
   "outputs": [
    {
     "data": {
      "text/plain": [
       "[0.2, 0, 0]"
      ]
     },
     "execution_count": 145,
     "metadata": {},
     "output_type": "execute_result"
    }
   ],
   "source": [
    "qc.qam.gate_noise"
   ]
  },
  {
   "cell_type": "code",
   "execution_count": 148,
   "metadata": {},
   "outputs": [
    {
     "data": {
      "text/plain": [
       "\u001b[0;31mSignature:\u001b[0m\n",
       "\u001b[0mpyquil\u001b[0m\u001b[0;34m.\u001b[0m\u001b[0mnoise\u001b[0m\u001b[0;34m.\u001b[0m\u001b[0mget_noisy_gate\u001b[0m\u001b[0;34m(\u001b[0m\u001b[0;34m\u001b[0m\n",
       "\u001b[0;34m\u001b[0m    \u001b[0mgate_name\u001b[0m\u001b[0;34m:\u001b[0m \u001b[0mstr\u001b[0m\u001b[0;34m,\u001b[0m\u001b[0;34m\u001b[0m\n",
       "\u001b[0;34m\u001b[0m    \u001b[0mparams\u001b[0m\u001b[0;34m:\u001b[0m \u001b[0mIterable\u001b[0m\u001b[0;34m[\u001b[0m\u001b[0mUnion\u001b[0m\u001b[0;34m[\u001b[0m\u001b[0mForwardRef\u001b[0m\u001b[0;34m(\u001b[0m\u001b[0;34m'Expression'\u001b[0m\u001b[0;34m)\u001b[0m\u001b[0;34m,\u001b[0m \u001b[0mForwardRef\u001b[0m\u001b[0;34m(\u001b[0m\u001b[0;34m'MemoryReference'\u001b[0m\u001b[0;34m)\u001b[0m\u001b[0;34m,\u001b[0m \u001b[0mnumpy\u001b[0m\u001b[0;34m.\u001b[0m\u001b[0mint64\u001b[0m\u001b[0;34m,\u001b[0m \u001b[0mint\u001b[0m\u001b[0;34m,\u001b[0m \u001b[0mfloat\u001b[0m\u001b[0;34m,\u001b[0m \u001b[0mcomplex\u001b[0m\u001b[0;34m]\u001b[0m\u001b[0;34m]\u001b[0m\u001b[0;34m,\u001b[0m\u001b[0;34m\u001b[0m\n",
       "\u001b[0;34m\u001b[0m\u001b[0;34m)\u001b[0m \u001b[0;34m->\u001b[0m \u001b[0mTuple\u001b[0m\u001b[0;34m[\u001b[0m\u001b[0mnumpy\u001b[0m\u001b[0;34m.\u001b[0m\u001b[0mndarray\u001b[0m\u001b[0;34m,\u001b[0m \u001b[0mstr\u001b[0m\u001b[0;34m]\u001b[0m\u001b[0;34m\u001b[0m\u001b[0;34m\u001b[0m\u001b[0m\n",
       "\u001b[0;31mDocstring:\u001b[0m\n",
       "Look up the numerical gate representation and a proposed 'noisy' name.\n",
       "\n",
       ":param gate_name: The Quil gate name\n",
       ":param params: The gate parameters.\n",
       ":return: A tuple (matrix, noisy_name) with the representation of the ideal gate matrix\n",
       "    and a proposed name for the noisy version.\n",
       "\u001b[0;31mFile:\u001b[0m      /opt/conda/lib/python3.8/site-packages/pyquil/noise.py\n",
       "\u001b[0;31mType:\u001b[0m      function\n"
      ]
     },
     "metadata": {},
     "output_type": "display_data"
    }
   ],
   "source": [
    "?pyquil.noise.get_noisy_gate"
   ]
  },
  {
   "cell_type": "code",
   "execution_count": 178,
   "metadata": {},
   "outputs": [
    {
     "data": {
      "text/plain": [
       "(array([[ 0.70710678+0.j        , -0.        -0.70710678j],\n",
       "        [-0.        -0.70710678j,  0.70710678+0.j        ]]),\n",
       " 'NOISY-RX-PLUS-90')"
      ]
     },
     "execution_count": 178,
     "metadata": {},
     "output_type": "execute_result"
    }
   ],
   "source": [
    "pyquil.noise.get_noisy_gate(gate_name='RX', params=[np.pi/2])"
   ]
  },
  {
   "cell_type": "code",
   "execution_count": 227,
   "metadata": {},
   "outputs": [],
   "source": [
    "circ = Program(I(0), RX(np.pi/4, 12))"
   ]
  },
  {
   "cell_type": "code",
   "execution_count": 228,
   "metadata": {},
   "outputs": [],
   "source": [
    "noise_model = pyquil.noise._decoherence_noise_model([RX(np.pi/2, 12)], T1=3e-05, T2=3e-05, gate_time_1q=5e-08, gate_time_2q=1.5e-07, ro_fidelity=0.976)"
   ]
  },
  {
   "cell_type": "code",
   "execution_count": 196,
   "metadata": {},
   "outputs": [
    {
     "data": {
      "text/plain": [
       "<Gate RX(pi) 0>"
      ]
     },
     "execution_count": 196,
     "metadata": {},
     "output_type": "execute_result"
    }
   ],
   "source": [
    "RX(np.pi, 0)"
   ]
  },
  {
   "cell_type": "code",
   "execution_count": 199,
   "metadata": {},
   "outputs": [
    {
     "data": {
      "text/plain": [
       "\u001b[0;31mSignature:\u001b[0m\n",
       "\u001b[0mpyquil\u001b[0m\u001b[0;34m.\u001b[0m\u001b[0mnoise\u001b[0m\u001b[0;34m.\u001b[0m\u001b[0m_decoherence_noise_model\u001b[0m\u001b[0;34m(\u001b[0m\u001b[0;34m\u001b[0m\n",
       "\u001b[0;34m\u001b[0m    \u001b[0mgates\u001b[0m\u001b[0;34m:\u001b[0m \u001b[0mSequence\u001b[0m\u001b[0;34m[\u001b[0m\u001b[0mpyquil\u001b[0m\u001b[0;34m.\u001b[0m\u001b[0mquilbase\u001b[0m\u001b[0;34m.\u001b[0m\u001b[0mGate\u001b[0m\u001b[0;34m]\u001b[0m\u001b[0;34m,\u001b[0m\u001b[0;34m\u001b[0m\n",
       "\u001b[0;34m\u001b[0m    \u001b[0mT1\u001b[0m\u001b[0;34m:\u001b[0m \u001b[0mUnion\u001b[0m\u001b[0;34m[\u001b[0m\u001b[0mDict\u001b[0m\u001b[0;34m[\u001b[0m\u001b[0mint\u001b[0m\u001b[0;34m,\u001b[0m \u001b[0mfloat\u001b[0m\u001b[0;34m]\u001b[0m\u001b[0;34m,\u001b[0m \u001b[0mfloat\u001b[0m\u001b[0;34m]\u001b[0m \u001b[0;34m=\u001b[0m \u001b[0;36m3e-05\u001b[0m\u001b[0;34m,\u001b[0m\u001b[0;34m\u001b[0m\n",
       "\u001b[0;34m\u001b[0m    \u001b[0mT2\u001b[0m\u001b[0;34m:\u001b[0m \u001b[0mUnion\u001b[0m\u001b[0;34m[\u001b[0m\u001b[0mDict\u001b[0m\u001b[0;34m[\u001b[0m\u001b[0mint\u001b[0m\u001b[0;34m,\u001b[0m \u001b[0mfloat\u001b[0m\u001b[0;34m]\u001b[0m\u001b[0;34m,\u001b[0m \u001b[0mfloat\u001b[0m\u001b[0;34m]\u001b[0m \u001b[0;34m=\u001b[0m \u001b[0;36m3e-05\u001b[0m\u001b[0;34m,\u001b[0m\u001b[0;34m\u001b[0m\n",
       "\u001b[0;34m\u001b[0m    \u001b[0mgate_time_1q\u001b[0m\u001b[0;34m:\u001b[0m \u001b[0mfloat\u001b[0m \u001b[0;34m=\u001b[0m \u001b[0;36m5e-08\u001b[0m\u001b[0;34m,\u001b[0m\u001b[0;34m\u001b[0m\n",
       "\u001b[0;34m\u001b[0m    \u001b[0mgate_time_2q\u001b[0m\u001b[0;34m:\u001b[0m \u001b[0mfloat\u001b[0m \u001b[0;34m=\u001b[0m \u001b[0;36m1.5e-07\u001b[0m\u001b[0;34m,\u001b[0m\u001b[0;34m\u001b[0m\n",
       "\u001b[0;34m\u001b[0m    \u001b[0mro_fidelity\u001b[0m\u001b[0;34m:\u001b[0m \u001b[0mUnion\u001b[0m\u001b[0;34m[\u001b[0m\u001b[0mDict\u001b[0m\u001b[0;34m[\u001b[0m\u001b[0mint\u001b[0m\u001b[0;34m,\u001b[0m \u001b[0mfloat\u001b[0m\u001b[0;34m]\u001b[0m\u001b[0;34m,\u001b[0m \u001b[0mfloat\u001b[0m\u001b[0;34m]\u001b[0m \u001b[0;34m=\u001b[0m \u001b[0;36m0.95\u001b[0m\u001b[0;34m,\u001b[0m\u001b[0;34m\u001b[0m\n",
       "\u001b[0;34m\u001b[0m\u001b[0;34m)\u001b[0m \u001b[0;34m->\u001b[0m \u001b[0mpyquil\u001b[0m\u001b[0;34m.\u001b[0m\u001b[0mnoise\u001b[0m\u001b[0;34m.\u001b[0m\u001b[0mNoiseModel\u001b[0m\u001b[0;34m\u001b[0m\u001b[0;34m\u001b[0m\u001b[0m\n",
       "\u001b[0;31mDocstring:\u001b[0m\n",
       "The default noise parameters\n",
       "\n",
       "- T1 = 30 us\n",
       "- T2 = 30 us\n",
       "- 1q gate time = 50 ns\n",
       "- 2q gate time = 150 ns\n",
       "\n",
       "are currently typical for near-term devices.\n",
       "\n",
       "This function will define new gates and add Kraus noise to these gates. It will translate\n",
       "the input program to use the noisy version of the gates.\n",
       "\n",
       ":param gates: The gates to provide the noise model for.\n",
       ":param T1: The T1 amplitude damping time either globally or in a\n",
       "    dictionary indexed by qubit id. By default, this is 30 us.\n",
       ":param T2: The T2 dephasing time either globally or in a\n",
       "    dictionary indexed by qubit id. By default, this is also 30 us.\n",
       ":param gate_time_1q: The duration of the one-qubit gates, namely RX(+pi/2) and RX(-pi/2).\n",
       "    By default, this is 50 ns.\n",
       ":param gate_time_2q: The duration of the two-qubit gates, namely CZ.\n",
       "    By default, this is 150 ns.\n",
       ":param ro_fidelity: The readout assignment fidelity\n",
       "    :math:`F = (p(0|0) + p(1|1))/2` either globally or in a dictionary indexed by qubit id.\n",
       ":return: A NoiseModel with the appropriate Kraus operators defined.\n",
       "\u001b[0;31mFile:\u001b[0m      /opt/conda/lib/python3.8/site-packages/pyquil/noise.py\n",
       "\u001b[0;31mType:\u001b[0m      function\n"
      ]
     },
     "metadata": {},
     "output_type": "display_data"
    }
   ],
   "source": [
    "?pyquil.noise._decoherence_noise_model"
   ]
  },
  {
   "cell_type": "code",
   "execution_count": 221,
   "metadata": {},
   "outputs": [
    {
     "name": "stdout",
     "output_type": "stream",
     "text": [
      "I 0\n",
      "RX(pi/4) 12\n",
      "\n"
     ]
    }
   ],
   "source": [
    "print(circ)"
   ]
  },
  {
   "cell_type": "code",
   "execution_count": 1,
   "metadata": {},
   "outputs": [
    {
     "ename": "NameError",
     "evalue": "name 'get_qc' is not defined",
     "output_type": "error",
     "traceback": [
      "\u001b[0;31m---------------------------------------------------------------------------\u001b[0m",
      "\u001b[0;31mNameError\u001b[0m                                 Traceback (most recent call last)",
      "\u001b[0;32m<ipython-input-1-7ffd78ecf74a>\u001b[0m in \u001b[0;36m<module>\u001b[0;34m\u001b[0m\n\u001b[0;32m----> 1\u001b[0;31m \u001b[0mqc\u001b[0m \u001b[0;34m=\u001b[0m \u001b[0mget_qc\u001b[0m\u001b[0;34m(\u001b[0m\u001b[0;34m'aspen-9'\u001b[0m\u001b[0;34m,\u001b[0m \u001b[0mnoisy\u001b[0m\u001b[0;34m=\u001b[0m\u001b[0;32mTrue\u001b[0m\u001b[0;34m)\u001b[0m\u001b[0;34m\u001b[0m\u001b[0;34m\u001b[0m\u001b[0m\n\u001b[0m",
      "\u001b[0;31mNameError\u001b[0m: name 'get_qc' is not defined"
     ]
    }
   ],
   "source": [
    "qc = get_qc('aspen-9', noisy=True)"
   ]
  },
  {
   "cell_type": "code",
   "execution_count": 234,
   "metadata": {},
   "outputs": [],
   "source": [
    "exe = qc.compile(circ)"
   ]
  },
  {
   "cell_type": "code",
   "execution_count": 235,
   "metadata": {},
   "outputs": [
    {
     "data": {
      "text/plain": [
       "'RZ(pi/2) 0\\nRX(pi/2) 0\\nRZ(pi/4) 0\\nRX(-pi/2) 0\\nRZ(-pi/2) 0\\n'"
      ]
     },
     "execution_count": 235,
     "metadata": {},
     "output_type": "execute_result"
    }
   ],
   "source": [
    "exe.program"
   ]
  },
  {
   "cell_type": "code",
   "execution_count": 229,
   "metadata": {},
   "outputs": [
    {
     "data": {
      "text/plain": [
       "NoiseModel(gates=[KrausModel(gate='RX', params=(1.5707963267948966,), targets=(12,), kraus_ops=[array([[0.70695951+0.j        , 0.        -0.70695951j],\n",
       "       [0.        -0.70637063j, 0.70637063+0.j        ]]), array([[ 0.01443075+0.j        ,  0.        -0.01443075j],\n",
       "       [ 0.        +0.01441873j, -0.01441873+0.j        ]]), array([[0.        -0.02884948j, 0.02884948+0.j        ],\n",
       "       [0.        +0.j        , 0.        +0.j        ]]), array([[ 0.        +0.00058889j, -0.00058889+0.j        ],\n",
       "       [ 0.        +0.j        ,  0.        +0.j        ]])], fidelity=1.0)], assignment_probs={12: array([[0.976, 0.024],\n",
       "       [0.024, 0.976]])})"
      ]
     },
     "execution_count": 229,
     "metadata": {},
     "output_type": "execute_result"
    }
   ],
   "source": [
    "noise_model"
   ]
  },
  {
   "cell_type": "code",
   "execution_count": 232,
   "metadata": {},
   "outputs": [
    {
     "data": {
      "text/plain": [
       "\u001b[0;31mType:\u001b[0m           QuantumComputer\n",
       "\u001b[0;31mString form:\u001b[0m    2q-noisy-qvm\n",
       "\u001b[0;31mFile:\u001b[0m           /opt/conda/lib/python3.8/site-packages/pyquil/api/_quantum_computer.py\n",
       "\u001b[0;31mDocstring:\u001b[0m      <no docstring>\n",
       "\u001b[0;31mInit docstring:\u001b[0m\n",
       "A quantum computer for running quantum programs.\n",
       "\n",
       "A quantum computer has various characteristics like supported gates, qubits, qubit\n",
       "topologies, gate fidelities, and more. A quantum computer also has the ability to\n",
       "run quantum programs.\n",
       "\n",
       "A quantum computer can be a real Rigetti QPU that uses superconducting transmon\n",
       "qubits to run quantum programs, or it can be an emulator like the Rigetti QVM with\n",
       "noise models and mimicked topologies.\n",
       "\n",
       ":param name: A string identifying this particular quantum computer.\n",
       ":param qam: A quantum abstract machine which handles executing quantum programs. This\n",
       "    dispatches to a QVM or QPU.\n",
       ":param device: A collection of connected qubits and associated specs and topology.\n",
       ":param symmetrize_readout: Whether to apply readout error symmetrization. See\n",
       "    :py:func:`run_symmetrized_readout` for a complete description.\n"
      ]
     },
     "metadata": {},
     "output_type": "display_data"
    }
   ],
   "source": [
    "?qc"
   ]
  },
  {
   "cell_type": "code",
   "execution_count": 380,
   "metadata": {},
   "outputs": [],
   "source": [
    "circ = Program(I(12), RX(np.pi/7, 12), CZ(12, 25))\n",
    "circ = qc.compiler.quil_to_native_quil(circ)\n",
    "circ = add_decoherence_noise([RX(np.pi, 12), CZ(12, 25)], ro_fidelity=0.976)"
   ]
  },
  {
   "cell_type": "code",
   "execution_count": 381,
   "metadata": {},
   "outputs": [],
   "source": [
    "from pyquil.noise import add_decoherence_noise"
   ]
  },
  {
   "cell_type": "code",
   "execution_count": 382,
   "metadata": {},
   "outputs": [
    {
     "name": "stdout",
     "output_type": "stream",
     "text": [
      "DEFGATE NOISY-CZ:\n",
      "    1, 0, 0, 0\n",
      "    0, 1, 0, 0\n",
      "    0, 0, 1, 0\n",
      "    0, 0, 0, -1\n",
      "\n",
      "DEFGATE NOISY-RX-PLUS-180:\n",
      "    0.0, -i\n",
      "    -i, 0.0\n",
      "\n",
      "PRAGMA ADD-KRAUS NOISY-CZ 12 25 \"(0.9987515611987302 0.0 0.0 0.0 0.0 0.9962578007950712 0.0 0.0 0.0 0.0 0.9962578007950712 0.0 0.0 0.0 0.0 -0.9937702670059103)\"\n",
      "PRAGMA ADD-KRAUS NOISY-CZ 12 25 \"(0.03531119088659347 0.0 0.0 0.0 0.0 -0.03522302316494972 0.0 0.0 0.0 0.0 0.03522302316494972 0.0 0.0 0.0 0.0 0.03513507558731541)\"\n",
      "PRAGMA ADD-KRAUS NOISY-CZ 12 25 \"(0.0 0.0705342140515426 0.0 0.0 0.0 0.0 0.0 0.0 0.0 0.0 0.0 -0.07035809875226455 0.0 0.0 0.0 0.0)\"\n",
      "PRAGMA ADD-KRAUS NOISY-CZ 12 25 \"(0.0 -0.0024937604036588622 0.0 0.0 0.0 0.0 0.0 0.0 0.0 0.0 0.0 0.0024875337891608652 0.0 0.0 0.0 0.0)\"\n",
      "PRAGMA ADD-KRAUS NOISY-CZ 12 25 \"(0.03531119088659347 0.0 0.0 0.0 0.0 0.03522302316494972 0.0 0.0 0.0 0.0 -0.03522302316494972 0.0 0.0 0.0 0.0 0.03513507558731541)\"\n",
      "PRAGMA ADD-KRAUS NOISY-CZ 12 25 \"(0.0012484388012699579 0.0 0.0 0.0 0.0 -0.001245321602388925 0.0 0.0 0.0 0.0 -0.001245321602388925 0.0 0.0 0.0 0.0 -0.0012422121867719609)\"\n",
      "PRAGMA ADD-KRAUS NOISY-CZ 12 25 \"(0.0 0.0024937604036588622 0.0 0.0 0.0 0.0 0.0 0.0 0.0 0.0 0.0 0.0024875337891608652 0.0 0.0 0.0 0.0)\"\n",
      "PRAGMA ADD-KRAUS NOISY-CZ 12 25 \"(0.0 -8.816772164374607e-05 0.0 0.0 0.0 0.0 0.0 0.0 0.0 0.0 0.0 -8.794757763430682e-05 0.0 0.0 0.0 0.0)\"\n",
      "PRAGMA ADD-KRAUS NOISY-CZ 12 25 \"(0.0 0.0 0.0705342140515426 0.0 0.0 0.0 0.0 -0.07035809875226455 0.0 0.0 0.0 0.0 0.0 0.0 0.0 0.0)\"\n",
      "PRAGMA ADD-KRAUS NOISY-CZ 12 25 \"(0.0 0.0 0.0024937604036588622 0.0 0.0 0.0 0.0 0.0024875337891608652 0.0 0.0 0.0 0.0 0.0 0.0 0.0 0.0)\"\n",
      "PRAGMA ADD-KRAUS NOISY-CZ 12 25 \"(0.0 0.0 0.0 -0.004981294192819685 0.0 0.0 0.0 0.0 0.0 0.0 0.0 0.0 0.0 0.0 0.0 0.0)\"\n",
      "PRAGMA ADD-KRAUS NOISY-CZ 12 25 \"(0.0 0.0 0.0 0.00017611529927805141 0.0 0.0 0.0 0.0 0.0 0.0 0.0 0.0 0.0 0.0 0.0 0.0)\"\n",
      "PRAGMA ADD-KRAUS NOISY-CZ 12 25 \"(0.0 0.0 -0.0024937604036588622 0.0 0.0 0.0 0.0 0.0024875337891608652 0.0 0.0 0.0 0.0 0.0 0.0 0.0 0.0)\"\n",
      "PRAGMA ADD-KRAUS NOISY-CZ 12 25 \"(0.0 0.0 -8.816772164374607e-05 0.0 0.0 0.0 0.0 -8.794757763430682e-05 0.0 0.0 0.0 0.0 0.0 0.0 0.0 0.0)\"\n",
      "PRAGMA ADD-KRAUS NOISY-CZ 12 25 \"(0.0 0.0 0.0 0.00017611529927805141 0.0 0.0 0.0 0.0 0.0 0.0 0.0 0.0 0.0 0.0 0.0 0.0)\"\n",
      "PRAGMA ADD-KRAUS NOISY-CZ 12 25 \"(0.0 0.0 0.0 -6.226614497996659e-06 0.0 0.0 0.0 0.0 0.0 0.0 0.0 0.0 0.0 0.0 0.0 0.0)\"\n",
      "PRAGMA ADD-KRAUS NOISY-RX-PLUS-180 12 \"(0.0 -0.9997917317602847i -0.9989589190373143i 0.0)\"\n",
      "PRAGMA ADD-KRAUS NOISY-RX-PLUS-180 12 \"(0.0 -0.020408162675038706i 0.020391162957009133i 0.0)\"\n",
      "PRAGMA ADD-KRAUS NOISY-RX-PLUS-180 12 \"(-0.04079932563204626i 0.0 0.0 0.0)\"\n",
      "PRAGMA ADD-KRAUS NOISY-RX-PLUS-180 12 \"(0.000832812722970502i 0.0 0.0 0.0)\"\n",
      "PRAGMA READOUT-POVM 25 \"(0.976 0.02400000000000002 0.02400000000000002 0.976)\"\n",
      "PRAGMA READOUT-POVM 12 \"(0.976 0.02400000000000002 0.02400000000000002 0.976)\"\n",
      "NOISY-RX-PLUS-180 12\n",
      "NOISY-CZ 12 25\n",
      "\n"
     ]
    }
   ],
   "source": [
    "print(circ)"
   ]
  },
  {
   "cell_type": "code",
   "execution_count": 279,
   "metadata": {},
   "outputs": [],
   "source": [
    "exe = qc.compile(circ)"
   ]
  },
  {
   "cell_type": "code",
   "execution_count": 280,
   "metadata": {},
   "outputs": [
    {
     "name": "stdout",
     "output_type": "stream",
     "text": [
      "PRAGMA ADD-KRAUS NOISY-CZ 0 1 \"(0.9987515611987302 0.0 0.0 0.0 0.0 0.9962578007950712 0.0 0.0 0.0 0.0 0.9962578007950712 0.0 0.0 0.0 0.0 -0.9937702670059103)\"\n",
      "PRAGMA ADD-KRAUS NOISY-CZ 0 1 \"(0.03531119088659347 0.0 0.0 0.0 0.0 -0.03522302316494972 0.0 0.0 0.0 0.0 0.03522302316494972 0.0 0.0 0.0 0.0 0.03513507558731541)\"\n",
      "PRAGMA ADD-KRAUS NOISY-CZ 0 1 \"(0.0 0.0705342140515426 0.0 0.0 0.0 0.0 0.0 0.0 0.0 0.0 0.0 -0.07035809875226455 0.0 0.0 0.0 0.0)\"\n",
      "PRAGMA ADD-KRAUS NOISY-CZ 0 1 \"(0.0 -0.0024937604036588622 0.0 0.0 0.0 0.0 0.0 0.0 0.0 0.0 0.0 0.0024875337891608652 0.0 0.0 0.0 0.0)\"\n",
      "PRAGMA ADD-KRAUS NOISY-CZ 0 1 \"(0.03531119088659347 0.0 0.0 0.0 0.0 0.03522302316494972 0.0 0.0 0.0 0.0 -0.03522302316494972 0.0 0.0 0.0 0.0 0.03513507558731541)\"\n",
      "PRAGMA ADD-KRAUS NOISY-CZ 0 1 \"(0.0012484388012699579 0.0 0.0 0.0 0.0 -0.001245321602388925 0.0 0.0 0.0 0.0 -0.001245321602388925 0.0 0.0 0.0 0.0 -0.0012422121867719609)\"\n",
      "PRAGMA ADD-KRAUS NOISY-CZ 0 1 \"(0.0 0.0024937604036588622 0.0 0.0 0.0 0.0 0.0 0.0 0.0 0.0 0.0 0.0024875337891608652 0.0 0.0 0.0 0.0)\"\n",
      "PRAGMA ADD-KRAUS NOISY-CZ 0 1 \"(0.0 -0.00008816772164374606 0.0 0.0 0.0 0.0 0.0 0.0 0.0 0.0 0.0 -0.00008794757763430683 0.0 0.0 0.0 0.0)\"\n",
      "PRAGMA ADD-KRAUS NOISY-CZ 0 1 \"(0.0 0.0 0.0705342140515426 0.0 0.0 0.0 0.0 -0.07035809875226455 0.0 0.0 0.0 0.0 0.0 0.0 0.0 0.0)\"\n",
      "PRAGMA ADD-KRAUS NOISY-CZ 0 1 \"(0.0 0.0 0.0024937604036588622 0.0 0.0 0.0 0.0 0.0024875337891608652 0.0 0.0 0.0 0.0 0.0 0.0 0.0 0.0)\"\n",
      "PRAGMA ADD-KRAUS NOISY-CZ 0 1 \"(0.0 0.0 0.0 -0.004981294192819685 0.0 0.0 0.0 0.0 0.0 0.0 0.0 0.0 0.0 0.0 0.0 0.0)\"\n",
      "PRAGMA ADD-KRAUS NOISY-CZ 0 1 \"(0.0 0.0 0.0 0.00017611529927805141 0.0 0.0 0.0 0.0 0.0 0.0 0.0 0.0 0.0 0.0 0.0 0.0)\"\n",
      "PRAGMA ADD-KRAUS NOISY-CZ 0 1 \"(0.0 0.0 -0.0024937604036588622 0.0 0.0 0.0 0.0 0.0024875337891608652 0.0 0.0 0.0 0.0 0.0 0.0 0.0 0.0)\"\n",
      "PRAGMA ADD-KRAUS NOISY-CZ 0 1 \"(0.0 0.0 -0.00008816772164374606 0.0 0.0 0.0 0.0 -0.00008794757763430683 0.0 0.0 0.0 0.0 0.0 0.0 0.0 0.0)\"\n",
      "PRAGMA ADD-KRAUS NOISY-CZ 0 1 \"(0.0 0.0 0.0 0.00017611529927805141 0.0 0.0 0.0 0.0 0.0 0.0 0.0 0.0 0.0 0.0 0.0 0.0)\"\n",
      "PRAGMA ADD-KRAUS NOISY-CZ 0 1 \"(0.0 0.0 0.0 -0.000006226614497996659 0.0 0.0 0.0 0.0 0.0 0.0 0.0 0.0 0.0 0.0 0.0 0.0)\"\n",
      "PRAGMA ADD-KRAUS NOISY-RX-PLUS-180 0 \"(0.0 -0.9997917317602847i -0.9989589190373143i 0.0)\"\n",
      "PRAGMA ADD-KRAUS NOISY-RX-PLUS-180 0 \"(0.0 -0.020408162675038706i 0.020391162957009133i 0.0)\"\n",
      "PRAGMA ADD-KRAUS NOISY-RX-PLUS-180 0 \"(-0.04079932563204626i 0.0 0.0 0.0)\"\n",
      "PRAGMA ADD-KRAUS NOISY-RX-PLUS-180 0 \"(0.000832812722970502i 0.0 0.0 0.0)\"\n",
      "PRAGMA READOUT-POVM 1 \"(0.976 0.02400000000000002 0.02400000000000002 0.976)\"\n",
      "PRAGMA READOUT-POVM 0 \"(0.976 0.02400000000000002 0.02400000000000002 0.976)\"\n",
      "RZ(-2.9893012115570974) 1\n",
      "RX(pi) 1\n",
      "CZ 1 0\n",
      "RZ(-2.9893012115570965) 1\n",
      "\n"
     ]
    }
   ],
   "source": [
    "print(exe.program)"
   ]
  },
  {
   "cell_type": "code",
   "execution_count": 383,
   "metadata": {},
   "outputs": [],
   "source": [
    "circ = Program(H(12), CNOT(12, 25))"
   ]
  },
  {
   "cell_type": "code",
   "execution_count": 384,
   "metadata": {},
   "outputs": [],
   "source": [
    "c = circ.declare('ro', 'BIT', 2)"
   ]
  },
  {
   "cell_type": "code",
   "execution_count": 385,
   "metadata": {},
   "outputs": [],
   "source": [
    "circ += MEASURE(12, c[0])\n",
    "circ += MEASURE(25, c[1])"
   ]
  },
  {
   "cell_type": "code",
   "execution_count": 386,
   "metadata": {},
   "outputs": [
    {
     "name": "stdout",
     "output_type": "stream",
     "text": [
      "H 12\n",
      "CNOT 12 25\n",
      "DECLARE ro BIT[2]\n",
      "MEASURE 12 ro[0]\n",
      "MEASURE 25 ro[1]\n",
      "\n"
     ]
    }
   ],
   "source": [
    "print(circ)"
   ]
  },
  {
   "cell_type": "code",
   "execution_count": 393,
   "metadata": {},
   "outputs": [],
   "source": [
    "qc = get_qc('2q-qvm')"
   ]
  },
  {
   "cell_type": "code",
   "execution_count": 394,
   "metadata": {},
   "outputs": [],
   "source": [
    "circ_n = qc.compiler.quil_to_native_quil(circ)"
   ]
  },
  {
   "cell_type": "code",
   "execution_count": 395,
   "metadata": {},
   "outputs": [
    {
     "name": "stdout",
     "output_type": "stream",
     "text": [
      "DECLARE ro BIT[2]\n",
      "RZ(pi/2) 0\n",
      "RX(-pi/2) 0\n",
      "RZ(-pi/2) 1\n",
      "RX(-pi/2) 1\n",
      "CZ 0 1\n",
      "RX(pi/2) 0\n",
      "RZ(-pi/2) 0\n",
      "RZ(pi/2) 1\n",
      "MEASURE 0 ro[1]\n",
      "MEASURE 1 ro[0]\n",
      "\n"
     ]
    }
   ],
   "source": [
    "print(circ_n)"
   ]
  },
  {
   "cell_type": "code",
   "execution_count": 396,
   "metadata": {},
   "outputs": [],
   "source": [
    "t1s = np.arange(3e-5, 3e-3, 1e-4)\n",
    "data = []\n",
    "for i in range(10):\n",
    "    t1=3\n",
    "    noisy_circ = add_decoherence_noise(circ_n, ro_fidelity={0: 0.976, 1: 0.98})\n",
    "    noisy_circ.wrap_in_numshots_loop(2000)\n",
    "    exe = qc.compile(noisy_circ)\n",
    "    res = qc.run(exe)\n",
    "    data.append([t1, Counter([''.join(list(map(str, elem))) for elem in res])['11']/2000])"
   ]
  },
  {
   "cell_type": "code",
   "execution_count": 397,
   "metadata": {},
   "outputs": [
    {
     "data": {
      "image/png": "[encoded data removed]",
      "text/plain": [
       "<Figure size 432x288 with 1 Axes>"
      ]
     },
     "metadata": {
      "needs_background": "light"
     },
     "output_type": "display_data"
    }
   ],
   "source": [
    "data = np.array(data)\n",
    "\n",
    "plt.plot(data[:,0], data[:,1], 'o')\n",
    "plt.xscale('log')"
   ]
  },
  {
   "cell_type": "code",
   "execution_count": 356,
   "metadata": {},
   "outputs": [
    {
     "data": {
      "text/plain": [
       "array([3.0e-05, 4.0e-05, 5.0e-05, 6.0e-05, 7.0e-05, 8.0e-05, 9.0e-05,\n",
       "       1.0e-04, 1.1e-04, 1.2e-04, 1.3e-04, 1.4e-04, 1.5e-04, 1.6e-04,\n",
       "       1.7e-04, 1.8e-04, 1.9e-04, 2.0e-04, 2.1e-04, 2.2e-04, 2.3e-04,\n",
       "       2.4e-04, 2.5e-04, 2.6e-04, 2.7e-04, 2.8e-04, 2.9e-04])"
      ]
     },
     "execution_count": 356,
     "metadata": {},
     "output_type": "execute_result"
    }
   ],
   "source": [
    "t1s"
   ]
  },
  {
   "cell_type": "code",
   "execution_count": 351,
   "metadata": {},
   "outputs": [
    {
     "data": {
      "text/plain": [
       "Counter({'11': 489, '00': 460, '10': 25, '01': 26})"
      ]
     },
     "execution_count": 351,
     "metadata": {},
     "output_type": "execute_result"
    }
   ],
   "source": [
    "Counter([''.join(list(map(str, elem))) for elem in res])"
   ]
  },
  {
   "cell_type": "code",
   "execution_count": 352,
   "metadata": {},
   "outputs": [
    {
     "name": "stdout",
     "output_type": "stream",
     "text": [
      "DEFGATE NOISY-CZ:\n",
      "    1, 0, 0, 0\n",
      "    0, 1, 0, 0\n",
      "    0, 0, 1, 0\n",
      "    0, 0, 0, -1\n",
      "\n",
      "DEFGATE NOISY-RX-MINUS-90:\n",
      "    0.7071067811865475, 0.7071067811865475i\n",
      "    0.7071067811865475i, 0.7071067811865475\n",
      "\n",
      "DEFGATE NOISY-RX-PLUS-90:\n",
      "    0.7071067811865475, -0.7071067811865475i\n",
      "    -0.7071067811865475i, 0.7071067811865475\n",
      "\n",
      "PRAGMA ADD-KRAUS NOISY-CZ 0 1 \"(0.9987515611987302 0.0 0.0 0.0 0.0 0.9962578007950712 0.0 0.0 0.0 0.0 0.9962578007950712 0.0 0.0 0.0 0.0 -0.9937702670059103)\"\n",
      "PRAGMA ADD-KRAUS NOISY-CZ 0 1 \"(0.03531119088659347 0.0 0.0 0.0 0.0 -0.03522302316494972 0.0 0.0 0.0 0.0 0.03522302316494972 0.0 0.0 0.0 0.0 0.03513507558731541)\"\n",
      "PRAGMA ADD-KRAUS NOISY-CZ 0 1 \"(0.0 0.0705342140515426 0.0 0.0 0.0 0.0 0.0 0.0 0.0 0.0 0.0 -0.07035809875226455 0.0 0.0 0.0 0.0)\"\n",
      "PRAGMA ADD-KRAUS NOISY-CZ 0 1 \"(0.0 -0.0024937604036588622 0.0 0.0 0.0 0.0 0.0 0.0 0.0 0.0 0.0 0.0024875337891608652 0.0 0.0 0.0 0.0)\"\n",
      "PRAGMA ADD-KRAUS NOISY-CZ 0 1 \"(0.03531119088659347 0.0 0.0 0.0 0.0 0.03522302316494972 0.0 0.0 0.0 0.0 -0.03522302316494972 0.0 0.0 0.0 0.0 0.03513507558731541)\"\n",
      "PRAGMA ADD-KRAUS NOISY-CZ 0 1 \"(0.0012484388012699579 0.0 0.0 0.0 0.0 -0.001245321602388925 0.0 0.0 0.0 0.0 -0.001245321602388925 0.0 0.0 0.0 0.0 -0.0012422121867719609)\"\n",
      "PRAGMA ADD-KRAUS NOISY-CZ 0 1 \"(0.0 0.0024937604036588622 0.0 0.0 0.0 0.0 0.0 0.0 0.0 0.0 0.0 0.0024875337891608652 0.0 0.0 0.0 0.0)\"\n",
      "PRAGMA ADD-KRAUS NOISY-CZ 0 1 \"(0.0 -8.816772164374607e-05 0.0 0.0 0.0 0.0 0.0 0.0 0.0 0.0 0.0 -8.794757763430682e-05 0.0 0.0 0.0 0.0)\"\n",
      "PRAGMA ADD-KRAUS NOISY-CZ 0 1 \"(0.0 0.0 0.0705342140515426 0.0 0.0 0.0 0.0 -0.07035809875226455 0.0 0.0 0.0 0.0 0.0 0.0 0.0 0.0)\"\n",
      "PRAGMA ADD-KRAUS NOISY-CZ 0 1 \"(0.0 0.0 0.0024937604036588622 0.0 0.0 0.0 0.0 0.0024875337891608652 0.0 0.0 0.0 0.0 0.0 0.0 0.0 0.0)\"\n",
      "PRAGMA ADD-KRAUS NOISY-CZ 0 1 \"(0.0 0.0 0.0 -0.004981294192819685 0.0 0.0 0.0 0.0 0.0 0.0 0.0 0.0 0.0 0.0 0.0 0.0)\"\n",
      "PRAGMA ADD-KRAUS NOISY-CZ 0 1 \"(0.0 0.0 0.0 0.00017611529927805141 0.0 0.0 0.0 0.0 0.0 0.0 0.0 0.0 0.0 0.0 0.0 0.0)\"\n",
      "PRAGMA ADD-KRAUS NOISY-CZ 0 1 \"(0.0 0.0 -0.0024937604036588622 0.0 0.0 0.0 0.0 0.0024875337891608652 0.0 0.0 0.0 0.0 0.0 0.0 0.0 0.0)\"\n",
      "PRAGMA ADD-KRAUS NOISY-CZ 0 1 \"(0.0 0.0 -8.816772164374607e-05 0.0 0.0 0.0 0.0 -8.794757763430682e-05 0.0 0.0 0.0 0.0 0.0 0.0 0.0 0.0)\"\n",
      "PRAGMA ADD-KRAUS NOISY-CZ 0 1 \"(0.0 0.0 0.0 0.00017611529927805141 0.0 0.0 0.0 0.0 0.0 0.0 0.0 0.0 0.0 0.0 0.0 0.0)\"\n",
      "PRAGMA ADD-KRAUS NOISY-CZ 0 1 \"(0.0 0.0 0.0 -6.226614497996659e-06 0.0 0.0 0.0 0.0 0.0 0.0 0.0 0.0 0.0 0.0 0.0 0.0)\"\n",
      "PRAGMA ADD-KRAUS NOISY-RX-MINUS-90 0 \"(0.706959513301939 0.706959513301939i 0.7063706257780682i 0.7063706257780682)\"\n",
      "PRAGMA ADD-KRAUS NOISY-RX-MINUS-90 0 \"(0.014430750219078059 0.014430750219078059i -0.014418729603181088i -0.014418729603181088)\"\n",
      "PRAGMA ADD-KRAUS NOISY-RX-MINUS-90 0 \"(0.028849479822258033i 0.028849479822258033 0.0 0.0)\"\n",
      "PRAGMA ADD-KRAUS NOISY-RX-MINUS-90 0 \"(-0.0005888875238708755i -0.0005888875238708755 0.0 0.0)\"\n",
      "PRAGMA ADD-KRAUS NOISY-RX-PLUS-90 0 \"(0.706959513301939 -0.706959513301939i -0.7063706257780682i 0.7063706257780682)\"\n",
      "PRAGMA ADD-KRAUS NOISY-RX-PLUS-90 0 \"(0.014430750219078059 -0.014430750219078059i 0.014418729603181088i -0.014418729603181088)\"\n",
      "PRAGMA ADD-KRAUS NOISY-RX-PLUS-90 0 \"(-0.028849479822258033i 0.028849479822258033 0.0 0.0)\"\n",
      "PRAGMA ADD-KRAUS NOISY-RX-PLUS-90 0 \"(0.0005888875238708755i -0.0005888875238708755 0.0 0.0)\"\n",
      "PRAGMA ADD-KRAUS NOISY-RX-PLUS-90 1 \"(0.706959513301939 -0.706959513301939i -0.7063706257780682i 0.7063706257780682)\"\n",
      "PRAGMA ADD-KRAUS NOISY-RX-PLUS-90 1 \"(0.014430750219078059 -0.014430750219078059i 0.014418729603181088i -0.014418729603181088)\"\n",
      "PRAGMA ADD-KRAUS NOISY-RX-PLUS-90 1 \"(-0.028849479822258033i 0.028849479822258033 0.0 0.0)\"\n",
      "PRAGMA ADD-KRAUS NOISY-RX-PLUS-90 1 \"(0.0005888875238708755i -0.0005888875238708755 0.0 0.0)\"\n",
      "PRAGMA READOUT-POVM 0 \"(0.976 0.02400000000000002 0.02400000000000002 0.976)\"\n",
      "PRAGMA READOUT-POVM 1 \"(0.98 0.020000000000000018 0.020000000000000018 0.98)\"\n",
      "DECLARE ro BIT[2]\n",
      "RZ(-pi/2) 0\n",
      "NOISY-RX-PLUS-90 0\n",
      "RZ(pi/2) 1\n",
      "NOISY-RX-PLUS-90 1\n",
      "NOISY-CZ 0 1\n",
      "NOISY-RX-MINUS-90 0\n",
      "RZ(pi/2) 0\n",
      "RZ(-pi/2) 1\n",
      "MEASURE 0 ro[1]\n",
      "MEASURE 1 ro[0]\n",
      "\n"
     ]
    }
   ],
   "source": [
    "print(noisy_circ)"
   ]
  },
  {
   "cell_type": "code",
   "execution_count": 324,
   "metadata": {},
   "outputs": [
    {
     "data": {
      "text/plain": [
       "\u001b[0;31mSignature:\u001b[0m\n",
       "\u001b[0madd_decoherence_noise\u001b[0m\u001b[0;34m(\u001b[0m\u001b[0;34m\u001b[0m\n",
       "\u001b[0;34m\u001b[0m    \u001b[0mprog\u001b[0m\u001b[0;34m:\u001b[0m \u001b[0;34m'Program'\u001b[0m\u001b[0;34m,\u001b[0m\u001b[0;34m\u001b[0m\n",
       "\u001b[0;34m\u001b[0m    \u001b[0mT1\u001b[0m\u001b[0;34m:\u001b[0m \u001b[0mUnion\u001b[0m\u001b[0;34m[\u001b[0m\u001b[0mDict\u001b[0m\u001b[0;34m[\u001b[0m\u001b[0mint\u001b[0m\u001b[0;34m,\u001b[0m \u001b[0mfloat\u001b[0m\u001b[0;34m]\u001b[0m\u001b[0;34m,\u001b[0m \u001b[0mfloat\u001b[0m\u001b[0;34m]\u001b[0m \u001b[0;34m=\u001b[0m \u001b[0;36m3e-05\u001b[0m\u001b[0;34m,\u001b[0m\u001b[0;34m\u001b[0m\n",
       "\u001b[0;34m\u001b[0m    \u001b[0mT2\u001b[0m\u001b[0;34m:\u001b[0m \u001b[0mUnion\u001b[0m\u001b[0;34m[\u001b[0m\u001b[0mDict\u001b[0m\u001b[0;34m[\u001b[0m\u001b[0mint\u001b[0m\u001b[0;34m,\u001b[0m \u001b[0mfloat\u001b[0m\u001b[0;34m]\u001b[0m\u001b[0;34m,\u001b[0m \u001b[0mfloat\u001b[0m\u001b[0;34m]\u001b[0m \u001b[0;34m=\u001b[0m \u001b[0;36m3e-05\u001b[0m\u001b[0;34m,\u001b[0m\u001b[0;34m\u001b[0m\n",
       "\u001b[0;34m\u001b[0m    \u001b[0mgate_time_1q\u001b[0m\u001b[0;34m:\u001b[0m \u001b[0mfloat\u001b[0m \u001b[0;34m=\u001b[0m \u001b[0;36m5e-08\u001b[0m\u001b[0;34m,\u001b[0m\u001b[0;34m\u001b[0m\n",
       "\u001b[0;34m\u001b[0m    \u001b[0mgate_time_2q\u001b[0m\u001b[0;34m:\u001b[0m \u001b[0mfloat\u001b[0m \u001b[0;34m=\u001b[0m \u001b[0;36m1.5e-07\u001b[0m\u001b[0;34m,\u001b[0m\u001b[0;34m\u001b[0m\n",
       "\u001b[0;34m\u001b[0m    \u001b[0mro_fidelity\u001b[0m\u001b[0;34m:\u001b[0m \u001b[0mUnion\u001b[0m\u001b[0;34m[\u001b[0m\u001b[0mDict\u001b[0m\u001b[0;34m[\u001b[0m\u001b[0mint\u001b[0m\u001b[0;34m,\u001b[0m \u001b[0mfloat\u001b[0m\u001b[0;34m]\u001b[0m\u001b[0;34m,\u001b[0m \u001b[0mfloat\u001b[0m\u001b[0;34m]\u001b[0m \u001b[0;34m=\u001b[0m \u001b[0;36m0.95\u001b[0m\u001b[0;34m,\u001b[0m\u001b[0;34m\u001b[0m\n",
       "\u001b[0;34m\u001b[0m\u001b[0;34m)\u001b[0m \u001b[0;34m->\u001b[0m \u001b[0;34m'Program'\u001b[0m\u001b[0;34m\u001b[0m\u001b[0;34m\u001b[0m\u001b[0m\n",
       "\u001b[0;31mDocstring:\u001b[0m\n",
       "Add generic damping and dephasing noise to a program.\n",
       "\n",
       "This high-level function is provided as a convenience to investigate the effects of a\n",
       "generic noise model on a program. For more fine-grained control, please investigate\n",
       "the other methods available in the ``pyquil.noise`` module.\n",
       "\n",
       "In an attempt to closely model the QPU, noisy versions of RX(+-pi/2) and CZ are provided;\n",
       "I and parametric RZ are noiseless, and other gates are not allowed. To use this function,\n",
       "you need to compile your program to this native gate set.\n",
       "\n",
       "The default noise parameters\n",
       "\n",
       "- T1 = 30 us\n",
       "- T2 = 30 us\n",
       "- 1q gate time = 50 ns\n",
       "- 2q gate time = 150 ns\n",
       "\n",
       "are currently typical for near-term devices.\n",
       "\n",
       "This function will define new gates and add Kraus noise to these gates. It will translate\n",
       "the input program to use the noisy version of the gates.\n",
       "\n",
       ":param prog: A pyquil program consisting of I, RZ, CZ, and RX(+-pi/2) instructions\n",
       ":param T1: The T1 amplitude damping time either globally or in a\n",
       "    dictionary indexed by qubit id. By default, this is 30 us.\n",
       ":param T2: The T2 dephasing time either globally or in a\n",
       "    dictionary indexed by qubit id. By default, this is also 30 us.\n",
       ":param gate_time_1q: The duration of the one-qubit gates, namely RX(+pi/2) and RX(-pi/2).\n",
       "    By default, this is 50 ns.\n",
       ":param gate_time_2q: The duration of the two-qubit gates, namely CZ.\n",
       "    By default, this is 150 ns.\n",
       ":param ro_fidelity: The readout assignment fidelity\n",
       "    :math:`F = (p(0|0) + p(1|1))/2` either globally or in a dictionary indexed by qubit id.\n",
       ":return: A new program with noisy operators.\n",
       "\u001b[0;31mFile:\u001b[0m      /opt/conda/lib/python3.8/site-packages/pyquil/noise.py\n",
       "\u001b[0;31mType:\u001b[0m      function\n"
      ]
     },
     "metadata": {},
     "output_type": "display_data"
    }
   ],
   "source": [
    "?add_decoherence_noise"
   ]
  },
  {
   "cell_type": "code",
   "execution_count": 400,
   "metadata": {},
   "outputs": [],
   "source": [
    "t2 = lambda p: -150*1e-9 / np.log(1-2*p)"
   ]
  },
  {
   "cell_type": "code",
   "execution_count": 405,
   "metadata": {},
   "outputs": [
    {
     "data": {
      "text/plain": [
       "4.415593340744047e-06"
      ]
     },
     "execution_count": 405,
     "metadata": {},
     "output_type": "execute_result"
    }
   ],
   "source": [
    "t2(0.0167)"
   ]
  },
  {
   "cell_type": "code",
   "execution_count": 6,
   "metadata": {},
   "outputs": [],
   "source": [
    "qc = get_qc('Aspen-9')"
   ]
  },
  {
   "cell_type": "code",
   "execution_count": 7,
   "metadata": {},
   "outputs": [
    {
     "data": {
      "text/plain": [
       "QuantumComputer[name=\"Aspen-9\"]"
      ]
     },
     "execution_count": 7,
     "metadata": {},
     "output_type": "execute_result"
    }
   ],
   "source": [
    "qc"
   ]
  },
  {
   "cell_type": "code",
   "execution_count": 15,
   "metadata": {},
   "outputs": [
    {
     "data": {
      "text/plain": [
       "[MeasureInfo(operator='MEASURE', qubit=12, target='_', duration=2000, fidelity=0.968),\n",
       " MeasureInfo(operator='MEASURE', qubit=12, target=None, duration=2000, fidelity=0.968),\n",
       " GateInfo(operator='RZ', parameters=['_'], arguments=[12], duration=0.01, fidelity=1.0),\n",
       " GateInfo(operator='RX', parameters=[0.0], arguments=[12], duration=50, fidelity=1.0),\n",
       " GateInfo(operator='RX', parameters=[3.141592653589793], arguments=[12], duration=50, fidelity=0.9987920996598936),\n",
       " GateInfo(operator='RX', parameters=[-3.141592653589793], arguments=[12], duration=50, fidelity=0.9987920996598936),\n",
       " GateInfo(operator='RX', parameters=[1.5707963267948966], arguments=[12], duration=50, fidelity=0.9987920996598936),\n",
       " GateInfo(operator='RX', parameters=[-1.5707963267948966], arguments=[12], duration=50, fidelity=0.9987920996598936)]"
      ]
     },
     "execution_count": 15,
     "metadata": {},
     "output_type": "execute_result"
    }
   ],
   "source": [
    "qc.device.get_isa().qubits[10].gates"
   ]
  },
  {
   "cell_type": "code",
   "execution_count": 16,
   "metadata": {},
   "outputs": [
    {
     "data": {
      "text/plain": [
       "[MeasureInfo(operator='MEASURE', qubit=25, target='_', duration=2000, fidelity=0.9610000000000001),\n",
       " MeasureInfo(operator='MEASURE', qubit=25, target=None, duration=2000, fidelity=0.9610000000000001),\n",
       " GateInfo(operator='RZ', parameters=['_'], arguments=[25], duration=0.01, fidelity=1.0),\n",
       " GateInfo(operator='RX', parameters=[0.0], arguments=[25], duration=50, fidelity=1.0),\n",
       " GateInfo(operator='RX', parameters=[3.141592653589793], arguments=[25], duration=50, fidelity=0.9991884500270085),\n",
       " GateInfo(operator='RX', parameters=[-3.141592653589793], arguments=[25], duration=50, fidelity=0.9991884500270085),\n",
       " GateInfo(operator='RX', parameters=[1.5707963267948966], arguments=[25], duration=50, fidelity=0.9991884500270085),\n",
       " GateInfo(operator='RX', parameters=[-1.5707963267948966], arguments=[25], duration=50, fidelity=0.9991884500270085)]"
      ]
     },
     "execution_count": 16,
     "metadata": {},
     "output_type": "execute_result"
    }
   ],
   "source": [
    "qc.device.get_isa().qubits[21].gates"
   ]
  },
  {
   "cell_type": "code",
   "execution_count": 18,
   "metadata": {},
   "outputs": [
    {
     "data": {
      "text/plain": [
       "[GateInfo(operator='CZ', parameters=[], arguments=['_', '_'], duration=200, fidelity=0.9820553488690702),\n",
       " GateInfo(operator='XY', parameters=['theta'], arguments=['_', '_'], duration=200, fidelity=0.9671916651500534)]"
      ]
     },
     "execution_count": 18,
     "metadata": {},
     "output_type": "execute_result"
    }
   ],
   "source": [
    "qc.device.get_isa().edges[15].gates"
   ]
  },
  {
   "cell_type": "code",
   "execution_count": 3,
   "metadata": {},
   "outputs": [],
   "source": [
    "from pyquil import get_qc\n",
    "import time"
   ]
  },
  {
   "cell_type": "code",
   "execution_count": 24,
   "metadata": {},
   "outputs": [],
   "source": [
    "qc = get_qc(\"Aspen-9\")"
   ]
  },
  {
   "cell_type": "code",
   "execution_count": 25,
   "metadata": {},
   "outputs": [],
   "source": [
    "details = qc.device.get_isa()"
   ]
  },
  {
   "cell_type": "markdown",
   "metadata": {},
   "source": [
    "# Finding good qubits and edges"
   ]
  },
  {
   "cell_type": "code",
   "execution_count": 34,
   "metadata": {},
   "outputs": [],
   "source": [
    "def get_good_qbits(cz_fid, meas_fid):\n",
    "    qc = get_qc('Aspen-9')\n",
    "    details = qc.device.get_isa()\n",
    "\n",
    "    good_edges = []\n",
    "    for edge in details.edges:\n",
    "        gates = edge.gates\n",
    "        for gate in gates:\n",
    "            if gate.operator == 'CZ':\n",
    "                try:\n",
    "                    if gate.fidelity > 0.98:\n",
    "                        good_edges.append({'Edge': edge.targets, 'CZ fidelity': gate.fidelity, 'index': details.edges.index(edge)})\n",
    "                except TypeError:\n",
    "                    print('Gate fidelity not defined')\n",
    "\n",
    "    for edge in good_edges[:]:\n",
    "        q1, q2 = edge['Edge']\n",
    "        for q in details.qubits:\n",
    "            if q.id in [q1,q2]:\n",
    "                gates = q.gates\n",
    "                for gate in gates:\n",
    "                    if gate.operator == 'MEASURE':\n",
    "                        if gate.fidelity < 0.96:\n",
    "                            try:\n",
    "                                good_edges.remove(edge)\n",
    "                            except ValueError:\n",
    "                                print('Edge already removed')\n",
    "\n",
    "    print(good_edges)"
   ]
  },
  {
   "cell_type": "code",
   "execution_count": 35,
   "metadata": {},
   "outputs": [
    {
     "name": "stdout",
     "output_type": "stream",
     "text": [
      "Gate fidelity not defined\n",
      "Edge already removed\n",
      "Edge already removed\n",
      "Edge already removed\n",
      "[]\n",
      "______________________\n"
     ]
    }
   ],
   "source": [
    "get_good_qbits()\n",
    "print('______________________')"
   ]
  },
  {
   "cell_type": "code",
   "execution_count": 171,
   "metadata": {},
   "outputs": [],
   "source": [
    "for e in a[:]:\n",
    "    if e in [2,3]:\n",
    "        a.remove(e)"
   ]
  },
  {
   "cell_type": "code",
   "execution_count": 172,
   "metadata": {},
   "outputs": [
    {
     "data": {
      "text/plain": [
       "[0, 1, 4, 5, 6, 7, 8, 9, 10, 11, 12]"
      ]
     },
     "execution_count": 172,
     "metadata": {},
     "output_type": "execute_result"
    }
   ],
   "source": [
    "a"
   ]
  },
  {
   "cell_type": "code",
   "execution_count": 152,
   "metadata": {},
   "outputs": [],
   "source": [
    "a.remove(9)"
   ]
  },
  {
   "cell_type": "code",
   "execution_count": 153,
   "metadata": {},
   "outputs": [
    {
     "data": {
      "text/plain": [
       "[4, 5, 6, 7, 8, 10, 11, 12]"
      ]
     },
     "execution_count": 153,
     "metadata": {},
     "output_type": "execute_result"
    }
   ],
   "source": [
    "a"
   ]
  },
  {
   "cell_type": "code",
   "execution_count": 165,
   "metadata": {},
   "outputs": [
    {
     "data": {
      "text/plain": [
       "[Qubit(id=0, type=None, dead=False, gates=[MeasureInfo(operator='MEASURE', qubit=0, target='_', duration=2000, fidelity=0.971), MeasureInfo(operator='MEASURE', qubit=0, target=None, duration=2000, fidelity=0.971), GateInfo(operator='RZ', parameters=['_'], arguments=[0], duration=0.01, fidelity=1.0), GateInfo(operator='RX', parameters=[0.0], arguments=[0], duration=50, fidelity=1.0), GateInfo(operator='RX', parameters=[3.141592653589793], arguments=[0], duration=50, fidelity=0.9990014768242277), GateInfo(operator='RX', parameters=[-3.141592653589793], arguments=[0], duration=50, fidelity=0.9990014768242277), GateInfo(operator='RX', parameters=[1.5707963267948966], arguments=[0], duration=50, fidelity=0.9990014768242277), GateInfo(operator='RX', parameters=[-1.5707963267948966], arguments=[0], duration=50, fidelity=0.9990014768242277)]),\n",
       " Qubit(id=1, type=None, dead=False, gates=[MeasureInfo(operator='MEASURE', qubit=1, target='_', duration=2000, fidelity=0.949), MeasureInfo(operator='MEASURE', qubit=1, target=None, duration=2000, fidelity=0.949), GateInfo(operator='RZ', parameters=['_'], arguments=[1], duration=0.01, fidelity=1.0), GateInfo(operator='RX', parameters=[0.0], arguments=[1], duration=50, fidelity=1.0), GateInfo(operator='RX', parameters=[3.141592653589793], arguments=[1], duration=50, fidelity=0.9781665691238797), GateInfo(operator='RX', parameters=[-3.141592653589793], arguments=[1], duration=50, fidelity=0.9781665691238797), GateInfo(operator='RX', parameters=[1.5707963267948966], arguments=[1], duration=50, fidelity=0.9781665691238797), GateInfo(operator='RX', parameters=[-1.5707963267948966], arguments=[1], duration=50, fidelity=0.9781665691238797)]),\n",
       " Qubit(id=2, type=None, dead=False, gates=[MeasureInfo(operator='MEASURE', qubit=2, target='_', duration=2000, fidelity=0.935), MeasureInfo(operator='MEASURE', qubit=2, target=None, duration=2000, fidelity=0.935), GateInfo(operator='RZ', parameters=['_'], arguments=[2], duration=0.01, fidelity=1.0), GateInfo(operator='RX', parameters=[0.0], arguments=[2], duration=50, fidelity=1.0), GateInfo(operator='RX', parameters=[3.141592653589793], arguments=[2], duration=50, fidelity=0.9975863310043617), GateInfo(operator='RX', parameters=[-3.141592653589793], arguments=[2], duration=50, fidelity=0.9975863310043617), GateInfo(operator='RX', parameters=[1.5707963267948966], arguments=[2], duration=50, fidelity=0.9975863310043617), GateInfo(operator='RX', parameters=[-1.5707963267948966], arguments=[2], duration=50, fidelity=0.9975863310043617)]),\n",
       " Qubit(id=3, type=None, dead=False, gates=[MeasureInfo(operator='MEASURE', qubit=3, target='_', duration=2000, fidelity=0.954), MeasureInfo(operator='MEASURE', qubit=3, target=None, duration=2000, fidelity=0.954), GateInfo(operator='RZ', parameters=['_'], arguments=[3], duration=0.01, fidelity=1.0), GateInfo(operator='RX', parameters=[0.0], arguments=[3], duration=50, fidelity=1.0), GateInfo(operator='RX', parameters=[3.141592653589793], arguments=[3], duration=50, fidelity=0.9994368887748502), GateInfo(operator='RX', parameters=[-3.141592653589793], arguments=[3], duration=50, fidelity=0.9994368887748502), GateInfo(operator='RX', parameters=[1.5707963267948966], arguments=[3], duration=50, fidelity=0.9994368887748502), GateInfo(operator='RX', parameters=[-1.5707963267948966], arguments=[3], duration=50, fidelity=0.9994368887748502)]),\n",
       " Qubit(id=4, type=None, dead=False, gates=[MeasureInfo(operator='MEASURE', qubit=4, target='_', duration=2000, fidelity=0.9670000000000001), MeasureInfo(operator='MEASURE', qubit=4, target=None, duration=2000, fidelity=0.9670000000000001), GateInfo(operator='RZ', parameters=['_'], arguments=[4], duration=0.01, fidelity=1.0), GateInfo(operator='RX', parameters=[0.0], arguments=[4], duration=50, fidelity=1.0), GateInfo(operator='RX', parameters=[3.141592653589793], arguments=[4], duration=50, fidelity=0.9975364503140911), GateInfo(operator='RX', parameters=[-3.141592653589793], arguments=[4], duration=50, fidelity=0.9975364503140911), GateInfo(operator='RX', parameters=[1.5707963267948966], arguments=[4], duration=50, fidelity=0.9975364503140911), GateInfo(operator='RX', parameters=[-1.5707963267948966], arguments=[4], duration=50, fidelity=0.9975364503140911)]),\n",
       " Qubit(id=5, type=None, dead=False, gates=[MeasureInfo(operator='MEASURE', qubit=5, target='_', duration=2000, fidelity=0.9519999999999998), MeasureInfo(operator='MEASURE', qubit=5, target=None, duration=2000, fidelity=0.9519999999999998), GateInfo(operator='RZ', parameters=['_'], arguments=[5], duration=0.01, fidelity=1.0), GateInfo(operator='RX', parameters=[0.0], arguments=[5], duration=50, fidelity=1.0), GateInfo(operator='RX', parameters=[3.141592653589793], arguments=[5], duration=50, fidelity=0.9991465698983135), GateInfo(operator='RX', parameters=[-3.141592653589793], arguments=[5], duration=50, fidelity=0.9991465698983135), GateInfo(operator='RX', parameters=[1.5707963267948966], arguments=[5], duration=50, fidelity=0.9991465698983135), GateInfo(operator='RX', parameters=[-1.5707963267948966], arguments=[5], duration=50, fidelity=0.9991465698983135)]),\n",
       " Qubit(id=6, type=None, dead=False, gates=[MeasureInfo(operator='MEASURE', qubit=6, target='_', duration=2000, fidelity=0.892), MeasureInfo(operator='MEASURE', qubit=6, target=None, duration=2000, fidelity=0.892), GateInfo(operator='RZ', parameters=['_'], arguments=[6], duration=0.01, fidelity=1.0), GateInfo(operator='RX', parameters=[0.0], arguments=[6], duration=50, fidelity=1.0), GateInfo(operator='RX', parameters=[3.141592653589793], arguments=[6], duration=50, fidelity=0.8787430035816047), GateInfo(operator='RX', parameters=[-3.141592653589793], arguments=[6], duration=50, fidelity=0.8787430035816047), GateInfo(operator='RX', parameters=[1.5707963267948966], arguments=[6], duration=50, fidelity=0.8787430035816047), GateInfo(operator='RX', parameters=[-1.5707963267948966], arguments=[6], duration=50, fidelity=0.8787430035816047)]),\n",
       " Qubit(id=7, type=None, dead=False, gates=[MeasureInfo(operator='MEASURE', qubit=7, target='_', duration=2000, fidelity=0.958), MeasureInfo(operator='MEASURE', qubit=7, target=None, duration=2000, fidelity=0.958), GateInfo(operator='RZ', parameters=['_'], arguments=[7], duration=0.01, fidelity=1.0), GateInfo(operator='RX', parameters=[0.0], arguments=[7], duration=50, fidelity=1.0), GateInfo(operator='RX', parameters=[3.141592653589793], arguments=[7], duration=50, fidelity=0.9992413354046864), GateInfo(operator='RX', parameters=[-3.141592653589793], arguments=[7], duration=50, fidelity=0.9992413354046864), GateInfo(operator='RX', parameters=[1.5707963267948966], arguments=[7], duration=50, fidelity=0.9992413354046864), GateInfo(operator='RX', parameters=[-1.5707963267948966], arguments=[7], duration=50, fidelity=0.9992413354046864)]),\n",
       " Qubit(id=10, type=None, dead=False, gates=[MeasureInfo(operator='MEASURE', qubit=10, target='_', duration=2000, fidelity=0.977), MeasureInfo(operator='MEASURE', qubit=10, target=None, duration=2000, fidelity=0.977), GateInfo(operator='RZ', parameters=['_'], arguments=[10], duration=0.01, fidelity=1.0), GateInfo(operator='RX', parameters=[0.0], arguments=[10], duration=50, fidelity=1.0), GateInfo(operator='RX', parameters=[3.141592653589793], arguments=[10], duration=50, fidelity=0.9989476368905135), GateInfo(operator='RX', parameters=[-3.141592653589793], arguments=[10], duration=50, fidelity=0.9989476368905135), GateInfo(operator='RX', parameters=[1.5707963267948966], arguments=[10], duration=50, fidelity=0.9989476368905135), GateInfo(operator='RX', parameters=[-1.5707963267948966], arguments=[10], duration=50, fidelity=0.9989476368905135)]),\n",
       " Qubit(id=11, type=None, dead=False, gates=[MeasureInfo(operator='MEASURE', qubit=11, target='_', duration=2000, fidelity=0.8460000000000001), MeasureInfo(operator='MEASURE', qubit=11, target=None, duration=2000, fidelity=0.8460000000000001), GateInfo(operator='RZ', parameters=['_'], arguments=[11], duration=0.01, fidelity=1.0), GateInfo(operator='RX', parameters=[0.0], arguments=[11], duration=50, fidelity=1.0), GateInfo(operator='RX', parameters=[3.141592653589793], arguments=[11], duration=50, fidelity=0.9988513580060256), GateInfo(operator='RX', parameters=[-3.141592653589793], arguments=[11], duration=50, fidelity=0.9988513580060256), GateInfo(operator='RX', parameters=[1.5707963267948966], arguments=[11], duration=50, fidelity=0.9988513580060256), GateInfo(operator='RX', parameters=[-1.5707963267948966], arguments=[11], duration=50, fidelity=0.9988513580060256)]),\n",
       " Qubit(id=12, type=None, dead=False, gates=[MeasureInfo(operator='MEASURE', qubit=12, target='_', duration=2000, fidelity=0.958), MeasureInfo(operator='MEASURE', qubit=12, target=None, duration=2000, fidelity=0.958), GateInfo(operator='RZ', parameters=['_'], arguments=[12], duration=0.01, fidelity=1.0), GateInfo(operator='RX', parameters=[0.0], arguments=[12], duration=50, fidelity=1.0), GateInfo(operator='RX', parameters=[3.141592653589793], arguments=[12], duration=50, fidelity=0.9987920996598936), GateInfo(operator='RX', parameters=[-3.141592653589793], arguments=[12], duration=50, fidelity=0.9987920996598936), GateInfo(operator='RX', parameters=[1.5707963267948966], arguments=[12], duration=50, fidelity=0.9987920996598936), GateInfo(operator='RX', parameters=[-1.5707963267948966], arguments=[12], duration=50, fidelity=0.9987920996598936)]),\n",
       " Qubit(id=13, type=None, dead=False, gates=[MeasureInfo(operator='MEASURE', qubit=13, target='_', duration=2000, fidelity=0.972), MeasureInfo(operator='MEASURE', qubit=13, target=None, duration=2000, fidelity=0.972), GateInfo(operator='RZ', parameters=['_'], arguments=[13], duration=0.01, fidelity=1.0), GateInfo(operator='RX', parameters=[0.0], arguments=[13], duration=50, fidelity=1.0), GateInfo(operator='RX', parameters=[3.141592653589793], arguments=[13], duration=50, fidelity=0.9990873195939498), GateInfo(operator='RX', parameters=[-3.141592653589793], arguments=[13], duration=50, fidelity=0.9990873195939498), GateInfo(operator='RX', parameters=[1.5707963267948966], arguments=[13], duration=50, fidelity=0.9990873195939498), GateInfo(operator='RX', parameters=[-1.5707963267948966], arguments=[13], duration=50, fidelity=0.9990873195939498)]),\n",
       " Qubit(id=14, type=None, dead=False, gates=[MeasureInfo(operator='MEASURE', qubit=14, target='_', duration=2000, fidelity=0.9159999999999999), MeasureInfo(operator='MEASURE', qubit=14, target=None, duration=2000, fidelity=0.9159999999999999), GateInfo(operator='RZ', parameters=['_'], arguments=[14], duration=0.01, fidelity=1.0), GateInfo(operator='RX', parameters=[0.0], arguments=[14], duration=50, fidelity=1.0), GateInfo(operator='RX', parameters=[3.141592653589793], arguments=[14], duration=50, fidelity=0.9986661688177298), GateInfo(operator='RX', parameters=[-3.141592653589793], arguments=[14], duration=50, fidelity=0.9986661688177298), GateInfo(operator='RX', parameters=[1.5707963267948966], arguments=[14], duration=50, fidelity=0.9986661688177298), GateInfo(operator='RX', parameters=[-1.5707963267948966], arguments=[14], duration=50, fidelity=0.9986661688177298)]),\n",
       " Qubit(id=15, type=None, dead=False, gates=[MeasureInfo(operator='MEASURE', qubit=15, target='_', duration=2000, fidelity=0.96), MeasureInfo(operator='MEASURE', qubit=15, target=None, duration=2000, fidelity=0.96), GateInfo(operator='RZ', parameters=['_'], arguments=[15], duration=0.01, fidelity=1.0), GateInfo(operator='RX', parameters=[0.0], arguments=[15], duration=50, fidelity=1.0), GateInfo(operator='RX', parameters=[3.141592653589793], arguments=[15], duration=50, fidelity=0.9983382253979842), GateInfo(operator='RX', parameters=[-3.141592653589793], arguments=[15], duration=50, fidelity=0.9983382253979842), GateInfo(operator='RX', parameters=[1.5707963267948966], arguments=[15], duration=50, fidelity=0.9983382253979842), GateInfo(operator='RX', parameters=[-1.5707963267948966], arguments=[15], duration=50, fidelity=0.9983382253979842)]),\n",
       " Qubit(id=16, type=None, dead=False, gates=[MeasureInfo(operator='MEASURE', qubit=16, target='_', duration=2000, fidelity=0.948), MeasureInfo(operator='MEASURE', qubit=16, target=None, duration=2000, fidelity=0.948), GateInfo(operator='RZ', parameters=['_'], arguments=[16], duration=0.01, fidelity=1.0), GateInfo(operator='RX', parameters=[0.0], arguments=[16], duration=50, fidelity=1.0), GateInfo(operator='RX', parameters=[3.141592653589793], arguments=[16], duration=50, fidelity=0.997632218222324), GateInfo(operator='RX', parameters=[-3.141592653589793], arguments=[16], duration=50, fidelity=0.997632218222324), GateInfo(operator='RX', parameters=[1.5707963267948966], arguments=[16], duration=50, fidelity=0.997632218222324), GateInfo(operator='RX', parameters=[-1.5707963267948966], arguments=[16], duration=50, fidelity=0.997632218222324)]),\n",
       " Qubit(id=17, type=None, dead=False, gates=[MeasureInfo(operator='MEASURE', qubit=17, target='_', duration=2000, fidelity=0.887), MeasureInfo(operator='MEASURE', qubit=17, target=None, duration=2000, fidelity=0.887), GateInfo(operator='RZ', parameters=['_'], arguments=[17], duration=0.01, fidelity=1.0), GateInfo(operator='RX', parameters=[0.0], arguments=[17], duration=50, fidelity=1.0), GateInfo(operator='RX', parameters=[3.141592653589793], arguments=[17], duration=50, fidelity=0.9993158553426053), GateInfo(operator='RX', parameters=[-3.141592653589793], arguments=[17], duration=50, fidelity=0.9993158553426053), GateInfo(operator='RX', parameters=[1.5707963267948966], arguments=[17], duration=50, fidelity=0.9993158553426053), GateInfo(operator='RX', parameters=[-1.5707963267948966], arguments=[17], duration=50, fidelity=0.9993158553426053)]),\n",
       " Qubit(id=20, type=None, dead=False, gates=[MeasureInfo(operator='MEASURE', qubit=20, target='_', duration=2000, fidelity=0.987), MeasureInfo(operator='MEASURE', qubit=20, target=None, duration=2000, fidelity=0.987), GateInfo(operator='RZ', parameters=['_'], arguments=[20], duration=0.01, fidelity=1.0), GateInfo(operator='RX', parameters=[0.0], arguments=[20], duration=50, fidelity=1.0), GateInfo(operator='RX', parameters=[3.141592653589793], arguments=[20], duration=50, fidelity=0.9986668479374058), GateInfo(operator='RX', parameters=[-3.141592653589793], arguments=[20], duration=50, fidelity=0.9986668479374058), GateInfo(operator='RX', parameters=[1.5707963267948966], arguments=[20], duration=50, fidelity=0.9986668479374058), GateInfo(operator='RX', parameters=[-1.5707963267948966], arguments=[20], duration=50, fidelity=0.9986668479374058)]),\n",
       " Qubit(id=21, type=None, dead=False, gates=[MeasureInfo(operator='MEASURE', qubit=21, target='_', duration=2000, fidelity=0.966), MeasureInfo(operator='MEASURE', qubit=21, target=None, duration=2000, fidelity=0.966), GateInfo(operator='RZ', parameters=['_'], arguments=[21], duration=0.01, fidelity=1.0), GateInfo(operator='RX', parameters=[0.0], arguments=[21], duration=50, fidelity=1.0), GateInfo(operator='RX', parameters=[3.141592653589793], arguments=[21], duration=50, fidelity=0.999067926457613), GateInfo(operator='RX', parameters=[-3.141592653589793], arguments=[21], duration=50, fidelity=0.999067926457613), GateInfo(operator='RX', parameters=[1.5707963267948966], arguments=[21], duration=50, fidelity=0.999067926457613), GateInfo(operator='RX', parameters=[-1.5707963267948966], arguments=[21], duration=50, fidelity=0.999067926457613)]),\n",
       " Qubit(id=22, type=None, dead=False, gates=[MeasureInfo(operator='MEASURE', qubit=22, target='_', duration=2000, fidelity=0.961), MeasureInfo(operator='MEASURE', qubit=22, target=None, duration=2000, fidelity=0.961), GateInfo(operator='RZ', parameters=['_'], arguments=[22], duration=0.01, fidelity=1.0), GateInfo(operator='RX', parameters=[0.0], arguments=[22], duration=50, fidelity=1.0), GateInfo(operator='RX', parameters=[3.141592653589793], arguments=[22], duration=50, fidelity=0.995), GateInfo(operator='RX', parameters=[-3.141592653589793], arguments=[22], duration=50, fidelity=0.995), GateInfo(operator='RX', parameters=[1.5707963267948966], arguments=[22], duration=50, fidelity=0.995), GateInfo(operator='RX', parameters=[-1.5707963267948966], arguments=[22], duration=50, fidelity=0.995)]),\n",
       " Qubit(id=23, type=None, dead=False, gates=[MeasureInfo(operator='MEASURE', qubit=23, target='_', duration=2000, fidelity=0.98), MeasureInfo(operator='MEASURE', qubit=23, target=None, duration=2000, fidelity=0.98), GateInfo(operator='RZ', parameters=['_'], arguments=[23], duration=0.01, fidelity=1.0), GateInfo(operator='RX', parameters=[0.0], arguments=[23], duration=50, fidelity=1.0), GateInfo(operator='RX', parameters=[3.141592653589793], arguments=[23], duration=50, fidelity=0.9992947355694914), GateInfo(operator='RX', parameters=[-3.141592653589793], arguments=[23], duration=50, fidelity=0.9992947355694914), GateInfo(operator='RX', parameters=[1.5707963267948966], arguments=[23], duration=50, fidelity=0.9992947355694914), GateInfo(operator='RX', parameters=[-1.5707963267948966], arguments=[23], duration=50, fidelity=0.9992947355694914)]),\n",
       " Qubit(id=24, type=None, dead=False, gates=[MeasureInfo(operator='MEASURE', qubit=24, target='_', duration=2000, fidelity=0.9689999999999999), MeasureInfo(operator='MEASURE', qubit=24, target=None, duration=2000, fidelity=0.9689999999999999), GateInfo(operator='RZ', parameters=['_'], arguments=[24], duration=0.01, fidelity=1.0), GateInfo(operator='RX', parameters=[0.0], arguments=[24], duration=50, fidelity=1.0), GateInfo(operator='RX', parameters=[3.141592653589793], arguments=[24], duration=50, fidelity=0.9992878727851684), GateInfo(operator='RX', parameters=[-3.141592653589793], arguments=[24], duration=50, fidelity=0.9992878727851684), GateInfo(operator='RX', parameters=[1.5707963267948966], arguments=[24], duration=50, fidelity=0.9992878727851684), GateInfo(operator='RX', parameters=[-1.5707963267948966], arguments=[24], duration=50, fidelity=0.9992878727851684)]),\n",
       " Qubit(id=25, type=None, dead=False, gates=[MeasureInfo(operator='MEASURE', qubit=25, target='_', duration=2000, fidelity=0.978), MeasureInfo(operator='MEASURE', qubit=25, target=None, duration=2000, fidelity=0.978), GateInfo(operator='RZ', parameters=['_'], arguments=[25], duration=0.01, fidelity=1.0), GateInfo(operator='RX', parameters=[0.0], arguments=[25], duration=50, fidelity=1.0), GateInfo(operator='RX', parameters=[3.141592653589793], arguments=[25], duration=50, fidelity=0.9991884500270085), GateInfo(operator='RX', parameters=[-3.141592653589793], arguments=[25], duration=50, fidelity=0.9991884500270085), GateInfo(operator='RX', parameters=[1.5707963267948966], arguments=[25], duration=50, fidelity=0.9991884500270085), GateInfo(operator='RX', parameters=[-1.5707963267948966], arguments=[25], duration=50, fidelity=0.9991884500270085)]),\n",
       " Qubit(id=26, type=None, dead=False, gates=[MeasureInfo(operator='MEASURE', qubit=26, target='_', duration=2000, fidelity=0.9789999999999999), MeasureInfo(operator='MEASURE', qubit=26, target=None, duration=2000, fidelity=0.9789999999999999), GateInfo(operator='RZ', parameters=['_'], arguments=[26], duration=0.01, fidelity=1.0), GateInfo(operator='RX', parameters=[0.0], arguments=[26], duration=50, fidelity=1.0), GateInfo(operator='RX', parameters=[3.141592653589793], arguments=[26], duration=50, fidelity=0.9982609453772381), GateInfo(operator='RX', parameters=[-3.141592653589793], arguments=[26], duration=50, fidelity=0.9982609453772381), GateInfo(operator='RX', parameters=[1.5707963267948966], arguments=[26], duration=50, fidelity=0.9982609453772381), GateInfo(operator='RX', parameters=[-1.5707963267948966], arguments=[26], duration=50, fidelity=0.9982609453772381)]),\n",
       " Qubit(id=27, type=None, dead=False, gates=[MeasureInfo(operator='MEASURE', qubit=27, target='_', duration=2000, fidelity=0.9410000000000001), MeasureInfo(operator='MEASURE', qubit=27, target=None, duration=2000, fidelity=0.9410000000000001), GateInfo(operator='RZ', parameters=['_'], arguments=[27], duration=0.01, fidelity=1.0), GateInfo(operator='RX', parameters=[0.0], arguments=[27], duration=50, fidelity=1.0), GateInfo(operator='RX', parameters=[3.141592653589793], arguments=[27], duration=50, fidelity=0.9967169325473852), GateInfo(operator='RX', parameters=[-3.141592653589793], arguments=[27], duration=50, fidelity=0.9967169325473852), GateInfo(operator='RX', parameters=[1.5707963267948966], arguments=[27], duration=50, fidelity=0.9967169325473852), GateInfo(operator='RX', parameters=[-1.5707963267948966], arguments=[27], duration=50, fidelity=0.9967169325473852)]),\n",
       " Qubit(id=30, type=None, dead=False, gates=[MeasureInfo(operator='MEASURE', qubit=30, target='_', duration=2000, fidelity=0.919), MeasureInfo(operator='MEASURE', qubit=30, target=None, duration=2000, fidelity=0.919), GateInfo(operator='RZ', parameters=['_'], arguments=[30], duration=0.01, fidelity=1.0), GateInfo(operator='RX', parameters=[0.0], arguments=[30], duration=50, fidelity=1.0), GateInfo(operator='RX', parameters=[3.141592653589793], arguments=[30], duration=50, fidelity=0.9284759496076576), GateInfo(operator='RX', parameters=[-3.141592653589793], arguments=[30], duration=50, fidelity=0.9284759496076576), GateInfo(operator='RX', parameters=[1.5707963267948966], arguments=[30], duration=50, fidelity=0.9284759496076576), GateInfo(operator='RX', parameters=[-1.5707963267948966], arguments=[30], duration=50, fidelity=0.9284759496076576)]),\n",
       " Qubit(id=31, type=None, dead=False, gates=[MeasureInfo(operator='MEASURE', qubit=31, target='_', duration=2000, fidelity=0.964), MeasureInfo(operator='MEASURE', qubit=31, target=None, duration=2000, fidelity=0.964), GateInfo(operator='RZ', parameters=['_'], arguments=[31], duration=0.01, fidelity=1.0), GateInfo(operator='RX', parameters=[0.0], arguments=[31], duration=50, fidelity=1.0), GateInfo(operator='RX', parameters=[3.141592653589793], arguments=[31], duration=50, fidelity=0.9975005110338343), GateInfo(operator='RX', parameters=[-3.141592653589793], arguments=[31], duration=50, fidelity=0.9975005110338343), GateInfo(operator='RX', parameters=[1.5707963267948966], arguments=[31], duration=50, fidelity=0.9975005110338343), GateInfo(operator='RX', parameters=[-1.5707963267948966], arguments=[31], duration=50, fidelity=0.9975005110338343)]),\n",
       " Qubit(id=32, type=None, dead=False, gates=[MeasureInfo(operator='MEASURE', qubit=32, target='_', duration=2000, fidelity=0.88), MeasureInfo(operator='MEASURE', qubit=32, target=None, duration=2000, fidelity=0.88), GateInfo(operator='RZ', parameters=['_'], arguments=[32], duration=0.01, fidelity=1.0), GateInfo(operator='RX', parameters=[0.0], arguments=[32], duration=50, fidelity=1.0), GateInfo(operator='RX', parameters=[3.141592653589793], arguments=[32], duration=50, fidelity=0.9101559576214623), GateInfo(operator='RX', parameters=[-3.141592653589793], arguments=[32], duration=50, fidelity=0.9101559576214623), GateInfo(operator='RX', parameters=[1.5707963267948966], arguments=[32], duration=50, fidelity=0.9101559576214623), GateInfo(operator='RX', parameters=[-1.5707963267948966], arguments=[32], duration=50, fidelity=0.9101559576214623)]),\n",
       " Qubit(id=33, type=None, dead=False, gates=[MeasureInfo(operator='MEASURE', qubit=33, target='_', duration=2000, fidelity=0.905), MeasureInfo(operator='MEASURE', qubit=33, target=None, duration=2000, fidelity=0.905), GateInfo(operator='RZ', parameters=['_'], arguments=[33], duration=0.01, fidelity=1.0), GateInfo(operator='RX', parameters=[0.0], arguments=[33], duration=50, fidelity=1.0), GateInfo(operator='RX', parameters=[3.141592653589793], arguments=[33], duration=50, fidelity=0.991498471830458), GateInfo(operator='RX', parameters=[-3.141592653589793], arguments=[33], duration=50, fidelity=0.991498471830458), GateInfo(operator='RX', parameters=[1.5707963267948966], arguments=[33], duration=50, fidelity=0.991498471830458), GateInfo(operator='RX', parameters=[-1.5707963267948966], arguments=[33], duration=50, fidelity=0.991498471830458)]),\n",
       " Qubit(id=34, type=None, dead=False, gates=[MeasureInfo(operator='MEASURE', qubit=34, target='_', duration=2000, fidelity=0.975), MeasureInfo(operator='MEASURE', qubit=34, target=None, duration=2000, fidelity=0.975), GateInfo(operator='RZ', parameters=['_'], arguments=[34], duration=0.01, fidelity=1.0), GateInfo(operator='RX', parameters=[0.0], arguments=[34], duration=50, fidelity=1.0), GateInfo(operator='RX', parameters=[3.141592653589793], arguments=[34], duration=50, fidelity=0.9958065340925156), GateInfo(operator='RX', parameters=[-3.141592653589793], arguments=[34], duration=50, fidelity=0.9958065340925156), GateInfo(operator='RX', parameters=[1.5707963267948966], arguments=[34], duration=50, fidelity=0.9958065340925156), GateInfo(operator='RX', parameters=[-1.5707963267948966], arguments=[34], duration=50, fidelity=0.9958065340925156)]),\n",
       " Qubit(id=35, type=None, dead=False, gates=[MeasureInfo(operator='MEASURE', qubit=35, target='_', duration=2000, fidelity=0.9840000000000001), MeasureInfo(operator='MEASURE', qubit=35, target=None, duration=2000, fidelity=0.9840000000000001), GateInfo(operator='RZ', parameters=['_'], arguments=[35], duration=0.01, fidelity=1.0), GateInfo(operator='RX', parameters=[0.0], arguments=[35], duration=50, fidelity=1.0), GateInfo(operator='RX', parameters=[3.141592653589793], arguments=[35], duration=50, fidelity=0.9976101961550574), GateInfo(operator='RX', parameters=[-3.141592653589793], arguments=[35], duration=50, fidelity=0.9976101961550574), GateInfo(operator='RX', parameters=[1.5707963267948966], arguments=[35], duration=50, fidelity=0.9976101961550574), GateInfo(operator='RX', parameters=[-1.5707963267948966], arguments=[35], duration=50, fidelity=0.9976101961550574)]),\n",
       " Qubit(id=36, type=None, dead=False, gates=[MeasureInfo(operator='MEASURE', qubit=36, target='_', duration=2000, fidelity=0.956), MeasureInfo(operator='MEASURE', qubit=36, target=None, duration=2000, fidelity=0.956), GateInfo(operator='RZ', parameters=['_'], arguments=[36], duration=0.01, fidelity=1.0), GateInfo(operator='RX', parameters=[0.0], arguments=[36], duration=50, fidelity=1.0), GateInfo(operator='RX', parameters=[3.141592653589793], arguments=[36], duration=50, fidelity=0.9985235880380974), GateInfo(operator='RX', parameters=[-3.141592653589793], arguments=[36], duration=50, fidelity=0.9985235880380974), GateInfo(operator='RX', parameters=[1.5707963267948966], arguments=[36], duration=50, fidelity=0.9985235880380974), GateInfo(operator='RX', parameters=[-1.5707963267948966], arguments=[36], duration=50, fidelity=0.9985235880380974)]),\n",
       " Qubit(id=37, type=None, dead=False, gates=[MeasureInfo(operator='MEASURE', qubit=37, target='_', duration=2000, fidelity=0.9610000000000001), MeasureInfo(operator='MEASURE', qubit=37, target=None, duration=2000, fidelity=0.9610000000000001), GateInfo(operator='RZ', parameters=['_'], arguments=[37], duration=0.01, fidelity=1.0), GateInfo(operator='RX', parameters=[0.0], arguments=[37], duration=50, fidelity=1.0), GateInfo(operator='RX', parameters=[3.141592653589793], arguments=[37], duration=50, fidelity=0.9979959217153511), GateInfo(operator='RX', parameters=[-3.141592653589793], arguments=[37], duration=50, fidelity=0.9979959217153511), GateInfo(operator='RX', parameters=[1.5707963267948966], arguments=[37], duration=50, fidelity=0.9979959217153511), GateInfo(operator='RX', parameters=[-1.5707963267948966], arguments=[37], duration=50, fidelity=0.9979959217153511)])]"
      ]
     },
     "execution_count": 165,
     "metadata": {},
     "output_type": "execute_result"
    }
   ],
   "source": [
    "details.qubits"
   ]
  },
  {
   "cell_type": "code",
   "execution_count": null,
   "metadata": {},
   "outputs": [],
   "source": []
  }
 ],
 "metadata": {
  "kernelspec": {
   "display_name": "Python 3",
   "language": "python",
   "name": "python3"
  },
  "language_info": {
   "codemirror_mode": {
    "name": "ipython",
    "version": 3
   },
   "file_extension": ".py",
   "mimetype": "text/x-python",
   "name": "python",
   "nbconvert_exporter": "python",
   "pygments_lexer": "ipython3",
   "version": "3.8.6"
  }
 },
 "nbformat": 4,
 "nbformat_minor": 4
}
