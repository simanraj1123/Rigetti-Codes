{
 "cells": [
  {
   "cell_type": "code",
   "execution_count": 4,
   "metadata": {},
   "outputs": [],
   "source": [
    "import numpy as np, matplotlib.pyplot as plt, random\n",
    "from functools import lru_cache\n",
    "from pyquil import Program, get_qc\n",
    "from pyquil.gates import *\n",
    "import os\n",
    "from pyquil.quilatom import quil_sin, quil_cos, Parameter\n",
    "from pyquil.quilbase import DefGate\n",
    "from pyquil.latex import display, to_latex\n",
    "import pickle\n",
    "from collections import Counter"
   ]
  },
  {
   "cell_type": "code",
   "execution_count": 3,
   "metadata": {},
   "outputs": [
    {
     "data": {
      "image/png": "[encoded data removed]",
      "text/plain": [
       "<Figure size 432x288 with 1 Axes>"
      ]
     },
     "metadata": {
      "needs_background": "light"
     },
     "output_type": "display_data"
    }
   ],
   "source": [
    "def init_state_circ(bits, amps):\n",
    "    \n",
    "    alpha = 2 * np.arccos(np.abs(amps[0]))\n",
    "    s = 2 * np.arccos(np.abs(amps[1]) / np.sqrt(1 - np.abs(amps[0])**2))\n",
    "    circ = Program()\n",
    "    \n",
    "    circ += X(bits[0])\n",
    "    circ += RY(alpha, bits[1])\n",
    "    circ += CNOT(bits[1], bits[0])\n",
    "    \n",
    "    circ += RY(s/2, bits[2])\n",
    "    circ += CNOT(bits[1], bits[2])\n",
    "    circ += RY(-s/2, bits[2])\n",
    "    circ += CNOT(bits[1], bits[2])\n",
    "    \n",
    "    circ += CNOT(bits[2], bits[1])\n",
    "    \n",
    "    return circ\n",
    "\n",
    "def pair_circuit(bits):\n",
    "    circ = Program()\n",
    "    \n",
    "    circ += X(bits[0])\n",
    "    circ += H(bits[1])\n",
    "    circ += CNOT(bits[1],bits[0])\n",
    "    \n",
    "    return circ\n",
    "\n",
    "def get_kappa(circs):\n",
    "    qc = get_qc('Aspen-9', as_qvm=True)\n",
    "    results = []\n",
    "    \n",
    "    for circ in circs:\n",
    "        exe = qc.compile(circ)\n",
    "        result = qc.run(exe)\n",
    "        result = Counter([''.join(list(map(str,x))) for x in result])\n",
    "        if '000' not in result.keys():\n",
    "            result['000'] = 0\n",
    "        \n",
    "        results.append(result)\n",
    "    \n",
    "    return results\n",
    "\n",
    "def kappa(all_counts):\n",
    "    k = 3 * all_counts[0]['000']\n",
    "    k += -2 * (all_counts[1]['000'] + all_counts[2]['000'] + all_counts[3]['000'])\n",
    "    k += all_counts[4]['100'] + all_counts[4]['010'] + all_counts[4]['001']\n",
    "    \n",
    "    k = k/n_shots\n",
    "    \n",
    "    return k\n",
    "\n",
    "from statistics import mean\n",
    "from random import randint\n",
    "def bootstrap(l, n_sample=100_000):\n",
    "    sample_mean = mean(l)\n",
    "    mean_l = [mean(l)]\n",
    "    \n",
    "    for i in range(n_sample):\n",
    "        boot_sample = [l[randint(0,len(l)-1)] for j in range(len(l))]\n",
    "        mean_l.append(mean(boot_sample))\n",
    "    \n",
    "    mean_l.sort()\n",
    "    cf = (mean_l[int(0.005*len(mean_l))], mean_l[int(0.995*len(mean_l))])\n",
    "    \n",
    "    return (mean_l, sample_mean, cf)\n",
    "\n",
    "bits = [10,11,12]\n",
    "amps = [1/np.sqrt(3), 1/np.sqrt(3)]\n",
    "circ = init_state_circ(bits, amps)\n",
    "\n",
    "n_shots = 8192\n",
    "\n",
    "circ_123 = circ + init_state_circ(bits, amps).dagger()\n",
    "c = circ_123.declare('ro', 'BIT', 3)\n",
    "for i in range(3):\n",
    "    circ_123 += MEASURE(bits[i], c[i])\n",
    "circ_123.wrap_in_numshots_loop(n_shots)\n",
    "    \n",
    "circ_12 = circ + pair_circuit([10,11]).dagger()\n",
    "c = circ_12.declare('ro', 'BIT', 3)\n",
    "for i in range(3):\n",
    "    circ_12 += MEASURE(bits[i], c[i])\n",
    "circ_12.wrap_in_numshots_loop(n_shots)\n",
    "    \n",
    "circ_23 = circ + pair_circuit([11, 12]).dagger()\n",
    "c = circ_23.declare('ro', 'BIT', 3)\n",
    "for i in range(3):\n",
    "    circ_23 += MEASURE(bits[i], c[i])\n",
    "circ_23.wrap_in_numshots_loop(n_shots)\n",
    "    \n",
    "circ_31 = circ + pair_circuit([12, 10]).dagger()\n",
    "c = circ_31.declare('ro', 'BIT', 3)\n",
    "for i in range(3):\n",
    "    circ_31 += MEASURE(bits[i], c[i])\n",
    "circ_31.wrap_in_numshots_loop(n_shots)\n",
    "\n",
    "circ_singles = circ\n",
    "c = circ_singles.declare('ro', 'BIT', 3)\n",
    "for i in range(3):\n",
    "    circ_singles += MEASURE(bits[i], c[i])\n",
    "circ_singles.wrap_in_numshots_loop(n_shots)\n",
    "\n",
    "\n",
    "circ_list = [circ_123, circ_12, circ_23, circ_31, circ_singles]\n",
    "\n",
    "kappas = []\n",
    "x = np.arange(10)\n",
    "for i in x:\n",
    "    all_counts = get_kappa(circ_list)\n",
    "    kappas.append(kappa(all_counts))\n",
    "\n",
    "with open('Born_2021_05_11_bits_10_11_12_8192_shots_10_runs_1_asqvm.pkl', 'wb') as file:\n",
    "    pickle.dump(kappas, file)\n",
    "boot_res = bootstrap(kappas)\n",
    "\n",
    "plt.hist(boot_res[0])\n",
    "plt.show()"
   ]
  },
  {
   "cell_type": "code",
   "execution_count": 2,
   "metadata": {},
   "outputs": [
    {
     "data": {
      "text/plain": [
       "(-0.0093994140625, 0.0147705078125)"
      ]
     },
     "execution_count": 2,
     "metadata": {},
     "output_type": "execute_result"
    }
   ],
   "source": [
    "boot_res[2]"
   ]
  },
  {
   "cell_type": "code",
   "execution_count": 14,
   "metadata": {},
   "outputs": [
    {
     "data": {
      "image/png": "[encoded data removed]",
      "text/plain": [
       "<Figure size 432x288 with 1 Axes>"
      ]
     },
     "metadata": {
      "needs_background": "light"
     },
     "output_type": "display_data"
    }
   ],
   "source": [
    "def init_state_circ_2(bits, amps):\n",
    "    alpha = 2 * np.arccos(np.abs(amps[0]))\n",
    "    s = 2 * np.arccos(np.abs(amps[1]) / np.sqrt(1 - np.abs(amps[0])**2))\n",
    "    circ = Program()\n",
    "    \n",
    "    circ += RY(alpha, bits[0])\n",
    "    circ += RY(s/2, bits[1])\n",
    "    circ += CNOT(bits[0], bits[1])\n",
    "    circ += RY(-s/2, bits[1])\n",
    "    circ += CNOT(bits[0], bits[1])\n",
    "    \n",
    "    return circ\n",
    "\n",
    "bits = [10,11]\n",
    "amps = [1/np.sqrt(3), 1/np.sqrt(3)]\n",
    "circ = init_state_circ_2(bits, amps)\n",
    "\n",
    "n_shots = 8192\n",
    "\n",
    "circ_123 = circ + init_state_circ_2(bits, [1/np.sqrt(3), 1/np.sqrt(3)]).dagger()\n",
    "c = circ_123.declare('ro', 'BIT', len(bits))\n",
    "for i in range(len(bits)):\n",
    "    circ_123 += MEASURE(bits[i], c[i])\n",
    "circ_123.wrap_in_numshots_loop(n_shots)\n",
    "    \n",
    "\n",
    "circ_12 = circ + init_state_circ_2(bits, [1/np.sqrt(2), 1/np.sqrt(2)]).dagger()\n",
    "c = circ_12.declare('ro', 'BIT', len(bits))\n",
    "for i in range(len(bits)):\n",
    "    circ_12 += MEASURE(bits[i], c[i])\n",
    "circ_12.wrap_in_numshots_loop(n_shots)\n",
    "\n",
    "\n",
    "circ_23 = circ + init_state_circ_2(bits, [0, 1/np.sqrt(2)]).dagger()\n",
    "c = circ_23.declare('ro', 'BIT', len(bits))\n",
    "for i in range(len(bits)):\n",
    "    circ_23 += MEASURE(bits[i], c[i])\n",
    "circ_23.wrap_in_numshots_loop(n_shots)\n",
    "\n",
    "\n",
    "circ_31 = circ + init_state_circ_2(bits, [1/np.sqrt(2), 0]).dagger()\n",
    "c = circ_31.declare('ro', 'BIT', len(bits))\n",
    "for i in range(len(bits)):\n",
    "    circ_31 += MEASURE(bits[i], c[i])\n",
    "circ_31.wrap_in_numshots_loop(n_shots)\n",
    "\n",
    "\n",
    "circ_singles = circ\n",
    "c = circ_singles.declare('ro', 'BIT', len(bits))\n",
    "for i in range(len(bits)):\n",
    "    circ_singles += MEASURE(bits[i], c[i])\n",
    "circ_singles.wrap_in_numshots_loop(n_shots)\n",
    "\n",
    "\n",
    "circ_list = [circ_123, circ_12, circ_23, circ_31, circ_singles]\n",
    "\n",
    "def get_kappa(circs):\n",
    "    qc = get_qc('Aspen-9', as_qvm=True)\n",
    "    results = []\n",
    "    \n",
    "    for circ in circs:\n",
    "        exe = qc.compile(circ)\n",
    "        result = qc.run(exe)\n",
    "        result = Counter([''.join(list(map(str,x))) for x in result])\n",
    "        if '00' not in result.keys():\n",
    "            result['00'] = 0\n",
    "        \n",
    "        results.append(result)\n",
    "    \n",
    "    return results\n",
    "\n",
    "def kappa(all_counts):\n",
    "    k = 3 * all_counts[0]['00']\n",
    "    k += -2 * (all_counts[1]['00'] + all_counts[2]['00'] + all_counts[3]['00'])\n",
    "    k += all_counts[4]['00'] + all_counts[4]['10'] + all_counts[4]['11']\n",
    "    \n",
    "    k = k/n_shots\n",
    "    \n",
    "    return k\n",
    "\n",
    "kappas = []\n",
    "x = np.arange(10)\n",
    "for i in x:\n",
    "    all_counts = get_kappa(circ_list)\n",
    "    kappas.append(kappa(all_counts))\n",
    "\n",
    "# plt.hist(kappas)\n",
    "# plt.show()\n",
    "\n",
    "from statistics import mean\n",
    "from random import randint\n",
    "def bootstrap(l, n_sample=100_000):\n",
    "    sample_mean = mean(l)\n",
    "    mean_l = [mean(l)]\n",
    "    \n",
    "    for i in range(n_sample):\n",
    "        boot_sample = [l[randint(0,len(l)-1)] for j in range(len(l))]\n",
    "        mean_l.append(mean(boot_sample))\n",
    "    \n",
    "    mean_l.sort()\n",
    "    cf = (mean_l[int(0.005*len(mean_l))], mean_l[int(0.995*len(mean_l))])\n",
    "    \n",
    "    return (mean_l, sample_mean, cf)\n",
    "\n",
    "\n",
    "with open('Born_2021_05_11_bits_10_11_8192_shots_10_runs_0_asqvm.pkl', 'wb') as file:\n",
    "    pickle.dump(kappas, file)\n",
    "    \n",
    "boot_res = bootstrap(kappas)\n",
    "plt.hist(boot_res[0])\n",
    "plt.show()"
   ]
  },
  {
   "cell_type": "code",
   "execution_count": 16,
   "metadata": {},
   "outputs": [],
   "source": [
    "folder = 'Born_2021_05_11_bits_10_11_runs_10'\n",
    "with open('Born_2021_05_11_bits_10_11_runs_10_files.txt') as file:\n",
    "    filenames = list(map(str.strip, file.readlines()))\n",
    "\n",
    "results = []\n",
    "for filename in filenames:\n",
    "    with open(f'{folder}/{filename}', 'rb') as file:\n",
    "        results.append(pickle.load(file))\n",
    "        \n",
    "boot_res = list(map(bootstrap, results))"
   ]
  },
  {
   "cell_type": "code",
   "execution_count": 18,
   "metadata": {},
   "outputs": [
    {
     "data": {
      "image/png": "[encoded data removed]",
      "text/plain": [
       "<Figure size 432x288 with 1 Axes>"
      ]
     },
     "metadata": {
      "needs_background": "light"
     },
     "output_type": "display_data"
    }
   ],
   "source": [
    "labels = ['1024(qvm)', '1024', '2048', '2048(qvm)', '4096', '4096', '8192']\n",
    "for i in range(len(boot_res)):\n",
    "    plt.hist(boot_res[i][0], alpha=0.75)\n",
    "# plt.legend(loc='upper center')\n",
    "plt.xlabel('$\\\\kappa$', size=14)\n",
    "plt.ylabel('Frequency', size=14)\n",
    "plt.title('Born-test on Aspen-9')\n",
    "plt.savefig('Born_test_on_Aspen.pdf', bbox_inches='tight')\n",
    "plt.show()"
   ]
  },
  {
   "cell_type": "code",
   "execution_count": 19,
   "metadata": {},
   "outputs": [
    {
     "data": {
      "text/plain": [
       "['Born_2021_05_11_bits_10_11_1024_shots_10_runs_0_asqvm.pkl',\n",
       " 'Born_2021_05_11_bits_10_11_1024_shots_10_runs_0.pkl',\n",
       " 'Born_2021_05_11_bits_10_11_2048_shots_10_runs_0_asqvm.pkl',\n",
       " 'Born_2021_05_11_bits_10_11_2048_shots_10_runs_0.pkl',\n",
       " 'Born_2021_05_11_bits_10_11_4096_shots_10_runs_0_asqvm.pkl',\n",
       " 'Born_2021_05_11_bits_10_11_4096_shots_10_runs_0.pkl',\n",
       " 'Born_2021_05_11_bits_10_11_8192_shots_10_runs_0_asqvm.pkl',\n",
       " 'Born_2021_05_11_bits_10_11_8192_shots_10_runs_0.pkl']"
      ]
     },
     "execution_count": 19,
     "metadata": {},
     "output_type": "execute_result"
    }
   ],
   "source": [
    "filenames"
   ]
  },
  {
   "cell_type": "code",
   "execution_count": null,
   "metadata": {},
   "outputs": [],
   "source": []
  }
 ],
 "metadata": {
  "kernelspec": {
   "display_name": "Python 3",
   "language": "python",
   "name": "python3"
  },
  "language_info": {
   "codemirror_mode": {
    "name": "ipython",
    "version": 3
   },
   "file_extension": ".py",
   "mimetype": "text/x-python",
   "name": "python",
   "nbconvert_exporter": "python",
   "pygments_lexer": "ipython3",
   "version": "3.8.6"
  }
 },
 "nbformat": 4,
 "nbformat_minor": 4
}
