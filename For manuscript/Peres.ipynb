{
 "cells": [
  {
   "cell_type": "markdown",
   "metadata": {},
   "source": [
    "# Peres"
   ]
  },
  {
   "cell_type": "markdown",
   "metadata": {},
   "source": [
    "## Importing libraries"
   ]
  },
  {
   "cell_type": "code",
   "execution_count": 32,
   "metadata": {},
   "outputs": [],
   "source": [
    "# Importing essential libraries\n",
    "import numpy as np, matplotlib.pyplot as plt, random, time\n",
    "from functools import lru_cache\n",
    "from pyquil import Program, get_qc\n",
    "from pyquil.gates import *\n",
    "import os\n",
    "from pyquil.quilatom import quil_sin, quil_cos, Parameter\n",
    "from pyquil.quilbase import DefGate\n",
    "from pyquil.latex import display, to_latex\n",
    "# import Peres_helpers as hf\n",
    "import pickle\n",
    "from collections import Counter\n",
    "import time\n",
    "import statistics"
   ]
  },
  {
   "cell_type": "markdown",
   "metadata": {},
   "source": [
    "## Generating random angles"
   ]
  },
  {
   "cell_type": "code",
   "execution_count": 3,
   "metadata": {},
   "outputs": [],
   "source": [
    "# Number of shots and z-score for confidence interval\n",
    "N_SHOTS = 10_000\n",
    "Z_SCORE = 3\n",
    "\n",
    "# Generating random angles\n",
    "e=0\n",
    "def params_complex():\n",
    "\t'''\n",
    "\tGenerates parameters to prepare COMPLEX quantum states.\n",
    "    \n",
    "    Returns:\n",
    "        A list of three tuples. The first element of each tuple is the value of theta \n",
    "        and the second element is the value of phi.\n",
    "    \n",
    "\t'''\n",
    "\ttheta = np.arccos(np.cos(e) - 2 * np.array([random.uniform(0,1) for _ in range(3)]))\n",
    "\tphi = np.array([2*np.pi*random.uniform(0,1) for _ in range(3)])\n",
    "\tparams = zip(theta, phi)\n",
    "\treturn list(params)"
   ]
  },
  {
   "cell_type": "markdown",
   "metadata": {},
   "source": [
    "## Circuit construction"
   ]
  },
  {
   "cell_type": "code",
   "execution_count": 4,
   "metadata": {},
   "outputs": [],
   "source": [
    "# The circuit for constructing the product state and measuring in Bell basis.\n",
    "def circuit_bell(qubit1, qubit2):\n",
    "    circ = Program()\n",
    "    \n",
    "    c = circ.declare('ro', 'BIT', 2)\n",
    "    theta = circ.declare('theta', 'REAL', 2)\n",
    "#     thetam = circ.declare('thetam', 'REAL', 1)\n",
    "    phi = circ.declare('phi', 'REAL', 2)\n",
    "    \n",
    "    # Preparation of states.\n",
    "    circ += RY(theta[0], qubit1)\n",
    "    circ += RZ(phi[0], qubit1)\n",
    "    \n",
    "    circ += RY(theta[1], qubit2)\n",
    "    circ += RZ(phi[1], qubit2)\n",
    "    \n",
    "    # Measuring in psi+ basis\n",
    "    # REMOVED FOR TEST OF SIMPLER CIRCUIT\n",
    "    circ += CNOT(qubit1, qubit2)\n",
    "#     circ += RY(qubit1, thetam)\n",
    "    circ += H(qubit1)\n",
    "\n",
    "    circ += MEASURE(qubit1, c[0])\n",
    "    circ += MEASURE(qubit2, c[1])\n",
    "    \n",
    "    circ.wrap_in_numshots_loop(N_SHOTS)\n",
    "    \n",
    "    return circ\n",
    "\n",
    "# The circuit for constructing the product state and measuring in Computational basis.\n",
    "def circuit_comp(qubit1, qubit2):\n",
    "    circ = Program()\n",
    "    \n",
    "    c = circ.declare('ro', 'BIT', 2)\n",
    "    theta = circ.declare('theta', 'REAL', 2)\n",
    "    phi = circ.declare('phi', 'REAL', 2)\n",
    "    \n",
    "    # Preparation of states.\n",
    "    circ += RY(theta[0], qubit1)\n",
    "    circ += RZ(phi[0], qubit1)\n",
    "    \n",
    "    circ += RY(theta[1], qubit2)\n",
    "    circ += RZ(phi[1], qubit2)\n",
    "    \n",
    "    circ += MEASURE(qubit1, c[0])\n",
    "    circ += MEASURE(qubit2, c[1])\n",
    "    \n",
    "    circ.wrap_in_numshots_loop(N_SHOTS)\n",
    "    \n",
    "    return circ"
   ]
  },
  {
   "cell_type": "markdown",
   "metadata": {},
   "source": [
    "## Theoretical probabilities"
   ]
  },
  {
   "cell_type": "code",
   "execution_count": 6,
   "metadata": {},
   "outputs": [],
   "source": [
    "# The theoretical probabilities\n",
    "def theoretical_probs(state_params):\n",
    "    theta, phi = tuple(map(list, zip(*state_params)))\n",
    "        \n",
    "    probs = {\n",
    "        'P_12': (1/2) * np.abs(np.cos(theta[0]/2) * np.sin(theta[1]/2) * np.exp(1j*(phi[1] - phi[0])/2) + np.sin(theta[0]/2) * np.cos(theta[1]/2) * np.exp(-1j*(phi[1]-phi[0])/2))**2,\n",
    "        'P_12_1': np.abs(np.cos(theta[0]/2) * np.sin(theta[1]/2))**2,\n",
    "        'P_12_2': np.abs(np.sin(theta[0]/2) * np.cos(theta[1]/2))**2,\n",
    "        \n",
    "        'P_23': (1/2) * np.abs(np.cos(theta[1]/2) * np.sin(theta[2]/2) * np.exp(1j*(phi[2] - phi[1])/2) + np.sin(theta[1]/2) * np.cos(theta[2]/2) * np.exp(-1j*(phi[2]-phi[1])/2))**2,\n",
    "        'P_23_1': np.abs(np.cos(theta[1]/2) * np.sin(theta[2]/2))**2,\n",
    "        'P_23_2': np.abs(np.sin(theta[1]/2) * np.cos(theta[2]/2))**2,\n",
    "        \n",
    "        'P_31': (1/2) * np.abs(np.cos(theta[2]/2) * np.sin(theta[0]/2) * np.exp(1j*(phi[0] - phi[2])/2) + np.sin(theta[2]/2) * np.cos(theta[0]/2) * np.exp(-1j*(phi[0]-phi[2])/2))**2,\n",
    "        'P_31_1': np.abs(np.cos(theta[2]/2) * np.sin(theta[0]/2))**2,\n",
    "        'P_31_2': np.abs(np.sin(theta[2]/2) * np.cos(theta[0]/2))**2\n",
    "    }\n",
    "    \n",
    "#     probs['Kappa'] = 3 * probs['P_123'] - 2 * (probs['P_12'] + probs['P_23'] + probs['P_31']) + probs['P_1'] + probs['P_2'] + probs['P_3']\n",
    "    \n",
    "    return probs"
   ]
  },
  {
   "cell_type": "code",
   "execution_count": 66,
   "metadata": {},
   "outputs": [],
   "source": [
    "# Getting the theoretical fluctuations with 1000 repetitions of the same circuit\n",
    "ci_a = 0.005\n",
    "ci_b = 1 - ci_a\n",
    "def get_ci(state_list):\n",
    "    ci_list = []\n",
    "    v_list = []\n",
    "    for state in state_list:\n",
    "        probs = theoretical_probs(state['State_params'])\n",
    "        g12_list = []\n",
    "        g23_list = []\n",
    "        g31_list = []\n",
    "        f_list = []\n",
    "        for i in range(1000):\n",
    "            c12 = Counter(random.choices(['0','1'], weights=[probs['P_12'], 1-probs['P_12']], k=N_SHOTS))['0']\n",
    "            c12_Singles = Counter(random.choices(['0','1','2'], weights=[probs['P_12_1'], probs['P_12_2'], 1-probs['P_12_1']-probs['P_12_2']], k=N_SHOTS))\n",
    "            g12 = (2*c12 - c12_Singles['0'] - c12_Singles['1']) / (2 * np.sqrt(c12_Singles['0'] * c12_Singles['1']))\n",
    "            \n",
    "            c23 = Counter(random.choices(['0','1'], weights=[probs['P_23'], 1-probs['P_23']], k=N_SHOTS))['0']\n",
    "            c23_Singles = Counter(random.choices(['0','1','2'], weights=[probs['P_23_1'], probs['P_23_2'], 1-probs['P_23_1']-probs['P_23_2']], k=N_SHOTS))\n",
    "            g23 = (2*c23 - c23_Singles['0'] - c23_Singles['1']) / (2 * np.sqrt(c23_Singles['0'] * c23_Singles['1']))\n",
    "            \n",
    "            c31 = Counter(random.choices(['0','1'], weights=[probs['P_31'], 1-probs['P_31']], k=N_SHOTS))['0']\n",
    "            c31_Singles = Counter(random.choices(['0','1','2'], weights=[probs['P_31_1'], probs['P_31_2'], 1-probs['P_31_1']-probs['P_31_2']], k=N_SHOTS))\n",
    "            g31 = (2*c31 - c31_Singles['0'] - c31_Singles['1']) / (2 * np.sqrt(c31_Singles['0'] * c31_Singles['1']))\n",
    "            \n",
    "            f = g12**2 + g23**2 + g31**2 - 2*g12*g23*g31\n",
    "            \n",
    "            g12_list.append(g12)\n",
    "            g23_list.append(g23)\n",
    "            g31_list.append(g31)\n",
    "            f_list.append(f)\n",
    "        \n",
    "        g12_list.sort()\n",
    "        g23_list.sort()\n",
    "        g31_list.sort()\n",
    "        f_list.sort()\n",
    "#         ci = [k_list[int(ci_a*len(k_list))], k_list[int(ci_b*len(k_list)) - 1]]#\n",
    "        g12ci = [g12_list[int(0+ci_a*len(g12_list))], g12_list[int(len(g12_list) - 1 - ci_a*len(g12_list))]]\n",
    "        g23ci = [g23_list[int(0+ci_a*len(g23_list))], g23_list[int(len(g23_list) - 1 - ci_a*len(g23_list))]]\n",
    "        g31ci = [g31_list[int(0+ci_a*len(g31_list))], g31_list[int(len(g31_list) - 1 - ci_a*len(g31_list))]]\n",
    "        fci = [f_list[int(0+ci_a*len(f_list))], f_list[int(len(f_list) - 1 - ci_a*len(f_list))]]\n",
    "        # ci = [k_list[int(0.00*len(k_list))], k_list[int(1*(len(k_list)-1))]]\n",
    "#         ci_list.append(ci)\n",
    "        state['Theory'] = {'g12': {}, 'g23': {}, 'g31': {}, 'f': {}}\n",
    "        state['Theory']['g12']['val'] = statistics.mean(g12_list)#(g12ci[0] + g12ci[1])/2\n",
    "        state['Theory']['g12']['ci'] = g12ci\n",
    "        \n",
    "        state['Theory']['g23']['val'] = statistics.mean(g23_list)#(g23ci[0] + g23ci[1])/2\n",
    "        state['Theory']['g23']['ci'] = g23ci\n",
    "        \n",
    "        state['Theory']['g31']['val'] = statistics.mean(g31_list)#(g31ci[0] + g31ci[1])/2\n",
    "        state['Theory']['g31']['ci'] = g31ci\n",
    "        \n",
    "        state['Theory']['f']['val'] = statistics.mean(f_list)#(fci[0] + fci[1])/2\n",
    "        state['Theory']['f']['ci'] = fci\n",
    "        \n",
    "        print(f'Done with state no. {state_list.index(state)}', end='\\r')\n",
    "#         v_list.append(max(k_list))\n",
    "\n",
    "    return state_list"
   ]
  },
  {
   "cell_type": "code",
   "execution_count": 67,
   "metadata": {},
   "outputs": [
    {
     "name": "stdout",
     "output_type": "stream",
     "text": [
      "Done with state no. 9\r"
     ]
    }
   ],
   "source": [
    "# Generate random states\n",
    "states = [{'State_params': params_complex()} for _ in range(10)]\n",
    "states = get_ci(states)"
   ]
  },
  {
   "cell_type": "code",
   "execution_count": 68,
   "metadata": {},
   "outputs": [
    {
     "data": {
      "text/plain": [
       "(0.8, 1.2)"
      ]
     },
     "execution_count": 68,
     "metadata": {},
     "output_type": "execute_result"
    },
    {
     "data": {
      "image/png": "[encoded data removed]",
      "text/plain": [
       "<Figure size 432x288 with 1 Axes>"
      ]
     },
     "metadata": {
      "needs_background": "light"
     },
     "output_type": "display_data"
    }
   ],
   "source": [
    "quant = 'f'\n",
    "x = np.arange(len(states))\n",
    "y = np.array([states[i]['Theory'][quant]['val'] for i in range(len(states))])\n",
    "yerr = np.array([states[i]['Theory'][quant]['ci'] for i in range(len(states))])\n",
    "\n",
    "plt.errorbar(x, y, yerr=[y - yerr[:,0], yerr[:,1] - y], marker='o', ls='')\n",
    "# plt.plot(x,y)\n",
    "plt.axhline(y=1, ls='dashed', color='red')\n",
    "plt.ylim([0.8, 1.2])"
   ]
  },
  {
   "cell_type": "code",
   "execution_count": 15,
   "metadata": {},
   "outputs": [],
   "source": [
    "def run_circuit(states, engine):\n",
    "    '''\n",
    "    Compile and run the circuit given the parameters. The list of outputs is returned.\n",
    "    '''\n",
    "    for state in states:\n",
    "        state[engine] = {}\n",
    "        theta, phi = tuple(map(list, zip(*state['State_params'])))\n",
    "        \n",
    "        # Config 12\n",
    "        circ = circuit_bell(q1, q2)\n",
    "        exe = qc.compile(circ)\n",
    "        \n",
    "        clicks = qc.run(exe, memory_map={'theta':[theta[0], theta[1]], 'phi': [phi[0], phi[1]]})\n",
    "        clicks = [''.join(list(map(str, x))) for x in clicks]\n",
    "        state[engine]['Clicks_12'] = np.array(clicks)\n",
    "        state[engine]['Counts_12'] = Counter(clicks)['01']\n",
    "        \n",
    "        circ = circuit_comp(q1, q2)\n",
    "        exe = qc.compile(circ)\n",
    "        \n",
    "        clicks = qc.run(exe, memory_map={'theta':[theta[0], theta[1]], 'phi': [phi[0], phi[1]]})\n",
    "        clicks = [''.join(list(map(str, x))) for x in clicks]\n",
    "        state[engine]['Clicks_12_Singles'] = np.array(clicks)\n",
    "        state[engine]['Counts_12_Singles'] = Counter(clicks)\n",
    "        \n",
    "        # Config 23\n",
    "        circ = circuit_bell(q1, q2)\n",
    "        exe = qc.compile(circ)\n",
    "        \n",
    "        clicks = qc.run(exe, memory_map={'theta':[theta[1], theta[2]], 'phi': [phi[1], phi[2]]})\n",
    "        clicks = [''.join(list(map(str, x))) for x in clicks]\n",
    "        state[engine]['Clicks_23'] = np.array(clicks)\n",
    "        state[engine]['Counts_23'] = Counter(clicks)['01']\n",
    "        \n",
    "        circ = circuit_comp(q1, q2)\n",
    "        exe = qc.compile(circ)\n",
    "        \n",
    "        clicks = qc.run(exe, memory_map={'theta':[theta[1], theta[2]], 'phi': [phi[1], phi[2]]})\n",
    "        clicks = [''.join(list(map(str, x))) for x in clicks]\n",
    "        state[engine]['Clicks_23_Singles'] = np.array(clicks)\n",
    "        state[engine]['Counts_23_Singles'] = Counter(clicks)\n",
    "        \n",
    "        # Config 31\n",
    "        circ = circuit_bell(q1, q2)\n",
    "        exe = qc.compile(circ)\n",
    "        \n",
    "        clicks = qc.run(exe, memory_map={'theta':[theta[2], theta[0]], 'phi': [phi[2], phi[0]]})\n",
    "        clicks = [''.join(list(map(str, x))) for x in clicks]\n",
    "        state[engine]['Clicks_31'] = np.array(clicks)\n",
    "        state[engine]['Counts_31'] = Counter(clicks)['01']\n",
    "        \n",
    "        circ = circuit_comp(q1, q2)\n",
    "        exe = qc.compile(circ)\n",
    "        \n",
    "        clicks = qc.run(exe, memory_map={'theta':[theta[2], theta[0]], 'phi': [phi[2], phi[0]]})\n",
    "        clicks = [''.join(list(map(str, x))) for x in clicks]\n",
    "        state[engine]['Clicks_31_Singles'] = np.array(clicks)\n",
    "        state[engine]['Counts_31_Singles'] = Counter(clicks)\n",
    "        \n",
    "        \n",
    "#         outcomes['Singles'] = Counter(tmp)\n",
    "        state[engine]['g12'] = {}\n",
    "        state[engine]['g23'] = {}\n",
    "        state[engine]['g31'] = {}\n",
    "        state[engine]['f'] = {}\n",
    "        \n",
    "        state[engine]['g12']['val'] = (2*state[engine]['Counts_12'] - state[engine]['Counts_12_Singles']['01'] - state[engine]['Counts_12_Singles']['01']) / (2*np.sqrt(state[engine]['Counts_12_Singles']['01'] * state[engine]['Counts_12_Singles']['01']))\n",
    "        state[engine]['g23']['val'] = (2*state[engine]['Counts_23'] - state[engine]['Counts_23_Singles']['01'] - state[engine]['Counts_23_Singles']['01']) / (2*np.sqrt(state[engine]['Counts_23_Singles']['01'] * state[engine]['Counts_23_Singles']['01']))\n",
    "        state[engine]['g31']['val'] = (2*state[engine]['Counts_31'] - state[engine]['Counts_31_Singles']['01'] - state[engine]['Counts_31_Singles']['01']) / (2*np.sqrt(state[engine]['Counts_31_Singles']['01'] * state[engine]['Counts_31_Singles']['01']))\n",
    "        state[engine]['f']['val'] = state[engine]['g12']['val']**2 + state[engine]['g23']['val']**2 + state[engine]['g31']['val']**2 - 2 * state[engine]['g12']['val'] * state[engine]['g23']['val'] * state[engine]['g31']['val']\n",
    "    \n",
    "    return states"
   ]
  },
  {
   "cell_type": "code",
   "execution_count": 40,
   "metadata": {},
   "outputs": [
    {
     "data": {
      "text/plain": [
       "1"
      ]
     },
     "execution_count": 40,
     "metadata": {},
     "output_type": "execute_result"
    }
   ],
   "source": [
    "statistics.mode([1,2,3,3,3,4,5,1,1,1,1,1,1])"
   ]
  },
  {
   "cell_type": "code",
   "execution_count": null,
   "metadata": {},
   "outputs": [],
   "source": []
  }
 ],
 "metadata": {
  "kernelspec": {
   "display_name": "Python 3",
   "language": "python",
   "name": "python3"
  },
  "language_info": {
   "codemirror_mode": {
    "name": "ipython",
    "version": 3
   },
   "file_extension": ".py",
   "mimetype": "text/x-python",
   "name": "python",
   "nbconvert_exporter": "python",
   "pygments_lexer": "ipython3",
   "version": "3.8.6"
  }
 },
 "nbformat": 4,
 "nbformat_minor": 4
}
