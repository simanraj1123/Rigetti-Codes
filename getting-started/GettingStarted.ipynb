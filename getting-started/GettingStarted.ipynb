{
 "cells": [
  {
   "cell_type": "markdown",
   "metadata": {},
   "source": [
    "# Getting Started with Quantum Cloud Services \n",
    "\n",
    "Welcome to your IDE! Your Jupyterlab IDE is a virtual development and execution environment for quantum programming. It is hosted in close physical proximity to the QPUs in Rigetti’s quantum data center. This integrated platform eliminates the network latency found in web API access models, allowing you to iterate faster. It comes pre-configured with the Forest SDK which provides a convenient python library for writing quantum programs, and running them on the QVM and the QPU.\n",
    "\n",
    "In this beginner's example, we are going to run a simple `hello_world()`. This function composes a simple quantum program, compiles it, and then runs it on the target device of your choice: either the QVM or a QPU. It is located in the `hello_world.py` file located in the home folder of your server at `/forest-sdk-examples/hello_world.py`."
   ]
  },
  {
   "cell_type": "markdown",
   "metadata": {},
   "source": [
    "## Imports\n",
    "\n",
    "To import `hello_world`, we must include in our path the folder in our IDE where it's located: one folder up from our current directory, or `..`."
   ]
  },
  {
   "cell_type": "code",
   "execution_count": null,
   "metadata": {},
   "outputs": [],
   "source": [
    "import os\n",
    "import sys\n",
    "sys.path.append(os.path.abspath(os.path.join('.')))\n",
    "from hello_world import hello_world, get_active_lattice"
   ]
  },
  {
   "cell_type": "markdown",
   "metadata": {},
   "source": [
    "## Run against the QVM Simulator\n",
    "\n",
    "The function `hello_world` takes an optional argument naming the device to target (the QVM or a QPU). If no argument is provided, the default device is a `9q-generic-qvm`."
   ]
  },
  {
   "cell_type": "code",
   "execution_count": null,
   "metadata": {},
   "outputs": [],
   "source": [
    "\"\"\"Reminder! Please take a look at hello_world.py, where this function resides,\n",
    "to see what program it is creating, how it compiles, and how it runs against\n",
    "the QVM.\"\"\"\n",
    "hello_world()"
   ]
  },
  {
   "cell_type": "markdown",
   "metadata": {},
   "source": [
    "Congratulations! You just ran your first program against the QVM simulator."
   ]
  },
  {
   "cell_type": "markdown",
   "metadata": {},
   "source": [
    "## Run against the real QPU\n",
    "To run against a real quantum computer, you only need to change the device argument to the `hello_world()` program. What QPU devices are available? We can use pyQuil to get a list."
   ]
  },
  {
   "cell_type": "code",
   "execution_count": null,
   "metadata": {},
   "outputs": [],
   "source": [
    "# Query available devices (QPUs)\n",
    "from pyquil.api._devices import list_lattices"
   ]
  },
  {
   "cell_type": "code",
   "execution_count": null,
   "metadata": {},
   "outputs": [],
   "source": [
    "lattice_names = list(list_lattices().keys())  # Available lattices are subject to change.\n",
    "print(f\"Available lattices: {lattice_names}.\")"
   ]
  },
  {
   "cell_type": "code",
   "execution_count": null,
   "metadata": {},
   "outputs": [],
   "source": [
    "# ALERT: This will probably result in an error. Please see below.\n",
    "lattice_name = 'Aspen-8'\n",
    "hello_world(lattice_name)"
   ]
  },
  {
   "cell_type": "markdown",
   "metadata": {},
   "source": [
    "### Hey, why didn't that work?\n",
    "Did you get an error above? If so, **it's because you haven't yet booked time on the QPU**. QCS makes its QPUs available by reservation. You can book reservations via the [QCS Dashboard](https://qcs.rigetti.com/dashboard), or via the `qcs` command, which comes pre-installed in your Jupyterlab IDE. Type in the following in to your Jupyterlab Terminal:\n",
    "```\n",
    "qcs reserve --lattice Aspen-8\n",
    "```\n",
    "\n",
    "Give it a try! Once your reservation begins, you can then re-run the above cell on the lattice you've booked, and get results from our QPU."
   ]
  },
  {
   "cell_type": "markdown",
   "metadata": {},
   "source": [
    "## Where to go from here\n",
    "\n",
    "This is just the beginning of your journey with QCS. Next, feel free to take a look under the hood at some of the QCS features that unlock the full potential of the platform for fast hybrid programming. These can be found in the other pre-loaded example notebooks. Or try writing some new notebooks of your own.\n",
    "\n",
    "Happy quantum programming.\n",
    "\n",
    "*-- The QCS Team*"
   ]
  }
 ],
 "metadata": {
  "kernelspec": {
   "display_name": "Python 3",
   "language": "python",
   "name": "python3"
  },
  "language_info": {
   "codemirror_mode": {
    "name": "ipython",
    "version": 3
   },
   "file_extension": ".py",
   "mimetype": "text/x-python",
   "name": "python",
   "nbconvert_exporter": "python",
   "pygments_lexer": "ipython3",
   "version": "3.8.5"
  }
 },
 "nbformat": 4,
 "nbformat_minor": 4
}
