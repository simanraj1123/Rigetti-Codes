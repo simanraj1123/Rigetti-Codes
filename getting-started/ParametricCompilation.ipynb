{
 "cells": [
  {
   "cell_type": "markdown",
   "metadata": {},
   "source": [
    "# Parametric Compilation on QCS"
   ]
  },
  {
   "cell_type": "markdown",
   "metadata": {},
   "source": [
    "In this notebook, we will walk through how to use **Parametric Compilation** to efficiently execute a collection of Quil programs on the QPU. Although we use a toy example in this notebook, the principles here can be extended to rapidly iterate through real-world applications such as optimizing a variational quantum algorithm (as we will do in the **Max-Cut QAOA** notebook).\n",
    "\n",
    "**NOTE**: This notebook depends on `pyquil >= 2.3.0` and `matplotlib`, which come preinstalled on your IDE."
   ]
  },
  {
   "cell_type": "code",
   "execution_count": 1,
   "metadata": {},
   "outputs": [],
   "source": [
    "import numpy as np\n",
    "import matplotlib.pyplot as plt\n",
    "\n",
    "from pyquil import get_qc, Program\n",
    "from pyquil.gates import MEASURE, RX"
   ]
  },
  {
   "cell_type": "markdown",
   "metadata": {},
   "source": [
    "## Get Started\n",
    "\n",
    "Before running on the QPU, users must book a block of time on a lattice using the QCS command-line interface. To determine the lattices that are available for booking, you can run `qcs lattices` using the terminal in your IDE. Once your QPU time has started (which we call being \"QPU-engaged\"), you must then set up the `QuantumComputer` object associated with the booked lattice, which we do in the following cell."
   ]
  },
  {
   "cell_type": "code",
   "execution_count": 7,
   "metadata": {},
   "outputs": [
    {
     "name": "stdout",
     "output_type": "stream",
     "text": [
      "All qubits on Aspen-8-qvm: [0, 1, 2, 3, 4, 5, 6, 7, 10, 11, 12, 13, 15, 16, 17, 20, 21, 22, 23, 24, 25, 26, 27, 30, 31, 32, 33, 34, 35, 36, 37]\n",
      "\n",
      "Selected qubit: 37\n"
     ]
    }
   ],
   "source": [
    "lattice = 'Aspen-8-qvm'  # edit as necessary\n",
    "qpu = get_qc(lattice)\n",
    "qubit = qpu.device.qubits()[-1]  # edit as necessary\n",
    "print(f'All qubits on {lattice}: {qpu.device.qubits()}')\n",
    "print(f'\\nSelected qubit: {qubit}')"
   ]
  },
  {
   "cell_type": "markdown",
   "metadata": {},
   "source": [
    "## Declare Parameters\n",
    "\n",
    "Users can now define regions of the classical shared memory (using the `DECLARE` syntax) that can then be used in quantum gates. Declared parameters take a name, type, and length. For float-valued parameters, such as the argument for gates like `RX`/`RY`/`RZ`, we use the `REAL` type. When declaring the block of memory for reading out the measurement results of the program, we use the `BIT` type, as these results are either 0 or 1. In the next cell we initialize a `Program` that has two declared parameters."
   ]
  },
  {
   "cell_type": "code",
   "execution_count": 8,
   "metadata": {},
   "outputs": [],
   "source": [
    "program = Program()\n",
    "theta = program.declare('theta', 'REAL', 1)\n",
    "ro = program.declare('ro', 'BIT', 1)"
   ]
  },
  {
   "cell_type": "markdown",
   "metadata": {},
   "source": [
    "## Define Gates\n",
    "\n",
    "Next we will add an `RX` gate that uses the declared \"theta\" parameter. The argument provided to the `RX` gate says how much we want to rotate the qubit state around the _x_-axis of the Bloch sphere. The argument is interpreted as an angle in radians—0 means no rotation and 2π means a full rotation around the axis. After the `RX` gate, we then add a `MEASURE` that uses the declared \"ro\" parameter. This gate measures the state of a single qubit, putting a bit value in the readout register (provided to the gate as the \"ro\" parameter). Finally, we specify the number of shots we want to run per program. The program may not produce deterministic outcomes, so we accumulate statistics with many repetitions (which we call shots)."
   ]
  },
  {
   "cell_type": "code",
   "execution_count": 9,
   "metadata": {},
   "outputs": [
    {
     "data": {
      "text/plain": [
       "<pyquil.quil.Program at 0x7fe8c0045d30>"
      ]
     },
     "execution_count": 9,
     "metadata": {},
     "output_type": "execute_result"
    }
   ],
   "source": [
    "program.inst(RX(theta, qubit))\n",
    "program.inst(MEASURE(qubit, ro))\n",
    "program.wrap_in_numshots_loop(1000)"
   ]
  },
  {
   "cell_type": "markdown",
   "metadata": {},
   "source": [
    "## Compile to Parametric Binary\n",
    "\n",
    "After building our Quil program, we then perform parametric compilation to produce binaries that will be loaded onto the instruments that control the QPU. The `compile` method has two stages: `quil_to_native_quil` and `native_quil_to_binary`.\n",
    "\n",
    "In general, programs written in Quil are not directly implementable on our devices. Fortunately, due to the underlying mathematical nature of quantum programs, arbitrary Quil can be compiled into a much smaller set of quantum instructions, referred to as **native Quil**. This stage of compilation is performed using `quilc`, which is also part of the downloadable [Forest SDK](https://www.rigetti.com/forest).\n",
    "\n",
    "The second stage of compilation takes native Quil (which for our architecture, is composed of only the `CZ`, `RX`, and `RZ` gates plus `MEASURE`) and converts it into a collection of instrument binaries. For programs that have declared parameters, we refer to these binaries as parametric binaries, as the values (arguments) for their parameters are set at **run-time** rather than **compile-time**."
   ]
  },
  {
   "cell_type": "code",
   "execution_count": 10,
   "metadata": {},
   "outputs": [],
   "source": [
    "binary = qpu.compile(program)"
   ]
  },
  {
   "cell_type": "markdown",
   "metadata": {},
   "source": [
    "## Execute on the QPU\n",
    "\n",
    "Once we have our parametric binary, we are ready to run on the QPU. As you will see, we only have to compile once, and can rapidly iterate through many values of \"theta\". We begin by defining the range of angles that we want to sweep over. Then, we execute the parametric binary on the QPU, providing the \"theta\" argument at run-time using the `memory_map` keyword argument to the `run` method. The memory map is a dictionary with strings as keys and lists as values (remember the parameters have a size, so for our \"theta\" parameter we use a list of length 1). Finally, we average over the number of shots to produce a single excited state visibility value for each value of \"theta\"."
   ]
  },
  {
   "cell_type": "code",
   "execution_count": 11,
   "metadata": {},
   "outputs": [],
   "source": [
    "sweep = np.linspace(start=0, stop=4 * np.pi, num=50)\n",
    "\n",
    "visibilities = []\n",
    "for angle in sweep:\n",
    "    job_results = qpu.run(binary, memory_map={'theta': [angle]})\n",
    "    visibilities.append(np.mean(job_results))"
   ]
  },
  {
   "cell_type": "markdown",
   "metadata": {},
   "source": [
    "## Plot the Results\n",
    "\n",
    "Lastly, we take the results from the various jobs and plot them as a function of \"theta\". We expect to see a sinusoidal curve that shows us moving around the Bloch sphere from the |0⟩ state to the |1⟩ state and back."
   ]
  },
  {
   "cell_type": "code",
   "execution_count": 12,
   "metadata": {},
   "outputs": [
    {
     "data": {
      "image/png": "[encoded data removed]",
      "text/plain": [
       "<Figure size 432x288 with 1 Axes>"
      ]
     },
     "metadata": {
      "needs_background": "light"
     },
     "output_type": "display_data"
    }
   ],
   "source": [
    "plt.plot(sweep, visibilities)\n",
    "plt.ylim(0, 1)\n",
    "plt.title('Circling the Bloch Sphere')\n",
    "plt.ylabel('Excited State Visibility')\n",
    "plt.xlabel('Theta (radians)')\n",
    "plt.show()"
   ]
  }
 ],
 "metadata": {
  "kernelspec": {
   "display_name": "Python 3",
   "language": "python",
   "name": "python3"
  },
  "language_info": {
   "codemirror_mode": {
    "name": "ipython",
    "version": 3
   },
   "file_extension": ".py",
   "mimetype": "text/x-python",
   "name": "python",
   "nbconvert_exporter": "python",
   "pygments_lexer": "ipython3",
   "version": "3.8.5"
  }
 },
 "nbformat": 4,
 "nbformat_minor": 4
}
