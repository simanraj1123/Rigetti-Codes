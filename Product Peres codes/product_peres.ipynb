{
 "cells": [
  {
   "cell_type": "code",
   "execution_count": 20,
   "metadata": {},
   "outputs": [],
   "source": [
    "import numpy as np, matplotlib.pyplot as plt, random, time, datetime\n",
    "from functools import lru_cache\n",
    "from pyquil import Program, get_qc\n",
    "from pyquil.gates import *\n",
    "import os\n",
    "from pyquil.quilatom import quil_sin, quil_cos, Parameter\n",
    "from pyquil.quilbase import DefGate\n",
    "from pyquil.latex import display, to_latex\n",
    "# import Peres_helpers as hf\n",
    "import pickle\n",
    "from collections import Counter\n",
    "\n",
    "Z_SCORE = 3\n",
    "N_SHOTS = 8192#10_000\n",
    "\n",
    "# Helpers\n",
    "def dura(func):\n",
    "\t'''\n",
    "\tA wrapper function to calculate the time of any process we want.\n",
    "\t'''\n",
    "\tdef wrapper(*args, **kwargs):\n",
    "\t\tstart = time.time()\n",
    "\t\tprint(f'{func.__name__} has started.')\n",
    "\t\tval = func(*args, **kwargs)\n",
    "\t\tty_res = time.gmtime(time.time() - start)\n",
    "\t\tres = time.strftime(\"%H:%M:%S\",ty_res)\n",
    "\t\tprint(f'{func.__name__} completed in {res}')\n",
    "\t\treturn val\n",
    "\treturn wrapper\n",
    "\n",
    "def params_real():\n",
    "\t'''\n",
    "\tGenerates parameters to prepare random REAL quantum states.\n",
    "\t'''\n",
    "\ttheta = np.arccos(np.cos(e) - 2 * np.array([random.uniform(0,1) for _ in range(3)]))\n",
    "\tphi = np.array([(np.pi)*random.randint(0,1) for _ in range(3)])\n",
    "\tparams = zip(theta, phi)\n",
    "\treturn list(params)\n",
    "def params_complex():\n",
    "\t'''\n",
    "\tGenerates parameters to prepare COMPLEX quantum states.\n",
    "\t'''\n",
    "\ttheta = np.arccos(np.cos(e) - 2 * np.array([random.uniform(0,1) for _ in range(3)]))\n",
    "\tphi = np.array([2*np.pi*random.uniform(0,1) for _ in range(3)])\n",
    "\tparams = zip(theta, phi)\n",
    "\treturn list(params)\n",
    "\n",
    "e = 0\n",
    "\n",
    "# Sigma calculation. This function executes the circuit.\n",
    "def sigma(params, params_ancilla):\n",
    "\t'''\n",
    "\tCompile and run the circuit given the parameters. The list of outputs is returned.\n",
    "\t'''\n",
    "\tparams = list(zip(*params)) # Unpack parameters\n",
    "\ttheta, phi = params[0], params[1] # Store thetas and phis in seperate tuples.\n",
    "\t\n",
    "\tbitstrings = qc.run(exe, memory_map={'theta': theta, 'phi': phi, 'th':[params_ancilla]}) # Stores the output of the circuit run.\n",
    "\treturn bitstrings\n",
    "\n",
    "# Gammas for different pairs of states.\n",
    "def g(u):\n",
    "    '''\n",
    "    Calls the sigma function with different values of parameters correponding to the configurations, |ψ12>, |ψ1> and |ψ2>. Returns a\n",
    "    dictionary with configurations as keys and output as values (which are lists).\n",
    "    '''\n",
    "    params = list(zip(*u)) # Unpack parameters\n",
    "    theta, phi = params[0], params[1] # Store thetas and phis in seperate tuples.\n",
    "    s12 = qc.run(exe, memory_map={'theta': theta, 'phi': phi, 'theta_m':[np.pi/2]}) # Stores the output of the circuit run.\n",
    "    s12 = Counter([''.join(list(map(str, elem))) for elem in s12])\n",
    "    \n",
    "    #### NEW LINES\n",
    "    s1 = qc.run(exe, memory_map={'theta': theta, 'phi': phi, 'theta_m':[0]}) # Stores the output of the circuit run.\n",
    "    s1 = Counter([''.join(list(map(str, elem))) for elem in s1])\n",
    "    \n",
    "    s2 = qc.run(exe, memory_map={'theta': theta, 'phi': phi, 'theta_m':[np.pi]}) # Stores the output of the circuit run.\n",
    "    s2 = Counter([''.join(list(map(str, elem))) for elem in s2])\n",
    "    \n",
    "    #### NEW LINES END\n",
    "\n",
    "    return {'s12': s12['01'], 's1': s1['01'], 's2': s2['01']}\n",
    "\n",
    "# Computing all the three gammas.\n",
    "# @dura # To calculate the time taken for all the circuits to run.\n",
    "def f(u):\n",
    "\t'''\n",
    "\tCalls the g function to run the circuit for different configurations and returns a dictionary with 'a', 'b', 'c' as keys and the corresponding \n",
    "\toutputs of the three configurations. This marks the end of what the Quantum computer must be used for. After this it is all about post-\n",
    "\tprocessing the data.\n",
    "\t'''\n",
    "\talpha = g([u[0], u[1]]) # Running for alpha\n",
    "\tbeta = g([u[1], u[2]]) # Running for beta\n",
    "\tgamma = g([u[2], u[0]]) # Running for gamma\n",
    "\n",
    "\tres = {'a': alpha, 'b': beta, 'c': gamma}\n",
    "\n",
    "\treturn res\n",
    "\n",
    "def get_gammas(counts):\n",
    "    res = {}\n",
    "    for gamma in counts.keys():\n",
    "        g = (2*counts[gamma]['s12'] - counts[gamma]['s1'] - counts[gamma]['s2']) / (2 * np.sqrt(counts[gamma]['s1']*counts[gamma]['s2']))\n",
    "        res[gamma] = g\n",
    "\n",
    "    res['F'] = res['a']**2 + res['b']**2 + res['c']**2 - 2 * res['a'] * res['b'] * res['c']\n",
    "    return res\n",
    "\n",
    "def circuit(qubit1, qubit2):\n",
    "    circ = Program()\n",
    "    \n",
    "    c = circ.declare('ro', 'BIT', 2)\n",
    "    theta = circ.declare('theta', 'REAL', 2)\n",
    "    phi = circ.declare('phi', 'REAL', 2)\n",
    "    theta_m = circ.declare('theta_m', 'REAL')\n",
    "    \n",
    "    # Preparation of states.\n",
    "    circ += RY(theta[0], qubit1)\n",
    "    circ += RZ(phi[0], qubit1)\n",
    "    \n",
    "    circ += RY(theta[1], qubit2)\n",
    "    circ += RZ(phi[1], qubit2)\n",
    "    \n",
    "#     circ += X(qubit1)\n",
    "    \n",
    "    # Measuring in psi+ basis\n",
    "    circ += CNOT(qubit1, qubit2)\n",
    "    circ += RY(-theta_m, qubit1)\n",
    "#     circ += H(qubit1)\n",
    "    \n",
    "    circ += MEASURE(qubit1, c[0])\n",
    "    circ += MEASURE(qubit2, c[1])\n",
    "    \n",
    "    circ.wrap_in_numshots_loop(N_SHOTS)\n",
    "    \n",
    "    return circ\n",
    "\n",
    "def gamma_theory(data):\n",
    "    u = data['State_params']\n",
    "    g12 = np.cos(u[1][1] - u[0][1])\n",
    "    g23 = np.cos(u[2][1] - u[1][1])\n",
    "    g31 = np.cos(u[0][1] - u[2][1])\n",
    "    \n",
    "    data['Gammas_theory'] = {'a': g12, 'b': g23, 'c': g31}\n",
    "    \n",
    "    f = g12**2 + g23**2 + g31**2 - 2 * g12 * g23 * g31\n",
    "    \n",
    "    data['Gammas_theory']['F'] = f\n",
    "    \n",
    "    return data\n",
    "    \n",
    "\n",
    "def error_counts_theory(data):\n",
    "    u = data['State_params']\n",
    "    s12_a = (1/2) * N_SHOTS * ((np.cos(u[0][0]/2)**2 * np.cos(u[1][0]/2)**2) + (np.sin(u[0][0]/2)**2 * np.sin(u[1][0]/2)**2) + 2 * np.abs(np.cos(u[0][0]/2)* np.cos(u[1][0]/2) * np.sin(u[0][0]/2) * np.sin(u[1][0]/2)) * np.cos((u[1][1] - u[0][1])) )\n",
    "    s1_a = N_SHOTS * (np.cos(u[0][0]/2)**2 * np.cos(u[1][0]/2)**2)\n",
    "    s2_a = N_SHOTS * (np.sin(u[0][0]/2)**2 * np.sin(u[1][0]/2)**2)\n",
    "    \n",
    "    s12_b = (1/2) * N_SHOTS * ((np.cos(u[1][0]/2)**2 * np.cos(u[2][0]/2)**2) + (np.sin(u[1][0]/2)**2 * np.sin(u[2][0]/2)**2) + 2 * np.abs(np.cos(u[1][0]/2)* np.cos(u[2][0]/2) * np.sin(u[1][0]/2) * np.sin(u[2][0]/2)) * np.cos((u[2][1] - u[1][1])) )\n",
    "    s1_b = N_SHOTS * (np.cos(u[1][0]/2)**2 * np.cos(u[2][0]/2)**2)\n",
    "    s2_b = N_SHOTS * (np.sin(u[1][0]/2)**2 * np.sin(u[2][0]/2)**2)\n",
    "    \n",
    "    s12_c = (1/2) * N_SHOTS * ((np.cos(u[2][0]/2)**2 * np.cos(u[0][0]/2)**2) + (np.sin(u[2][0]/2)**2 * np.sin(u[0][0]/2)**2) + 2 * np.abs(np.cos(u[2][0]/2)* np.cos(u[0][0]/2) * np.sin(u[2][0]/2) * np.sin(u[0][0]/2)) * np.cos((u[0][1] - u[2][1])) )\n",
    "    s1_c = N_SHOTS * (np.cos(u[2][0]/2)**2 * np.cos(u[0][0]/2)**2)\n",
    "    s2_c = N_SHOTS * (np.sin(u[2][0]/2)**2 * np.sin(u[0][0]/2)**2)\n",
    "    \n",
    "    data['Counts_theory'] = {'a': {'s12': int(np.round(s12_a)), 's1': int(np.round(s1_a)), 's2': int(np.round(s2_a))}, 'b': {'s12': int(np.round(s12_b)), 's1': int(np.round(s1_b)), 's2': int(np.round(s2_b))}, 'c': {'s12': int(np.round(s12_c)), 's1': int(np.round(s1_c)), 's2': int(np.round(s2_c))}}\n",
    "#     print(data)\n",
    "    \n",
    "    e_s12_a = count_fluctuation(s12_a)\n",
    "    e_s1_a = count_fluctuation(s1_a)\n",
    "    e_s2_a = count_fluctuation(s2_a)\n",
    "    \n",
    "    e_s12_b = count_fluctuation(s12_b)\n",
    "    e_s1_b = count_fluctuation(s1_b)\n",
    "    e_s2_b = count_fluctuation(s2_b)\n",
    "    \n",
    "    e_s12_c = count_fluctuation(s12_c)\n",
    "    e_s1_c = count_fluctuation(s1_c)\n",
    "    e_s2_c = count_fluctuation(s2_c)\n",
    "    \n",
    "    data['Count_fluctuation_theory'] = {'a': {'s12': int(np.round(e_s12_a)), 's1': int(np.round(e_s1_a)), 's2': int(np.round(e_s2_a))}, 'b': {'s12': int(np.round(e_s12_b)), 's1': int(np.round(e_s1_b)), 's2': int(np.round(e_s2_b))}, 'c': {'s12': int(np.round(e_s12_c)), 's1': int(np.round(e_s1_c)), 's2': int(np.round(e_s2_c))}}\n",
    "#     print(data)\n",
    "    return data\n",
    "#     print(s12_c, s1_c, s2_c)\n",
    "\n",
    "def count_fluctuation(counts):\n",
    "    return Z_SCORE * np.sqrt((counts/1) * ((N_SHOTS - counts)/1) / N_SHOTS) * 1\n",
    "\n",
    "# def error_gamma_theory(data):\n",
    "#     counts = data['Counts_theory']\n",
    "#     counts_fluc = data['Count_fluctuation_theory']\n",
    "#     data['Gamma_fluctuation_theory'] = {}\n",
    "    \n",
    "#     for g in counts.keys():\n",
    "#         s12 = counts[g]['s12']\n",
    "#         s1 = counts[g]['s1']\n",
    "#         s2 = counts[g]['s2']\n",
    "        \n",
    "#         ds12 = counts_fluc[g]['s12']\n",
    "#         ds1 = counts_fluc[g]['s1']\n",
    "#         ds2 = counts_fluc[g]['s2']\n",
    "#         g_vals = np.array([(2*(s12+d12) - (s1+d1) - (s2+d2)) / (2 * np.sqrt((s1+d1)*(s2+d2))) for d12 in range(-ds12, ds12+1) for d1 in range(-ds1, ds1) for d2 in range(-ds2, ds2)]).flatten()\n",
    "#         g_vals.sort()\n",
    "#         data['Gamma_fluctuation_theory'][g] = [g_vals[0], g_vals[-1]]\n",
    "    \n",
    "#     return data\n",
    "\n",
    "def error_gamma_theory(data):\n",
    "    counts = data['Counts_theory']\n",
    "    counts_fluc = data['Count_fluctuation_theory']\n",
    "    data['Gamma_fluctuation_theory'] = {}\n",
    "    \n",
    "    for g in counts.keys():\n",
    "        s12 = counts[g]['s12']\n",
    "        s1 = counts[g]['s1']\n",
    "        s2 = counts[g]['s2']\n",
    "        \n",
    "        ds12 = counts_fluc[g]['s12']\n",
    "        ds1 = counts_fluc[g]['s1']\n",
    "        ds2 = counts_fluc[g]['s2']\n",
    "        g_err_b = (2*ds12 + ds1 + ds2) / (2 * np.sqrt(s1 * s2)) + (2*s12 - s1 - s2) / (s1 * s2)**(3/2) * (s1 * ds2 + s2 * ds1) / 4\n",
    "        g_err_a = -(2*ds12 + ds1 + ds2) / (2 * np.sqrt(s1 * s2)) - (2*s12 - s1 - s2) / (s1 * s2)**(3/2) * (s1 * ds2 + s2 * ds1) / 4\n",
    "#         g_vals.sort()\n",
    "        data['Gamma_fluctuation_theory'][g] = [g_err_a, g_err_b]\n",
    "    \n",
    "    g12 = data['Gammas_theory']['a']\n",
    "    g23 = data['Gammas_theory']['b']\n",
    "    g31 = data['Gammas_theory']['c']\n",
    "    \n",
    "    dg12 = data['Gamma_fluctuation_theory']['a'][1]\n",
    "    dg23 = data['Gamma_fluctuation_theory']['b'][1]\n",
    "    dg31 = data['Gamma_fluctuation_theory']['c'][1]\n",
    "    \n",
    "    data['Gamma_fluctuation_theory']['F'] = [-(2*dg12*(g12 - g23*g31)*np.sign(g12 - g23*g31) + 2*dg23*(g23 - g12*g31)*np.sign(g23 - g12*g31) + 2*dg31*(g31 - g12*g23)*np.sign(g31 - g12*g23)),2*dg12*(g12 - g23*g31)*np.sign(g12 - g23*g31) + 2*dg23*(g23 - g12*g31)*np.sign(g23 - g12*g31) + 2*dg31*(g31 - g12*g23)*np.sign(g31 - g12*g23)]\n",
    "    \n",
    "    return data\n"
   ]
  },
  {
   "cell_type": "code",
   "execution_count": 21,
   "metadata": {},
   "outputs": [
    {
     "name": "stdout",
     "output_type": "stream",
     "text": [
      "Done with iteration 1\r"
     ]
    }
   ],
   "source": [
    "result_list = []\n",
    "q1, q2 = 12, 25\n",
    "trial=3\n",
    "# engine = 'Aspen'\n",
    "# folder = f'product_peres_{engine}_{datetime.date.today()}_{q1}_{q2}_bits_{N_SHOTS}_shots_trial_{trial}'\n",
    "# # folder = f'product_peres_{engine}_{datetime.date.today()}_{q1}_{q2}_bits_{N_SHOTS}_shots'\n",
    "# os.system(f'mkdir {folder}')\n",
    "\n",
    "qc = get_qc('Aspen-9', as_qvm=True) # Initialise QPU.\n",
    "# qc = get_qc('2q-qvm')\n",
    "\n",
    "circ = circuit(q1,q2)\n",
    "exe = qc.compile(circ)\n",
    "\n",
    "for i in range(2):\n",
    "    data = {}\n",
    "    data['State_params'] = params_complex()\n",
    "\n",
    "    data['Counts'] = f(data['State_params'])\n",
    "    \n",
    "#     with open(f'{folder}/run_{i}', 'wb') as file:\n",
    "#         pickle.dump(data, file)\n",
    "\n",
    "    all_gammas = get_gammas(data['Counts'])\n",
    "    data['Gamma'] = all_gammas\n",
    "    \n",
    "    result_list.append(data)\n",
    "\n",
    "    print(f'Done with iteration {i}', end='\\r')\n",
    "\n",
    "# with open(f'{folder}/result_list_trial_{trial}', 'wb') as file:\n",
    "#     pickle.dump(result_list, file)"
   ]
  },
  {
   "cell_type": "code",
   "execution_count": 22,
   "metadata": {},
   "outputs": [
    {
     "data": {
      "image/png": "[encoded data removed]",
      "text/plain": [
       "<Figure size 1224x720 with 4 Axes>"
      ]
     },
     "metadata": {
      "needs_background": "light"
     },
     "output_type": "display_data"
    }
   ],
   "source": [
    "# Import the results from aspen.\n",
    "\n",
    "# with open('product_peres_Aspen_2021-06-16_12_25_bits_10000_shots_trial_1/result_list_trial_1', 'rb') as file:\n",
    "#     result_list = pickle.load(file)\n",
    "# with open('product_peres_Aspen_2021-06-16_12_25_bits_10000_shots_trial_2/result_list_trial_2', 'rb') as file:\n",
    "#     result_list += pickle.load(file)\n",
    "# with open('product_peres_Aspen_2021-06-16_12_25_bits_10000_shots_trial_3/result_list_trial_3', 'rb') as file:\n",
    "#     result_list += pickle.load(file)\n",
    "for data in result_list:\n",
    "    data = gamma_theory(data)\n",
    "    data = error_counts_theory(data)\n",
    "    data = gamma_theory(data)\n",
    "    data = error_gamma_theory(data)\n",
    "\n",
    "all_a = []\n",
    "all_b = []\n",
    "all_c = []\n",
    "all_F = []\n",
    "\n",
    "all_a_theory = []\n",
    "all_b_theory = []\n",
    "all_c_theory = []\n",
    "all_F_theory = []\n",
    "\n",
    "all_a_errors = []\n",
    "all_b_errors = []\n",
    "all_c_errors = []\n",
    "all_F_errors = []\n",
    "for data in result_list:\n",
    "    all_a.append(data['Gamma']['a'])\n",
    "    all_b.append(data['Gamma']['b'])\n",
    "    all_c.append(data['Gamma']['c'])\n",
    "    all_F.append(data['Gamma']['F'])\n",
    "    \n",
    "    all_a_theory.append(data['Gammas_theory']['a'])\n",
    "    all_b_theory.append(data['Gammas_theory']['b'])\n",
    "    all_c_theory.append(data['Gammas_theory']['c'])\n",
    "    all_F_theory.append(data['Gammas_theory']['F'])\n",
    "    \n",
    "    \n",
    "    all_a_errors.append(data['Gamma_fluctuation_theory']['a'][1])\n",
    "    all_b_errors.append(data['Gamma_fluctuation_theory']['b'][1])\n",
    "    all_c_errors.append(data['Gamma_fluctuation_theory']['c'][1])\n",
    "    all_F_errors.append(data['Gamma_fluctuation_theory']['F'][1])\n",
    "    \n",
    "\n",
    "x = np.array(list(range(1,len(result_list)+1)))\n",
    "fig = plt.figure(figsize=(17,10))\n",
    "plt.subplot(2,2,1)\n",
    "plt.errorbar(x,all_a_theory, yerr=[all_a_errors, all_a_errors], marker='',fmt='', ls='', capsize=5, color='red', markersize=2)\n",
    "plt.plot(x, all_a, 'o', color='red', markersize=4)\n",
    "plt.axhline(y=1, ls='dashed', alpha=0.5)\n",
    "plt.axhline(y=-1, ls='dashed', alpha=0.5)\n",
    "plt.xticks(x)\n",
    "plt.xlabel('$\\\\gamma_{12}$', size=14)\n",
    "\n",
    "plt.subplot(2,2,2)\n",
    "plt.errorbar(x,all_b_theory, yerr=[all_b_errors, all_b_errors], marker='',fmt='', ls='', capsize=5, color='blue', markersize=2)\n",
    "plt.plot(x, all_b, 'o', color='blue', markersize=4)\n",
    "plt.axhline(y=1, ls='dashed', alpha=0.5)\n",
    "plt.axhline(y=-1, ls='dashed', alpha=0.5)\n",
    "plt.xticks(x)\n",
    "plt.xlabel('$\\\\gamma_{23}$', size=14)\n",
    "\n",
    "plt.subplot(2,2,3)\n",
    "plt.plot(x, all_c, 'o', color='darkgreen', markersize=4)\n",
    "plt.errorbar(x,all_c_theory, yerr=[all_c_errors, all_c_errors], marker='',fmt='', ls='', capsize=5, color='darkgreen', markersize=2)\n",
    "plt.axhline(y=1, ls='dashed', alpha=0.5)\n",
    "plt.axhline(y=-1, ls='dashed', alpha=0.5)\n",
    "plt.xticks(x)\n",
    "plt.xlabel('$\\\\gamma_{31}$', size=14)\n",
    "\n",
    "plt.subplot(2,2,4)\n",
    "plt.errorbar(x,all_F_theory, yerr=[all_F_errors, all_F_errors], marker='',fmt='', ls='', capsize=5, color='maroon', markersize=2)\n",
    "plt.plot(x, all_F, 'o', color='maroon', markersize=4)\n",
    "plt.axhline(y=1, ls='dashed', alpha=0.5)\n",
    "plt.axhline(y=-1, ls='dashed', alpha=0.5)\n",
    "plt.xticks(x)\n",
    "plt.xlabel('$F$', size=14)\n",
    "\n",
    "plt.show()"
   ]
  },
  {
   "cell_type": "markdown",
   "metadata": {},
   "source": [
    "# Checking optimal qubits"
   ]
  },
  {
   "cell_type": "code",
   "execution_count": 23,
   "metadata": {},
   "outputs": [],
   "source": [
    "qs = qc.device.get_isa().qubits"
   ]
  },
  {
   "cell_type": "code",
   "execution_count": 62,
   "metadata": {},
   "outputs": [
    {
     "name": "stdout",
     "output_type": "stream",
     "text": [
      "Qubit(id=4, type=None, dead=False, gates=[MeasureInfo(operator='MEASURE', qubit=4, target='_', duration=2000, fidelity=0.9620000000000001), MeasureInfo(operator='MEASURE', qubit=4, target=None, duration=2000, fidelity=0.9620000000000001), GateInfo(operator='RZ', parameters=['_'], arguments=[4], duration=0.01, fidelity=1.0), GateInfo(operator='RX', parameters=[0.0], arguments=[4], duration=50, fidelity=1.0), GateInfo(operator='RX', parameters=[3.141592653589793], arguments=[4], duration=50, fidelity=0.9975364503140911), GateInfo(operator='RX', parameters=[-3.141592653589793], arguments=[4], duration=50, fidelity=0.9975364503140911), GateInfo(operator='RX', parameters=[1.5707963267948966], arguments=[4], duration=50, fidelity=0.9975364503140911), GateInfo(operator='RX', parameters=[-1.5707963267948966], arguments=[4], duration=50, fidelity=0.9975364503140911)])\n",
      "\n",
      "Qubit(id=5, type=None, dead=False, gates=[MeasureInfo(operator='MEASURE', qubit=5, target='_', duration=2000, fidelity=0.945), MeasureInfo(operator='MEASURE', qubit=5, target=None, duration=2000, fidelity=0.945), GateInfo(operator='RZ', parameters=['_'], arguments=[5], duration=0.01, fidelity=1.0), GateInfo(operator='RX', parameters=[0.0], arguments=[5], duration=50, fidelity=1.0), GateInfo(operator='RX', parameters=[3.141592653589793], arguments=[5], duration=50, fidelity=0.9991465698983135), GateInfo(operator='RX', parameters=[-3.141592653589793], arguments=[5], duration=50, fidelity=0.9991465698983135), GateInfo(operator='RX', parameters=[1.5707963267948966], arguments=[5], duration=50, fidelity=0.9991465698983135), GateInfo(operator='RX', parameters=[-1.5707963267948966], arguments=[5], duration=50, fidelity=0.9991465698983135)])\n",
      "\n"
     ]
    }
   ],
   "source": [
    "for x in qs:\n",
    "    if x.id in [4,5]:\n",
    "        print(x, end='\\n\\n')"
   ]
  },
  {
   "cell_type": "code",
   "execution_count": 50,
   "metadata": {},
   "outputs": [],
   "source": [
    "qe = qc.device.get_isa().edges"
   ]
  },
  {
   "cell_type": "code",
   "execution_count": 59,
   "metadata": {},
   "outputs": [
    {
     "name": "stdout",
     "output_type": "stream",
     "text": [
      "Edge(targets=(4, 5), type=None, dead=False, gates=[GateInfo(operator='CZ', parameters=[], arguments=['_', '_'], duration=200, fidelity=0.9807270795924907), GateInfo(operator='CPHASE', parameters=['theta'], arguments=['_', '_'], duration=200, fidelity=0.9780874548060001), GateInfo(operator='XY', parameters=['theta'], arguments=['_', '_'], duration=200, fidelity=0.962445115688793)]), "
     ]
    }
   ],
   "source": [
    "for x in qe:\n",
    "    if x.targets in [(4,5)]:\n",
    "        print(x, end=', ')"
   ]
  },
  {
   "cell_type": "code",
   "execution_count": 214,
   "metadata": {},
   "outputs": [],
   "source": [
    "def check_edges(q1, q2):\n",
    "    for x in qs:\n",
    "        if x.id in [q1,q2]:\n",
    "            print(x.id)\n",
    "            for i in range(len(x.gates)):\n",
    "                print(f'{x.gates[i].operator}: {np.round(x.gates[i].fidelity,3)}', end=', ')\n",
    "            print()\n",
    "    for x in qe:\n",
    "        if x.targets == (q1,q2):\n",
    "            print(x.targets)\n",
    "            for i in range(len(x.gates)):\n",
    "                print(f'{x.gates[i].operator}: {np.round(x.gates[i].fidelity)}', end=', ')\n",
    "            print()"
   ]
  },
  {
   "cell_type": "code",
   "execution_count": 215,
   "metadata": {},
   "outputs": [
    {
     "name": "stdout",
     "output_type": "stream",
     "text": [
      "12\n",
      "MEASURE: 0.975, MEASURE: 0.975, RZ: 1.0, RX: 1.0, RX: 0.999, RX: 0.999, RX: 0.999, RX: 0.999, \n",
      "25\n",
      "MEASURE: 0.967, MEASURE: 0.967, RZ: 1.0, RX: 1.0, RX: 0.999, RX: 0.999, RX: 0.999, RX: 0.999, \n",
      "(12, 25)\n",
      "CZ: 1.0, XY: 1.0, \n",
      "34\n",
      "MEASURE: 0.963, MEASURE: 0.963, RZ: 1.0, RX: 1.0, RX: 0.996, RX: 0.996, RX: 0.996, RX: 0.996, \n",
      "35\n",
      "MEASURE: 0.961, MEASURE: 0.961, RZ: 1.0, RX: 1.0, RX: 0.998, RX: 0.998, RX: 0.998, RX: 0.998, \n",
      "(34, 35)\n",
      "CZ: 1.0, CPHASE: 1.0, XY: 1.0, \n"
     ]
    }
   ],
   "source": [
    "check_edges(12, 25)\n",
    "check_edges(34, 35)"
   ]
  },
  {
   "cell_type": "code",
   "execution_count": 179,
   "metadata": {},
   "outputs": [],
   "source": [
    "legit_edges = []\n",
    "\n",
    "for edge in qe:\n",
    "    legit=True\n",
    "    for gate in edge.gates:\n",
    "        if gate.fidelity == None:\n",
    "            legit = False\n",
    "            break\n",
    "        if gate.fidelity < 0.96:\n",
    "            legit = False\n",
    "            break\n",
    "    if legit == True:\n",
    "        legit_edges.append(edge)"
   ]
  },
  {
   "cell_type": "code",
   "execution_count": 180,
   "metadata": {},
   "outputs": [
    {
     "name": "stdout",
     "output_type": "stream",
     "text": [
      "(4, 5), (10, 11), (10, 17), (12, 25), (21, 22), (21, 36), (22, 35), (23, 24), (33, 34), (34, 35), (35, 36), "
     ]
    }
   ],
   "source": [
    "for x in legit_edges:\n",
    "    print(x.targets, end=', ')"
   ]
  },
  {
   "cell_type": "code",
   "execution_count": 181,
   "metadata": {},
   "outputs": [],
   "source": [
    "for edge in legit_edges:\n",
    "    q1, q2 = edge.targets\n",
    "    legit = True\n",
    "    for qubit in qs:\n",
    "        if qubit.id in [q1,q2]:\n",
    "            for gate in qubit.gates:\n",
    "                if gate.fidelity < 0.96:\n",
    "                    legit=False\n",
    "                    break\n",
    "    if legit == False:\n",
    "        if edge in legit_edges:\n",
    "            legit_edges.remove(edge)\n",
    "    "
   ]
  },
  {
   "cell_type": "code",
   "execution_count": 182,
   "metadata": {},
   "outputs": [
    {
     "data": {
      "text/plain": [
       "[Edge(targets=(10, 11), type=None, dead=False, gates=[GateInfo(operator='CZ', parameters=[], arguments=['_', '_'], duration=200, fidelity=0.9807245997727566), GateInfo(operator='CPHASE', parameters=['theta'], arguments=['_', '_'], duration=200, fidelity=0.9769093266331764), GateInfo(operator='XY', parameters=['theta'], arguments=['_', '_'], duration=200, fidelity=0.9789101958332922)]),\n",
       " Edge(targets=(12, 25), type=None, dead=False, gates=[GateInfo(operator='CZ', parameters=[], arguments=['_', '_'], duration=200, fidelity=0.9731181533088125), GateInfo(operator='XY', parameters=['theta'], arguments=['_', '_'], duration=200, fidelity=0.9665759418496694)]),\n",
       " Edge(targets=(21, 36), type=None, dead=False, gates=[GateInfo(operator='CZ', parameters=[], arguments=['_', '_'], duration=200, fidelity=0.9630739682808492), GateInfo(operator='CPHASE', parameters=['theta'], arguments=['_', '_'], duration=200, fidelity=0.9808804519492479), GateInfo(operator='XY', parameters=['theta'], arguments=['_', '_'], duration=200, fidelity=0.9670031058268173)]),\n",
       " Edge(targets=(23, 24), type=None, dead=False, gates=[GateInfo(operator='CZ', parameters=[], arguments=['_', '_'], duration=200, fidelity=0.9718651839367916), GateInfo(operator='CPHASE', parameters=['theta'], arguments=['_', '_'], duration=200, fidelity=0.9630857425646643), GateInfo(operator='XY', parameters=['theta'], arguments=['_', '_'], duration=200, fidelity=0.9632841881591717)]),\n",
       " Edge(targets=(34, 35), type=None, dead=False, gates=[GateInfo(operator='CZ', parameters=[], arguments=['_', '_'], duration=200, fidelity=0.9690217441809372), GateInfo(operator='CPHASE', parameters=['theta'], arguments=['_', '_'], duration=200, fidelity=0.9806321621591563), GateInfo(operator='XY', parameters=['theta'], arguments=['_', '_'], duration=200, fidelity=0.9917646213835161)])]"
      ]
     },
     "execution_count": 182,
     "metadata": {},
     "output_type": "execute_result"
    }
   ],
   "source": [
    "legit_edges"
   ]
  },
  {
   "cell_type": "code",
   "execution_count": 152,
   "metadata": {},
   "outputs": [
    {
     "data": {
      "text/plain": [
       "Qubit(id=0, type=None, dead=False, gates=[MeasureInfo(operator='MEASURE', qubit=0, target='_', duration=2000, fidelity=0.9670000000000001), MeasureInfo(operator='MEASURE', qubit=0, target=None, duration=2000, fidelity=0.9670000000000001), GateInfo(operator='RZ', parameters=['_'], arguments=[0], duration=0.01, fidelity=1.0), GateInfo(operator='RX', parameters=[0.0], arguments=[0], duration=50, fidelity=1.0), GateInfo(operator='RX', parameters=[3.141592653589793], arguments=[0], duration=50, fidelity=0.9990014768242277), GateInfo(operator='RX', parameters=[-3.141592653589793], arguments=[0], duration=50, fidelity=0.9990014768242277), GateInfo(operator='RX', parameters=[1.5707963267948966], arguments=[0], duration=50, fidelity=0.9990014768242277), GateInfo(operator='RX', parameters=[-1.5707963267948966], arguments=[0], duration=50, fidelity=0.9990014768242277)])"
      ]
     },
     "execution_count": 152,
     "metadata": {},
     "output_type": "execute_result"
    }
   ],
   "source": [
    "qs[0]"
   ]
  },
  {
   "cell_type": "code",
   "execution_count": null,
   "metadata": {},
   "outputs": [],
   "source": []
  },
  {
   "cell_type": "code",
   "execution_count": null,
   "metadata": {},
   "outputs": [],
   "source": []
  },
  {
   "cell_type": "code",
   "execution_count": null,
   "metadata": {},
   "outputs": [],
   "source": []
  },
  {
   "cell_type": "markdown",
   "metadata": {},
   "source": [
    "# Statistical fluctuation through repetition"
   ]
  },
  {
   "cell_type": "code",
   "execution_count": 23,
   "metadata": {},
   "outputs": [
    {
     "name": "stdout",
     "output_type": "stream",
     "text": [
      "States [(2.3919170086785506, 3.5239088382247026), (1.4131711547811199, 4.767707599806455), (1.9342100002764904, 4.6426613878752)]\n",
      "States [(3.0041755123395353, 1.971665121259574), (0.5421189005124746, 0.1698746477225219), (2.8095387333445223, 2.335135478049154)]\n",
      "Done with iteration 0\r"
     ]
    },
    {
     "name": "stderr",
     "output_type": "stream",
     "text": [
      "<ipython-input-20-0e6dd0dec308>:102: RuntimeWarning: divide by zero encountered in double_scalars\n",
      "  g = (2*counts[gamma]['s12'] - counts[gamma]['s1'] - counts[gamma]['s2']) / (2 * np.sqrt(counts[gamma]['s1']*counts[gamma]['s2']))\n",
      "<ipython-input-20-0e6dd0dec308>:105: RuntimeWarning: invalid value encountered in double_scalars\n",
      "  res['F'] = res['a']**2 + res['b']**2 + res['c']**2 - 2 * res['a'] * res['b'] * res['c']\n"
     ]
    },
    {
     "name": "stdout",
     "output_type": "stream",
     "text": [
      "Done with iteration 49\r"
     ]
    }
   ],
   "source": [
    "# result_list = []\n",
    "\n",
    "q1, q2 = 12, 25\n",
    "trial=2\n",
    "# engine = 'qvm'\n",
    "# folder = f'new_peres_{engine}_{datetime.date.today()}_{q1}_{q2}_bits_{N_SHOTS}_shots_trial_{trial}'\n",
    "# os.system(f'mkdir {folder}')\n",
    "\n",
    "qc = get_qc('Aspen-9', as_qvm=True) # Initialise QPU.\n",
    "\n",
    "circ = circuit(q1,q2)\n",
    "exe = qc.compile(circ)\n",
    "\n",
    "for result in result_list:\n",
    "    print(f\"States {result['State_params']}\", end='\\n')\n",
    "    result['CF99'] = {}\n",
    "    result['CF100'] = {}\n",
    "    result['Stats'] = {}\n",
    "    data = {}\n",
    "    data['State_params'] = result['State_params']\n",
    "    data['a'] = []\n",
    "    data['b'] = []\n",
    "    data['c'] = []\n",
    "    data['F'] = []\n",
    "    for i in range(50):\n",
    "    #     data = {}\n",
    "    #     data['State_params'] = params_complex()\n",
    "\n",
    "        Counts = f(data['State_params'])\n",
    "\n",
    "    #     with open(f'{folder}/run_{i}', 'wb') as file:\n",
    "    #         pickle.dump(data, file)\n",
    "\n",
    "        all_gammas = get_gammas(Counts)\n",
    "        data['a'].append(all_gammas['a'])\n",
    "        data['b'].append(all_gammas['b'])\n",
    "        data['c'].append(all_gammas['c'])\n",
    "        data['F'].append(all_gammas['F'])\n",
    "        print(f'Done with iteration {i}', end='\\r')\n",
    "\n",
    "    #     result_list.append(data)\n",
    "\n",
    "#     print(f'Done with iteration {i}', end='\\r')\n",
    "\n",
    "    samp = data['a']\n",
    "    samp.sort()\n",
    "    result['Stats']['a'] = samp\n",
    "    result['CF99']['a'] = [samp[int(0.005 * len(samp))], samp[int(0.995 * len(samp))]]\n",
    "    result['CF100']['a'] = [samp[0], samp[-1]]\n",
    "\n",
    "    samp = data['b']\n",
    "    samp.sort()\n",
    "    result['Stats']['b'] = samp\n",
    "    result['CF99']['b'] = [samp[int(0.005 * len(samp))], samp[int(0.995 * len(samp))]]\n",
    "    result['CF100']['b'] = [samp[0], samp[-1]]\n",
    "\n",
    "    samp = data['c']\n",
    "    samp.sort()\n",
    "    result['Stats']['c'] = samp\n",
    "    result['CF99']['c'] = [samp[int(0.005 * len(samp))], samp[int(0.995 * len(samp))]]\n",
    "    result['CF100']['c'] = [samp[0], samp[-1]]\n",
    "\n",
    "    samp = data['F']\n",
    "    samp.sort()\n",
    "    result['Stats']['F'] = samp\n",
    "    result['CF99']['F'] = [samp[int(0.005 * len(samp))], samp[int(0.995 * len(samp))]]\n",
    "    result['CF100']['F'] = [samp[0], samp[-1]]\n",
    "    \n",
    "    \n",
    "# with open(f'{folder}/result_list', 'wb') as file:\n",
    "#     pickle.dump(result_list, file)"
   ]
  },
  {
   "cell_type": "code",
   "execution_count": 24,
   "metadata": {},
   "outputs": [
    {
     "name": "stderr",
     "output_type": "stream",
     "text": [
      "<ipython-input-24-916b65981da2>:23: RuntimeWarning: invalid value encountered in double_scalars\n",
      "  all_mid_a.append((result['CF100']['a'][1] + result['CF100']['a'][0])/2)\n"
     ]
    }
   ],
   "source": [
    "all_a = []\n",
    "all_b = []\n",
    "all_c = []\n",
    "all_F = []\n",
    "\n",
    "all_cf_a = []\n",
    "all_cf_b = []\n",
    "all_cf_c = []\n",
    "all_cf_F = []\n",
    "\n",
    "all_mid_a = []\n",
    "all_mid_b = []\n",
    "all_mid_c = []\n",
    "all_mid_F = []\n",
    "\n",
    "\n",
    "for result in result_list:\n",
    "    all_a.append(result['Gamma']['a'])\n",
    "    all_b.append(result['Gamma']['b'])\n",
    "    all_c.append(result['Gamma']['c'])\n",
    "    all_F.append(result['Gamma']['F'])\n",
    "    \n",
    "    all_mid_a.append((result['CF100']['a'][1] + result['CF100']['a'][0])/2)\n",
    "    all_mid_b.append((result['CF100']['b'][1] + result['CF100']['b'][0])/2)\n",
    "    all_mid_c.append((result['CF100']['c'][1] + result['CF100']['c'][0])/2)\n",
    "    all_mid_F.append((result['CF100']['F'][1] + result['CF100']['F'][0])/2)\n",
    "    \n",
    "    all_cf_a.append((result['CF100']['a'][1] - result['CF100']['a'][0])/2)\n",
    "    all_cf_b.append((result['CF100']['b'][1] - result['CF100']['b'][0])/2)\n",
    "    all_cf_c.append((result['CF100']['c'][1] - result['CF100']['c'][0])/2)\n",
    "    all_cf_F.append((result['CF100']['F'][1] - result['CF100']['F'][0])/2)\n",
    "    \n",
    "    \n",
    "    "
   ]
  },
  {
   "cell_type": "code",
   "execution_count": 25,
   "metadata": {},
   "outputs": [
    {
     "data": {
      "text/plain": [
       "Text(0, 0.5, '$F$')"
      ]
     },
     "execution_count": 25,
     "metadata": {},
     "output_type": "execute_result"
    },
    {
     "data": {
      "image/png": "[encoded data removed]",
      "text/plain": [
       "<Figure size 1440x720 with 4 Axes>"
      ]
     },
     "metadata": {
      "needs_background": "light"
     },
     "output_type": "display_data"
    }
   ],
   "source": [
    "x = np.arange(len(all_a))\n",
    "plt.figure(figsize=(20,10))\n",
    "plt.subplot(2,2,1)\n",
    "plt.axhline(y=-1)\n",
    "plt.axhline(y=1)\n",
    "plt.plot(x, all_a, '.', color='darkblue')\n",
    "plt.errorbar(x, all_mid_a, yerr=[all_cf_a, all_cf_a], marker='', fmt='', capsize=5, ls='', color='darkblue')\n",
    "plt.xlabel('Different states', size=14)\n",
    "plt.ylabel('$\\gamma_{12}$', size=18)\n",
    "\n",
    "plt.subplot(2,2,2)\n",
    "plt.axhline(y=-1)\n",
    "plt.axhline(y=1)\n",
    "plt.plot(x, all_b, '.', color='darkred')\n",
    "plt.errorbar(x, all_mid_b, yerr=[all_cf_b, all_cf_b], marker='', fmt='', capsize=5, ls='', color='darkred')\n",
    "plt.xlabel('Different states', size=14)\n",
    "plt.ylabel('$\\gamma_{23}$', size=18)\n",
    "\n",
    "plt.subplot(2,2,3)\n",
    "plt.axhline(y=-1)\n",
    "plt.axhline(y=1)\n",
    "plt.plot(x, all_c, '.', color='darkorange')\n",
    "plt.errorbar(x, all_mid_c, yerr=[all_cf_c, all_cf_c], marker='', fmt='', capsize=5, ls='', color='darkorange')\n",
    "plt.xlabel('Different states', size=14)\n",
    "plt.ylabel('$\\gamma_{31}$', size=18)\n",
    "\n",
    "plt.subplot(2,2,4)\n",
    "plt.axhline(y=-1)\n",
    "plt.axhline(y=1)\n",
    "plt.plot(x, all_F, '.', color='darkgreen')\n",
    "plt.errorbar(x, all_mid_F, yerr=[all_cf_F, all_cf_F], marker='', fmt='', capsize=5, ls='', color='darkgreen')\n",
    "plt.xlabel('Different states', size=14)\n",
    "plt.ylabel('$F$', size=18)\n",
    "\n",
    "# plt.savefig(f'product_peres_on_{datetime.date.today()}.pdf', bbox_inches='tight')"
   ]
  },
  {
   "cell_type": "code",
   "execution_count": 384,
   "metadata": {},
   "outputs": [],
   "source": [
    "with open(f'product_peres_with_error_from_qvm_{datetime.date.today()}', 'wb') as file:\n",
    "    pickle.dump(result_list, file)"
   ]
  },
  {
   "cell_type": "markdown",
   "metadata": {},
   "source": [
    "# Pure statistical error"
   ]
  },
  {
   "cell_type": "code",
   "execution_count": null,
   "metadata": {},
   "outputs": [],
   "source": [
    "data"
   ]
  }
 ],
 "metadata": {
  "kernelspec": {
   "display_name": "Python 3",
   "language": "python",
   "name": "python3"
  },
  "language_info": {
   "codemirror_mode": {
    "name": "ipython",
    "version": 3
   },
   "file_extension": ".py",
   "mimetype": "text/x-python",
   "name": "python",
   "nbconvert_exporter": "python",
   "pygments_lexer": "ipython3",
   "version": "3.8.6"
  }
 },
 "nbformat": 4,
 "nbformat_minor": 4
}
