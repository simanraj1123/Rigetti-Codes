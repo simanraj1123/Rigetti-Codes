{
 "cells": [
  {
   "cell_type": "code",
   "execution_count": 89,
   "metadata": {},
   "outputs": [],
   "source": [
    "import numpy as np, matplotlib.pyplot as plt, random, time, datetime\n",
    "from functools import lru_cache\n",
    "from pyquil import Program, get_qc\n",
    "from pyquil.gates import *\n",
    "import os\n",
    "from pyquil.quilatom import quil_sin, quil_cos, Parameter\n",
    "from pyquil.quilbase import DefGate\n",
    "from pyquil.latex import display, to_latex\n",
    "# import Peres_helpers as hf\n",
    "import pickle\n",
    "from collections import Counter\n",
    "\n",
    "Z_SCORE = 3\n",
    "N_SHOTS = 10_000\n",
    "\n",
    "# Helpers\n",
    "def dura(func):\n",
    "\t'''\n",
    "\tA wrapper function to calculate the time of any process we want.\n",
    "\t'''\n",
    "\tdef wrapper(*args, **kwargs):\n",
    "\t\tstart = time.time()\n",
    "\t\tprint(f'{func.__name__} has started.')\n",
    "\t\tval = func(*args, **kwargs)\n",
    "\t\tty_res = time.gmtime(time.time() - start)\n",
    "\t\tres = time.strftime(\"%H:%M:%S\",ty_res)\n",
    "\t\tprint(f'{func.__name__} completed in {res}')\n",
    "\t\treturn val\n",
    "\treturn wrapper\n",
    "\n",
    "def params_real():\n",
    "\t'''\n",
    "\tGenerates parameters to prepare random REAL quantum states.\n",
    "\t'''\n",
    "\ttheta = np.arccos(np.cos(e) - 2 * np.array([random.uniform(0,1) for _ in range(3)]))\n",
    "\tphi = np.array([(np.pi)*random.randint(0,1) for _ in range(3)])\n",
    "\tparams = zip(theta, phi)\n",
    "\treturn list(params)\n",
    "def params_complex():\n",
    "\t'''\n",
    "\tGenerates parameters to prepare COMPLEX quantum states.\n",
    "\t'''\n",
    "\ttheta = np.arccos(np.cos(e) - 2 * np.array([random.uniform(0,1) for _ in range(3)]))\n",
    "\tphi = np.array([2*np.pi*random.uniform(0,1) for _ in range(3)])\n",
    "\tparams = zip(theta, phi)\n",
    "\treturn list(params)\n",
    "\n",
    "e = 0\n",
    "\n",
    "# Gammas for different pairs of states.\n",
    "def g(u):\n",
    "    '''\n",
    "    Calls the sigma function with different values of parameters correponding to the configurations, |ψ12>, |ψ1> and |ψ2>. Returns a\n",
    "    dictionary with configurations as keys and output as values (which are lists).\n",
    "    '''\n",
    "    params = list(zip(*u)) # Unpack parameters\n",
    "    theta, phi = params[0], params[1] # Store thetas and phis in seperate tuples.\n",
    "    s12 = qc.run(exe, memory_map={'theta': theta, 'phi': phi, 'theta_m':[np.pi/2]}) # Stores the output of the circuit run.\n",
    "    counts_s12 = Counter([''.join(list(map(str, elem))) for elem in s12])\n",
    "    \n",
    "    #### NEW LINES\n",
    "#     s1 = qc.run(exe, memory_map={'theta': theta, 'phi': phi, 'theta_m':[0]}) # Stores the output of the circuit run.\n",
    "#     counts_s1 = Counter([''.join(list(map(str, elem))) for elem in s1])\n",
    "    \n",
    "    s2 = qc.run(exe, memory_map={'theta': theta, 'phi': phi, 'theta_m':[np.pi]}) # Stores the output of the circuit run.\n",
    "    counts_s2 = Counter([''.join(list(map(str, elem))) for elem in s2])\n",
    "    \n",
    "    #### NEW LINES END\n",
    "\n",
    "    return {'s12': counts_s12['01'], 's1': counts_s2['10'], 's2': counts_s2['00'], 'o12': s12, 'o1': s2}\n",
    "\n",
    "# Computing all the three gammas.\n",
    "# @dura # To calculate the time taken for all the circuits to run.\n",
    "def f(u):\n",
    "\t'''\n",
    "\tCalls the g function to run the circuit for different configurations and returns a dictionary with 'a', 'b', 'c' as keys and the corresponding \n",
    "\toutputs of the three configurations. This marks the end of what the Quantum computer must be used for. After this it is all about post-\n",
    "\tprocessing the data.\n",
    "\t'''\n",
    "\talpha = g([u[0], u[1]]) # Running for alpha\n",
    "\tbeta = g([u[1], u[2]]) # Running for beta\n",
    "\tgamma = g([u[2], u[0]]) # Running for gamma\n",
    "\n",
    "\tres = {'a': alpha, 'b': beta, 'c': gamma}\n",
    "\n",
    "\treturn res\n",
    "\n",
    "def get_gammas(counts, N):\n",
    "    res = {}\n",
    "    for gamma in counts.keys():\n",
    "        counts_12 = Counter([''.join(list(map(str, elem))) for elem in counts[gamma]['o12'][:N]])['01']\n",
    "        counts_1 = Counter([''.join(list(map(str, elem))) for elem in counts[gamma]['o1'][:N]])['01']\n",
    "        counts_2 = Counter([''.join(list(map(str, elem))) for elem in counts[gamma]['o1'][:N]])['11']\n",
    "        #Counter([''.join(list(map(str, elem))) for elem in s2])\n",
    "        g = (2*counts_12 - counts_1 - counts_2) / (2 * np.sqrt(counts_1*counts_2))\n",
    "        res[gamma] = g\n",
    "\n",
    "    res['F'] = res['a']**2 + res['b']**2 + res['c']**2 - 2 * res['a'] * res['b'] * res['c']\n",
    "    return res\n",
    "\n",
    "def circuit(qubit1, qubit2):\n",
    "    circ = Program()\n",
    "    \n",
    "    c = circ.declare('ro', 'BIT', 2)\n",
    "    theta = circ.declare('theta', 'REAL', 2)\n",
    "    phi = circ.declare('phi', 'REAL', 2)\n",
    "    theta_m = circ.declare('theta_m', 'REAL')\n",
    "    \n",
    "    # Preparation of states.\n",
    "    circ += RY(theta[0], qubit1)\n",
    "    circ += RZ(phi[0], qubit1)\n",
    "    \n",
    "    circ += RY(theta[1], qubit2)\n",
    "    circ += RZ(phi[1], qubit2)\n",
    "    \n",
    "#     circ += X(qubit1)\n",
    "    \n",
    "    # Measuring in psi+ basis\n",
    "    circ += CNOT(qubit1, qubit2)\n",
    "    circ += RY(-theta_m, qubit1)\n",
    "#     circ += H(qubit1)\n",
    "    \n",
    "    circ += MEASURE(qubit1, c[0])\n",
    "    circ += MEASURE(qubit2, c[1])\n",
    "    \n",
    "    circ.wrap_in_numshots_loop(N_SHOTS)\n",
    "    \n",
    "    return circ\n",
    "\n",
    "def gamma_theory(data):\n",
    "    u = data['State_params']\n",
    "    g12 = np.cos(u[1][1] - u[0][1])\n",
    "    g23 = np.cos(u[2][1] - u[1][1])\n",
    "    g31 = np.cos(u[0][1] - u[2][1])\n",
    "    \n",
    "    data['Gammas_theory'] = {'a': g12, 'b': g23, 'c': g31}\n",
    "    \n",
    "    f = g12**2 + g23**2 + g31**2 - 2 * g12 * g23 * g31\n",
    "    \n",
    "    data['Gammas_theory']['F'] = f\n",
    "    \n",
    "    return data\n",
    "\n",
    "Z_SCORE = 3\n",
    "N_SHOTS = 10_000"
   ]
  },
  {
   "cell_type": "code",
   "execution_count": 90,
   "metadata": {},
   "outputs": [
    {
     "data": {
      "text/plain": [
       "datetime.date(2021, 6, 23)"
      ]
     },
     "execution_count": 90,
     "metadata": {},
     "output_type": "execute_result"
    }
   ],
   "source": [
    "datetime.date.today()"
   ]
  },
  {
   "cell_type": "code",
   "execution_count": 91,
   "metadata": {},
   "outputs": [
    {
     "name": "stdout",
     "output_type": "stream",
     "text": [
      "Done with iteration 9\r"
     ]
    }
   ],
   "source": [
    "result_list = []\n",
    "q1, q2 = 12, 25\n",
    "trial=2\n",
    "engine = 'qvm'\n",
    "folder = f'product_peres_{engine}_{datetime.date.today()}_{q1}_{q2}_bits_{N_SHOTS}_shots_trial_{trial}'\n",
    "# folder = f'product_peres_{engine}_{datetime.date.today()}_{q1}_{q2}_bits_{N_SHOTS}_shots'\n",
    "os.system(f'mkdir {folder}')\n",
    "\n",
    "qc = get_qc('Aspen-9', as_qvm=True) # Initialise QPU.\n",
    "# qc = get_qc('2q-qvm')\n",
    "\n",
    "circ = circuit(q1,q2)\n",
    "exe = qc.compile(circ)\n",
    "\n",
    "for i in range(10):\n",
    "    data = {}\n",
    "    data['State_params'] = params_complex()\n",
    "\n",
    "    data['Counts'] = f(data['State_params'])\n",
    "    \n",
    "    result_list.append(data)\n",
    "\n",
    "    print(f'Done with iteration {i}', end='\\r')\n",
    "\n",
    "with open(f'{folder}/result_list_trial_{trial}', 'wb') as file:\n",
    "    pickle.dump(result_list, file)"
   ]
  },
  {
   "cell_type": "code",
   "execution_count": 92,
   "metadata": {},
   "outputs": [],
   "source": [
    "# with open(f'product_peres_Aspen_2021-06-21_12_25_bits_10000_shots_trial_1/result_list_trial_{1}', 'rb') as file:\n",
    "#     res_list = pickle.load(file)\n",
    "# with open(f'product_peres_Aspen_2021-06-21_12_25_bits_10000_shots_trial_2/result_list_trial_{2}', 'rb') as file:\n",
    "#     res_list.append(pickle.load(file))\n",
    "with open(f'{folder}/result_list_trial_{trial}', 'rb') as file:\n",
    "    res_list = pickle.load(file)"
   ]
  },
  {
   "cell_type": "code",
   "execution_count": 93,
   "metadata": {},
   "outputs": [
    {
     "data": {
      "text/plain": [
       "10"
      ]
     },
     "execution_count": 93,
     "metadata": {},
     "output_type": "execute_result"
    }
   ],
   "source": [
    "len(res_list)"
   ]
  },
  {
   "cell_type": "code",
   "execution_count": 94,
   "metadata": {},
   "outputs": [
    {
     "data": {
      "image/png": "[encoded data removed]",
      "text/plain": [
       "<Figure size 1224x720 with 4 Axes>"
      ]
     },
     "metadata": {
      "needs_background": "light"
     },
     "output_type": "display_data"
    }
   ],
   "source": [
    "sub_N =10000\n",
    "fig = plt.figure(figsize=(17, 10))\n",
    "for sub_N in [sub_N]:\n",
    "    all_a = []\n",
    "    all_b = []\n",
    "    all_c = []\n",
    "    all_F = []\n",
    "\n",
    "    all_a_theory = []\n",
    "    all_b_theory = []\n",
    "    all_c_theory = []\n",
    "    all_F_theory = []\n",
    "\n",
    "    all_a_errors = []\n",
    "    all_b_errors = []\n",
    "    all_c_errors = []\n",
    "    all_F_errors = []\n",
    "\n",
    "    for data in result_list:\n",
    "        data['Gamma'] = get_gammas(data['Counts'], sub_N)\n",
    "        all_a.append(data['Gamma']['a'])\n",
    "        all_b.append(data['Gamma']['b'])\n",
    "        all_c.append(data['Gamma']['c'])\n",
    "        all_F.append(data['Gamma']['F'])\n",
    "\n",
    "    x = np.array(list(range(1,len(result_list)+1)))\n",
    "#     fig = plt.figure(figsize=(17,10))\n",
    "    plt.subplot(2,2,1)\n",
    "    plt.plot(x, all_a, 'o', color='red', markersize=4)\n",
    "    plt.axhline(y=1, ls='dashed', alpha=0.5)\n",
    "    plt.axhline(y=-1, ls='dashed', alpha=0.5)\n",
    "    plt.xticks(x)\n",
    "    plt.xlabel('$\\\\gamma_{12}$', size=14)\n",
    "\n",
    "    plt.subplot(2,2,2)\n",
    "    plt.plot(x, all_b, 'o', color='blue', markersize=4)\n",
    "    plt.axhline(y=1, ls='dashed', alpha=0.5)\n",
    "    plt.axhline(y=-1, ls='dashed', alpha=0.5)\n",
    "    plt.xticks(x)\n",
    "    plt.xlabel('$\\\\gamma_{23}$', size=14)\n",
    "\n",
    "    plt.subplot(2,2,3)\n",
    "    plt.plot(x, all_c, 'o', color='darkgreen', markersize=4)\n",
    "    plt.axhline(y=1, ls='dashed', alpha=0.5)\n",
    "    plt.axhline(y=-1, ls='dashed', alpha=0.5)\n",
    "    plt.xticks(x)\n",
    "    plt.xlabel('$\\\\gamma_{31}$', size=14)\n",
    "\n",
    "    plt.subplot(2,2,4)\n",
    "    plt.plot(x, all_F, 'o', color='maroon', markersize=4)\n",
    "    plt.axhline(y=1, ls='dashed', alpha=0.5)\n",
    "    plt.axhline(y=-1, ls='dashed', alpha=0.5)\n",
    "    plt.xticks(x)\n",
    "    plt.xlabel('$F$', size=14)\n",
    "\n",
    "#     plt.show()"
   ]
  },
  {
   "cell_type": "markdown",
   "metadata": {},
   "source": [
    "# Statistical fluctuation through repetition"
   ]
  },
  {
   "cell_type": "code",
   "execution_count": 140,
   "metadata": {},
   "outputs": [
    {
     "name": "stdout",
     "output_type": "stream",
     "text": [
      "States [(1.624856462838205, 4.577726999959647), (1.5334632715520515, 4.618719120817586), (2.7716610386483316, 3.160524807474115)]\n",
      "States [(0.4165665876847796, 1.3380873220067426), (1.7515437844549102, 4.950901872066199), (0.865023345804317, 4.580087134788987)]\n",
      "States [(1.2358473722635301, 2.6406704249675674), (1.133039464405895, 5.4356397260931555), (1.2980482455760654, 6.190441597045996)]\n",
      "States [(0.8004574749903834, 0.7733094915336839), (2.5124709435968033, 5.931842556242618), (0.6060821917787119, 4.744806438164855)]\n",
      "States [(1.8056897148076398, 5.808508562344143), (2.830480354571345, 5.919315924065063), (2.5734652686786337, 4.692849548440272)]\n",
      "States [(2.3352681581784713, 2.803826332568166), (1.1433754674548142, 0.6397765072491793), (0.7778999435492031, 5.338412180640358)]\n",
      "States [(1.7144938669483791, 1.5494192409509349), (2.8696397015371975, 5.574774964573181), (2.0821126977586855, 1.2255394554981673)]\n",
      "States [(1.6693141893503456, 0.9660788806629388), (1.5646020045508453, 1.0792991727753078), (2.3121915467563925, 2.896411058042313)]\n",
      "States [(0.9378108598759921, 3.3558078089583026), (1.7330408829013013, 3.8327978827819846), (1.6382531002959386, 2.3894051447992015)]\n",
      "States [(2.248626217643188, 3.01431195111892), (1.504811255547241, 1.0456910612636139), (0.48640122960174303, 1.0303729141949225)]\n",
      "Done with iteration 49\r"
     ]
    }
   ],
   "source": [
    "# result_list = []\n",
    "\n",
    "q1, q2 = 12, 25\n",
    "trial=2\n",
    "# engine = 'qvm'\n",
    "# folder = f'new_peres_{engine}_{datetime.date.today()}_{q1}_{q2}_bits_{N_SHOTS}_shots_trial_{trial}'\n",
    "# os.system(f'mkdir {folder}')\n",
    "\n",
    "qc = get_qc('Aspen-9', as_qvm=True) # Initialise QPU.\n",
    "\n",
    "circ = circuit(q1,q2)\n",
    "exe = qc.compile(circ)\n",
    "\n",
    "for result in res_list:\n",
    "    print(f\"States {result['State_params']}\", end='\\n')\n",
    "    result['CF99'] = {}\n",
    "    result['CF100'] = {}\n",
    "    result['Stats'] = {}\n",
    "    data = {}\n",
    "    data['State_params'] = result['State_params']\n",
    "    data['a'] = []\n",
    "    data['b'] = []\n",
    "    data['c'] = []\n",
    "    data['F'] = []\n",
    "    for i in range(50):\n",
    "    #     data = {}\n",
    "    #     data['State_params'] = params_complex()\n",
    "\n",
    "        Counts = f(data['State_params'])\n",
    "\n",
    "    #     with open(f'{folder}/run_{i}', 'wb') as file:\n",
    "    #         pickle.dump(data, file)\n",
    "\n",
    "        all_gammas = get_gammas(Counts, sub_N)\n",
    "        data['a'].append(all_gammas['a'])\n",
    "        data['b'].append(all_gammas['b'])\n",
    "        data['c'].append(all_gammas['c'])\n",
    "        data['F'].append(all_gammas['F'])\n",
    "        print(f'Done with iteration {i}', end='\\r')\n",
    "\n",
    "    #     result_list.append(data)\n",
    "\n",
    "#     print(f'Done with iteration {i}', end='\\r')\n",
    "\n",
    "    samp = data['a']\n",
    "    samp.sort()\n",
    "    result['Stats']['a'] = samp\n",
    "    result['CF99']['a'] = [samp[int(0.005 * len(samp))], samp[int(0.995 * len(samp))]]\n",
    "    result['CF100']['a'] = [samp[0], samp[-1]]\n",
    "\n",
    "    samp = data['b']\n",
    "    samp.sort()\n",
    "    result['Stats']['b'] = samp\n",
    "    result['CF99']['b'] = [samp[int(0.005 * len(samp))], samp[int(0.995 * len(samp))]]\n",
    "    result['CF100']['b'] = [samp[0], samp[-1]]\n",
    "\n",
    "    samp = data['c']\n",
    "    samp.sort()\n",
    "    result['Stats']['c'] = samp\n",
    "    result['CF99']['c'] = [samp[int(0.005 * len(samp))], samp[int(0.995 * len(samp))]]\n",
    "    result['CF100']['c'] = [samp[0], samp[-1]]\n",
    "\n",
    "    samp = data['F']\n",
    "    samp.sort()\n",
    "    result['Stats']['F'] = samp\n",
    "    result['CF99']['F'] = [samp[int(0.005 * len(samp))], samp[int(0.995 * len(samp))]]\n",
    "    result['CF100']['F'] = [samp[0], samp[-1]]\n",
    "    \n",
    "    \n",
    "# with open(f'{folder}/result_list', 'wb') as file:\n",
    "#     pickle.dump(result_list, file)"
   ]
  },
  {
   "cell_type": "code",
   "execution_count": 141,
   "metadata": {},
   "outputs": [],
   "source": [
    "all_a = []\n",
    "all_b = []\n",
    "all_c = []\n",
    "all_F = []\n",
    "\n",
    "all_cf_a = []\n",
    "all_cf_b = []\n",
    "all_cf_c = []\n",
    "all_cf_F = []\n",
    "\n",
    "all_mid_a = []\n",
    "all_mid_b = []\n",
    "all_mid_c = []\n",
    "all_mid_F = []\n",
    "\n",
    "\n",
    "for result in res_list:\n",
    "    all_a.append(result['Gamma']['a'])\n",
    "    all_b.append(result['Gamma']['b'])\n",
    "    all_c.append(result['Gamma']['c'])\n",
    "    all_F.append(result['Gamma']['F'])\n",
    "    \n",
    "    all_mid_a.append((result['CF100']['a'][1] + result['CF100']['a'][0])/2)\n",
    "    all_mid_b.append((result['CF100']['b'][1] + result['CF100']['b'][0])/2)\n",
    "    all_mid_c.append((result['CF100']['c'][1] + result['CF100']['c'][0])/2)\n",
    "    all_mid_F.append((result['CF100']['F'][1] + result['CF100']['F'][0])/2)\n",
    "    \n",
    "    all_cf_a.append((result['CF100']['a'][1] - result['CF100']['a'][0])/2)\n",
    "    all_cf_b.append((result['CF100']['b'][1] - result['CF100']['b'][0])/2)\n",
    "    all_cf_c.append((result['CF100']['c'][1] - result['CF100']['c'][0])/2)\n",
    "    all_cf_F.append((result['CF100']['F'][1] - result['CF100']['F'][0])/2)\n",
    "    \n",
    "    \n",
    "    "
   ]
  },
  {
   "cell_type": "code",
   "execution_count": 142,
   "metadata": {},
   "outputs": [
    {
     "data": {
      "text/plain": [
       "Text(0, 0.5, '$F$')"
      ]
     },
     "execution_count": 142,
     "metadata": {},
     "output_type": "execute_result"
    },
    {
     "data": {
      "image/png": "[encoded data removed]",
      "text/plain": [
       "<Figure size 1440x720 with 4 Axes>"
      ]
     },
     "metadata": {
      "needs_background": "light"
     },
     "output_type": "display_data"
    }
   ],
   "source": [
    "x = np.arange(len(all_a))\n",
    "plt.figure(figsize=(20,10))\n",
    "plt.subplot(2,2,1)\n",
    "plt.axhline(y=-1)\n",
    "plt.axhline(y=1)\n",
    "plt.plot(x, all_a, '.', color='darkblue')\n",
    "plt.errorbar(x, all_mid_a, yerr=[all_cf_a, all_cf_a], marker='', fmt='', capsize=5, ls='', color='darkblue')\n",
    "plt.xlabel('Different states', size=14)\n",
    "plt.ylabel('$\\gamma_{12}$', size=18)\n",
    "\n",
    "plt.subplot(2,2,2)\n",
    "plt.axhline(y=-1)\n",
    "plt.axhline(y=1)\n",
    "plt.plot(x, all_b, '.', color='darkred')\n",
    "plt.errorbar(x, all_mid_b, yerr=[all_cf_b, all_cf_b], marker='', fmt='', capsize=5, ls='', color='darkred')\n",
    "plt.xlabel('Different states', size=14)\n",
    "plt.ylabel('$\\gamma_{23}$', size=18)\n",
    "\n",
    "plt.subplot(2,2,3)\n",
    "plt.axhline(y=-1)\n",
    "plt.axhline(y=1)\n",
    "plt.plot(x, all_c, '.', color='darkorange')\n",
    "plt.errorbar(x, all_mid_c, yerr=[all_cf_c, all_cf_c], marker='', fmt='', capsize=5, ls='', color='darkorange')\n",
    "plt.xlabel('Different states', size=14)\n",
    "plt.ylabel('$\\gamma_{31}$', size=18)\n",
    "\n",
    "plt.subplot(2,2,4)\n",
    "plt.axhline(y=-1)\n",
    "plt.axhline(y=1)\n",
    "plt.plot(x, all_F, '.', color='darkgreen')\n",
    "plt.errorbar(x, all_mid_F, yerr=[all_cf_F, all_cf_F], marker='', fmt='', capsize=5, ls='', color='darkgreen')\n",
    "plt.xlabel('Different states', size=14)\n",
    "plt.ylabel('$F$', size=18)\n",
    "\n",
    "# plt.savefig(f'product_peres_on_{datetime.date.today()}.pdf', bbox_inches='tight')"
   ]
  },
  {
   "cell_type": "code",
   "execution_count": 384,
   "metadata": {},
   "outputs": [],
   "source": [
    "with open(f'product_peres_with_error_from_qvm_{datetime.date.today()}', 'wb') as file:\n",
    "    pickle.dump(result_list, file)"
   ]
  },
  {
   "cell_type": "markdown",
   "metadata": {},
   "source": [
    "# Pure statistical error"
   ]
  },
  {
   "cell_type": "code",
   "execution_count": 16,
   "metadata": {},
   "outputs": [],
   "source": [
    "x = list(range(10))"
   ]
  },
  {
   "cell_type": "code",
   "execution_count": 19,
   "metadata": {},
   "outputs": [
    {
     "data": {
      "text/plain": [
       "[0, 1, 2, 3, 4, 5, 6, 7, 8, 9]"
      ]
     },
     "execution_count": 19,
     "metadata": {},
     "output_type": "execute_result"
    }
   ],
   "source": [
    "x[:21]"
   ]
  },
  {
   "cell_type": "code",
   "execution_count": 31,
   "metadata": {},
   "outputs": [
    {
     "data": {
      "text/plain": [
       "[[(2.2643917376806413, 1.4092148068944585),\n",
       "  (1.2196591504966108, 4.148394322725507),\n",
       "  (2.7314796585224057, 0.6622316094082566)],\n",
       " [(1.9860241475277391, 4.438849673812229),\n",
       "  (2.22327815594402, 2.909435861433363),\n",
       "  (0.7822388440433669, 4.079531736035741)],\n",
       " [(1.9536982700306442, 0.7243762434357844),\n",
       "  (1.5756268430063722, 3.7691081945710656),\n",
       "  (2.1961767849885168, 2.837030056536219)],\n",
       " [(1.0977255769543777, 5.589484433163971),\n",
       "  (0.6483948742005643, 0.2827915572231466),\n",
       "  (2.2069970435274184, 5.508972601778685)],\n",
       " [(2.3596960276539742, 4.429645196100462),\n",
       "  (0.893037797503311, 5.8738392420736245),\n",
       "  (1.218767424722084, 0.1907557515304096)]]"
      ]
     },
     "execution_count": 31,
     "metadata": {},
     "output_type": "execute_result"
    }
   ],
   "source": [
    "# Good state params\n",
    "good_sp = [res_list[i]['State_params'] for i in [0,1,2,6,7]]\n",
    "good_sp"
   ]
  },
  {
   "cell_type": "code",
   "execution_count": 34,
   "metadata": {},
   "outputs": [],
   "source": [
    "with open(f'good_states_{datetime.date.today()}_{15}_states.pkl', 'wb') as file:\n",
    "    pickle.dump(gs + good_sp, file)"
   ]
  },
  {
   "cell_type": "code",
   "execution_count": 36,
   "metadata": {},
   "outputs": [
    {
     "data": {
      "text/plain": [
       "15"
      ]
     },
     "execution_count": 36,
     "metadata": {},
     "output_type": "execute_result"
    }
   ],
   "source": [
    "with open(f'good_states_{datetime.date.today()}_{15}_states.pkl', 'rb') as file:\n",
    "    gs = pickle.load(file)\n",
    "len(gs)"
   ]
  },
  {
   "cell_type": "code",
   "execution_count": null,
   "metadata": {
    "jupyter": {
     "source_hidden": true
    }
   },
   "outputs": [
    {
     "name": "stdout",
     "output_type": "stream",
     "text": [
      "Done with iteration 1\r"
     ]
    }
   ],
   "source": [
    "result_list = []\n",
    "q1, q2 = 12, 25\n",
    "trial=2\n",
    "engine = 'Aspen'\n",
    "folder = f'product_peres_{engine}_{datetime.date.today()}_{q1}_{q2}_bits_{N_SHOTS}_shots_trial_{trial}'\n",
    "# folder = f'product_peres_{engine}_{datetime.date.today()}_{q1}_{q2}_bits_{N_SHOTS}_shots'\n",
    "os.system(f'mkdir {folder}')\n",
    "\n",
    "qc = get_qc('Aspen-9')#, as_qvm=True) # Initialise QPU.\n",
    "# qc = get_qc('2q-qvm')\n",
    "\n",
    "circ = circuit(q1,q2)\n",
    "exe = qc.compile(circ)\n",
    "\n",
    "for i in range(4):\n",
    "    data = {}\n",
    "    data['State_params'] = params_complex()\n",
    "\n",
    "    data['Counts'] = f(data['State_params'])\n",
    "    \n",
    "    result_list.append(data)\n",
    "\n",
    "    print(f'Done with iteration {i}', end='\\r')\n",
    "\n",
    "with open(f'{folder}/result_list_trial_{trial}', 'wb') as file:\n",
    "    pickle.dump(result_list, file)"
   ]
  },
  {
   "cell_type": "code",
   "execution_count": 45,
   "metadata": {},
   "outputs": [
    {
     "data": {
      "text/plain": [
       "15"
      ]
     },
     "execution_count": 45,
     "metadata": {},
     "output_type": "execute_result"
    }
   ],
   "source": [
    "len(gs)"
   ]
  },
  {
   "cell_type": "code",
   "execution_count": 33,
   "metadata": {},
   "outputs": [
    {
     "data": {
      "text/plain": [
       "15"
      ]
     },
     "execution_count": 33,
     "metadata": {},
     "output_type": "execute_result"
    }
   ],
   "source": [
    "len(gs + good_sp)"
   ]
  },
  {
   "cell_type": "code",
   "execution_count": 95,
   "metadata": {},
   "outputs": [],
   "source": [
    "with open('product_peres_Aspen_2021-06-23_12_25_bits_10000_shots_trial_1/result_list_trial_1', 'rb') as file:\n",
    "    result_list = pickle.load(file)"
   ]
  },
  {
   "cell_type": "code",
   "execution_count": 96,
   "metadata": {},
   "outputs": [
    {
     "data": {
      "text/plain": [
       "15"
      ]
     },
     "execution_count": 96,
     "metadata": {},
     "output_type": "execute_result"
    }
   ],
   "source": [
    "len(asp_res)"
   ]
  },
  {
   "cell_type": "code",
   "execution_count": 99,
   "metadata": {},
   "outputs": [],
   "source": [
    "sub_N =10000\n",
    "def plot_all(result_list, sub_N):\n",
    "    fig = plt.figure(figsize=(17, 10))\n",
    "    for sub_N in [sub_N]:\n",
    "        all_a = []\n",
    "        all_b = []\n",
    "        all_c = []\n",
    "        all_F = []\n",
    "\n",
    "        all_a_theory = []\n",
    "        all_b_theory = []\n",
    "        all_c_theory = []\n",
    "        all_F_theory = []\n",
    "\n",
    "        all_a_errors = []\n",
    "        all_b_errors = []\n",
    "        all_c_errors = []\n",
    "        all_F_errors = []\n",
    "\n",
    "        for data in result_list:\n",
    "            data['Gamma'] = get_gammas(data['Counts'], sub_N)\n",
    "            all_a.append(data['Gamma']['a'])\n",
    "            all_b.append(data['Gamma']['b'])\n",
    "            all_c.append(data['Gamma']['c'])\n",
    "            all_F.append(data['Gamma']['F'])\n",
    "\n",
    "        x = np.array(list(range(1,len(result_list)+1)))\n",
    "    #     fig = plt.figure(figsize=(17,10))\n",
    "        plt.subplot(2,2,1)\n",
    "        plt.plot(x, all_a, 'o', color='red', markersize=4)\n",
    "        plt.axhline(y=1, ls='dashed', alpha=0.5)\n",
    "        plt.axhline(y=-1, ls='dashed', alpha=0.5)\n",
    "        plt.xticks(x)\n",
    "        plt.xlabel('$\\\\gamma_{12}$', size=14)\n",
    "\n",
    "        plt.subplot(2,2,2)\n",
    "        plt.plot(x, all_b, 'o', color='blue', markersize=4)\n",
    "        plt.axhline(y=1, ls='dashed', alpha=0.5)\n",
    "        plt.axhline(y=-1, ls='dashed', alpha=0.5)\n",
    "        plt.xticks(x)\n",
    "        plt.xlabel('$\\\\gamma_{23}$', size=14)\n",
    "\n",
    "        plt.subplot(2,2,3)\n",
    "        plt.plot(x, all_c, 'o', color='darkgreen', markersize=4)\n",
    "        plt.axhline(y=1, ls='dashed', alpha=0.5)\n",
    "        plt.axhline(y=-1, ls='dashed', alpha=0.5)\n",
    "        plt.xticks(x)\n",
    "        plt.xlabel('$\\\\gamma_{31}$', size=14)\n",
    "\n",
    "        plt.subplot(2,2,4)\n",
    "        plt.plot(x, all_F, 'o', color='maroon', markersize=4)\n",
    "        plt.axhline(y=1, ls='dashed', alpha=0.5)\n",
    "        plt.axhline(y=-1, ls='dashed', alpha=0.5)\n",
    "        plt.xticks(x)\n",
    "        plt.xlabel('$F$', size=14)\n",
    "        \n",
    "        plt.show()"
   ]
  },
  {
   "cell_type": "code",
   "execution_count": 102,
   "metadata": {},
   "outputs": [
    {
     "data": {
      "image/png": "[encoded data removed]",
      "text/plain": [
       "<Figure size 1224x720 with 4 Axes>"
      ]
     },
     "metadata": {
      "needs_background": "light"
     },
     "output_type": "display_data"
    }
   ],
   "source": [
    "plot_all(result_list, 1600)"
   ]
  },
  {
   "cell_type": "code",
   "execution_count": 110,
   "metadata": {},
   "outputs": [
    {
     "data": {
      "image/png": "[encoded data removed]",
      "text/plain": [
       "<Figure size 1224x720 with 4 Axes>"
      ]
     },
     "metadata": {
      "needs_background": "light"
     },
     "output_type": "display_data"
    }
   ],
   "source": [
    "fig = plt.figure(figsize=(17,10))\n",
    "ax12 = fig.add_subplot(2,2,1)\n",
    "ax23 = fig.add_subplot(2,2,2)\n",
    "ax31 = fig.add_subplot(2,2,3)\n",
    "axF = fig.add_subplot(2,2,4)\n",
    "ax12.plot([],[], 'o')\n",
    "ax23.plot([],[], 'o')\n",
    "ax21.plot([],[], 'o')\n",
    "ax12.plot([],[], 'o')\n",
    "def animate(i):\n",
    "    plot_all(result_list, 1000*i+1000)\n",
    "    return None\n",
    "\n",
    "# anim = animation.FuncAnimation(fig, animate, frames=10)\n",
    "# HTML(anim.to_html5_video())"
   ]
  },
  {
   "cell_type": "code",
   "execution_count": 107,
   "metadata": {},
   "outputs": [],
   "source": [
    "from matplotlib import animation\n",
    "from IPython.display import HTML"
   ]
  },
  {
   "cell_type": "code",
   "execution_count": null,
   "metadata": {},
   "outputs": [],
   "source": []
  }
 ],
 "metadata": {
  "kernelspec": {
   "display_name": "Python 3",
   "language": "python",
   "name": "python3"
  },
  "language_info": {
   "codemirror_mode": {
    "name": "ipython",
    "version": 3
   },
   "file_extension": ".py",
   "mimetype": "text/x-python",
   "name": "python",
   "nbconvert_exporter": "python",
   "pygments_lexer": "ipython3",
   "version": "3.8.6"
  }
 },
 "nbformat": 4,
 "nbformat_minor": 4
}
