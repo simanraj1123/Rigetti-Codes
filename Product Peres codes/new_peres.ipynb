{
 "cells": [
  {
   "cell_type": "code",
   "execution_count": 23,
   "metadata": {},
   "outputs": [],
   "source": [
    "import numpy as np, matplotlib.pyplot as plt, random, time\n",
    "from functools import lru_cache\n",
    "from pyquil import Program, get_qc\n",
    "from pyquil.gates import *\n",
    "import os\n",
    "from pyquil.quilatom import quil_sin, quil_cos, Parameter\n",
    "from pyquil.quilbase import DefGate\n",
    "from pyquil.latex import display, to_latex\n",
    "# import Peres_helpers as hf\n",
    "import pickle\n",
    "from collections import Counter\n",
    "\n",
    "Z_SCORE = 3\n",
    "N_SHOTS = 10_000\n",
    "\n",
    "# Helpers\n",
    "def dura(func):\n",
    "\t'''\n",
    "\tA wrapper function to calculate the time of any process we want.\n",
    "\t'''\n",
    "\tdef wrapper(*args, **kwargs):\n",
    "\t\tstart = time.time()\n",
    "\t\tprint(f'{func.__name__} has started.')\n",
    "\t\tval = func(*args, **kwargs)\n",
    "\t\tty_res = time.gmtime(time.time() - start)\n",
    "\t\tres = time.strftime(\"%H:%M:%S\",ty_res)\n",
    "\t\tprint(f'{func.__name__} completed in {res}')\n",
    "\t\treturn val\n",
    "\treturn wrapper\n",
    "\n",
    "def params_real():\n",
    "\t'''\n",
    "\tGenerates parameters to prepare random REAL quantum states.\n",
    "\t'''\n",
    "\ttheta = np.arccos(np.cos(e) - 2 * np.array([random.uniform(0,1) for _ in range(3)]))\n",
    "\tphi = np.array([(np.pi)*random.randint(0,1) for _ in range(3)])\n",
    "\tparams = zip(theta, phi)\n",
    "\treturn list(params)\n",
    "def params_complex():\n",
    "\t'''\n",
    "\tGenerates parameters to prepare COMPLEX quantum states.\n",
    "\t'''\n",
    "\ttheta = np.arccos(np.cos(e) - 2 * np.array([random.uniform(0,1) for _ in range(3)]))\n",
    "\tphi = np.array([2*np.pi*random.uniform(0,1) for _ in range(3)])\n",
    "\tparams = zip(theta, phi)\n",
    "\treturn list(params)\n",
    "\n",
    "n_shots = 10_000\n",
    "e = 0\n",
    "\n",
    "# Sigma calculation. This function executes the circuit.\n",
    "def sigma(params, params_ancilla):\n",
    "\t'''\n",
    "\tCompile and run the circuit given the parameters. The list of outputs is returned.\n",
    "\t'''\n",
    "\tparams = list(zip(*params)) # Unpack parameters\n",
    "\ttheta, phi = params[0], params[1] # Store thetas and phis in seperate tuples.\n",
    "\t\n",
    "\tbitstrings = qc.run(exe, memory_map={'theta': theta, 'phi': phi, 'th':[params_ancilla]}) # Stores the output of the circuit run.\n",
    "\treturn bitstrings\n",
    "\n",
    "# Gammas for different pairs of states.\n",
    "def g(u):\n",
    "    '''\n",
    "    Calls the sigma function with different values of parameters correponding to the configurations, |ψ12>, |ψ1> and |ψ2>. Returns a\n",
    "    dictionary with configurations as keys and output as values (which are lists).\n",
    "    '''\n",
    "    params = list(zip(*u)) # Unpack parameters\n",
    "    theta, phi = params[0], params[1] # Store thetas and phis in seperate tuples.\n",
    "    s12 = qc.run(exe, memory_map={'theta': theta, 'phi': phi, 'theta_m':[np.pi/2]}) # Stores the output of the circuit run.\n",
    "    s12 = Counter([''.join(list(map(str, elem))) for elem in s12])\n",
    "    \n",
    "    #### NEW LINES\n",
    "    s1 = qc.run(exe, memory_map={'theta': theta, 'phi': phi, 'theta_m':[0]}) # Stores the output of the circuit run.\n",
    "    s1 = Counter([''.join(list(map(str, elem))) for elem in s1])\n",
    "    \n",
    "    s2 = qc.run(exe, memory_map={'theta': theta, 'phi': phi, 'theta_m':[np.pi]}) # Stores the output of the circuit run.\n",
    "    s2 = Counter([''.join(list(map(str, elem))) for elem in s2])\n",
    "    \n",
    "    #### NEW LINES END\n",
    "\n",
    "#     s1 = qc.run(exe1, memory_map={'theta': theta, 'phi': phi}) # Stores the output of the circuit run.\n",
    "#     s1 = Counter([''.join(list(map(str, elem))) for elem in s1])\n",
    "\n",
    "#     return s12#{'s12': s12, 's1': s1}\n",
    "    return {'s12': s12['00'], 's1': s1['00'], 's2': s2['00']}\n",
    "\n",
    "# Computing all the three gammas.\n",
    "@dura # To calculate the time taken for all the circuits to run.\n",
    "def f(u):\n",
    "\t'''\n",
    "\tCalls the g function to run the circuit for different configurations and returns a dictionary with 'a', 'b', 'c' as keys and the corresponding \n",
    "\toutputs of the three configurations. This marks the end of what the Quantum computer must be used for. After this it is all about post-\n",
    "\tprocessing the data.\n",
    "\t'''\n",
    "\talpha = g([u[0], u[1]]) # Running for alpha\n",
    "\tbeta = g([u[1], u[2]]) # Running for beta\n",
    "\tgamma = g([u[2], u[0]]) # Running for gamma\n",
    "\n",
    "\tres = {'a': alpha, 'b': beta, 'c': gamma}\n",
    "\n",
    "\treturn res\n",
    "\n",
    "\n",
    "def circuit1(qubit1, qubit2):\n",
    "    circ = Program()\n",
    "    \n",
    "    c = circ.declare('ro', 'BIT', 2)\n",
    "    theta = circ.declare('theta', 'REAL', 2)\n",
    "    phi = circ.declare('phi', 'REAL', 2)\n",
    "    \n",
    "    # Preparation of states.\n",
    "    circ += RY(theta[0], qubit1)\n",
    "    circ += RZ(phi[0], qubit1)\n",
    "    \n",
    "    circ += RY(theta[1], qubit2)\n",
    "    circ += RZ(-phi[1], qubit2)\n",
    "    \n",
    "#     circ += X(qubit1)\n",
    "    \n",
    "    # Measuring in psi+ basis\n",
    "    circ += CNOT(qubit1, qubit2)\n",
    "    circ += H(qubit1)\n",
    "    \n",
    "    circ += MEASURE(qubit1, c[0])\n",
    "    circ += MEASURE(qubit2, c[1])\n",
    "    \n",
    "    circ.wrap_in_numshots_loop(n_shots)\n",
    "    \n",
    "    return circ\n",
    "\n",
    "def circuit2(qubit1, qubit2):\n",
    "    circ = Program()\n",
    "    \n",
    "    c = circ.declare('ro', 'BIT', 2)\n",
    "    theta = circ.declare('theta', 'REAL', 2)\n",
    "    phi = circ.declare('phi', 'REAL', 2)\n",
    "    \n",
    "    # Preparation of states.\n",
    "    circ += RY(theta[0], qubit1)\n",
    "    circ += RZ(phi[0], qubit1)\n",
    "    \n",
    "    circ += RY(theta[1], qubit2)\n",
    "    circ += RZ(-phi[1], qubit2)\n",
    "    \n",
    "    circ += X(qubit1)\n",
    "    circ += MEASURE(qubit1, c[0])\n",
    "    circ += MEASURE(qubit2, c[1])\n",
    "    circ.wrap_in_numshots_loop(n_shots)\n",
    "    \n",
    "    return circ\n",
    "\n"
   ]
  },
  {
   "cell_type": "code",
   "execution_count": 54,
   "metadata": {},
   "outputs": [],
   "source": [
    "data = {}\n",
    "data['State_params'] = params_complex()"
   ]
  },
  {
   "cell_type": "code",
   "execution_count": 57,
   "metadata": {},
   "outputs": [
    {
     "name": "stdout",
     "output_type": "stream",
     "text": [
      "Done with iteration 9\r"
     ]
    }
   ],
   "source": [
    "all_F = []\n",
    "all_a = []\n",
    "all_b = []\n",
    "all_c = []\n",
    "q1, q2 = 4, 5\n",
    "trial=2\n",
    "folder = f'new_peres_{datetime.date.today()}_{q1}_{q2}_bits_{N_SHOTS}_shots_trial_{trial}'\n",
    "os.system(f'mkdir {folder}')\n",
    "\n",
    "for i in range(10):\n",
    "    qc = get_qc('Aspen-9')#, as_qvm=True) # Initialise QPU.\n",
    "\n",
    "    circ1 = circuit1(q1,q2)\n",
    "    exe12 = qc.compile(circ1)\n",
    "    \n",
    "    data = {}\n",
    "    data['State_params'] = params_complex()\n",
    "\n",
    "    data['Counts12'] = f(data['State_params'])\n",
    "\n",
    "    qc = get_qc('Aspen-9')#, as_qvm=True) # Initialise QPU.\n",
    "\n",
    "    circ1 = circuit2(q1,q2)\n",
    "    exe12 = qc.compile(circ1)\n",
    "\n",
    "    data['Counts1'] = f(data['State_params'])\n",
    "    \n",
    "    with open(f'{folder}/run_{i}', 'wb') as file:\n",
    "        pickle.dump(data, file)\n",
    "    \n",
    "\n",
    "    def get_gammas(counts12, counts1):\n",
    "        res = {}\n",
    "        for gamma in counts12.keys():\n",
    "            g = (2*counts12[gamma]['00'] - counts1[gamma]['10'] - counts1[gamma]['01']) / (2 * np.sqrt(counts1[gamma]['10']*counts1[gamma]['01']))\n",
    "            res[gamma] = g\n",
    "\n",
    "        res['F'] = res['a']**2 + res['b']**2 + res['c']**2 - 2 * res['a'] * res['b'] * res['c']\n",
    "        return res\n",
    "\n",
    "    all_gammas = get_gammas(data['Counts12'], data['Counts1'])\n",
    "    all_a.append(all_gammas['a'])\n",
    "    all_b.append(all_gammas['b'])\n",
    "    all_c.append(all_gammas['c'])\n",
    "    all_F.append(all_gammas['F'])\n",
    "    print(f'Done with iteration {i}', end='\\r')"
   ]
  },
  {
   "cell_type": "code",
   "execution_count": 59,
   "metadata": {},
   "outputs": [
    {
     "data": {
      "text/plain": [
       "<matplotlib.lines.Line2D at 0x7fbf782af610>"
      ]
     },
     "execution_count": 59,
     "metadata": {},
     "output_type": "execute_result"
    },
    {
     "data": {
      "image/png": "[encoded data removed]",
      "text/plain": [
       "<Figure size 432x288 with 1 Axes>"
      ]
     },
     "metadata": {
      "needs_background": "light"
     },
     "output_type": "display_data"
    }
   ],
   "source": [
    "plt.plot(all_F, 'o')\n",
    "plt.plot(all_a, 'o')\n",
    "plt.plot(all_b, 'o')\n",
    "plt.plot(all_c, 'o')\n",
    "plt.axhline(y=1, alpha=0.5)\n",
    "plt.axhline(y=-1, alpha=0.5)"
   ]
  },
  {
   "cell_type": "code",
   "execution_count": 60,
   "metadata": {},
   "outputs": [
    {
     "data": {
      "text/plain": [
       "<Figure size 432x288 with 0 Axes>"
      ]
     },
     "metadata": {},
     "output_type": "display_data"
    }
   ],
   "source": [
    "plt.savefig('new_peres_trial_2.pdf', bbox_inches='tight')"
   ]
  },
  {
   "cell_type": "code",
   "execution_count": 37,
   "metadata": {},
   "outputs": [
    {
     "data": {
      "text/plain": [
       "{'State_params': [(1.6119578092283906, 3.8604713997244513),\n",
       "  (2.0237554491141503, 2.1574590388656065),\n",
       "  (1.415889513124443, 0.5106591612010841)],\n",
       " 'Counts12': {'a': Counter({'01': 4622, '00': 2265, '10': 2808, '11': 305}),\n",
       "  'b': Counter({'01': 671, '11': 4640, '10': 2578, '00': 2111}),\n",
       "  'c': Counter({'10': 4775, '01': 1752, '11': 3409, '00': 64})},\n",
       " 'Counts1': {'a': Counter({'01': 3708, '10': 1340, '00': 1460, '11': 3492}),\n",
       "  'b': Counter({'00': 4198, '01': 2966, '11': 1194, '10': 1642}),\n",
       "  'c': Counter({'11': 2961, '01': 2239, '10': 2742, '00': 2058})}}"
      ]
     },
     "execution_count": 37,
     "metadata": {},
     "output_type": "execute_result"
    }
   ],
   "source": [
    "data"
   ]
  },
  {
   "cell_type": "code",
   "execution_count": 6,
   "metadata": {},
   "outputs": [],
   "source": [
    "def theoretical_values(data):\n",
    "    data['Theoretical_values'] = {}\n",
    "    data['Theoretical_values']['a'] = np.cos(data['State_params'][1][1] - data['State_params'][0][1])\n",
    "    data['Theoretical_values']['b'] = np.cos(data['State_params'][2][1] - data['State_params'][1][1])\n",
    "    data['Theoretical_values']['c'] = np.cos(data['State_params'][0][1] - data['State_params'][2][1])\n",
    "    \n",
    "    data['Theoretical_values']['F']=data['Theoretical_values']['a']**2 + data['Theoretical_values']['b']**2 + data['Theoretical_values']['c']**2 - 2 * data['Theoretical_values']['a']*data['Theoretical_values']['b']*data['Theoretical_values']['c']\n",
    "    \n",
    "    return data"
   ]
  },
  {
   "cell_type": "code",
   "execution_count": 38,
   "metadata": {},
   "outputs": [
    {
     "data": {
      "text/plain": [
       "{'State_params': [(1.6119578092283906, 3.8604713997244513),\n",
       "  (2.0237554491141503, 2.1574590388656065),\n",
       "  (1.415889513124443, 0.5106591612010841)],\n",
       " 'Counts12': {'a': Counter({'01': 4622, '00': 2265, '10': 2808, '11': 305}),\n",
       "  'b': Counter({'01': 671, '11': 4640, '10': 2578, '00': 2111}),\n",
       "  'c': Counter({'10': 4775, '01': 1752, '11': 3409, '00': 64})},\n",
       " 'Counts1': {'a': Counter({'01': 3708, '10': 1340, '00': 1460, '11': 3492}),\n",
       "  'b': Counter({'00': 4198, '01': 2966, '11': 1194, '10': 1642}),\n",
       "  'c': Counter({'11': 2961, '01': 2239, '10': 2742, '00': 2058})},\n",
       " 'Theoretical_values': {'a': -0.1318311574502368,\n",
       "  'b': -0.07593039907897672,\n",
       "  'c': -0.9784005095556622,\n",
       "  'F': 1.0}}"
      ]
     },
     "execution_count": 38,
     "metadata": {},
     "output_type": "execute_result"
    }
   ],
   "source": [
    "data = theoretical_values(data)\n",
    "data"
   ]
  },
  {
   "cell_type": "code",
   "execution_count": 12,
   "metadata": {},
   "outputs": [],
   "source": [
    "def expected_probs(data):\n",
    "    data['Expected_probs'] = {}\n",
    "    gammas = ['a', 'b', 'c']\n",
    "    for i in range(3):\n",
    "        data['Expected_probs'][gammas[i]] = {}\n",
    "        theta1 = data['State_params'][i][0]\n",
    "        theta2 = data['State_params'][(i+1)%3][0]\n",
    "        phi1 = data['State_params'][i][1]\n",
    "        phi2 = data['State_params'][(i+1)%3][1]\n",
    "        data['Expected_probs'][gammas[i]]['P_12'] = np.cos(theta1/2)**2 * np.cos(theta2/2)**2 + np.sin(theta1/2)**2 * np.sin(theta2/2)**2 + 2 * np.abs(np.cos(theta1/2) * np.cos(theta2/2) * np.sin(theta1/2) * np.sin(theta2/2)) * np.cos(phi2 - phi1)\n",
    "        \n",
    "        data['Expected_probs'][gammas[i]]['P_1'] = np.cos(theta1/2)**2 * np.cos(theta2/2)**2 \n",
    "        data['Expected_probs'][gammas[i]]['P_2'] = np.sin(theta1/2)**2 * np.sin(theta2/2)**2 \n",
    "        \n",
    "    return data"
   ]
  },
  {
   "cell_type": "code",
   "execution_count": 39,
   "metadata": {},
   "outputs": [
    {
     "data": {
      "text/plain": [
       "{'State_params': [(1.6119578092283906, 3.8604713997244513),\n",
       "  (2.0237554491141503, 2.1574590388656065),\n",
       "  (1.415889513124443, 0.5106591612010841)],\n",
       " 'Counts12': {'a': Counter({'01': 4622, '00': 2265, '10': 2808, '11': 305}),\n",
       "  'b': Counter({'01': 671, '11': 4640, '10': 2578, '00': 2111}),\n",
       "  'c': Counter({'10': 4775, '01': 1752, '11': 3409, '00': 64})},\n",
       " 'Counts1': {'a': Counter({'01': 3708, '10': 1340, '00': 1460, '11': 3492}),\n",
       "  'b': Counter({'00': 4198, '01': 2966, '11': 1194, '10': 1642}),\n",
       "  'c': Counter({'11': 2961, '01': 2239, '10': 2742, '00': 2058})},\n",
       " 'Theoretical_values': {'a': -0.1318311574502368,\n",
       "  'b': -0.07593039907897672,\n",
       "  'c': -0.9784005095556622,\n",
       "  'F': 1.0},\n",
       " 'Expected_probs': {'a': {'P_12': 0.4497859788629208,\n",
       "   'P_1': 0.13480757957930772,\n",
       "   'P_2': 0.3741965892284113},\n",
       "  'b': {'P_12': 0.43251172326344944,\n",
       "   'P_1': 0.16228477104921707,\n",
       "   'P_2': 0.3039548358101331},\n",
       "  'c': {'P_12': 0.013892404392512103,\n",
       "   'P_1': 0.27669730956695265,\n",
       "   'P_2': 0.22012822500226067}}}"
      ]
     },
     "execution_count": 39,
     "metadata": {},
     "output_type": "execute_result"
    }
   ],
   "source": [
    "data = expected_probs(data)\n",
    "data"
   ]
  },
  {
   "cell_type": "code",
   "execution_count": 16,
   "metadata": {},
   "outputs": [],
   "source": [
    "def del_probs(p):\n",
    "    return Z_SCORE * np.sqrt(p * (1-p) / N_SHOTS)"
   ]
  },
  {
   "cell_type": "code",
   "execution_count": 19,
   "metadata": {},
   "outputs": [],
   "source": [
    "def expected_del_probs(data):\n",
    "    exp_probs = data['Expected_probs']\n",
    "    \n",
    "    data['Fluctuation'] = {}\n",
    "    \n",
    "    for key in exp_probs.keys():\n",
    "        data['Fluctuation'][key] = {}\n",
    "        for key2 in exp_probs[key].keys():\n",
    "            data['Fluctuation'][key][key2] = del_probs(exp_probs[key][key2])\n",
    "    \n",
    "    return data\n",
    "            "
   ]
  },
  {
   "cell_type": "code",
   "execution_count": 40,
   "metadata": {},
   "outputs": [
    {
     "data": {
      "text/plain": [
       "{'State_params': [(1.6119578092283906, 3.8604713997244513),\n",
       "  (2.0237554491141503, 2.1574590388656065),\n",
       "  (1.415889513124443, 0.5106591612010841)],\n",
       " 'Counts12': {'a': Counter({'01': 4622, '00': 2265, '10': 2808, '11': 305}),\n",
       "  'b': Counter({'01': 671, '11': 4640, '10': 2578, '00': 2111}),\n",
       "  'c': Counter({'10': 4775, '01': 1752, '11': 3409, '00': 64})},\n",
       " 'Counts1': {'a': Counter({'01': 3708, '10': 1340, '00': 1460, '11': 3492}),\n",
       "  'b': Counter({'00': 4198, '01': 2966, '11': 1194, '10': 1642}),\n",
       "  'c': Counter({'11': 2961, '01': 2239, '10': 2742, '00': 2058})},\n",
       " 'Theoretical_values': {'a': -0.1318311574502368,\n",
       "  'b': -0.07593039907897672,\n",
       "  'c': -0.9784005095556622,\n",
       "  'F': 1.0},\n",
       " 'Expected_probs': {'a': {'P_12': 0.4497859788629208,\n",
       "   'P_1': 0.13480757957930772,\n",
       "   'P_2': 0.3741965892284113},\n",
       "  'b': {'P_12': 0.43251172326344944,\n",
       "   'P_1': 0.16228477104921707,\n",
       "   'P_2': 0.3039548358101331},\n",
       "  'c': {'P_12': 0.013892404392512103,\n",
       "   'P_1': 0.27669730956695265,\n",
       "   'P_2': 0.22012822500226067}},\n",
       " 'Fluctuation': {'a': {'P_12': 0.01492416486350645,\n",
       "   'P_1': 0.010245537880489666,\n",
       "   'P_2': 0.014517443013644358},\n",
       "  'b': {'P_12': 0.014862731890632277,\n",
       "   'P_1': 0.011061355329309706,\n",
       "   'P_2': 0.013798900834413997},\n",
       "  'c': {'P_12': 0.0035113337841105783,\n",
       "   'P_1': 0.013420965598675318,\n",
       "   'P_2': 0.012429988358950836}}}"
      ]
     },
     "execution_count": 40,
     "metadata": {},
     "output_type": "execute_result"
    }
   ],
   "source": [
    "data = expected_del_probs(data)\n",
    "data"
   ]
  },
  {
   "cell_type": "code",
   "execution_count": 41,
   "metadata": {},
   "outputs": [
    {
     "data": {
      "text/plain": [
       "{'State_params': [(1.6119578092283906, 3.8604713997244513),\n",
       "  (2.0237554491141503, 2.1574590388656065),\n",
       "  (1.415889513124443, 0.5106591612010841)],\n",
       " 'Counts12': {'a': Counter({'01': 4622, '00': 2265, '10': 2808, '11': 305}),\n",
       "  'b': Counter({'01': 671, '11': 4640, '10': 2578, '00': 2111}),\n",
       "  'c': Counter({'10': 4775, '01': 1752, '11': 3409, '00': 64})},\n",
       " 'Counts1': {'a': Counter({'01': 3708, '10': 1340, '00': 1460, '11': 3492}),\n",
       "  'b': Counter({'00': 4198, '01': 2966, '11': 1194, '10': 1642}),\n",
       "  'c': Counter({'11': 2961, '01': 2239, '10': 2742, '00': 2058})},\n",
       " 'Theoretical_values': {'a': -0.1318311574502368,\n",
       "  'b': -0.07593039907897672,\n",
       "  'c': -0.9784005095556622,\n",
       "  'F': 1.0},\n",
       " 'Expected_probs': {'a': {'P_12': 0.4497859788629208,\n",
       "   'P_1': 0.13480757957930772,\n",
       "   'P_2': 0.3741965892284113},\n",
       "  'b': {'P_12': 0.43251172326344944,\n",
       "   'P_1': 0.16228477104921707,\n",
       "   'P_2': 0.3039548358101331},\n",
       "  'c': {'P_12': 0.013892404392512103,\n",
       "   'P_1': 0.27669730956695265,\n",
       "   'P_2': 0.22012822500226067}},\n",
       " 'Fluctuation': {'a': {'P_12': 0.01492416486350645,\n",
       "   'P_1': 0.010245537880489666,\n",
       "   'P_2': 0.014517443013644358},\n",
       "  'b': {'P_12': 0.014862731890632277,\n",
       "   'P_1': 0.011061355329309706,\n",
       "   'P_2': 0.013798900834413997},\n",
       "  'c': {'P_12': 0.0035113337841105783,\n",
       "   'P_1': 0.013420965598675318,\n",
       "   'P_2': 0.012429988358950836}}}"
      ]
     },
     "execution_count": 41,
     "metadata": {},
     "output_type": "execute_result"
    }
   ],
   "source": [
    "data"
   ]
  },
  {
   "cell_type": "code",
   "execution_count": 21,
   "metadata": {},
   "outputs": [],
   "source": [
    "import datetime"
   ]
  },
  {
   "cell_type": "code",
   "execution_count": 50,
   "metadata": {},
   "outputs": [
    {
     "data": {
      "text/plain": [
       "'2021-06-03'"
      ]
     },
     "execution_count": 50,
     "metadata": {},
     "output_type": "execute_result"
    }
   ],
   "source": [
    "f'{datetime.date.today()}'"
   ]
  },
  {
   "cell_type": "code",
   "execution_count": 24,
   "metadata": {},
   "outputs": [],
   "source": [
    "def new_circuit(qubit1, qubit2):\n",
    "    circ = Program()\n",
    "    \n",
    "    c = circ.declare('ro', 'BIT', 2)\n",
    "    theta = circ.declare('theta', 'REAL', 2)\n",
    "    phi = circ.declare('phi', 'REAL', 2)\n",
    "    theta_m = circ.declare('theta_m', 'REAL')\n",
    "    \n",
    "    # Preparation of states.\n",
    "    circ += RY(theta[0], qubit1)\n",
    "    circ += RZ(phi[0], qubit1)\n",
    "    \n",
    "    circ += RY(theta[1], qubit2)\n",
    "    circ += RZ(-phi[1], qubit2)\n",
    "    \n",
    "#     circ += X(qubit1)\n",
    "    \n",
    "    # Measuring in psi+ basis\n",
    "    circ += CNOT(qubit1, qubit2)\n",
    "    circ += RY(-theta_m, qubit1)\n",
    "#     circ += H(qubit1)\n",
    "    \n",
    "    circ += MEASURE(qubit1, c[0])\n",
    "    circ += MEASURE(qubit2, c[1])\n",
    "    \n",
    "    circ.wrap_in_numshots_loop(n_shots)\n",
    "    \n",
    "    return circ"
   ]
  },
  {
   "cell_type": "code",
   "execution_count": 29,
   "metadata": {},
   "outputs": [
    {
     "name": "stdout",
     "output_type": "stream",
     "text": [
      "f has started.\n",
      "f completed in 00:00:05\n",
      "f has started.ation 0\n",
      "f completed in 00:00:05\n",
      "f has started.ation 1\n",
      "f completed in 00:00:05\n",
      "f has started.ation 2\n",
      "f completed in 00:00:05\n",
      "f has started.ation 3\n",
      "f completed in 00:00:05\n",
      "f has started.ation 4\n",
      "f completed in 00:00:05\n",
      "f has started.ation 5\n",
      "f completed in 00:00:05\n",
      "f has started.ation 6\n",
      "f completed in 00:00:05\n",
      "f has started.ation 7\n",
      "f completed in 00:00:05\n",
      "f has started.ation 8\n",
      "f completed in 00:00:05\n",
      "f has started.ation 9\n",
      "f completed in 00:00:05\n",
      "f has started.ation 10\n",
      "f completed in 00:00:05\n",
      "f has started.ation 11\n",
      "f completed in 00:00:05\n",
      "f has started.ation 12\n",
      "f completed in 00:00:05\n",
      "f has started.ation 13\n",
      "f completed in 00:00:05\n",
      "f has started.ation 14\n",
      "f completed in 00:00:05\n",
      "f has started.ation 15\n",
      "f completed in 00:00:05\n",
      "f has started.ation 16\n",
      "f completed in 00:00:05\n",
      "f has started.ation 17\n",
      "f completed in 00:00:05\n",
      "f has started.ation 18\n",
      "f completed in 00:00:05\n",
      "Done with iteration 19\r"
     ]
    }
   ],
   "source": [
    "def get_gammas(counts):\n",
    "    res = {}\n",
    "    for gamma in counts.keys():\n",
    "        g = (2*counts[gamma]['s12'] - counts[gamma]['s1'] - counts[gamma]['s2']) / (2 * np.sqrt(counts[gamma]['s1']*counts[gamma]['s2']))\n",
    "        res[gamma] = g\n",
    "\n",
    "    res['F'] = res['a']**2 + res['b']**2 + res['c']**2 - 2 * res['a'] * res['b'] * res['c']\n",
    "    return res\n",
    "all_F = []\n",
    "all_a = []\n",
    "all_b = []\n",
    "all_c = []\n",
    "q1, q2 = 12, 13\n",
    "trial=2\n",
    "engine = ''\n",
    "folder = f'new_peres_{engine}_{datetime.date.today()}_{q1}_{q2}_bits_{N_SHOTS}_shots_trial_{trial}'\n",
    "os.system(f'mkdir {folder}')\n",
    "\n",
    "for i in range(20):\n",
    "    qc = get_qc('Aspen-9', as_qvm=True) # Initialise QPU.\n",
    "\n",
    "    circ = new_circuit(q1,q2)\n",
    "    exe = qc.compile(circ)\n",
    "    \n",
    "    data = {}\n",
    "    data['State_params'] = params_complex()\n",
    "\n",
    "    data['Counts'] = f(data['State_params'])\n",
    "    \n",
    "    with open(f'{folder}/run_{i}', 'wb') as file:\n",
    "        pickle.dump(data, file)\n",
    "    \n",
    "\n",
    "    \n",
    "\n",
    "    all_gammas = get_gammas(data['Counts'])\n",
    "\n",
    "    all_a.append(all_gammas['a'])\n",
    "    all_b.append(all_gammas['b'])\n",
    "    all_c.append(all_gammas['c'])\n",
    "    all_F.append(all_gammas['F'])\n",
    "    print(f'Done with iteration {i}', end='\\r')"
   ]
  },
  {
   "cell_type": "code",
   "execution_count": 34,
   "metadata": {},
   "outputs": [
    {
     "data": {
      "image/png": "[encoded data removed]",
      "text/plain": [
       "<Figure size 432x288 with 1 Axes>"
      ]
     },
     "metadata": {
      "needs_background": "light"
     },
     "output_type": "display_data"
    }
   ],
   "source": [
    "plt.plot(all_F, 'o', label='$F$')\n",
    "plt.plot(all_a, 'o', label='$\\\\gamma_{12}$')\n",
    "plt.plot(all_b, 'o', label='$\\\\gamma_{23}$')\n",
    "plt.plot(all_c, 'o', label='$\\\\gamma_{31}$')\n",
    "plt.axhline(y=1, alpha=0.5)\n",
    "plt.axhline(y=-1, alpha=0.5)\n",
    "plt.xlabel('Different states', size=14)\n",
    "plt.legend(bbox_to_anchor=(1,1))\n",
    "plt.savefig('New_peres_sim.pdf', bbox_inches='tight')\n",
    "plt.show()"
   ]
  },
  {
   "cell_type": "code",
   "execution_count": 19,
   "metadata": {},
   "outputs": [
    {
     "data": {
      "text/plain": [
       "[1.004832546149361,\n",
       " 1.078952583204265,\n",
       " 0.9800174232231793,\n",
       " 0.9477843425297314,\n",
       " 1.0579536188464698,\n",
       " 0.8454126259645142,\n",
       " 1.0097770718662487,\n",
       " 1.0115757480974028,\n",
       " 0.9339391423971313,\n",
       " 0.9475556554992984]"
      ]
     },
     "execution_count": 19,
     "metadata": {},
     "output_type": "execute_result"
    }
   ],
   "source": [
    "all_F"
   ]
  },
  {
   "cell_type": "code",
   "execution_count": 14,
   "metadata": {},
   "outputs": [
    {
     "data": {
      "text/plain": [
       "{'State_params': [(0.43518429388724245, 4.664009246635776),\n",
       "  (2.2983011998689755, 0.4317748762856595),\n",
       "  (2.168886937616118, 5.3692794514615345)],\n",
       " 'Counts': {'a': {'s12': 1241, 's1': 1296, 's2': 1258},\n",
       "  'b': {'s12': 3816, 's1': 3717, 's2': 3803},\n",
       "  'c': {'s12': 1650, 's1': 1632, 's2': 1616}}}"
      ]
     },
     "execution_count": 14,
     "metadata": {},
     "output_type": "execute_result"
    }
   ],
   "source": [
    "data"
   ]
  },
  {
   "cell_type": "code",
   "execution_count": 16,
   "metadata": {},
   "outputs": [
    {
     "data": {
      "text/plain": [
       "{'a': -0.028194193721730043,\n",
       " 'b': 0.01489459105503708,\n",
       " 'c': 0.01601004647217356,\n",
       " 'F': 0.0012865295397468158}"
      ]
     },
     "execution_count": 16,
     "metadata": {},
     "output_type": "execute_result"
    }
   ],
   "source": [
    "all_gammas"
   ]
  },
  {
   "cell_type": "code",
   "execution_count": null,
   "metadata": {},
   "outputs": [],
   "source": []
  }
 ],
 "metadata": {
  "kernelspec": {
   "display_name": "Python 3",
   "language": "python",
   "name": "python3"
  },
  "language_info": {
   "codemirror_mode": {
    "name": "ipython",
    "version": 3
   },
   "file_extension": ".py",
   "mimetype": "text/x-python",
   "name": "python",
   "nbconvert_exporter": "python",
   "pygments_lexer": "ipython3",
   "version": "3.8.6"
  }
 },
 "nbformat": 4,
 "nbformat_minor": 4
}
