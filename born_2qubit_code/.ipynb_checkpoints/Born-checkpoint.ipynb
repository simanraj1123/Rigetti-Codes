{
 "cells": [
  {
   "cell_type": "code",
   "execution_count": 2,
   "metadata": {},
   "outputs": [],
   "source": [
    "import numpy as np, matplotlib.pyplot as plt, random, time\n",
    "from functools import lru_cache\n",
    "from pyquil import Program, get_qc\n",
    "from pyquil.gates import *\n",
    "import os\n",
    "from pyquil.quilatom import quil_sin, quil_cos, Parameter\n",
    "from pyquil.quilbase import DefGate\n",
    "from pyquil.latex import display, to_latex\n",
    "# import Peres_helpers as hf\n",
    "import pickle\n",
    "from collections import Counter\n",
    "import time\n",
    "\n",
    "N_SHOTS = 10_000\n",
    "Z_SCORE = 3\n",
    "\n",
    "e=0\n",
    "def params_complex():\n",
    "\t'''\n",
    "\tGenerates parameters to prepare COMPLEX quantum states.\n",
    "    \n",
    "    Returns:\n",
    "        A list of three tuples. The first element of each tuple is the value of theta \n",
    "        and the second element is the value of phi.\n",
    "    \n",
    "\t'''\n",
    "\ttheta = np.arccos(np.cos(e) - 2 * np.array([random.uniform(0,1) for _ in range(2)]))\n",
    "\tphi = np.array([2*np.pi*random.uniform(0,1) for _ in range(2)])\n",
    "\tparams = zip(theta, phi)\n",
    "\treturn list(params)\n",
    "\n",
    "def circuit_123(a,b):\n",
    "    circ = Program()\n",
    "    \n",
    "    theta = circ.declare('theta', 'REAL', 2)\n",
    "    phi = circ.declare('phi', 'REAL', 2)\n",
    "    t = circ.declare('t', 'REAL', 2)\n",
    "    c = circ.declare('ro', 'BIT', 2)\n",
    "    \n",
    "    circ += RY(theta[0], a)\n",
    "    circ += RZ(phi[0], a)\n",
    "    \n",
    "    circ += RY(theta[1], b)\n",
    "    circ += RZ(phi[1]/2, b)\n",
    "    \n",
    "    circ += CNOT(a, b)\n",
    "    \n",
    "    circ += RZ(-phi[1]/2, b)\n",
    "    circ += RY((t[1]-theta[1])/2, b)\n",
    "    \n",
    "    circ += CNOT(a,b)\n",
    "    \n",
    "    circ += RY((-theta[1] - t[1])/2, b)\n",
    "    \n",
    "    circ += RY(-t[0], a)\n",
    "    \n",
    "    circ += MEASURE(a, c[0])\n",
    "    circ += MEASURE(b, c[1])\n",
    "    \n",
    "    circ.wrap_in_numshots_loop(N_SHOTS)\n",
    "    \n",
    "    return circ\n",
    "\n",
    "def del_probs(p):\n",
    "    return Z_SCORE * np.sqrt(p * (1-p) / N_SHOTS)\n",
    "\n",
    "def theoretical_probs(u):\n",
    "    theta, phi = [], []\n",
    "    for i in range(len(u)):\n",
    "        theta.append(u[i][0])\n",
    "        phi.append(u[i][1])\n",
    "        \n",
    "    probs = {\n",
    "        'P_123': (1/3) * np.abs(np.cos(theta[0]/2)*np.exp(-1j*phi[0]/2) + np.sin(theta[0]/2)*np.cos(theta[1]/2)*np.exp(1j*(phi[1]-phi[0])/2) + np.sin(theta[0]/2)*np.sin(theta[1]/2)*np.exp(1j*(phi[1]+phi[0])/2))**2, \n",
    "        'P_12': (1/2) * np.abs(np.cos(theta[0]/2)*np.exp(-1j*phi[0]/2) + np.sin(theta[0]/2)*np.cos(theta[1]/2)*np.exp(1j*(phi[1]-phi[0])/2))**2, \n",
    "        'P_23': (1/2) * np.abs(np.sin(theta[0]/2)*np.cos(theta[1]/2)*np.exp(1j*(phi[1]-phi[0])/2) + np.sin(theta[0]/2)*np.sin(theta[1]/2)*np.exp(1j*(phi[1]+phi[0])/2))**2, \n",
    "        'P_31': (1/2) * np.abs(np.cos(theta[0]/2)*np.exp(-1j*phi[0]/2) + np.sin(theta[0]/2)*np.sin(theta[1]/2)*np.exp(1j*(phi[1]+phi[0])/2))**2, \n",
    "        'P_1': np.cos(theta[0]/2)**2,\n",
    "        'P_2': np.sin(theta[0]/2)**2 * np.cos(theta[1]/2)**2,\n",
    "        'P_3': np.sin(theta[0]/2)**2 * np.sin(theta[1]/2)**2,\n",
    "    }\n",
    "    \n",
    "    probs['Kappa'] = 3 * probs['P_123'] - 2 * (probs['P_12'] + probs['P_23'] + probs['P_31']) + probs['P_1'] + probs['P_2'] + probs['P_3']\n",
    "    \n",
    "    return probs\n",
    "\n",
    "\n",
    "def theoretical_prob_errors(probs):\n",
    "    probs_flucs = {}\n",
    "    for key in list(probs.keys())[:-1]:\n",
    "        probs_flucs[key] = Z_SCORE * np.sqrt(probs[key] * (1-probs[key]) / N_SHOTS)\n",
    "    \n",
    "    probs_flucs['Kappa'] = 3 * probs_flucs['P_123'] + 2 * probs_flucs['P_12'] + 2 * probs_flucs['P_23'] + 2 * probs_flucs['P_31']\n",
    "    return probs_flucs\n",
    "\n",
    "\n",
    "def run_circuit(u):\n",
    "    '''\n",
    "    Compile and run the circuit given the parameters. The list of outputs is returned.\n",
    "    '''\n",
    "    theta, phi = [], []\n",
    "    outcomes = {}\n",
    "    for i in range(len(u)):\n",
    "        theta.append(u[i][0])\n",
    "        phi.append(u[i][1])\n",
    "    t = [2 * np.arccos(1/np.sqrt(3)), 2 * np.arccos(1/np.sqrt(2))]\n",
    "    outcome = qc.run(exe, memory_map={'theta': theta, 'phi': phi, 't': t}) # Stores the output of the circuit run.\n",
    "    tmp = [''.join(list(map(str, x))) for x in outcome]\n",
    "    outcomes['P_123'] = Counter(tmp)['00']\n",
    "    \n",
    "    t = [np.pi/2, 0]\n",
    "    outcome = qc.run(exe, memory_map={'theta': theta, 'phi': phi, 't': t}) # Stores the output of the circuit run.\n",
    "    tmp = [''.join(list(map(str, x))) for x in outcome]\n",
    "    outcomes['P_12'] = Counter(tmp)['00']\n",
    "    \n",
    "    t = [np.pi, np.pi/2]\n",
    "    outcome = qc.run(exe, memory_map={'theta': theta, 'phi': phi, 't': t}) # Stores the output of the circuit run.\n",
    "    tmp = [''.join(list(map(str, x))) for x in outcome]\n",
    "    outcomes['P_23'] = Counter(tmp)['00']\n",
    "    \n",
    "    t = [np.pi/2, np.pi]\n",
    "    outcome = qc.run(exe, memory_map={'theta': theta, 'phi': phi, 't': t}) # Stores the output of the circuit run.\n",
    "    tmp = [''.join(list(map(str, x))) for x in outcome]\n",
    "    outcomes['P_31'] = Counter(tmp)['00']\n",
    "    \n",
    "    t = [0, 0]\n",
    "    outcome = qc.run(exe, memory_map={'theta': theta, 'phi': phi, 't': t})\n",
    "    tmp = [''.join(list(map(str, x))) for x in outcome]\n",
    "    outcomes['Singles'] = Counter(tmp)\n",
    "    \n",
    "    outcomes['Kappa'] = (3*outcomes['P_123'] - 2*(outcomes['P_12']+outcomes['P_23']+outcomes['P_31']) + outcomes['Singles']['00'] + outcomes['Singles']['10'] + outcomes['Singles']['01']) / N_SHOTS\n",
    "    \n",
    "    return outcomes"
   ]
  },
  {
   "cell_type": "code",
   "execution_count": 3,
   "metadata": {},
   "outputs": [],
   "source": [
    "circ = circuit_123(4,5)\n",
    "\n",
    "qc = get_qc('2q-qvm')\n",
    "exe = qc.compile(circ)"
   ]
  },
  {
   "cell_type": "code",
   "execution_count": 4,
   "metadata": {},
   "outputs": [
    {
     "name": "stdout",
     "output_type": "stream",
     "text": [
      "Done with iteration 10.\n",
      "Done with iteration 11.\n",
      "Done with iteration 12.\n",
      "Done with iteration 13.\n",
      "Done with iteration 14.\n",
      "Done with iteration 15.\n",
      "Done with iteration 16.\n",
      "Done with iteration 17.\n",
      "Done with iteration 18.\n",
      "Done with iteration 19.\n"
     ]
    }
   ],
   "source": [
    "all_kappas = []\n",
    "all_kappas_theory = []\n",
    "all_kappas_err = []\n",
    "all_kappas_errb = []\n",
    "for i in range(10,20):\n",
    "    u = params_complex()\n",
    "    result = run_circuit(u)\n",
    "    with open(f'born_2021_05_30_4_5_bits_1e4_shots_run_{i}', 'wb') as file:\n",
    "        pickle.dump([u,result], file)\n",
    "    if '01' in result['Singles'].keys():\n",
    "        print(\"The sum of singles is not 1\")\n",
    "    result['Theoretical_kappa'] = theoretical_probs(u)['Kappa']\n",
    "    result['Fluctuation_kappa'] = theoretical_prob_errors(theoretical_probs(u))['Kappa']\n",
    "    all_kappas.append(result['Kappa'])\n",
    "    all_kappas_err.append(result['Fluctuation_kappa'])\n",
    "    all_kappas_theory.append(result['Theoretical_kappa'])\n",
    "    print(f'Done with iteration {i}.')\n"
   ]
  },
  {
   "cell_type": "code",
   "execution_count": 5,
   "metadata": {},
   "outputs": [
    {
     "data": {
      "text/plain": [
       "<ErrorbarContainer object of 3 artists>"
      ]
     },
     "execution_count": 5,
     "metadata": {},
     "output_type": "execute_result"
    },
    {
     "data": {
      "image/png": "[encoded data removed]",
      "text/plain": [
       "<Figure size 432x288 with 1 Axes>"
      ]
     },
     "metadata": {
      "needs_background": "light"
     },
     "output_type": "display_data"
    }
   ],
   "source": [
    "x = np.arange(len(all_kappas))\n",
    "plt.axhline(y=0, ls='dashed', color='red', alpha=0.5)\n",
    "plt.plot(x, all_kappas, 'o')\n",
    "plt.errorbar(x, all_kappas_theory, yerr = [all_kappas_err, all_kappas_err], fmt=' ', capsize=5)"
   ]
  },
  {
   "cell_type": "code",
   "execution_count": 6,
   "metadata": {},
   "outputs": [
    {
     "data": {
      "text/plain": [
       "{'P_123': 5957,\n",
       " 'P_12': 3650,\n",
       " 'P_23': 7905,\n",
       " 'P_31': 2369,\n",
       " 'Singles': Counter({'10': 6784, '11': 2567, '00': 649}),\n",
       " 'Kappa': -0.2544,\n",
       " 'Theoretical_kappa': 1.6653345369377348e-16,\n",
       " 'Fluctuation_kappa': 0.1285966851040551}"
      ]
     },
     "execution_count": 6,
     "metadata": {},
     "output_type": "execute_result"
    }
   ],
   "source": [
    "result"
   ]
  },
  {
   "cell_type": "code",
   "execution_count": 104,
   "metadata": {},
   "outputs": [
    {
     "data": {
      "text/plain": [
       "{'P_123': 1979,\n",
       " 'P_12': 4281,\n",
       " 'P_23': 1800,\n",
       " 'P_31': 2293,\n",
       " 'Singles': Counter({'00': 6446, '11': 1265, '10': 1679, '01': 610}),\n",
       " 'Kappa': -0.1421,\n",
       " 'Theoretical_kappa': -2.7755575615628914e-16,\n",
       " 'Fluctuation_kappa': 0.10169279008540887}"
      ]
     },
     "execution_count": 104,
     "metadata": {},
     "output_type": "execute_result"
    }
   ],
   "source": [
    "result"
   ]
  },
  {
   "cell_type": "code",
   "execution_count": 105,
   "metadata": {},
   "outputs": [],
   "source": [
    "altered_result = result.copy()"
   ]
  },
  {
   "cell_type": "code",
   "execution_count": 108,
   "metadata": {},
   "outputs": [],
   "source": [
    "altered_result['Singles'] = sum(altered_result['Singles'].values())"
   ]
  },
  {
   "cell_type": "code",
   "execution_count": 112,
   "metadata": {},
   "outputs": [
    {
     "data": {
      "text/plain": [
       "-0.0811"
      ]
     },
     "execution_count": 112,
     "metadata": {},
     "output_type": "execute_result"
    }
   ],
   "source": [
    "(3*altered_result['P_123'] - 2*(altered_result['P_12']+altered_result['P_23']+altered_result['P_31']) + altered_result['Singles'])/10000"
   ]
  },
  {
   "cell_type": "code",
   "execution_count": null,
   "metadata": {},
   "outputs": [],
   "source": [
    "altered_result['Theoretical_kappa'] = theoretical_probs(u)['Kappa']\n",
    "altered_result['Fluctuation_kappa'] = theoretical_prob_errors(theoretical_probs(u))['Kappa']\n",
    "all_kappas.append(result['Kappa'])\n",
    "all_kappas_err.append(result['Fluctuation_kappa'])\n",
    "all_kappas_theory.append(result['Theoretical_kappa'])"
   ]
  },
  {
   "cell_type": "code",
   "execution_count": 115,
   "metadata": {},
   "outputs": [],
   "source": [
    "with open('born_2021_05_30_4_5_bits_1e4_shots_run_0', 'rb') as file:\n",
    "    test = pickle.load(file)"
   ]
  },
  {
   "cell_type": "code",
   "execution_count": 116,
   "metadata": {},
   "outputs": [
    {
     "data": {
      "text/plain": [
       "[[(0.32119053891338456, 0.26967331019455376),\n",
       "  (1.242787729077952, 3.298044912629858)],\n",
       " {'P_123': 3707,\n",
       "  'P_12': 5170,\n",
       "  'P_23': 1316,\n",
       "  'P_31': 4834,\n",
       "  'Singles': Counter({'00': 8833, '10': 469, '01': 553, '11': 145}),\n",
       "  'Kappa': -0.2072}]"
      ]
     },
     "execution_count": 116,
     "metadata": {},
     "output_type": "execute_result"
    }
   ],
   "source": [
    "test"
   ]
  },
  {
   "cell_type": "code",
   "execution_count": 79,
   "metadata": {},
   "outputs": [],
   "source": [
    "def get_kappa_altered(result):\n",
    "    result[1]['Theoretical_kappa'] = theoretical_probs(result[0])['Kappa']\n",
    "    result[1]['Fluctuation_kappa'] = theoretical_prob_errors(theoretical_probs(result[0]))['Kappa']\n",
    "    result[1]['Observed_kappa'] = (3*result[1]['P_123'] - 2*(result[1]['P_12']+result[1]['P_23']+result[1]['P_31']) + result[1]['Singles']['00'] + result[1]['Singles']['10'] + result[1]['Singles']['11']) / N_SHOTS\n",
    "\n",
    "    \n",
    "    return result"
   ]
  },
  {
   "cell_type": "code",
   "execution_count": 131,
   "metadata": {},
   "outputs": [
    {
     "data": {
      "text/plain": [
       "[[(0.32119053891338456, 0.26967331019455376),\n",
       "  (1.242787729077952, 3.298044912629858)],\n",
       " {'P_123': 3707,\n",
       "  'P_12': 5170,\n",
       "  'P_23': 1316,\n",
       "  'P_31': 4834,\n",
       "  'Singles': Counter({'00': 8833, '10': 469, '01': 553, '11': 145}),\n",
       "  'Kappa': -0.2072,\n",
       "  'Theoretical_kappa': -1.1275702593849246e-16,\n",
       "  'Fluctuation_kappa': 0.11091296195868099,\n",
       "  'Observed_kappa': -0.1519}]"
      ]
     },
     "execution_count": 131,
     "metadata": {},
     "output_type": "execute_result"
    }
   ],
   "source": [
    "get_kappa(test)"
   ]
  },
  {
   "cell_type": "code",
   "execution_count": 121,
   "metadata": {},
   "outputs": [
    {
     "data": {
      "text/plain": [
       "{'P_123': 3707,\n",
       " 'P_12': 5170,\n",
       " 'P_23': 1316,\n",
       " 'P_31': 4834,\n",
       " 'Singles': Counter({'00': 8833, '10': 469, '01': 553, '11': 145}),\n",
       " 'Kappa': -0.2072,\n",
       " 'Theoretical_kappa': -1.1275702593849246e-16}"
      ]
     },
     "execution_count": 121,
     "metadata": {},
     "output_type": "execute_result"
    }
   ],
   "source": [
    "test[1]"
   ]
  },
  {
   "cell_type": "code",
   "execution_count": 77,
   "metadata": {},
   "outputs": [],
   "source": [
    "folder = 'born_2021_05_30_4_5_bits_1e4_shots'\n",
    "filenames = []\n",
    "with open(f'{folder}/filenames.txt', 'r') as file:\n",
    "    filenames = list(map(str.strip, file.readlines()))\n",
    "    \n",
    "results = []\n",
    "for filename in filenames:\n",
    "    with open(f'{folder}/{filename}', 'rb') as file:\n",
    "        results.append(pickle.load(file))"
   ]
  },
  {
   "cell_type": "code",
   "execution_count": 80,
   "metadata": {},
   "outputs": [
    {
     "data": {
      "text/plain": [
       "array([[-1.12757026e-16,  1.10912962e-01, -2.07200000e-01,\n",
       "        -2.07200000e-01],\n",
       "       [-1.11022302e-16,  9.69486797e-02, -2.26400000e-01,\n",
       "        -2.26400000e-01],\n",
       "       [-4.57966998e-16,  1.14892144e-01, -1.67300000e-01,\n",
       "        -1.67300000e-01],\n",
       "       [ 0.00000000e+00,  1.30623382e-01, -1.02300000e-01,\n",
       "        -1.02300000e-01],\n",
       "       [ 1.11022302e-16,  7.10046358e-02, -1.34800000e-01,\n",
       "        -1.34800000e-01],\n",
       "       [ 1.11022302e-16,  7.38977935e-02, -6.53000000e-02,\n",
       "        -6.53000000e-02],\n",
       "       [-1.11022302e-16,  1.01093624e-01, -1.24600000e-01,\n",
       "        -1.24600000e-01],\n",
       "       [-4.71844785e-16,  1.15304113e-01, -2.08000000e-01,\n",
       "        -2.08000000e-01],\n",
       "       [ 5.55111512e-17,  1.04102817e-01, -2.02900000e-01,\n",
       "        -2.02900000e-01],\n",
       "       [ 1.17961196e-16,  1.00702588e-01, -2.12500000e-01,\n",
       "        -2.12500000e-01],\n",
       "       [ 1.94289029e-16,  9.93293819e-02, -1.03900000e-01,\n",
       "        -1.03900000e-01],\n",
       "       [-2.77555756e-16,  1.01692790e-01, -1.42100000e-01,\n",
       "        -1.42100000e-01],\n",
       "       [-3.60822483e-16,  1.19464486e-01, -2.31400000e-01,\n",
       "        -2.31400000e-01],\n",
       "       [-3.88578059e-16,  1.17071935e-01, -2.64100000e-01,\n",
       "        -2.64100000e-01],\n",
       "       [-2.22044605e-16,  1.32101444e-01, -1.42500000e-01,\n",
       "        -1.42500000e-01],\n",
       "       [-3.33066907e-16,  6.62334810e-02, -1.76900000e-01,\n",
       "        -1.76900000e-01],\n",
       "       [ 3.33066907e-16,  1.08061725e-01, -1.34500000e-01,\n",
       "        -1.34500000e-01],\n",
       "       [ 2.77555756e-17,  9.71394639e-02, -1.98500000e-01,\n",
       "        -1.98500000e-01],\n",
       "       [ 2.77555756e-16,  1.19156417e-01, -2.17500000e-01,\n",
       "        -2.17500000e-01],\n",
       "       [ 3.46944695e-17,  9.20196079e-02, -2.20600000e-01,\n",
       "        -2.20600000e-01]])"
      ]
     },
     "execution_count": 80,
     "metadata": {},
     "output_type": "execute_result"
    }
   ],
   "source": [
    "res = []\n",
    "for i in range(len(results)):\n",
    "    results[i] = get_kappa_altered(results[i])\n",
    "    res.append([results[i][1]['Theoretical_kappa'], results[i][1]['Fluctuation_kappa'], results[i][1]['Observed_kappa'], results[i][1]['Kappa']])\n",
    "    \n",
    "res = np.array(res)\n",
    "res"
   ]
  },
  {
   "cell_type": "code",
   "execution_count": 92,
   "metadata": {},
   "outputs": [
    {
     "data": {
      "image/png": "[encoded data removed]",
      "text/plain": [
       "<Figure size 432x288 with 1 Axes>"
      ]
     },
     "metadata": {
      "needs_background": "light"
     },
     "output_type": "display_data"
    }
   ],
   "source": [
    "itr = np.arange(len(res))\n",
    "plt.errorbar(itr, res[:,0], yerr=[res[:,1], res[:,1]], fmt=' ', capsize=5, label='Theoretical expectation')\n",
    "plt.axhline(y=0, ls='dashed', color='red', alpha=0.5)\n",
    "plt.plot(itr, res[:,2], 'o', label='Observed values')\n",
    "plt.xlabel('Iterations with different states', size=14)\n",
    "plt.ylabel('$\\\\kappa$', size=18)\n",
    "plt.legend(bbox_to_anchor=(1,1))\n",
    "plt.xticks(itr)\n",
    "plt.savefig('kappa_with_state_11.pdf', bbox_inches='tight')\n",
    "plt.show()\n",
    "# plt.plot(itr, res[:,3], '*')"
   ]
  },
  {
   "cell_type": "code",
   "execution_count": 7,
   "metadata": {},
   "outputs": [],
   "source": [
    "def circuit_123_2(a,b):\n",
    "    circ = Program()\n",
    "    \n",
    "    theta = circ.declare('theta', 'REAL', 2)\n",
    "    phi = circ.declare('phi', 'REAL', 2)\n",
    "    t = circ.declare('t', 'REAL', 2)\n",
    "    c = circ.declare('ro', 'BIT', 2)\n",
    "    \n",
    "    circ += RY(theta[0], a)\n",
    "    circ += RZ(phi[0], a)\n",
    "    \n",
    "    circ += RY(theta[1], b)\n",
    "    circ += RZ(phi[1]/2, b)\n",
    "    \n",
    "    circ += CNOT(a, b)\n",
    "    \n",
    "    circ += RZ(-phi[1]/2, b)\n",
    "    circ += RY((-t[1]-theta[1])/2, b)\n",
    "    \n",
    "    circ += CNOT(a,b)\n",
    "    \n",
    "    circ += RY((-theta[1] - t[1])/2, b)\n",
    "    \n",
    "    circ += X(a)\n",
    "    circ += RY(-t[0], a)\n",
    "    \n",
    "    circ += MEASURE(a, c[0])\n",
    "    circ += MEASURE(b, c[1])\n",
    "    \n",
    "    circ.wrap_in_numshots_loop(N_SHOTS)\n",
    "    \n",
    "    return circ"
   ]
  },
  {
   "cell_type": "code",
   "execution_count": 8,
   "metadata": {},
   "outputs": [],
   "source": [
    "circ = circuit_123_2(10,11)\n",
    "\n",
    "qc = get_qc('2q-qvm')\n",
    "exe = qc.compile(circ)"
   ]
  },
  {
   "cell_type": "code",
   "execution_count": 9,
   "metadata": {},
   "outputs": [
    {
     "name": "stdout",
     "output_type": "stream",
     "text": [
      "Done with iteration 0.\n",
      "Done with iteration 1.\n",
      "Done with iteration 2.\n",
      "Done with iteration 3.\n",
      "Done with iteration 4.\n",
      "Done with iteration 5.\n",
      "Done with iteration 6.\n",
      "Done with iteration 7.\n",
      "Done with iteration 8.\n",
      "Done with iteration 9.\n"
     ]
    }
   ],
   "source": [
    "all_kappas2 = []\n",
    "all_kappas_theory2 = []\n",
    "all_kappas_err2 = []\n",
    "\n",
    "for i in range(0,10):\n",
    "    u = params_complex()\n",
    "    result = run_circuit(u)\n",
    "    with open(f'born_2021_05_31_alternate_10_11_bits_1e4_shots_run_{i}', 'wb') as file:\n",
    "        pickle.dump([u,result], file)\n",
    "    if '11' in result['Singles'].keys():\n",
    "        print(\"The sum of singles is not 1\")\n",
    "    result['Theoretical_kappa'] = theoretical_probs(u)['Kappa']\n",
    "    result['Fluctuation_kappa'] = theoretical_prob_errors(theoretical_probs(u))['Kappa']\n",
    "    all_kappas2.append(result['Kappa'])\n",
    "    all_kappas_err2.append(result['Fluctuation_kappa'])\n",
    "    all_kappas_theory2.append(result['Theoretical_kappa'])\n",
    "    print(f'Done with iteration {i}.')"
   ]
  },
  {
   "cell_type": "code",
   "execution_count": 10,
   "metadata": {},
   "outputs": [
    {
     "data": {
      "text/plain": [
       "<ErrorbarContainer object of 3 artists>"
      ]
     },
     "execution_count": 10,
     "metadata": {},
     "output_type": "execute_result"
    },
    {
     "data": {
      "image/png": "[encoded data removed]",
      "text/plain": [
       "<Figure size 432x288 with 1 Axes>"
      ]
     },
     "metadata": {
      "needs_background": "light"
     },
     "output_type": "display_data"
    }
   ],
   "source": [
    "x = np.arange(len(all_kappas2))\n",
    "plt.axhline(y=0, ls='dashed', color='red', alpha=0.5)\n",
    "plt.plot(x, all_kappas2, 'o')\n",
    "plt.errorbar(x, all_kappas_theory2, yerr = [all_kappas_err2, all_kappas_err2], fmt=' ', capsize=5)"
   ]
  },
  {
   "cell_type": "code",
   "execution_count": 11,
   "metadata": {},
   "outputs": [
    {
     "data": {
      "text/plain": [
       "{'P_123': 2335,\n",
       " 'P_12': 2934,\n",
       " 'P_23': 2095,\n",
       " 'P_31': 2813,\n",
       " 'Singles': Counter({'00': 5042, '01': 1793, '10': 2670, '11': 495}),\n",
       " 'Kappa': -0.0472,\n",
       " 'Theoretical_kappa': 1.942890293094024e-16,\n",
       " 'Fluctuation_kappa': 0.08844800421251627}"
      ]
     },
     "execution_count": 11,
     "metadata": {},
     "output_type": "execute_result"
    }
   ],
   "source": [
    "result"
   ]
  },
  {
   "cell_type": "code",
   "execution_count": 45,
   "metadata": {},
   "outputs": [],
   "source": [
    "folder = 'born_2021_05_31_alternate_4_5_bit_1e4_shots'\n",
    "filenames = []\n",
    "with open(f'{folder}/filenames.txt', 'r') as file:\n",
    "    filenames = list(map(str.strip, file.readlines()))\n",
    "    \n",
    "results = []\n",
    "for filename in filenames:\n",
    "    with open(f'{folder}/{filename}', 'rb') as file:\n",
    "        results.append(pickle.load(file))"
   ]
  },
  {
   "cell_type": "code",
   "execution_count": 46,
   "metadata": {},
   "outputs": [
    {
     "data": {
      "text/plain": [
       "[[[(2.1436756824491177, 3.4508553902935177),\n",
       "   (2.4810505263091387, 4.394365447321387)],\n",
       "  {'P_123': 1441,\n",
       "   'P_12': 1936,\n",
       "   'P_23': 1358,\n",
       "   'P_31': 751,\n",
       "   'Singles': Counter({'01': 5821, '00': 1243, '11': 939, '10': 1997}),\n",
       "   'Kappa': 0.0412}],\n",
       " [[(0.8082151185997039, 4.299158188923681),\n",
       "   (1.588391675204879, 5.053741167229159)],\n",
       "  {'P_123': 2600,\n",
       "   'P_12': 4038,\n",
       "   'P_23': 3832,\n",
       "   'P_31': 538,\n",
       "   'Singles': Counter({'10': 6667, '00': 1768, '11': 731, '01': 834}),\n",
       "   'Kappa': 0.015}],\n",
       " [[(1.9867699116149697, 2.1179652499071713),\n",
       "   (1.6390772213830471, 3.30841963423333)],\n",
       "  {'P_123': 3605,\n",
       "   'P_12': 4999,\n",
       "   'P_23': 2007,\n",
       "   'P_31': 1749,\n",
       "   'Singles': Counter({'01': 3331, '00': 3363, '11': 757, '10': 2549}),\n",
       "   'Kappa': -0.0026}],\n",
       " [[(2.304139273611591, 5.121248965928612),\n",
       "   (1.9547357384860398, 1.590282466546017)],\n",
       "  {'P_123': 1346,\n",
       "   'P_12': 1886,\n",
       "   'P_23': 1277,\n",
       "   'P_31': 1401,\n",
       "   'Singles': Counter({'00': 2745, '11': 736, '01': 4896, '10': 1623}),\n",
       "   'Kappa': 0.0014}],\n",
       " [[(0.9414883467814067, 0.7201491371505729),\n",
       "   (0.44092608114815146, 1.0972555699873823)],\n",
       "  {'P_123': 4988,\n",
       "   'P_12': 7585,\n",
       "   'P_23': 3909,\n",
       "   'P_31': 1115,\n",
       "   'Singles': Counter({'10': 6232, '00': 2775, '01': 315, '11': 678}),\n",
       "   'Kappa': -0.0569}],\n",
       " [[(2.3488700767405435, 5.663012129785416),\n",
       "   (2.5826398965453894, 0.17999296110187304)],\n",
       "  {'P_123': 1237,\n",
       "   'P_12': 1855,\n",
       "   'P_23': 974,\n",
       "   'P_31': 719,\n",
       "   'Singles': Counter({'01': 6669, '00': 1137, '10': 1403, '11': 791}),\n",
       "   'Kappa': -0.0054}],\n",
       " [[(2.60858526296484, 1.0590816246457218),\n",
       "   (2.3328768986872106, 5.859895559184583)],\n",
       "  {'P_123': 786,\n",
       "   'P_12': 1096,\n",
       "   'P_23': 602,\n",
       "   'P_31': 972,\n",
       "   'Singles': Counter({'01': 6915, '00': 1531, '10': 914, '11': 640}),\n",
       "   'Kappa': 0.0103}],\n",
       " [[(2.9302777028724973, 2.275843401870956),\n",
       "   (1.8052191601384036, 1.4345963785937432)],\n",
       "  {'P_123': 1669,\n",
       "   'P_12': 2227,\n",
       "   'P_23': 767,\n",
       "   'P_31': 2085,\n",
       "   'Singles': Counter({'01': 5263, '00': 3564, '10': 556, '11': 617}),\n",
       "   'Kappa': -0.0414}],\n",
       " [[(0.6005989428166747, 0.9227743900742605),\n",
       "   (1.9063249166459473, 3.3750995200881437)],\n",
       "  {'P_123': 3689,\n",
       "   'P_12': 5468,\n",
       "   'P_23': 4167,\n",
       "   'P_31': 360,\n",
       "   'Singles': Counter({'10': 7023, '01': 675, '00': 1463, '11': 839}),\n",
       "   'Kappa': 0.0402}],\n",
       " [[(0.8959362540850719, 0.0897307652987679),\n",
       "   (2.4806630792333833, 2.529102929151702)],\n",
       "  {'P_123': 3039,\n",
       "   'P_12': 4431,\n",
       "   'P_23': 3784,\n",
       "   'P_31': 384,\n",
       "   'Singles': Counter({'10': 6200, '00': 1364, '01': 1619, '11': 817}),\n",
       "   'Kappa': 0.03}],\n",
       " [[(0.42680626632983154, 2.0327783897450997),\n",
       "   (0.1796657375206115, 0.24573780710965687)],\n",
       "  {'P_123': 2923,\n",
       "   'P_12': 4343,\n",
       "   'P_23': 4337,\n",
       "   'P_31': 498,\n",
       "   'Singles': Counter({'11': 763, '00': 1673, '10': 7420, '01': 144}),\n",
       "   'Kappa': 0.0269}],\n",
       " [[(1.999350760992229, 2.631356550635642),\n",
       "   (0.9795051736323273, 1.1676319380663795)],\n",
       "  {'P_123': 2335,\n",
       "   'P_12': 2934,\n",
       "   'P_23': 2095,\n",
       "   'P_31': 2813,\n",
       "   'Singles': Counter({'00': 5042, '01': 1793, '10': 2670, '11': 495}),\n",
       "   'Kappa': -0.0472}],\n",
       " [[(1.174565610561942, 2.0209565040428266),\n",
       "   (0.39416046628847623, 0.7707899669630119)],\n",
       "  {'P_123': 3212,\n",
       "   'P_12': 4635,\n",
       "   'P_23': 3561,\n",
       "   'P_31': 1711,\n",
       "   'Singles': Counter({'11': 616, '10': 5595, '00': 3383, '01': 406}),\n",
       "   'Kappa': -0.0584}],\n",
       " [[(0.5900575462500772, 5.875383220816128),\n",
       "   (1.159092429369916, 3.261672238531908)],\n",
       "  {'P_123': 2710,\n",
       "   'P_12': 4054,\n",
       "   'P_23': 4292,\n",
       "   'P_31': 465,\n",
       "   'Singles': Counter({'01': 368, '10': 7037, '00': 1832, '11': 763}),\n",
       "   'Kappa': 0.014}],\n",
       " [[(1.8565358286798683, 0.21091586398851386),\n",
       "   (0.4857921817426739, 4.538213409847752)],\n",
       "  {'P_123': 2458,\n",
       "   'P_12': 3397,\n",
       "   'P_23': 2497,\n",
       "   'P_31': 2777,\n",
       "   'Singles': Counter({'00': 5366, '10': 3223, '01': 936, '11': 475}),\n",
       "   'Kappa': -0.0904}],\n",
       " [[(0.8067031037267401, 0.12498587597844532),\n",
       "   (2.362477335039707, 5.9643401918658165)],\n",
       "  {'P_123': 2265,\n",
       "   'P_12': 3407,\n",
       "   'P_23': 3776,\n",
       "   'P_31': 482,\n",
       "   'Singles': Counter({'01': 1316, '00': 1341, '10': 6530, '11': 813}),\n",
       "   'Kappa': 0.0149}],\n",
       " [[(1.9639494244461417, 1.5835430413231102),\n",
       "   (1.7763999786326068, 4.6451393876992615)],\n",
       "  {'P_123': 3013,\n",
       "   'P_12': 4411,\n",
       "   'P_23': 1923,\n",
       "   'P_31': 1439,\n",
       "   'Singles': Counter({'01': 3816, '00': 2827, '10': 2739, '11': 618}),\n",
       "   'Kappa': -0.0323}],\n",
       " [[(1.4498570033497207, 5.2021268288237135),\n",
       "   (1.4105310807581684, 1.5909097958127112)],\n",
       "  {'P_123': 2330,\n",
       "   'P_12': 3289,\n",
       "   'P_23': 2983,\n",
       "   'P_31': 1312,\n",
       "   'Singles': Counter({'11': 682, '10': 4426, '01': 1803, '00': 3089}),\n",
       "   'Kappa': 0.0019}],\n",
       " [[(0.5487512507148979, 0.18994976936437258),\n",
       "   (1.0906477822663116, 1.0431546938657255)],\n",
       "  {'P_123': 4178,\n",
       "   'P_12': 6409,\n",
       "   'P_23': 4378,\n",
       "   'P_31': 493,\n",
       "   'Singles': Counter({'10': 7128, '00': 1728, '11': 819, '01': 325}),\n",
       "   'Kappa': -0.0351}],\n",
       " [[(0.9313304441744035, 0.3334740941542831),\n",
       "   (1.5121021016740668, 5.4523056857394705)],\n",
       "  {'P_123': 2038,\n",
       "   'P_12': 3087,\n",
       "   'P_23': 3729,\n",
       "   'P_31': 679,\n",
       "   'Singles': Counter({'10': 6304, '00': 1929, '01': 1076, '11': 691}),\n",
       "   'Kappa': 0.0048}]]"
      ]
     },
     "execution_count": 46,
     "metadata": {},
     "output_type": "execute_result"
    }
   ],
   "source": [
    "results"
   ]
  },
  {
   "cell_type": "code",
   "execution_count": 47,
   "metadata": {},
   "outputs": [
    {
     "data": {
      "text/plain": [
       "array([[-4.44089210e-16,  1.05433965e-01,  4.12000000e-02,\n",
       "         4.12000000e-02],\n",
       "       [-3.33066907e-16,  1.08679333e-01,  1.50000000e-02,\n",
       "         1.50000000e-02],\n",
       "       [-3.33066907e-16,  7.53270240e-02, -2.60000000e-03,\n",
       "        -2.60000000e-03],\n",
       "       [-1.33226763e-15,  1.27162006e-01,  1.40000000e-03,\n",
       "         1.40000000e-03],\n",
       "       [-4.40619763e-16,  1.16841033e-01, -5.69000000e-02,\n",
       "        -5.69000000e-02],\n",
       "       [ 1.11022302e-16,  1.19508688e-01, -5.40000000e-03,\n",
       "        -5.40000000e-03],\n",
       "       [-6.66133815e-16,  1.01553422e-01,  1.03000000e-02,\n",
       "         1.03000000e-02],\n",
       "       [ 1.11022302e-16,  1.01637444e-01, -4.14000000e-02,\n",
       "        -4.14000000e-02],\n",
       "       [-1.87350135e-16,  1.08492196e-01,  4.02000000e-02,\n",
       "         4.02000000e-02],\n",
       "       [ 1.94289029e-16,  1.25848884e-01,  3.00000000e-02,\n",
       "         3.00000000e-02],\n",
       "       [-1.07715486e-16,  1.10713403e-01,  2.69000000e-02,\n",
       "         2.69000000e-02],\n",
       "       [ 1.94289029e-16,  8.84480042e-02, -4.72000000e-02,\n",
       "        -4.72000000e-02],\n",
       "       [-2.22044605e-16,  1.08783787e-01, -5.84000000e-02,\n",
       "        -5.84000000e-02],\n",
       "       [-3.08780779e-16,  1.19738718e-01,  1.40000000e-02,\n",
       "         1.40000000e-02],\n",
       "       [-1.24900090e-16,  1.05492253e-01, -9.04000000e-02,\n",
       "        -9.04000000e-02],\n",
       "       [-2.77555756e-17,  9.01698246e-02,  1.49000000e-02,\n",
       "         1.49000000e-02],\n",
       "       [ 1.66533454e-16,  7.83191211e-02, -3.23000000e-02,\n",
       "        -3.23000000e-02],\n",
       "       [ 2.77555756e-17,  1.21221085e-01,  1.90000000e-03,\n",
       "         1.90000000e-03],\n",
       "       [-1.14491749e-16,  1.17494047e-01, -3.51000000e-02,\n",
       "        -3.51000000e-02],\n",
       "       [-8.32667268e-17,  8.65145187e-02,  4.80000000e-03,\n",
       "         4.80000000e-03]])"
      ]
     },
     "execution_count": 47,
     "metadata": {},
     "output_type": "execute_result"
    }
   ],
   "source": [
    "res = []\n",
    "for i in range(len(results)):\n",
    "    results[i] = get_kappa_altered(results[i])\n",
    "    res.append([results[i][1]['Theoretical_kappa'], results[i][1]['Fluctuation_kappa'], results[i][1]['Observed_kappa'], results[i][1]['Kappa']])\n",
    "    \n",
    "res = np.array(res)\n",
    "res"
   ]
  },
  {
   "cell_type": "code",
   "execution_count": 48,
   "metadata": {},
   "outputs": [
    {
     "data": {
      "text/plain": [
       "[<matplotlib.lines.Line2D at 0x7f4a702ae5b0>]"
      ]
     },
     "execution_count": 48,
     "metadata": {},
     "output_type": "execute_result"
    },
    {
     "data": {
      "image/png": "[encoded data removed]",
      "text/plain": [
       "<Figure size 432x288 with 1 Axes>"
      ]
     },
     "metadata": {
      "needs_background": "light"
     },
     "output_type": "display_data"
    }
   ],
   "source": [
    "itr = np.arange(len(res))\n",
    "plt.errorbar(itr, res[:,0], yerr=[res[:,1], res[:,1]], capsize=5)\n",
    "plt.plot(itr, res[:,2], 'o')\n",
    "plt.plot(itr, res[:,3], '*')"
   ]
  },
  {
   "cell_type": "code",
   "execution_count": 49,
   "metadata": {},
   "outputs": [
    {
     "data": {
      "text/plain": [
       "[[[(2.1436756824491177, 3.4508553902935177),\n",
       "   (2.4810505263091387, 4.394365447321387)],\n",
       "  {'P_123': 1441,\n",
       "   'P_12': 1936,\n",
       "   'P_23': 1358,\n",
       "   'P_31': 751,\n",
       "   'Singles': Counter({'01': 5821, '00': 1243, '11': 939, '10': 1997}),\n",
       "   'Kappa': 0.0412,\n",
       "   'Theoretical_kappa': -4.440892098500626e-16,\n",
       "   'Fluctuation_kappa': 0.10543396487062562,\n",
       "   'Observed_kappa': 0.0412}],\n",
       " [[(0.8082151185997039, 4.299158188923681),\n",
       "   (1.588391675204879, 5.053741167229159)],\n",
       "  {'P_123': 2600,\n",
       "   'P_12': 4038,\n",
       "   'P_23': 3832,\n",
       "   'P_31': 538,\n",
       "   'Singles': Counter({'10': 6667, '00': 1768, '11': 731, '01': 834}),\n",
       "   'Kappa': 0.015,\n",
       "   'Theoretical_kappa': -3.3306690738754696e-16,\n",
       "   'Fluctuation_kappa': 0.10867933348181906,\n",
       "   'Observed_kappa': 0.015}],\n",
       " [[(1.9867699116149697, 2.1179652499071713),\n",
       "   (1.6390772213830471, 3.30841963423333)],\n",
       "  {'P_123': 3605,\n",
       "   'P_12': 4999,\n",
       "   'P_23': 2007,\n",
       "   'P_31': 1749,\n",
       "   'Singles': Counter({'01': 3331, '00': 3363, '11': 757, '10': 2549}),\n",
       "   'Kappa': -0.0026,\n",
       "   'Theoretical_kappa': -3.3306690738754696e-16,\n",
       "   'Fluctuation_kappa': 0.0753270239968281,\n",
       "   'Observed_kappa': -0.0026}],\n",
       " [[(2.304139273611591, 5.121248965928612),\n",
       "   (1.9547357384860398, 1.590282466546017)],\n",
       "  {'P_123': 1346,\n",
       "   'P_12': 1886,\n",
       "   'P_23': 1277,\n",
       "   'P_31': 1401,\n",
       "   'Singles': Counter({'00': 2745, '11': 736, '01': 4896, '10': 1623}),\n",
       "   'Kappa': 0.0014,\n",
       "   'Theoretical_kappa': -1.3322676295501878e-15,\n",
       "   'Fluctuation_kappa': 0.12716200643888867,\n",
       "   'Observed_kappa': 0.0014}],\n",
       " [[(0.9414883467814067, 0.7201491371505729),\n",
       "   (0.44092608114815146, 1.0972555699873823)],\n",
       "  {'P_123': 4988,\n",
       "   'P_12': 7585,\n",
       "   'P_23': 3909,\n",
       "   'P_31': 1115,\n",
       "   'Singles': Counter({'10': 6232, '00': 2775, '01': 315, '11': 678}),\n",
       "   'Kappa': -0.0569,\n",
       "   'Theoretical_kappa': -4.40619762898109e-16,\n",
       "   'Fluctuation_kappa': 0.11684103329443474,\n",
       "   'Observed_kappa': -0.0569}],\n",
       " [[(2.3488700767405435, 5.663012129785416),\n",
       "   (2.5826398965453894, 0.17999296110187304)],\n",
       "  {'P_123': 1237,\n",
       "   'P_12': 1855,\n",
       "   'P_23': 974,\n",
       "   'P_31': 719,\n",
       "   'Singles': Counter({'01': 6669, '00': 1137, '10': 1403, '11': 791}),\n",
       "   'Kappa': -0.0054,\n",
       "   'Theoretical_kappa': 1.1102230246251565e-16,\n",
       "   'Fluctuation_kappa': 0.11950868848786356,\n",
       "   'Observed_kappa': -0.0054}],\n",
       " [[(2.60858526296484, 1.0590816246457218),\n",
       "   (2.3328768986872106, 5.859895559184583)],\n",
       "  {'P_123': 786,\n",
       "   'P_12': 1096,\n",
       "   'P_23': 602,\n",
       "   'P_31': 972,\n",
       "   'Singles': Counter({'01': 6915, '00': 1531, '10': 914, '11': 640}),\n",
       "   'Kappa': 0.0103,\n",
       "   'Theoretical_kappa': -6.661338147750939e-16,\n",
       "   'Fluctuation_kappa': 0.1015534224814521,\n",
       "   'Observed_kappa': 0.0103}],\n",
       " [[(2.9302777028724973, 2.275843401870956),\n",
       "   (1.8052191601384036, 1.4345963785937432)],\n",
       "  {'P_123': 1669,\n",
       "   'P_12': 2227,\n",
       "   'P_23': 767,\n",
       "   'P_31': 2085,\n",
       "   'Singles': Counter({'01': 5263, '00': 3564, '10': 556, '11': 617}),\n",
       "   'Kappa': -0.0414,\n",
       "   'Theoretical_kappa': 1.1102230246251565e-16,\n",
       "   'Fluctuation_kappa': 0.10163744357688226,\n",
       "   'Observed_kappa': -0.0414}],\n",
       " [[(0.6005989428166747, 0.9227743900742605),\n",
       "   (1.9063249166459473, 3.3750995200881437)],\n",
       "  {'P_123': 3689,\n",
       "   'P_12': 5468,\n",
       "   'P_23': 4167,\n",
       "   'P_31': 360,\n",
       "   'Singles': Counter({'10': 7023, '01': 675, '00': 1463, '11': 839}),\n",
       "   'Kappa': 0.0402,\n",
       "   'Theoretical_kappa': -1.8735013540549517e-16,\n",
       "   'Fluctuation_kappa': 0.10849219604605452,\n",
       "   'Observed_kappa': 0.0402}],\n",
       " [[(0.8959362540850719, 0.0897307652987679),\n",
       "   (2.4806630792333833, 2.529102929151702)],\n",
       "  {'P_123': 3039,\n",
       "   'P_12': 4431,\n",
       "   'P_23': 3784,\n",
       "   'P_31': 384,\n",
       "   'Singles': Counter({'10': 6200, '00': 1364, '01': 1619, '11': 817}),\n",
       "   'Kappa': 0.03,\n",
       "   'Theoretical_kappa': 1.942890293094024e-16,\n",
       "   'Fluctuation_kappa': 0.1258488840801356,\n",
       "   'Observed_kappa': 0.03}],\n",
       " [[(0.42680626632983154, 2.0327783897450997),\n",
       "   (0.1796657375206115, 0.24573780710965687)],\n",
       "  {'P_123': 2923,\n",
       "   'P_12': 4343,\n",
       "   'P_23': 4337,\n",
       "   'P_31': 498,\n",
       "   'Singles': Counter({'11': 763, '00': 1673, '10': 7420, '01': 144}),\n",
       "   'Kappa': 0.0269,\n",
       "   'Theoretical_kappa': -1.0771548583643487e-16,\n",
       "   'Fluctuation_kappa': 0.11071340261434626,\n",
       "   'Observed_kappa': 0.0269}],\n",
       " [[(1.999350760992229, 2.631356550635642),\n",
       "   (0.9795051736323273, 1.1676319380663795)],\n",
       "  {'P_123': 2335,\n",
       "   'P_12': 2934,\n",
       "   'P_23': 2095,\n",
       "   'P_31': 2813,\n",
       "   'Singles': Counter({'00': 5042, '01': 1793, '10': 2670, '11': 495}),\n",
       "   'Kappa': -0.0472,\n",
       "   'Theoretical_kappa': 1.942890293094024e-16,\n",
       "   'Fluctuation_kappa': 0.08844800421251627,\n",
       "   'Observed_kappa': -0.0472}],\n",
       " [[(1.174565610561942, 2.0209565040428266),\n",
       "   (0.39416046628847623, 0.7707899669630119)],\n",
       "  {'P_123': 3212,\n",
       "   'P_12': 4635,\n",
       "   'P_23': 3561,\n",
       "   'P_31': 1711,\n",
       "   'Singles': Counter({'11': 616, '10': 5595, '00': 3383, '01': 406}),\n",
       "   'Kappa': -0.0584,\n",
       "   'Theoretical_kappa': -2.220446049250313e-16,\n",
       "   'Fluctuation_kappa': 0.10878378663596108,\n",
       "   'Observed_kappa': -0.0584}],\n",
       " [[(0.5900575462500772, 5.875383220816128),\n",
       "   (1.159092429369916, 3.261672238531908)],\n",
       "  {'P_123': 2710,\n",
       "   'P_12': 4054,\n",
       "   'P_23': 4292,\n",
       "   'P_31': 465,\n",
       "   'Singles': Counter({'01': 368, '10': 7037, '00': 1832, '11': 763}),\n",
       "   'Kappa': 0.014,\n",
       "   'Theoretical_kappa': -3.0878077872387166e-16,\n",
       "   'Fluctuation_kappa': 0.11973871778472044,\n",
       "   'Observed_kappa': 0.014}],\n",
       " [[(1.8565358286798683, 0.21091586398851386),\n",
       "   (0.4857921817426739, 4.538213409847752)],\n",
       "  {'P_123': 2458,\n",
       "   'P_12': 3397,\n",
       "   'P_23': 2497,\n",
       "   'P_31': 2777,\n",
       "   'Singles': Counter({'00': 5366, '10': 3223, '01': 936, '11': 475}),\n",
       "   'Kappa': -0.0904,\n",
       "   'Theoretical_kappa': -1.249000902703301e-16,\n",
       "   'Fluctuation_kappa': 0.10549225282002314,\n",
       "   'Observed_kappa': -0.0904}],\n",
       " [[(0.8067031037267401, 0.12498587597844532),\n",
       "   (2.362477335039707, 5.9643401918658165)],\n",
       "  {'P_123': 2265,\n",
       "   'P_12': 3407,\n",
       "   'P_23': 3776,\n",
       "   'P_31': 482,\n",
       "   'Singles': Counter({'01': 1316, '00': 1341, '10': 6530, '11': 813}),\n",
       "   'Kappa': 0.0149,\n",
       "   'Theoretical_kappa': -2.7755575615628914e-17,\n",
       "   'Fluctuation_kappa': 0.09016982458144407,\n",
       "   'Observed_kappa': 0.0149}],\n",
       " [[(1.9639494244461417, 1.5835430413231102),\n",
       "   (1.7763999786326068, 4.6451393876992615)],\n",
       "  {'P_123': 3013,\n",
       "   'P_12': 4411,\n",
       "   'P_23': 1923,\n",
       "   'P_31': 1439,\n",
       "   'Singles': Counter({'01': 3816, '00': 2827, '10': 2739, '11': 618}),\n",
       "   'Kappa': -0.0323,\n",
       "   'Theoretical_kappa': 1.6653345369377348e-16,\n",
       "   'Fluctuation_kappa': 0.07831912109804728,\n",
       "   'Observed_kappa': -0.0323}],\n",
       " [[(1.4498570033497207, 5.2021268288237135),\n",
       "   (1.4105310807581684, 1.5909097958127112)],\n",
       "  {'P_123': 2330,\n",
       "   'P_12': 3289,\n",
       "   'P_23': 2983,\n",
       "   'P_31': 1312,\n",
       "   'Singles': Counter({'11': 682, '10': 4426, '01': 1803, '00': 3089}),\n",
       "   'Kappa': 0.0019,\n",
       "   'Theoretical_kappa': 2.7755575615628914e-17,\n",
       "   'Fluctuation_kappa': 0.12122108473126975,\n",
       "   'Observed_kappa': 0.0019}],\n",
       " [[(0.5487512507148979, 0.18994976936437258),\n",
       "   (1.0906477822663116, 1.0431546938657255)],\n",
       "  {'P_123': 4178,\n",
       "   'P_12': 6409,\n",
       "   'P_23': 4378,\n",
       "   'P_31': 493,\n",
       "   'Singles': Counter({'10': 7128, '00': 1728, '11': 819, '01': 325}),\n",
       "   'Kappa': -0.0351,\n",
       "   'Theoretical_kappa': -1.1449174941446927e-16,\n",
       "   'Fluctuation_kappa': 0.11749404722123435,\n",
       "   'Observed_kappa': -0.0351}],\n",
       " [[(0.9313304441744035, 0.3334740941542831),\n",
       "   (1.5121021016740668, 5.4523056857394705)],\n",
       "  {'P_123': 2038,\n",
       "   'P_12': 3087,\n",
       "   'P_23': 3729,\n",
       "   'P_31': 679,\n",
       "   'Singles': Counter({'10': 6304, '00': 1929, '01': 1076, '11': 691}),\n",
       "   'Kappa': 0.0048,\n",
       "   'Theoretical_kappa': -8.326672684688674e-17,\n",
       "   'Fluctuation_kappa': 0.08651451865042303,\n",
       "   'Observed_kappa': 0.0048}]]"
      ]
     },
     "execution_count": 49,
     "metadata": {},
     "output_type": "execute_result"
    }
   ],
   "source": [
    "results"
   ]
  },
  {
   "cell_type": "code",
   "execution_count": 5,
   "metadata": {},
   "outputs": [
    {
     "name": "stdout",
     "output_type": "stream",
     "text": [
      "The sum of singles is not 1\n",
      "Done with iteration 0 in 00:00:26\n",
      "The sum of singles is not 1\n",
      "Done with iteration 1 in 00:00:26\n",
      "The sum of singles is not 1\n",
      "Done with iteration 2 in 00:00:26\n",
      "The sum of singles is not 1\n",
      "Done with iteration 3 in 00:00:26\n",
      "The sum of singles is not 1\n",
      "Done with iteration 4 in 00:00:26\n",
      "The sum of singles is not 1\n",
      "Done with iteration 5 in 00:00:26\n",
      "The sum of singles is not 1\n",
      "Done with iteration 6 in 00:00:26\n",
      "The sum of singles is not 1\n",
      "Done with iteration 7 in 00:00:26\n",
      "The sum of singles is not 1\n",
      "Done with iteration 8 in 00:00:26\n",
      "The sum of singles is not 1\n",
      "Done with iteration 9 in 00:00:26\n"
     ]
    }
   ],
   "source": [
    "import numpy as np, matplotlib.pyplot as plt, random, time, os\n",
    "from functools import lru_cache\n",
    "from pyquil import Program, get_qc\n",
    "from pyquil.gates import *\n",
    "import os\n",
    "from pyquil.quilatom import quil_sin, quil_cos, Parameter\n",
    "from pyquil.quilbase import DefGate\n",
    "from pyquil.latex import display, to_latex\n",
    "# import Peres_helpers as hf\n",
    "import pickle\n",
    "from collections import Counter\n",
    "from datetime import date\n",
    "\n",
    "N_SHOTS = 10_000\n",
    "Z_SCORE = 3\n",
    "\n",
    "e=0\n",
    "\n",
    "# Generate random parameters for random states.\n",
    "def params_complex():\n",
    "\t'''\n",
    "\tGenerates parameters to prepare COMPLEX quantum states.\n",
    "    \n",
    "    Returns:\n",
    "        A list of three tuples. The first element of each tuple is the value of theta \n",
    "        and the second element is the value of phi.\n",
    "    \n",
    "\t'''\n",
    "\ttheta = np.arccos(np.cos(e) - 2 * np.array([random.uniform(0,1) for _ in range(2)]))\n",
    "\tphi = np.array([2*np.pi*random.uniform(0,1) for _ in range(2)])\n",
    "\tparams = zip(theta, phi)\n",
    "\treturn list(params)\n",
    "\n",
    "# The construction of the parametric circuit.\n",
    "def circuit_123(a,b):\n",
    "    circ = Program()\n",
    "    \n",
    "    theta = circ.declare('theta', 'REAL', 2)\n",
    "    phi = circ.declare('phi', 'REAL', 2)\n",
    "    t = circ.declare('t', 'REAL', 2)\n",
    "    c = circ.declare('ro', 'BIT', 2)\n",
    "    \n",
    "    circ += RY(theta[0], a)\n",
    "    circ += RZ(phi[0], a)\n",
    "    \n",
    "    circ += RY(theta[1], b)\n",
    "    circ += RZ(phi[1]/2, b)\n",
    "    \n",
    "    circ += CNOT(a, b)\n",
    "    \n",
    "    circ += RZ(-phi[1]/2, b)\n",
    "    circ += RY((t[1]-theta[1])/2, b)\n",
    "    \n",
    "    circ += CNOT(a,b)\n",
    "    \n",
    "    circ += RY((-theta[1] - t[1])/2, b)\n",
    "    \n",
    "    circ += RY(-t[0], a)\n",
    "    \n",
    "    circ += X(a)\n",
    "    \n",
    "    circ += MEASURE(a, c[0])\n",
    "    circ += MEASURE(b, c[1])\n",
    "    \n",
    "    circ.wrap_in_numshots_loop(N_SHOTS)\n",
    "    \n",
    "    return circ\n",
    "\n",
    "# The error in the relative frequency.\n",
    "def del_probs(p):\n",
    "    return Z_SCORE * np.sqrt(p * (1-p) / N_SHOTS)\n",
    "\n",
    "# Theoretical expectation of outcome probabilities and hence the value of kappa.\n",
    "def theoretical_probs(u):\n",
    "    theta, phi = [], []\n",
    "    for i in range(len(u)):\n",
    "        theta.append(u[i][0])\n",
    "        phi.append(u[i][1])\n",
    "        \n",
    "    probs = {\n",
    "        'P_123': (1/3) * np.abs(np.cos(theta[0]/2)*np.exp(-1j*phi[0]/2) + np.sin(theta[0]/2)*np.cos(theta[1]/2)*np.exp(1j*(phi[1]-phi[0])/2) + np.sin(theta[0]/2)*np.sin(theta[1]/2)*np.exp(1j*(phi[1]+phi[0])/2))**2, \n",
    "        'P_12': (1/2) * np.abs(np.cos(theta[0]/2)*np.exp(-1j*phi[0]/2) + np.sin(theta[0]/2)*np.cos(theta[1]/2)*np.exp(1j*(phi[1]-phi[0])/2))**2, \n",
    "        'P_23': (1/2) * np.abs(np.sin(theta[0]/2)*np.cos(theta[1]/2)*np.exp(1j*(phi[1]-phi[0])/2) + np.sin(theta[0]/2)*np.sin(theta[1]/2)*np.exp(1j*(phi[1]+phi[0])/2))**2, \n",
    "        'P_31': (1/2) * np.abs(np.cos(theta[0]/2)*np.exp(-1j*phi[0]/2) + np.sin(theta[0]/2)*np.sin(theta[1]/2)*np.exp(1j*(phi[1]+phi[0])/2))**2, \n",
    "        'P_1': np.cos(theta[0]/2)**2,\n",
    "        'P_2': np.sin(theta[0]/2)**2 * np.cos(theta[1]/2)**2,\n",
    "        'P_3': np.sin(theta[0]/2)**2 * np.sin(theta[1]/2)**2,\n",
    "    }\n",
    "    \n",
    "    probs['Kappa'] = 3 * probs['P_123'] - 2 * (probs['P_12'] + probs['P_23'] + probs['P_31']) + probs['P_1'] + probs['P_2'] + probs['P_3']\n",
    "    \n",
    "    return probs\n",
    "\n",
    "# Theoretical expectation of statistical fluctuations.\n",
    "def theoretical_prob_errors(probs):\n",
    "    probs_flucs = {}\n",
    "    for key in list(probs.keys())[:-1]:\n",
    "        probs_flucs[key] = Z_SCORE * np.sqrt(probs[key] * (1-probs[key]) / N_SHOTS)\n",
    "    \n",
    "    probs_flucs['Kappa'] = 3 * probs_flucs['P_123'] + 2 * probs_flucs['P_12'] + 2 * probs_flucs['P_23'] + 2 * probs_flucs['P_31']\n",
    "    return probs_flucs\n",
    "\n",
    "\n",
    "def run_circuit(u):\n",
    "    '''\n",
    "    Compile and run the circuit given the parameters. The list of outputs is returned.\n",
    "    '''\n",
    "    theta, phi = [], []\n",
    "    outcomes = {}\n",
    "    for i in range(len(u)):\n",
    "        theta.append(u[i][0])\n",
    "        phi.append(u[i][1])\n",
    "    t = [2 * np.arccos(1/np.sqrt(3)), 2 * np.arccos(1/np.sqrt(2))]\n",
    "    outcome = qc.run(exe, memory_map={'theta': theta, 'phi': phi, 't': t}) # Stores the output of the circuit run.\n",
    "    tmp = [''.join(list(map(str, x))) for x in outcome]\n",
    "    outcomes['P_123'] = Counter(tmp)['10']\n",
    "    \n",
    "    t = [np.pi/2, 0]\n",
    "    outcome = qc.run(exe, memory_map={'theta': theta, 'phi': phi, 't': t}) # Stores the output of the circuit run.\n",
    "    tmp = [''.join(list(map(str, x))) for x in outcome]\n",
    "    outcomes['P_12'] = Counter(tmp)['10']\n",
    "    \n",
    "    t = [np.pi, np.pi/2]\n",
    "    outcome = qc.run(exe, memory_map={'theta': theta, 'phi': phi, 't': t}) # Stores the output of the circuit run.\n",
    "    tmp = [''.join(list(map(str, x))) for x in outcome]\n",
    "    outcomes['P_23'] = Counter(tmp)['10']\n",
    "    \n",
    "    t = [np.pi/2, np.pi]\n",
    "    outcome = qc.run(exe, memory_map={'theta': theta, 'phi': phi, 't': t}) # Stores the output of the circuit run.\n",
    "    tmp = [''.join(list(map(str, x))) for x in outcome]\n",
    "    outcomes['P_31'] = Counter(tmp)['10']\n",
    "    \n",
    "    t = [0, 0]\n",
    "    outcome = qc.run(exe, memory_map={'theta': theta, 'phi': phi, 't': t})\n",
    "    tmp = [''.join(list(map(str, x))) for x in outcome]\n",
    "    outcomes['Singles'] = Counter(tmp)\n",
    "    \n",
    "    outcomes['Kappa'] = (3*outcomes['P_123'] - 2*(outcomes['P_12']+outcomes['P_23']+outcomes['P_31']) + outcomes['Singles']['00'] + outcomes['Singles']['10'] + outcomes['Singles']['01']) / N_SHOTS\n",
    "    \n",
    "    return outcomes\n",
    "\n",
    "# def run_main(qubit1, qubit2, engine, iterations, trial):\n",
    "\n",
    "qubit1, qubit2 = 20,21\n",
    "engine = 'Aspen-9'\n",
    "iterations = range(0,10)\n",
    "trial = 1\n",
    "\n",
    "folder = f'born_on_{engine}_{date.today()}_{qubit1}_{qubit2}_bits_{N_SHOTS}_shots_trial_{trial}'\n",
    "os.system(f'mkdir {folder}')\n",
    "circ = circuit_123(qubit1,qubit2)\n",
    "\n",
    "qc = get_qc('Aspen-9')\n",
    "exe = qc.compile(circ)\n",
    "\n",
    "all_kappas = []\n",
    "all_kappas_theory = []\n",
    "all_kappas_err = []\n",
    "\n",
    "for i in iterations:\n",
    "    start_time = time.time()\n",
    "    u = params_complex()\n",
    "    result = run_circuit(u)\n",
    "    result['State_params'] = u\n",
    "\n",
    "    with open(f'{folder}/born_{date.today()}_{qubit1}_{qubit2}_bits_{N_SHOTS}_shots_run_{i}', 'wb') as file:\n",
    "        pickle.dump(result, file)\n",
    "    if '11' in result['Singles'].keys():\n",
    "        print(\"The sum of singles is not 1\")\n",
    "    result['Theoretical_kappa'] = theoretical_probs(u)['Kappa']\n",
    "    result['Fluctuation_kappa'] = theoretical_prob_errors(theoretical_probs(u))['Kappa']\n",
    "    all_kappas.append(result['Kappa'])\n",
    "    all_kappas_err.append(result['Fluctuation_kappa'])\n",
    "    all_kappas_theory.append(result['Theoretical_kappa'])\n",
    "    ty_res = time.gmtime(time.time() - start_time)\n",
    "    res = time.strftime(\"%H:%M:%S\",ty_res)\n",
    "    print(f'Done with iteration {i} in {res}')\n",
    "    \n",
    "#     return all_kappas, all_kappas_theory, all_kappas_err, result\n"
   ]
  },
  {
   "cell_type": "code",
   "execution_count": 7,
   "metadata": {},
   "outputs": [
    {
     "data": {
      "image/png": "[encoded data removed]",
      "text/plain": [
       "<Figure size 432x288 with 1 Axes>"
      ]
     },
     "metadata": {
      "needs_background": "light"
     },
     "output_type": "display_data"
    }
   ],
   "source": [
    "x = np.arange(len(all_kappas))\n",
    "plt.axhline(y=0, ls='dashed', color='red', alpha=0.5)\n",
    "plt.plot(x, all_kappas, 'o')\n",
    "plt.errorbar(x, all_kappas_theory, yerr = [all_kappas_err, all_kappas_err], fmt=' ', capsize=5)\n",
    "plt.savefig('kappa_with_0110_2.pdf', bbox_inches='tight')"
   ]
  },
  {
   "cell_type": "code",
   "execution_count": 3,
   "metadata": {},
   "outputs": [
    {
     "data": {
      "text/plain": [
       "13"
      ]
     },
     "execution_count": 3,
     "metadata": {},
     "output_type": "execute_result"
    }
   ],
   "source": [
    "folder = 'born_on_Aspen-9_2021-06-01_4_5_bits_10000_shots_trial_1'\n",
    "with open(f'{folder}/filenames.txt', 'r') as file:\n",
    "    filenames = list(map(str.strip, file.readlines()))\n",
    "filenames\n",
    "\n",
    "result_from_files = []\n",
    "for filename in filenames:\n",
    "    with open(f'{folder}/{filename}', 'rb') as file:\n",
    "        result_from_files.append(pickle.load(file))\n",
    "        \n",
    "folder = 'born_on_Aspen-9_2021-06-01_4_5_bits_10000_shots_trial_2'\n",
    "with open(f'{folder}/filenames.txt', 'r') as file:\n",
    "    filenames = list(map(str.strip, file.readlines()))\n",
    "    \n",
    "for filename in filenames:\n",
    "    with open(f'{folder}/{filename}', 'rb') as file:\n",
    "        result_from_files.append(pickle.load(file))\n",
    "\n",
    "len(result_from_files)\n",
    "# Used for manuscript plot"
   ]
  },
  {
   "cell_type": "code",
   "execution_count": 7,
   "metadata": {},
   "outputs": [
    {
     "data": {
      "image/png": "[encoded data removed]",
      "text/plain": [
       "<Figure size 432x288 with 1 Axes>"
      ]
     },
     "metadata": {
      "needs_background": "light"
     },
     "output_type": "display_data"
    }
   ],
   "source": [
    "all_kappas = []\n",
    "all_kappas_theory = []\n",
    "all_kappas_err = []\n",
    "for i in range(len(result_from_files)):\n",
    "    start_time = time.time()\n",
    "    result = result_from_files[i]\n",
    "    \n",
    "#     if '11' in result['Singles'].keys():\n",
    "#         print(\"The sum of singles is not 1\")\n",
    "    result['Theoretical_kappa'] = theoretical_probs(result['State_params'])['Kappa']\n",
    "    result['Fluctuation_kappa'] = theoretical_prob_errors(theoretical_probs(result['State_params']))['Kappa']\n",
    "    all_kappas.append(result['Kappa'])\n",
    "    all_kappas_err.append(result['Fluctuation_kappa'])\n",
    "    all_kappas_theory.append(result['Theoretical_kappa'])\n",
    "    ty_res = time.gmtime(time.time() - start_time)\n",
    "    res = time.strftime(\"%H:%M:%S\",ty_res)\n",
    "#     print(f'Done with iteration {i} in {res}')\n",
    "\n",
    "x = np.arange(len(all_kappas))\n",
    "plt.rcParams.update({\n",
    "    \"text.usetex\": True,\n",
    "    \"font.family\": \"serif\",\n",
    "    \"font.sans-serif\": [\"Helvetica\"]})\n",
    "plt.axhline(y=0, ls='dashed', color='red', alpha=0.5)\n",
    "plt.plot(x, all_kappas, 'o', label='Observed values')\n",
    "plt.errorbar(x, all_kappas_theory, yerr = [all_kappas_err, all_kappas_err], fmt=' ', capsize=5, label='Theoretical expectation')\n",
    "# plt.xlabel('Iterations with different states', size=20)\n",
    "plt.ylabel('$\\\\kappa$', size=24)\n",
    "plt.xticks([], size=18)\n",
    "plt.yticks(size=18)\n",
    "plt.ylim([-0.3, 0.3])\n",
    "plt.legend(fontsize=15, loc='lower right')#(bbox_to_anchor=(1,1))\n",
    "plt.savefig('kappa_with_0110_22_Oct.pdf', bbox_inches='tight')\n",
    "plt.show()"
   ]
  },
  {
   "cell_type": "code",
   "execution_count": 5,
   "metadata": {},
   "outputs": [
    {
     "data": {
      "text/plain": [
       "[{'P_123': 4215,\n",
       "  'P_12': 3249,\n",
       "  'P_23': 2155,\n",
       "  'P_31': 5526,\n",
       "  'Singles': Counter({'10': 5128, '01': 3437, '00': 842, '11': 593}),\n",
       "  'Kappa': 0.0192,\n",
       "  'State_params': [(1.4082107607212029, 0.6259398229910346),\n",
       "   (2.876302592514066, 1.0706752464190346)],\n",
       "  'Theoretical_kappa': -3.885780586188048e-16,\n",
       "  'Fluctuation_kappa': 0.12738349482260222},\n",
       " {'P_123': 4953,\n",
       "  'P_12': 1625,\n",
       "  'P_23': 4263,\n",
       "  'P_31': 5976,\n",
       "  'Singles': Counter({'01': 6414, '10': 2171, '11': 717, '00': 698}),\n",
       "  'Kappa': 0.0414,\n",
       "  'State_params': [(2.1660770042505253, 4.291218835138865),\n",
       "   (2.9100137290350045, 5.841331595329961)],\n",
       "  'Theoretical_kappa': -1.1102230246251565e-16,\n",
       "  'Fluctuation_kappa': 0.11480525172105291},\n",
       " {'P_123': 5615,\n",
       "  'P_12': 3993,\n",
       "  'P_23': 3079,\n",
       "  'P_31': 6436,\n",
       "  'Singles': Counter({'11': 414, '10': 3990, '00': 2969, '01': 2627}),\n",
       "  'Kappa': -0.0585,\n",
       "  'State_params': [(1.7300426106244655, 5.450697436199604),\n",
       "   (1.62476083824454, 1.4537860196333938)],\n",
       "  'Theoretical_kappa': 5.551115123125783e-17,\n",
       "  'Fluctuation_kappa': 0.1166083590757912},\n",
       " {'P_123': 5469,\n",
       "  'P_12': 3824,\n",
       "  'P_23': 4177,\n",
       "  'P_31': 4987,\n",
       "  'Singles': Counter({'01': 2967, '00': 4195, '10': 2430, '11': 408}),\n",
       "  'Kappa': 0.0023,\n",
       "  'State_params': [(2.1283943633394173, 3.7475958837947867),\n",
       "   (1.318124966621061, 4.929168549647118)],\n",
       "  'Theoretical_kappa': -3.885780586188048e-16,\n",
       "  'Fluctuation_kappa': 0.09384728124542208},\n",
       " {'P_123': 2820,\n",
       "  'P_12': 1172,\n",
       "  'P_23': 1677,\n",
       "  'P_31': 6108,\n",
       "  'Singles': Counter({'10': 4351, '01': 3339, '11': 525, '00': 1785}),\n",
       "  'Kappa': 0.0021,\n",
       "  'State_params': [(1.6329174216851963, 4.279938915133741),\n",
       "   (2.0287733295068895, 2.0664631628127896)],\n",
       "  'Theoretical_kappa': 5.551115123125783e-17,\n",
       "  'Fluctuation_kappa': 0.12540186583819063},\n",
       " {'P_123': 1147,\n",
       "  'P_12': 2760,\n",
       "  'P_23': 579,\n",
       "  'P_31': 3059,\n",
       "  'Singles': Counter({'10': 2586, '00': 4209, '01': 2639, '11': 566}),\n",
       "  'Kappa': 0.0079,\n",
       "  'State_params': [(2.0965283518151088, 5.98478199064447),\n",
       "   (1.2647285374017763, 3.1352184350787877)],\n",
       "  'Theoretical_kappa': 9.43689570931383e-16,\n",
       "  'Fluctuation_kappa': 0.12806334033962818},\n",
       " {'P_123': 2061,\n",
       "  'P_12': 3390,\n",
       "  'P_23': 625,\n",
       "  'P_31': 3786,\n",
       "  'Singles': Counter({'10': 6998, '00': 1248, '01': 1271, '11': 483}),\n",
       "  'Kappa': 0.0098,\n",
       "  'State_params': [(0.9040939725378068, 6.098207723490993),\n",
       "   (2.0299555173950843, 3.601465306388076)],\n",
       "  'Theoretical_kappa': -4.718447854656915e-16,\n",
       "  'Fluctuation_kappa': 0.12496711668139424},\n",
       " {'P_123': 867,\n",
       "  'P_12': 3885,\n",
       "  'P_23': 584,\n",
       "  'P_31': 1560,\n",
       "  'Singles': Counter({'01': 4244, '11': 632, '00': 3607, '10': 1517}),\n",
       "  'Kappa': -0.0089,\n",
       "  'State_params': [(2.4013097886669548, 0.7755939958503715),\n",
       "   (1.6078310478058566, 3.070631957108413)],\n",
       "  'Theoretical_kappa': -2.7755575615628914e-16,\n",
       "  'Fluctuation_kappa': 0.11780268459062387},\n",
       " {'P_123': 2070,\n",
       "  'P_12': 854,\n",
       "  'P_23': 3978,\n",
       "  'P_31': 2609,\n",
       "  'Singles': Counter({'10': 655, '01': 7409, '11': 875, '00': 1061}),\n",
       "  'Kappa': 0.0453,\n",
       "  'State_params': [(2.7349975455341937, 0.7890189170709697),\n",
       "   (2.55886132371419, 4.519038424384627)],\n",
       "  'Theoretical_kappa': 1.1102230246251565e-16,\n",
       "  'Fluctuation_kappa': 0.10568963828881522},\n",
       " {'P_123': 3289,\n",
       "  'P_12': 1474,\n",
       "  'P_23': 6816,\n",
       "  'P_31': 1314,\n",
       "  'Singles': Counter({'01': 4320, '00': 3523, '10': 1804, '11': 353}),\n",
       "  'Kappa': 0.0306,\n",
       "  'State_params': [(2.296135295429728, 0.7885946624722044),\n",
       "   (1.6999275092289596, 5.975620011051634)],\n",
       "  'Theoretical_kappa': -2.220446049250313e-16,\n",
       "  'Fluctuation_kappa': 0.09025099520313593},\n",
       " {'P_123': 1102,\n",
       "  'P_12': 3515,\n",
       "  'P_23': 1030,\n",
       "  'P_31': 1552,\n",
       "  'Singles': Counter({'10': 4054, '01': 1825, '00': 3560, '11': 561}),\n",
       "  'Kappa': 0.0551,\n",
       "  'State_params': [(1.6686897365733155, 0.17884402639998478),\n",
       "   (1.130577244233567, 3.802495263264267)],\n",
       "  'Theoretical_kappa': -3.0531133177191805e-16,\n",
       "  'Fluctuation_kappa': 0.12176261129435409},\n",
       " {'P_123': 1010,\n",
       "  'P_12': 2155,\n",
       "  'P_23': 2167,\n",
       "  'P_31': 1870,\n",
       "  'Singles': Counter({'01': 2021, '10': 6165, '00': 1306, '11': 508}),\n",
       "  'Kappa': 0.0138,\n",
       "  'State_params': [(1.1814861929180427, 3.2699570946950516),\n",
       "   (2.226472899948729, 0.8874019353149092)],\n",
       "  'Theoretical_kappa': 2.7755575615628914e-17,\n",
       "  'Fluctuation_kappa': 0.09154258795056008},\n",
       " {'P_123': 5708,\n",
       "  'P_12': 4182,\n",
       "  'P_23': 2099,\n",
       "  'P_31': 7010,\n",
       "  'Singles': Counter({'01': 2731, '10': 5630, '00': 1043, '11': 596}),\n",
       "  'Kappa': -0.0054,\n",
       "  'State_params': [(1.2693010757846235, 3.0247152761983407),\n",
       "   (2.4894211134416357, 4.936995673332781)],\n",
       "  'Theoretical_kappa': 7.771561172376096e-16,\n",
       "  'Fluctuation_kappa': 0.10823991923797646}]"
      ]
     },
     "execution_count": 5,
     "metadata": {},
     "output_type": "execute_result"
    }
   ],
   "source": [
    "result_from_files"
   ]
  },
  {
   "cell_type": "code",
   "execution_count": 8,
   "metadata": {},
   "outputs": [],
   "source": [
    "import born_pyquil as bp"
   ]
  },
  {
   "cell_type": "code",
   "execution_count": 9,
   "metadata": {},
   "outputs": [],
   "source": [
    "states = [{'State_params': bp.params_complex()} for _ in range(1)]"
   ]
  },
  {
   "cell_type": "code",
   "execution_count": 10,
   "metadata": {},
   "outputs": [
    {
     "data": {
      "text/plain": [
       "[{'State_params': [(1.4589659042916012, 5.591789037560421),\n",
       "   (1.6360921279993135, 5.725636401284018)]}]"
      ]
     },
     "execution_count": 10,
     "metadata": {},
     "output_type": "execute_result"
    }
   ],
   "source": [
    "states"
   ]
  },
  {
   "cell_type": "code",
   "execution_count": 11,
   "metadata": {},
   "outputs": [
    {
     "name": "stdout",
     "output_type": "stream",
     "text": [
      "Engine requested: 2q-qvm\n",
      "Running Bell-state measurements\n",
      "Creating folder born_2q-qvm_2021-07-29_4_5_bits_10000_shots_trial_1\n",
      "Results saved in file born_2q-qvm_2021-07-29_4_5_bits_10000_shots_trial_1/result_list_trial_1\n",
      "\n",
      "Completed.\n"
     ]
    }
   ],
   "source": [
    "states = bp.run_born(4, 5, 1, '2q-qvm', states)"
   ]
  },
  {
   "cell_type": "code",
   "execution_count": 13,
   "metadata": {},
   "outputs": [],
   "source": [
    "states = bp.compute_kappa(states, '2q-qvm')"
   ]
  },
  {
   "cell_type": "code",
   "execution_count": 14,
   "metadata": {},
   "outputs": [
    {
     "data": {
      "text/plain": [
       "[{'State_params': [(1.4589659042916012, 5.591789037560421),\n",
       "   (1.6360921279993135, 5.725636401284018)],\n",
       "  'Counts_2q-qvm': {'Clicks_123': array([[0, 0],\n",
       "          [0, 0],\n",
       "          [0, 0],\n",
       "          ...,\n",
       "          [0, 0],\n",
       "          [0, 0],\n",
       "          [0, 0]]),\n",
       "   'Counts_123': Counter({'00': 8512, '10': 1168, '01': 98, '11': 222}),\n",
       "   'Clicks_12': array([[1, 1],\n",
       "          [0, 0],\n",
       "          [0, 1],\n",
       "          ...,\n",
       "          [0, 0],\n",
       "          [0, 0],\n",
       "          [0, 0]]),\n",
       "   'Counts_12': Counter({'11': 1231, '00': 6878, '01': 1173, '10': 718}),\n",
       "   'Clicks_23': array([[0, 0],\n",
       "          [1, 0],\n",
       "          [1, 0],\n",
       "          ...,\n",
       "          [0, 0],\n",
       "          [0, 0],\n",
       "          [1, 0]]),\n",
       "   'Counts_23': Counter({'00': 5561, '10': 4061, '11': 378}),\n",
       "   'Clicks_31': array([[1, 0],\n",
       "          [1, 0],\n",
       "          [1, 0],\n",
       "          ...,\n",
       "          [0, 0],\n",
       "          [0, 0],\n",
       "          [0, 0]]),\n",
       "   'Counts_31': Counter({'10': 1957, '00': 6000, '01': 1024, '11': 1019}),\n",
       "   'Clicks_singles': array([[1, 0],\n",
       "          [0, 0],\n",
       "          [1, 0],\n",
       "          ...,\n",
       "          [1, 0],\n",
       "          [0, 1],\n",
       "          [1, 0]]),\n",
       "   'Counts_singles': Counter({'10': 5580, '00': 2088, '01': 2332})},\n",
       "  'Kappa_2q-qvm': 0.0032}]"
      ]
     },
     "execution_count": 14,
     "metadata": {},
     "output_type": "execute_result"
    }
   ],
   "source": [
    "states"
   ]
  },
  {
   "cell_type": "code",
   "execution_count": null,
   "metadata": {},
   "outputs": [],
   "source": []
  },
  {
   "cell_type": "code",
   "execution_count": 7,
   "metadata": {},
   "outputs": [
    {
     "data": {
      "text/plain": [
       "{'P_123': 4215,\n",
       " 'P_12': 3249,\n",
       " 'P_23': 2155,\n",
       " 'P_31': 5526,\n",
       " 'Singles': Counter({'10': 5128, '01': 3437, '00': 842, '11': 593}),\n",
       " 'Kappa': 0.0192,\n",
       " 'State_params': [(1.4082107607212029, 0.6259398229910346),\n",
       "  (2.876302592514066, 1.0706752464190346)],\n",
       " 'Theoretical_kappa': -3.885780586188048e-16,\n",
       " 'Fluctuation_kappa': 0.12738349482260222}"
      ]
     },
     "execution_count": 7,
     "metadata": {},
     "output_type": "execute_result"
    }
   ],
   "source": [
    "result_from_files[0]"
   ]
  },
  {
   "cell_type": "code",
   "execution_count": 29,
   "metadata": {},
   "outputs": [],
   "source": [
    "fs = []\n",
    "for i in range(len(result_from_files)):\n",
    "    dat = result_from_files[i]\n",
    "    g12 = (2*dat['P_12'] - dat['Singles']['00'] - dat['Singles']['01'])/(2*np.sqrt(dat['Singles']['00'] * dat['Singles']['01']))\n",
    "    g23 = (2*dat['P_23'] - dat['Singles']['01'] - dat['Singles']['10'])/(2*np.sqrt(dat['Singles']['01'] * dat['Singles']['10']))\n",
    "    g31 = (2*dat['P_31'] - dat['Singles']['10'] - dat['Singles']['00'])/(2*np.sqrt(dat['Singles']['10'] * dat['Singles']['00']))\n",
    "    fs.append(g12**2 + g23**2 + g31**2 - 2*g12*g23*g31)"
   ]
  },
  {
   "cell_type": "code",
   "execution_count": 30,
   "metadata": {},
   "outputs": [
    {
     "data": {
      "text/plain": [
       "[2.9858838858719254,\n",
       " 14.390495923631804,\n",
       " 0.9780824532294815,\n",
       " 0.5432178662862407,\n",
       " 1.131090815416349,\n",
       " 0.6879716285347423,\n",
       " 3.8053166037924524,\n",
       " 1.0107857680415835,\n",
       " 5.742393051918283,\n",
       " 1.5852264669936909,\n",
       " 0.6803611359012877,\n",
       " 0.6044260772016796,\n",
       " 6.617516919568914]"
      ]
     },
     "execution_count": 30,
     "metadata": {},
     "output_type": "execute_result"
    }
   ],
   "source": [
    "fs"
   ]
  },
  {
   "cell_type": "code",
   "execution_count": 15,
   "metadata": {},
   "outputs": [],
   "source": [
    "g12 = (2*dat['P_12'] - dat['Singles']['00'] - dat['Singles']['01'])/(2*np.sqrt(dat['Singles']['00'] * dat['Singles']['01']))\n",
    "g23 = (2*dat['P_23'] - dat['Singles']['01'] - dat['Singles']['10'])/(2*np.sqrt(dat['Singles']['01'] * dat['Singles']['10']))\n",
    "g31 = (2*dat['P_12'] - dat['Singles']['10'] - dat['Singles']['00'])/(2*np.sqrt(dat['Singles']['10'] * dat['Singles']['00']))"
   ]
  },
  {
   "cell_type": "code",
   "execution_count": null,
   "metadata": {},
   "outputs": [],
   "source": []
  },
  {
   "cell_type": "code",
   "execution_count": 16,
   "metadata": {},
   "outputs": [
    {
     "data": {
      "text/plain": [
       "0.7823006090271537"
      ]
     },
     "execution_count": 16,
     "metadata": {},
     "output_type": "execute_result"
    }
   ],
   "source": [
    "g12**2 + g23**2 + g31**2 - 2*g12*g23*g31"
   ]
  },
  {
   "cell_type": "code",
   "execution_count": 31,
   "metadata": {},
   "outputs": [
    {
     "data": {
      "text/plain": [
       "[<matplotlib.lines.Line2D at 0x7f1f1b57a070>]"
      ]
     },
     "execution_count": 31,
     "metadata": {},
     "output_type": "execute_result"
    },
    {
     "data": {
      "image/png": "[encoded data removed]",
      "text/plain": [
       "<Figure size 432x288 with 1 Axes>"
      ]
     },
     "metadata": {
      "needs_background": "light"
     },
     "output_type": "display_data"
    }
   ],
   "source": [
    "plt.plot(fs)"
   ]
  },
  {
   "cell_type": "code",
   "execution_count": null,
   "metadata": {},
   "outputs": [],
   "source": []
  }
 ],
 "metadata": {
  "kernelspec": {
   "display_name": "Python 3",
   "language": "python",
   "name": "python3"
  },
  "language_info": {
   "codemirror_mode": {
    "name": "ipython",
    "version": 3
   },
   "file_extension": ".py",
   "mimetype": "text/x-python",
   "name": "python",
   "nbconvert_exporter": "python",
   "pygments_lexer": "ipython3",
   "version": "3.8.6"
  }
 },
 "nbformat": 4,
 "nbformat_minor": 4
}
