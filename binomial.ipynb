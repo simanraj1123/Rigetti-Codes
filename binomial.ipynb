{
 "cells": [
  {
   "cell_type": "code",
   "execution_count": 1,
   "metadata": {},
   "outputs": [],
   "source": [
    "import numpy as np, matplotlib.pyplot as plt \n",
    "from random import random\n",
    "from collections import Counter\n",
    "import concurrent.futures as cf"
   ]
  },
  {
   "cell_type": "code",
   "execution_count": 2,
   "metadata": {},
   "outputs": [],
   "source": [
    "x = [1,2,3,4]\n",
    "p = [1/4, 1/2, 1/8, 1/8]\n",
    "\n",
    "def binom(x, p, num):\n",
    "    dp = [0]\n",
    "    cumulative = 0\n",
    "    for i in range(len(p)):\n",
    "        cumulative += p[i]\n",
    "        dp.append(cumulative)\n",
    "    \n",
    "    generated = []\n",
    "    for _ in range(num):\n",
    "        r = random()\n",
    "        for i in range(len(dp)-1):\n",
    "            if dp[i] <= r < dp[i+1]:\n",
    "                generated.append(x[i])\n",
    "    \n",
    "    counts = Counter(generated)\n",
    "    \n",
    "    return counts"
   ]
  },
  {
   "cell_type": "code",
   "execution_count": 3,
   "metadata": {},
   "outputs": [],
   "source": [
    "exe = cf.ThreadPoolExecutor()\n",
    "results = exe.map(binom, [x for _ in range(100)], [p for _ in range(100)], [100 for _ in range(100)])"
   ]
  },
  {
   "cell_type": "code",
   "execution_count": 4,
   "metadata": {},
   "outputs": [],
   "source": [
    "results = np.array(list(results))"
   ]
  },
  {
   "cell_type": "code",
   "execution_count": 5,
   "metadata": {},
   "outputs": [
    {
     "name": "stdout",
     "output_type": "stream",
     "text": [
      "[Counter({2: 44, 1: 21, 3: 20, 4: 15})\n",
      " Counter({2: 43, 4: 22, 1: 20, 3: 15})\n",
      " Counter({2: 53, 1: 27, 3: 10, 4: 10})\n",
      " Counter({2: 45, 1: 25, 4: 19, 3: 11})\n",
      " Counter({2: 56, 1: 21, 4: 15, 3: 8}) Counter({2: 55, 1: 24, 4: 13, 3: 8})\n",
      " Counter({2: 43, 1: 30, 4: 15, 3: 12})\n",
      " Counter({2: 56, 1: 21, 3: 14, 4: 9})\n",
      " Counter({2: 49, 1: 24, 3: 17, 4: 10})\n",
      " Counter({2: 46, 1: 26, 4: 15, 3: 13})\n",
      " Counter({2: 49, 1: 26, 4: 13, 3: 12})\n",
      " Counter({2: 41, 1: 25, 3: 19, 4: 15})\n",
      " Counter({2: 53, 1: 25, 3: 13, 4: 9}) Counter({2: 58, 1: 21, 3: 12, 4: 9})\n",
      " Counter({2: 49, 1: 23, 4: 19, 3: 9})\n",
      " Counter({2: 55, 1: 17, 3: 15, 4: 13})\n",
      " Counter({2: 55, 1: 22, 4: 13, 3: 10})\n",
      " Counter({2: 46, 1: 28, 3: 14, 4: 12})\n",
      " Counter({2: 57, 1: 19, 3: 14, 4: 10})\n",
      " Counter({2: 43, 1: 31, 3: 14, 4: 12})\n",
      " Counter({2: 52, 1: 26, 3: 15, 4: 7}) Counter({2: 61, 1: 18, 3: 13, 4: 8})\n",
      " Counter({2: 43, 1: 29, 3: 16, 4: 12})\n",
      " Counter({2: 45, 1: 29, 3: 14, 4: 12})\n",
      " Counter({2: 50, 1: 20, 3: 19, 4: 11})\n",
      " Counter({2: 46, 1: 19, 4: 18, 3: 17})\n",
      " Counter({2: 52, 1: 26, 3: 13, 4: 9})\n",
      " Counter({2: 39, 1: 31, 4: 16, 3: 14})\n",
      " Counter({2: 45, 1: 26, 4: 18, 3: 11})\n",
      " Counter({2: 48, 1: 27, 3: 15, 4: 10})\n",
      " Counter({2: 57, 1: 21, 3: 15, 4: 7})\n",
      " Counter({2: 49, 1: 21, 3: 15, 4: 15})\n",
      " Counter({2: 46, 1: 30, 3: 13, 4: 11}) Counter({2: 61, 1: 24, 4: 9, 3: 6})\n",
      " Counter({2: 52, 1: 27, 4: 11, 3: 10})\n",
      " Counter({2: 50, 1: 20, 4: 19, 3: 11})\n",
      " Counter({2: 50, 1: 26, 4: 18, 3: 6})\n",
      " Counter({2: 49, 1: 26, 4: 14, 3: 11})\n",
      " Counter({2: 52, 1: 26, 3: 12, 4: 10})\n",
      " Counter({2: 53, 1: 23, 3: 13, 4: 11})\n",
      " Counter({2: 52, 1: 20, 4: 19, 3: 9}) Counter({2: 52, 1: 23, 3: 16, 4: 9})\n",
      " Counter({2: 51, 1: 26, 4: 13, 3: 10})\n",
      " Counter({2: 55, 1: 27, 4: 11, 3: 7})\n",
      " Counter({2: 51, 1: 26, 4: 12, 3: 11})\n",
      " Counter({2: 54, 1: 25, 3: 14, 4: 7})\n",
      " Counter({2: 50, 1: 23, 4: 15, 3: 12})\n",
      " Counter({2: 50, 1: 19, 3: 18, 4: 13})\n",
      " Counter({2: 50, 1: 23, 4: 15, 3: 12})\n",
      " Counter({2: 48, 1: 26, 4: 16, 3: 10})\n",
      " Counter({2: 45, 1: 28, 4: 14, 3: 13})\n",
      " Counter({2: 52, 1: 29, 4: 10, 3: 9})\n",
      " Counter({2: 50, 1: 27, 3: 12, 4: 11})\n",
      " Counter({2: 45, 1: 29, 3: 19, 4: 7})\n",
      " Counter({2: 45, 1: 32, 3: 13, 4: 10})\n",
      " Counter({2: 41, 1: 36, 4: 14, 3: 9}) Counter({2: 49, 1: 25, 3: 19, 4: 7})\n",
      " Counter({2: 55, 3: 18, 1: 16, 4: 11})\n",
      " Counter({2: 54, 1: 18, 3: 14, 4: 14})\n",
      " Counter({2: 52, 1: 23, 3: 14, 4: 11})\n",
      " Counter({2: 45, 1: 26, 4: 17, 3: 12})\n",
      " Counter({2: 48, 1: 25, 3: 16, 4: 11})\n",
      " Counter({2: 51, 1: 27, 3: 12, 4: 10})\n",
      " Counter({2: 58, 1: 23, 3: 14, 4: 5}) Counter({2: 50, 1: 23, 4: 19, 3: 8})\n",
      " Counter({2: 49, 1: 32, 3: 10, 4: 9})\n",
      " Counter({2: 52, 1: 21, 3: 14, 4: 13})\n",
      " Counter({2: 52, 1: 21, 4: 14, 3: 13})\n",
      " Counter({2: 49, 1: 31, 4: 12, 3: 8})\n",
      " Counter({2: 44, 1: 30, 4: 14, 3: 12})\n",
      " Counter({2: 48, 1: 34, 3: 11, 4: 7})\n",
      " Counter({2: 55, 1: 20, 4: 14, 3: 11})\n",
      " Counter({2: 47, 1: 25, 4: 16, 3: 12})\n",
      " Counter({2: 47, 1: 29, 3: 13, 4: 11})\n",
      " Counter({2: 45, 1: 31, 3: 14, 4: 10})\n",
      " Counter({2: 43, 1: 34, 3: 16, 4: 7}) Counter({2: 56, 1: 26, 3: 11, 4: 7})\n",
      " Counter({2: 47, 1: 31, 4: 13, 3: 9}) Counter({2: 51, 1: 29, 4: 14, 3: 6})\n",
      " Counter({2: 48, 1: 24, 3: 19, 4: 9})\n",
      " Counter({2: 54, 1: 22, 4: 14, 3: 10})\n",
      " Counter({2: 51, 1: 23, 3: 14, 4: 12})\n",
      " Counter({2: 51, 1: 25, 4: 17, 3: 7})\n",
      " Counter({2: 43, 1: 25, 3: 18, 4: 14})\n",
      " Counter({2: 44, 1: 30, 4: 16, 3: 10})\n",
      " Counter({2: 48, 1: 30, 3: 12, 4: 10})\n",
      " Counter({2: 42, 1: 29, 3: 17, 4: 12})\n",
      " Counter({2: 45, 1: 28, 4: 15, 3: 12})\n",
      " Counter({2: 50, 1: 21, 4: 15, 3: 14})\n",
      " Counter({2: 41, 1: 33, 3: 16, 4: 10})\n",
      " Counter({2: 52, 1: 26, 3: 12, 4: 10})\n",
      " Counter({2: 52, 1: 26, 4: 13, 3: 9})\n",
      " Counter({2: 55, 1: 21, 3: 14, 4: 10})\n",
      " Counter({2: 41, 1: 31, 4: 15, 3: 13})\n",
      " Counter({2: 56, 1: 24, 4: 11, 3: 9})\n",
      " Counter({2: 38, 1: 29, 3: 20, 4: 13})\n",
      " Counter({2: 52, 1: 24, 4: 15, 3: 9})\n",
      " Counter({2: 53, 1: 19, 4: 14, 3: 14})\n",
      " Counter({2: 45, 1: 31, 3: 16, 4: 8})\n",
      " Counter({2: 48, 1: 25, 3: 14, 4: 13})]\n"
     ]
    }
   ],
   "source": [
    "print(results.flatten())"
   ]
  },
  {
   "cell_type": "code",
   "execution_count": 6,
   "metadata": {},
   "outputs": [
    {
     "name": "stdout",
     "output_type": "stream",
     "text": [
      "CPU times: user 2 µs, sys: 1e+03 ns, total: 3 µs\n",
      "Wall time: 5.48 µs\n"
     ]
    },
    {
     "data": {
      "text/plain": [
       "<BarContainer object of 4 artists>"
      ]
     },
     "execution_count": 6,
     "metadata": {},
     "output_type": "execute_result"
    },
    {
     "data": {
      "image/png": "[encoded data removed]",
      "text/plain": [
       "<Figure size 432x288 with 1 Axes>"
      ]
     },
     "metadata": {
      "needs_background": "light"
     },
     "output_type": "display_data"
    }
   ],
   "source": [
    "%time\n",
    "gen = binom(x, p, 10000)\n",
    "plt.bar(gen.keys(), gen.values())"
   ]
  },
  {
   "cell_type": "code",
   "execution_count": 7,
   "metadata": {},
   "outputs": [],
   "source": [
    "p01 = lambda t1,t2: np.abs(np.cos(t1/2) * np.sin(t2/2))**2\n",
    "p10 = lambda t1,t2: np.abs(np.sin(t1/2) * np.cos(t2/2))**2\n",
    "p00 = lambda t1,t2: np.abs(np.cos(t1/2) * np.cos(t2/2))**2\n",
    "p11 = lambda t1,t2: np.abs(np.sin(t1/2) * np.sin(t2/2))**2\n",
    "\n",
    "p0110 = lambda t1,f1,t2,f2: (p01(t1,t2) + p10(t1,t2) + 2 * np.sqrt(p01(t1,t2)*p10(t1,t2)) * np.cos(f2-f1)) / 2\n",
    "\n",
    "# Gamma functions\n",
    "G = lambda c0110, c01, c10: (2*c0110 - c01 - c10) / (2 * np.sqrt(c01 * c10))\n",
    "\n",
    "# F\n",
    "F = lambda g: g[0]**2 + g[1]**2 + g[2]**2 - 2*g[0]*g[1]*g[2]"
   ]
  },
  {
   "cell_type": "code",
   "execution_count": 8,
   "metadata": {},
   "outputs": [],
   "source": [
    "# From such distributions the dependence in error of one outcome is taken into account automatically."
   ]
  },
  {
   "cell_type": "code",
   "execution_count": 9,
   "metadata": {},
   "outputs": [
    {
     "ename": "NameError",
     "evalue": "name 'param_list' is not defined",
     "output_type": "error",
     "traceback": [
      "\u001b[0;31m---------------------------------------------------------------------------\u001b[0m",
      "\u001b[0;31mNameError\u001b[0m                                 Traceback (most recent call last)",
      "\u001b[0;32m<ipython-input-9-eed794f485a6>\u001b[0m in \u001b[0;36m<module>\u001b[0;34m\u001b[0m\n\u001b[1;32m      2\u001b[0m \u001b[0mALPHA\u001b[0m \u001b[0;34m=\u001b[0m \u001b[0;36m0.005\u001b[0m\u001b[0;34m\u001b[0m\u001b[0;34m\u001b[0m\u001b[0m\n\u001b[1;32m      3\u001b[0m \u001b[0mall_cfs\u001b[0m \u001b[0;34m=\u001b[0m \u001b[0;34m[\u001b[0m\u001b[0;34m]\u001b[0m\u001b[0;34m\u001b[0m\u001b[0;34m\u001b[0m\u001b[0m\n\u001b[0;32m----> 4\u001b[0;31m \u001b[0;32mfor\u001b[0m \u001b[0mparam\u001b[0m \u001b[0;32min\u001b[0m \u001b[0mparam_list\u001b[0m\u001b[0;34m[\u001b[0m\u001b[0;34m:\u001b[0m\u001b[0;34m]\u001b[0m\u001b[0;34m:\u001b[0m\u001b[0;34m\u001b[0m\u001b[0;34m\u001b[0m\u001b[0m\n\u001b[0m\u001b[1;32m      5\u001b[0m     \u001b[0mprint\u001b[0m\u001b[0;34m(\u001b[0m\u001b[0;34mf'Begining with param {param}.'\u001b[0m\u001b[0;34m)\u001b[0m\u001b[0;34m\u001b[0m\u001b[0;34m\u001b[0m\u001b[0m\n\u001b[1;32m      6\u001b[0m     \u001b[0msample\u001b[0m \u001b[0;34m=\u001b[0m \u001b[0;34m[\u001b[0m\u001b[0;34m]\u001b[0m\u001b[0;34m\u001b[0m\u001b[0;34m\u001b[0m\u001b[0m\n",
      "\u001b[0;31mNameError\u001b[0m: name 'param_list' is not defined"
     ]
    }
   ],
   "source": [
    "N_SHOTS = 2000\n",
    "ALPHA = 0.005\n",
    "all_cfs = []\n",
    "for param in param_list[:]:\n",
    "    print(f'Begining with param {param}.')\n",
    "    sample = []\n",
    "    for _ in range(N_SHOTS):\n",
    "        print(f'Íteration {_}', end='\\r')\n",
    "        g = []\n",
    "        for i in range(len(param)):\n",
    "            t1, f1 = param[i]\n",
    "            t2, f2 = param[(i+1)%len(param)]\n",
    "            \n",
    "            x_singles = ['00', '01', '10', '11']\n",
    "            p_singles = [p00(t1,t2), p01(t1,t2), p10(t1,t2), p11(t1,t2)]\n",
    "            x_super = ['0110', 'rest']\n",
    "            p_super = [p0110(t1,f1,t2,f2), 1-p0110(t1,f1,t2,f2)]\n",
    "            \n",
    "            single_counts = binom(x_singles, p_singles, 10_000)\n",
    "            super_counts = binom(x_super, p_super, 10_000)\n",
    "            \n",
    "            c0110 = super_counts['0110']\n",
    "            c01, c10 = single_counts['01'], single_counts['10']\n",
    "#             print(c0110, c01, c10)\n",
    "            g.append(G(c0110, c01, c10))\n",
    "        g.append(F(g))\n",
    "\n",
    "        sample.append(g)\n",
    "        \n",
    "    sample = np.array(sample)\n",
    "        \n",
    "    cfs = []\n",
    "    for i in range(4):\n",
    "        data = sample[:,i]\n",
    "        data.sort()\n",
    "        ca, cb = data[int(ALPHA * len(data))], data[int((1-ALPHA) * len(data))]\n",
    "        cfs.append([ca,cb])\n",
    "\n",
    "    all_cfs.append(cfs)\n",
    "    print()\n",
    "    %time\n",
    "    \n",
    "#     return all_cfs"
   ]
  },
  {
   "cell_type": "code",
   "execution_count": null,
   "metadata": {},
   "outputs": [],
   "source": [
    "all_cfs"
   ]
  },
  {
   "cell_type": "code",
   "execution_count": null,
   "metadata": {},
   "outputs": [],
   "source": [
    "all_cfs"
   ]
  },
  {
   "cell_type": "code",
   "execution_count": 10,
   "metadata": {},
   "outputs": [],
   "source": [
    "param_list = [[(2.1719217426376023, 6.268393886237732),\n",
    "  (2.6356766096082542, 5.591118337364386),\n",
    "  (1.43370219758619, 1.751534223664043)],\n",
    " [(2.0535894416516953, 0.8055112113224675),\n",
    "  (0.5721730507490186, 1.8497868484219093),\n",
    "  (1.7866428260861698, 0.26531682535732953)],\n",
    " [(1.40454387035453, 0.21664610714650617),\n",
    "  (0.6012312746642916, 0.8079199466812678),\n",
    "  (0.7330021638027037, 1.5166189325975235)],\n",
    " [(0.8627009771146144, 3.7359911551709732),\n",
    "  (0.7574498158644474, 5.920558573378985),\n",
    "  (2.16026435548721, 4.092347864187471)],\n",
    " [(1.9843852694212896, 4.372517249695397),\n",
    "  (1.0143269501600451, 3.1865781939551217),\n",
    "  (0.7127914734971253, 0.49594982585205516)],\n",
    " [(1.725853570232876, 2.4825591308030974),\n",
    "  (1.6557062271652745, 4.962953565261901),\n",
    "  (2.145013525095605, 5.133255299350571)],\n",
    " [(1.5056159236046198, 2.397911645068062),\n",
    "  (1.1667677389372049, 1.019159151096154),\n",
    "  (0.24190890059795428, 5.727250703093267)],\n",
    " [(2.425507852676142, 5.296566520565416),\n",
    "  (1.7292436435361156, 5.910166317486659),\n",
    "  (1.3436910611479604, 0.05775185379735403)],\n",
    " [(1.1150601873795833, 1.4743757593010134),\n",
    "  (1.783631757564531, 3.1063995169007015),\n",
    "  (2.582405591824962, 2.8109037293668555)],\n",
    " [(2.8305805576386525, 3.9604226398729714),\n",
    "  (1.2991523147817339, 1.0406231073260077),\n",
    "  (1.6242720604197163, 2.6425570166038934)],\n",
    " [(2.6291796521428186, 5.899830152275496),\n",
    "  (2.00027818112629, 6.061937542706739),\n",
    "  (2.269223522548113, 2.8093969638592826)],\n",
    " [(1.2205920589204415, 1.5624740573567633),\n",
    "  (1.744618571590526, 3.5651053388515863),\n",
    "  (1.810079315410142, 1.3522797912847706)],\n",
    " [(1.1940488055275278, 2.885204728659497),\n",
    "  (1.315559580890979, 4.720088084275613),\n",
    "  (2.5628380016506744, 4.770970493554419)],\n",
    " [(1.2765877810931812, 1.4204589100477838),\n",
    "  (2.5304761749907314, 2.8363542008251765),\n",
    "  (2.8465735061586623, 3.9280865648675514)],\n",
    " [(0.7604924219843661, 0.0540248696752599),\n",
    "  (1.255899832200544, 4.634358051214256),\n",
    "  (1.9695933737437494, 1.2450748927354163)],\n",
    " [(0.4383256173243932, 4.330454680974537),\n",
    "  (2.416947513648755, 4.651509851197303),\n",
    "  (1.5932002734616724, 1.407874091264325)],\n",
    " [(1.5821814660039262, 2.108962083045599),\n",
    "  (0.49663434792922573, 1.4529579307123044),\n",
    "  (2.178455161270646, 1.7314954672049265)],\n",
    " [(1.4605603549410788, 4.564280035284574),\n",
    "  (2.732907505289064, 3.4923605713189585),\n",
    "  (1.3256894392309686, 1.848631647173036)],\n",
    " [(1.6323398007348366, 0.6265777878943285),\n",
    "  (1.9486061424147172, 3.298065960261993),\n",
    "  (2.0637223697008498, 5.686516192746191)],\n",
    " [(1.1460724253996815, 2.7664138236193794),\n",
    "  (0.21347412624478843, 4.235961905546003),\n",
    "  (2.5618307311014594, 4.679398166125037)],\n",
    " [(2.4866708414774426, 3.085172779925245),\n",
    "  (1.2466658773929287, 2.852909315155276),\n",
    "  (2.2126189677017267, 3.648317668675838)],\n",
    " [(1.4585555814046318, 6.101944725367839),\n",
    "  (1.2832123275056886, 1.6811204700123346),\n",
    "  (1.2640611596202294, 3.3692976770785723)],\n",
    " [(1.5130438179789876, 1.4627794914348748),\n",
    "  (1.1436237263819393, 0.9036257228256173),\n",
    "  (0.20430027690869554, 4.0436488681461595)],\n",
    " [(0.2178282594728528, 2.9463245222927172),\n",
    "  (2.618001727526286, 1.7350325415674601),\n",
    "  (0.3526807293680785, 4.0470078443505555)],\n",
    " [(2.1657019376203848, 2.4122968862955814),\n",
    "  (2.2628557891793015, 0.3540621599052396),\n",
    "  (0.9454981235534816, 4.856927799861174)]]"
   ]
  },
  {
   "cell_type": "code",
   "execution_count": null,
   "metadata": {},
   "outputs": [],
   "source": [
    "sample"
   ]
  },
  {
   "cell_type": "code",
   "execution_count": null,
   "metadata": {},
   "outputs": [],
   "source": [
    "plt.hist(sample[:,3])"
   ]
  },
  {
   "cell_type": "code",
   "execution_count": 11,
   "metadata": {},
   "outputs": [],
   "source": [
    "def testrun(param, N_SHOTS):\n",
    "    \n",
    "    sample = []\n",
    "    for _ in range(N_SHOTS):\n",
    "#         print(f'Íteration {_}', end='\\r')\n",
    "        g = []\n",
    "        for i in range(len(param)):\n",
    "            t1, f1 = param[i]\n",
    "            t2, f2 = param[(i+1)%len(param)]\n",
    "            \n",
    "            x_singles = ['00', '01', '10', '11']\n",
    "            p_singles = [p00(t1,t2), p01(t1,t2), p10(t1,t2), p11(t1,t2)]\n",
    "            x_super = ['0110', 'rest']\n",
    "            p_super = [p0110(t1,f1,t2,f2), 1-p0110(t1,f1,t2,f2)]\n",
    "            \n",
    "            single_counts = binom(x_singles, p_singles, 10_000)\n",
    "            super_counts = binom(x_super, p_super, 10_000)\n",
    "            \n",
    "            c0110 = super_counts['0110']\n",
    "            c01, c10 = single_counts['01'], single_counts['10']\n",
    "#             print(c0110, c01, c10)\n",
    "            g.append(G(c0110, c01, c10))\n",
    "        g.append(F(g))\n",
    "\n",
    "        sample.append(g)\n",
    "        \n",
    "    sample = np.array(sample)\n",
    "    \n",
    "    return sample"
   ]
  },
  {
   "cell_type": "code",
   "execution_count": null,
   "metadata": {},
   "outputs": [],
   "source": [
    "%%time\n",
    "exe = cf.ThreadPoolExecutor()\n",
    "results = exe.map(testrun, [param_list[0] for _ in range(10)], [200 for _ in range(10)])\n",
    "results = np.array(list(results))"
   ]
  },
  {
   "cell_type": "code",
   "execution_count": null,
   "metadata": {},
   "outputs": [],
   "source": [
    "results"
   ]
  },
  {
   "cell_type": "code",
   "execution_count": null,
   "metadata": {},
   "outputs": [],
   "source": [
    "results.reshape((10_000,4))"
   ]
  },
  {
   "cell_type": "code",
   "execution_count": null,
   "metadata": {},
   "outputs": [],
   "source": [
    "%%time\n",
    "import time\n",
    "time.sleep(5)"
   ]
  },
  {
   "cell_type": "code",
   "execution_count": null,
   "metadata": {},
   "outputs": [],
   "source": []
  }
 ],
 "metadata": {
  "kernelspec": {
   "display_name": "Python 3",
   "language": "python",
   "name": "python3"
  },
  "language_info": {
   "codemirror_mode": {
    "name": "ipython",
    "version": 3
   },
   "file_extension": ".py",
   "mimetype": "text/x-python",
   "name": "python",
   "nbconvert_exporter": "python",
   "pygments_lexer": "ipython3",
   "version": "3.8.6"
  }
 },
 "nbformat": 4,
 "nbformat_minor": 4
}
